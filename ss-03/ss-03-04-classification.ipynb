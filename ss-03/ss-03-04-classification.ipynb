{
    "cells": [
        {
            "cell_type": "markdown",
            "source": [
                "## 3.4 多クラス分類\n",
                "\n",
                "We can divide multiclass classifier into two type. One classifies directly into multiclass, another classifies by using multiple binary classifier\n",
                "\n",
                "### OVA / OVR method\n",
                "(one-versus-all / oner-versus-rest)\n",
                "\n",
                "Create multiclass classifier with 10 binary classifier. Apply for each classifier and compare their score. The classifier with highest score will be the prediction.\n",
                "\n",
                "### OVO method\n",
                "(one-versus-one)\n",
                "\n",
                "Create binary-classifier for each pair (0-1 classifier, 0-2 classifier, ... 1-2 classifier, ... 8-9 classifier). We need `N * (N - 1) / 2` classifiers for N classes. We need 45 classes for MNIST.\n"
            ],
            "metadata": {}
        },
        {
            "cell_type": "code",
            "execution_count": 5,
            "source": [
                "import numpy as np\n",
                "import joblib\n",
                "\n",
                "X, y, some_digit, X_train, X_test, y_train, y_test = joblib.load(\"ss-03/01.pkl\")"
            ],
            "outputs": [],
            "metadata": {}
        },
        {
            "cell_type": "markdown",
            "source": [
                "scikit-learn use either OVA or OVO. It will be selected automatically when we use binary-classifier to classify muiticlass."
            ],
            "metadata": {}
        },
        {
            "cell_type": "code",
            "execution_count": 2,
            "source": [
                "from sklearn.svm import SVC\n",
                "\n",
                "# svm_clf = SVC()\n",
                "# svm_clf.fit(X_train, y_train)"
            ],
            "outputs": [
                {
                    "output_type": "execute_result",
                    "data": {
                        "text/plain": [
                            "SVC()"
                        ]
                    },
                    "metadata": {},
                    "execution_count": 2
                }
            ],
            "metadata": {}
        },
        {
            "cell_type": "code",
            "execution_count": 3,
            "source": [
                "# joblib.dump(svm_clf, \"ss-03/svm_clf.pkl\")"
            ],
            "outputs": [
                {
                    "output_type": "execute_result",
                    "data": {
                        "text/plain": [
                            "['ss-03/svm_clf.pkl']"
                        ]
                    },
                    "metadata": {},
                    "execution_count": 3
                }
            ],
            "metadata": {}
        },
        {
            "cell_type": "code",
            "execution_count": null,
            "source": [
                "svm_clf = joblib.load(\"ss-03/svm_clf.pkl\")"
            ],
            "outputs": [],
            "metadata": {}
        },
        {
            "cell_type": "code",
            "execution_count": 4,
            "source": [
                "svm_clf.predict([some_digit])"
            ],
            "outputs": [
                {
                    "output_type": "execute_result",
                    "data": {
                        "text/plain": [
                            "array([5], dtype=uint8)"
                        ]
                    },
                    "metadata": {},
                    "execution_count": 4
                }
            ],
            "metadata": {}
        },
        {
            "cell_type": "code",
            "execution_count": 5,
            "source": [
                "some_digit_scores = svm_clf.decision_function([some_digit])\n",
                "some_digit_scores"
            ],
            "outputs": [
                {
                    "output_type": "execute_result",
                    "data": {
                        "text/plain": [
                            "array([[ 1.72501977,  2.72809088,  7.2510018 ,  8.3076379 , -0.31087254,\n",
                            "         9.3132482 ,  1.70975103,  2.76765202,  6.23049537,  4.84771048]])"
                        ]
                    },
                    "metadata": {},
                    "execution_count": 5
                }
            ],
            "metadata": {}
        },
        {
            "cell_type": "code",
            "execution_count": 6,
            "source": [
                "import numpy as np\n",
                "\n",
                "index = np.argmax(some_digit_scores)\n",
                "svm_clf.classes_[index]"
            ],
            "outputs": [
                {
                    "output_type": "execute_result",
                    "data": {
                        "text/plain": [
                            "5"
                        ]
                    },
                    "metadata": {},
                    "execution_count": 6
                }
            ],
            "metadata": {}
        },
        {
            "cell_type": "markdown",
            "source": [
                "`decision_function` for SVM multiclass classifier returns set of prediction scores for each class. In this case it returns 10 scores, and score of class 5 is the highest."
            ],
            "metadata": {}
        },
        {
            "cell_type": "markdown",
            "source": [
                "We need to use OneVsOneClassifier or OneVsRestClassifier to let scikit-learn use as designed."
            ],
            "metadata": {}
        },
        {
            "cell_type": "code",
            "execution_count": 11,
            "source": [
                "# from sklearn.multiclass import OneVsRestClassifier\n",
                "\n",
                "# ovr_clf = OneVsRestClassifier(SVC()) # use SVC for inner estimators\n",
                "# ovr_clf.fit(X_train, y_train)\n",
                "# ovr_clf.predict([some_digit])"
            ],
            "outputs": [
                {
                    "output_type": "execute_result",
                    "data": {
                        "text/plain": [
                            "array([5], dtype=uint8)"
                        ]
                    },
                    "metadata": {},
                    "execution_count": 11
                }
            ],
            "metadata": {}
        },
        {
            "cell_type": "code",
            "execution_count": 12,
            "source": [
                "# joblib.dump(ovr_clf, \"ss-03/ovr_clf.pkl\")"
            ],
            "outputs": [
                {
                    "output_type": "execute_result",
                    "data": {
                        "text/plain": [
                            "['ss-03/ovr_clf.pkl']"
                        ]
                    },
                    "metadata": {},
                    "execution_count": 12
                }
            ],
            "metadata": {}
        },
        {
            "cell_type": "code",
            "execution_count": null,
            "source": [
                "ovr_clf = joblib.load(\"ss-03/ovr_clf.pkl\")"
            ],
            "outputs": [],
            "metadata": {}
        },
        {
            "cell_type": "code",
            "execution_count": 13,
            "source": [
                "len(ovr_clf.estimators_)"
            ],
            "outputs": [
                {
                    "output_type": "execute_result",
                    "data": {
                        "text/plain": [
                            "10"
                        ]
                    },
                    "metadata": {},
                    "execution_count": 13
                }
            ],
            "metadata": {}
        },
        {
            "cell_type": "markdown",
            "source": [
                "We can use SGDClassifier (or RandomForestClassifier). We don't need to select OVA or OVO because SGDClassifier has capability to treat multiclass classification."
            ],
            "metadata": {}
        },
        {
            "cell_type": "code",
            "execution_count": 14,
            "source": [
                "sgd_clf = joblib.load(\"ss-03/sgd_clf.pkl\")"
            ],
            "outputs": [],
            "metadata": {}
        },
        {
            "cell_type": "code",
            "execution_count": 16,
            "source": [
                "sgd_clf.fit(X_train, y_train)\n",
                "sgd_clf.predict([some_digit])"
            ],
            "outputs": [
                {
                    "output_type": "execute_result",
                    "data": {
                        "text/plain": [
                            "array([3], dtype=uint8)"
                        ]
                    },
                    "metadata": {},
                    "execution_count": 16
                }
            ],
            "metadata": {}
        },
        {
            "cell_type": "code",
            "execution_count": 17,
            "source": [
                "sgd_clf.decision_function([some_digit])"
            ],
            "outputs": [
                {
                    "output_type": "execute_result",
                    "data": {
                        "text/plain": [
                            "array([[-31893.03095419, -34419.69069632,  -9530.63950739,\n",
                            "          1823.73154031, -22320.14822878,  -1385.80478895,\n",
                            "        -26188.91070951, -16147.51323997,  -4604.35491274,\n",
                            "        -12050.767298  ]])"
                        ]
                    },
                    "metadata": {},
                    "execution_count": 17
                }
            ],
            "metadata": {}
        },
        {
            "cell_type": "code",
            "execution_count": 19,
            "source": [
                "from sklearn.model_selection import cross_val_score\n",
                "\n",
                "cross_val_score(sgd_clf, X_train, y_train, cv=3, scoring=\"accuracy\")"
            ],
            "outputs": [
                {
                    "output_type": "execute_result",
                    "data": {
                        "text/plain": [
                            "array([0.87365, 0.85835, 0.8689 ])"
                        ]
                    },
                    "metadata": {},
                    "execution_count": 19
                }
            ],
            "metadata": {}
        },
        {
            "cell_type": "code",
            "execution_count": 46,
            "source": [
                "from sklearn.preprocessing import StandardScaler\n",
                "\n",
                "scaler = StandardScaler()\n",
                "X_train_scaled = scaler.fit_transform(X_train.astype(np.float64))\n",
                "cross_val_score(sgd_clf, X_train_scaled, y_train, cv=3, scoring=\"accuracy\")"
            ],
            "outputs": [
                {
                    "output_type": "execute_result",
                    "data": {
                        "text/plain": [
                            "array([0.8983, 0.891 , 0.9018])"
                        ]
                    },
                    "metadata": {},
                    "execution_count": 46
                }
            ],
            "metadata": {}
        },
        {
            "cell_type": "code",
            "execution_count": 47,
            "source": [
                "# joblib.dump(X_train_scaled, \"ss-03/X_train_scaled.pkl\")\n",
                "X_train_scaled = joblib.load(\"ss-03/X_train_scaled.pkl\")"
            ],
            "outputs": [
                {
                    "output_type": "execute_result",
                    "data": {
                        "text/plain": [
                            "['ss-03/X_train_scaled.pkl']"
                        ]
                    },
                    "metadata": {},
                    "execution_count": 47
                }
            ],
            "metadata": {}
        },
        {
            "cell_type": "markdown",
            "source": [
                "3.5　誤分類の分析\n",
                "\n",
                "モデルの改良方法を見つける方法。誤分類のタイプを分析する。\n"
            ],
            "metadata": {}
        },
        {
            "cell_type": "code",
            "execution_count": 48,
            "source": [
                "from sklearn.model_selection import cross_val_predict\n",
                "from sklearn.metrics import confusion_matrix\n",
                "\n",
                "y_train_pred = cross_val_predict(sgd_clf, X_train_scaled, y_train, cv=3)\n",
                "conf_mx = confusion_matrix(y_train, y_train_pred)\n",
                "conf_mx"
            ],
            "outputs": [
                {
                    "output_type": "execute_result",
                    "data": {
                        "text/plain": [
                            "array([[5577,    0,   22,    5,    8,   43,   36,    6,  225,    1],\n",
                            "       [   0, 6400,   37,   24,    4,   44,    4,    7,  212,   10],\n",
                            "       [  27,   27, 5220,   92,   73,   27,   67,   36,  378,   11],\n",
                            "       [  22,   17,  117, 5227,    2,  203,   27,   40,  403,   73],\n",
                            "       [  12,   14,   41,    9, 5182,   12,   34,   27,  347,  164],\n",
                            "       [  27,   15,   30,  168,   53, 4444,   75,   14,  535,   60],\n",
                            "       [  30,   15,   42,    3,   44,   97, 5552,    3,  131,    1],\n",
                            "       [  21,   10,   51,   30,   49,   12,    3, 5684,  195,  210],\n",
                            "       [  17,   63,   48,   86,    3,  126,   25,   10, 5429,   44],\n",
                            "       [  25,   18,   30,   64,  118,   36,    1,  179,  371, 5107]])"
                        ]
                    },
                    "metadata": {},
                    "execution_count": 48
                }
            ],
            "metadata": {}
        },
        {
            "cell_type": "code",
            "execution_count": 49,
            "source": [
                "joblib.dump(conf_mx, \"ss-03/conf_mx.pkl\")\n",
                "# conf_mx = joblib.load(\"ss-03/conf_mx.pkl\")"
            ],
            "outputs": [
                {
                    "output_type": "execute_result",
                    "data": {
                        "text/plain": [
                            "['ss-03/conf_mx.pkl']"
                        ]
                    },
                    "metadata": {},
                    "execution_count": 49
                }
            ],
            "metadata": {}
        },
        {
            "cell_type": "markdown",
            "source": [
                "Plot correct pre"
            ],
            "metadata": {}
        },
        {
            "cell_type": "code",
            "execution_count": 50,
            "source": [
                "plt.matshow(conf_mx, cmap=plt.cm.gray)\n",
                "plt.show()"
            ],
            "outputs": [
                {
                    "output_type": "display_data",
                    "data": {
                        "text/plain": [
                            "<Figure size 288x288 with 1 Axes>"
                        ],
                        "image/png": "[encoded data removed]"
                    },
                    "metadata": {
                        "needs_background": "light"
                    }
                }
            ],
            "metadata": {}
        },
        {
            "cell_type": "markdown",
            "source": [],
            "metadata": {}
        },
        {
            "cell_type": "code",
            "execution_count": 56,
            "source": [
                "row_sums = conf_mx.sum(axis=1, keepdims=True)\n",
                "row_sums"
            ],
            "outputs": [
                {
                    "output_type": "execute_result",
                    "data": {
                        "text/plain": [
                            "array([[5923],\n",
                            "       [6742],\n",
                            "       [5958],\n",
                            "       [6131],\n",
                            "       [5842],\n",
                            "       [5421],\n",
                            "       [5918],\n",
                            "       [6265],\n",
                            "       [5851],\n",
                            "       [5949]])"
                        ]
                    },
                    "metadata": {},
                    "execution_count": 56
                }
            ],
            "metadata": {}
        },
        {
            "cell_type": "code",
            "execution_count": 58,
            "source": [
                "norm_conf_mx = (conf_mx / row_sums) # ratio within row\n",
                "norm_conf_mx"
            ],
            "outputs": [
                {
                    "output_type": "execute_result",
                    "data": {
                        "text/plain": [
                            "array([[9.41583657e-01, 0.00000000e+00, 3.71433395e-03, 8.44166807e-04,\n",
                            "        1.35066689e-03, 7.25983454e-03, 6.07800101e-03, 1.01300017e-03,\n",
                            "        3.79875063e-02, 1.68833361e-04],\n",
                            "       [0.00000000e+00, 9.49273213e-01, 5.48798576e-03, 3.55977455e-03,\n",
                            "        5.93295758e-04, 6.52625334e-03, 5.93295758e-04, 1.03826758e-03,\n",
                            "        3.14446752e-02, 1.48323939e-03],\n",
                            "       [4.53172205e-03, 4.53172205e-03, 8.76132931e-01, 1.54414233e-02,\n",
                            "        1.22524337e-02, 4.53172205e-03, 1.12453844e-02, 6.04229607e-03,\n",
                            "        6.34441088e-02, 1.84625713e-03],\n",
                            "       [3.58832164e-03, 2.77279400e-03, 1.90833469e-02, 8.52552602e-01,\n",
                            "        3.26211059e-04, 3.31104224e-02, 4.40384929e-03, 6.52422117e-03,\n",
                            "        6.57315283e-02, 1.19067036e-02],\n",
                            "       [2.05409106e-03, 2.39643958e-03, 7.01814447e-03, 1.54056830e-03,\n",
                            "        8.87024991e-01, 2.05409106e-03, 5.81992468e-03, 4.62170490e-03,\n",
                            "        5.93974666e-02, 2.80725779e-02],\n",
                            "       [4.98063088e-03, 2.76701716e-03, 5.53403431e-03, 3.09905921e-02,\n",
                            "        9.77679395e-03, 8.19774949e-01, 1.38350858e-02, 2.58254935e-03,\n",
                            "        9.86902785e-02, 1.10680686e-02],\n",
                            "       [5.06928016e-03, 2.53464008e-03, 7.09699223e-03, 5.06928016e-04,\n",
                            "        7.43494424e-03, 1.63906725e-02, 9.38154782e-01, 5.06928016e-04,\n",
                            "        2.21358567e-02, 1.68976005e-04],\n",
                            "       [3.35195531e-03, 1.59616919e-03, 8.14046289e-03, 4.78850758e-03,\n",
                            "        7.82122905e-03, 1.91540303e-03, 4.78850758e-04, 9.07262570e-01,\n",
                            "        3.11252993e-02, 3.35195531e-02],\n",
                            "       [2.90548624e-03, 1.07673902e-02, 8.20372586e-03, 1.46983422e-02,\n",
                            "        5.12732866e-04, 2.15347804e-02, 4.27277388e-03, 1.70910955e-03,\n",
                            "        9.27875577e-01, 7.52008204e-03],\n",
                            "       [4.20238696e-03, 3.02571861e-03, 5.04286435e-03, 1.07581106e-02,\n",
                            "        1.98352664e-02, 6.05143722e-03, 1.68095478e-04, 3.00890906e-02,\n",
                            "        6.23634224e-02, 8.58463607e-01]])"
                        ]
                    },
                    "metadata": {},
                    "execution_count": 58
                }
            ],
            "metadata": {}
        },
        {
            "cell_type": "code",
            "execution_count": 60,
            "source": [
                "np.fill_diagonal(norm_conf_mx, 0) # remove positive results\n",
                "norm_conf_mx"
            ],
            "outputs": [
                {
                    "output_type": "execute_result",
                    "data": {
                        "text/plain": [
                            "array([[0.        , 0.        , 0.00371433, 0.00084417, 0.00135067,\n",
                            "        0.00725983, 0.006078  , 0.001013  , 0.03798751, 0.00016883],\n",
                            "       [0.        , 0.        , 0.00548799, 0.00355977, 0.0005933 ,\n",
                            "        0.00652625, 0.0005933 , 0.00103827, 0.03144468, 0.00148324],\n",
                            "       [0.00453172, 0.00453172, 0.        , 0.01544142, 0.01225243,\n",
                            "        0.00453172, 0.01124538, 0.0060423 , 0.06344411, 0.00184626],\n",
                            "       [0.00358832, 0.00277279, 0.01908335, 0.        , 0.00032621,\n",
                            "        0.03311042, 0.00440385, 0.00652422, 0.06573153, 0.0119067 ],\n",
                            "       [0.00205409, 0.00239644, 0.00701814, 0.00154057, 0.        ,\n",
                            "        0.00205409, 0.00581992, 0.0046217 , 0.05939747, 0.02807258],\n",
                            "       [0.00498063, 0.00276702, 0.00553403, 0.03099059, 0.00977679,\n",
                            "        0.        , 0.01383509, 0.00258255, 0.09869028, 0.01106807],\n",
                            "       [0.00506928, 0.00253464, 0.00709699, 0.00050693, 0.00743494,\n",
                            "        0.01639067, 0.        , 0.00050693, 0.02213586, 0.00016898],\n",
                            "       [0.00335196, 0.00159617, 0.00814046, 0.00478851, 0.00782123,\n",
                            "        0.0019154 , 0.00047885, 0.        , 0.0311253 , 0.03351955],\n",
                            "       [0.00290549, 0.01076739, 0.00820373, 0.01469834, 0.00051273,\n",
                            "        0.02153478, 0.00427277, 0.00170911, 0.        , 0.00752008],\n",
                            "       [0.00420239, 0.00302572, 0.00504286, 0.01075811, 0.01983527,\n",
                            "        0.00605144, 0.0001681 , 0.03008909, 0.06236342, 0.        ]])"
                        ]
                    },
                    "metadata": {},
                    "execution_count": 60
                }
            ],
            "metadata": {}
        },
        {
            "cell_type": "code",
            "execution_count": 61,
            "source": [
                "plt.matshow(norm_conf_mx, cmap=plt.cm.gray)\n",
                "plt.show()"
            ],
            "outputs": [
                {
                    "output_type": "display_data",
                    "data": {
                        "text/plain": [
                            "<Figure size 288x288 with 1 Axes>"
                        ],
                        "image/png": "[encoded data removed]"
                    },
                    "metadata": {
                        "needs_background": "light"
                    }
                }
            ],
            "metadata": {}
        },
        {
            "cell_type": "markdown",
            "source": [
                "上の図から読み取れること\n",
                "\n",
                "- 3,5は相互に間違われやすい\n",
                "- 相互に間違われるとは限らない\n",
                "  - 他の数字が誤って 8, 9 と判定されるケースは多い\n",
                "    - 縦軸が 8, 9 の部分が明るい\n",
                "  - 8が8以外と判定されるケースは、↑のケースに比べると多くない\n",
                "\n",
                "3/5の区別、誤って8と判定されるケースに対しての改善を考える\n",
                "- 8の判定改善\n",
                "  - 閉じた輪の数をカウントする\n",
                "  - 前処理して閉じた輪の部分を強調する\n",
                "  - など\n",
                "- 3/5の区別\n",
                "  - ピクセルの位置がかなり一致する\n",
                "    - 一致しない部分の出現位置のブレを減らす\n",
                "      - 例：前処理で数字が直立するようにする"
            ],
            "metadata": {}
        },
        {
            "cell_type": "code",
            "execution_count": 11,
            "source": [
                "import matplotlib as mpl\n",
                "import matplotlib.pyplot as plt\n",
                "\n",
                "def show_digit(digit):\n",
                "  digit_image = digit.reshape(28, 28)\n",
                "\n",
                "  plt.imshow(digit_image, cmap=\"binary\")\n",
                "  plt.axis(\"off\")\n",
                "  plt.show()"
            ],
            "outputs": [],
            "metadata": {}
        },
        {
            "cell_type": "code",
            "execution_count": 70,
            "source": [
                "X_train2 = np.array(X_train)"
            ],
            "outputs": [],
            "metadata": {}
        },
        {
            "cell_type": "code",
            "execution_count": 71,
            "source": [
                "cl_a, cl_b = 3, 5\n",
                "X_aa = X_train2[(y_train == cl_a) & (y_train_pred == cl_a)]\n",
                "X_ab = X_train2[(y_train == cl_a) & (y_train_pred == cl_b)]\n",
                "X_ba = X_train2[(y_train == cl_b) & (y_train_pred == cl_a)]\n",
                "X_bb = X_train2[(y_train == cl_b) & (y_train_pred == cl_b)]"
            ],
            "outputs": [],
            "metadata": {}
        },
        {
            "cell_type": "code",
            "execution_count": 9,
            "source": [
                "# EXTRA\n",
                "def plot_digits(instances, images_per_row=10, **options):\n",
                "    size = 28\n",
                "    images_per_row = min(len(instances), images_per_row)\n",
                "    images = [instance.reshape(size,size) for instance in instances]\n",
                "    n_rows = (len(instances) - 1) // images_per_row + 1\n",
                "    row_images = []\n",
                "    n_empty = n_rows * images_per_row - len(instances)\n",
                "    images.append(np.zeros((size, size * n_empty)))\n",
                "    for row in range(n_rows):\n",
                "        rimages = images[row * images_per_row : (row + 1) * images_per_row]\n",
                "        row_images.append(np.concatenate(rimages, axis=1))\n",
                "    image = np.concatenate(row_images, axis=0)\n",
                "    plt.imshow(image, cmap = mpl.cm.binary, **options)\n",
                "    plt.axis(\"off\")"
            ],
            "outputs": [],
            "metadata": {}
        },
        {
            "cell_type": "code",
            "execution_count": 77,
            "source": [
                "plot_digits(X_aa[:25], images_per_row=5)\n",
                "plt.show()\n",
                "plot_digits(X_ab[:25], images_per_row=5)\n",
                "plt.show()\n",
                "plot_digits(X_ba[:25], images_per_row=5)\n",
                "plt.show()\n",
                "plot_digits(X_bb[:25], images_per_row=5)\n",
                "plt.show()"
            ],
            "outputs": [
                {
                    "output_type": "display_data",
                    "data": {
                        "text/plain": [
                            "<Figure size 432x288 with 1 Axes>"
                        ],
                        "image/png": "[encoded data removed]"
                    },
                    "metadata": {
                        "needs_background": "light"
                    }
                },
                {
                    "output_type": "display_data",
                    "data": {
                        "text/plain": [
                            "<Figure size 432x288 with 1 Axes>"
                        ],
                        "image/png": "[encoded data removed]"
                    },
                    "metadata": {
                        "needs_background": "light"
                    }
                },
                {
                    "output_type": "display_data",
                    "data": {
                        "text/plain": [
                            "<Figure size 432x288 with 1 Axes>"
                        ],
                        "image/png": "[encoded data removed]"
                    },
                    "metadata": {
                        "needs_background": "light"
                    }
                },
                {
                    "output_type": "display_data",
                    "data": {
                        "text/plain": [
                            "<Figure size 432x288 with 1 Axes>"
                        ],
                        "image/png": "[encoded data removed]"
                    },
                    "metadata": {
                        "needs_background": "light"
                    }
                }
            ],
            "metadata": {}
        },
        {
            "cell_type": "markdown",
            "source": [
                "3.6　多ラベル分類\n",
                "\n",
                "例：写真に写っている人にタグ付け\n",
                "\n",
                "サンプルとして [与えられた数値が大きい値（7以上）, 奇数] の予測をする分類器を作成してみる"
            ],
            "metadata": {}
        },
        {
            "cell_type": "code",
            "execution_count": 6,
            "source": [
                "y_train_large = (y_train >= 7)\n",
                "y_train_odd = (y_train % 2 == 1)\n",
                "y_multilabel = np.c_[y_train_large, y_train_odd]\n",
                "y_multilabel # [boolean: isLarge, boolean: isOdd]"
            ],
            "outputs": [
                {
                    "output_type": "execute_result",
                    "data": {
                        "text/plain": [
                            "array([[False,  True],\n",
                            "       [False, False],\n",
                            "       [False, False],\n",
                            "       ...,\n",
                            "       [False,  True],\n",
                            "       [False, False],\n",
                            "       [ True, False]])"
                        ]
                    },
                    "metadata": {},
                    "execution_count": 6
                }
            ],
            "metadata": {}
        },
        {
            "cell_type": "code",
            "execution_count": 7,
            "source": [
                "from sklearn.neighbors import KNeighborsClassifier\n",
                "\n",
                "knn_clf = KNeighborsClassifier()\n",
                "knn_clf.fit(X_train, y_multilabel)"
            ],
            "outputs": [
                {
                    "output_type": "execute_result",
                    "data": {
                        "text/plain": [
                            "KNeighborsClassifier()"
                        ]
                    },
                    "metadata": {},
                    "execution_count": 7
                }
            ],
            "metadata": {}
        },
        {
            "cell_type": "code",
            "execution_count": 81,
            "source": [
                "knn_clf.predict([some_digit]) # 5 => [false, true]"
            ],
            "outputs": [
                {
                    "output_type": "execute_result",
                    "data": {
                        "text/plain": [
                            "array([[False,  True]])"
                        ]
                    },
                    "metadata": {},
                    "execution_count": 81
                }
            ],
            "metadata": {}
        },
        {
            "cell_type": "markdown",
            "source": [
                "## 3.7　多出力分類\n",
                "\n",
                "事例：画像からノイズを取り除く"
            ],
            "metadata": {}
        },
        {
            "cell_type": "code",
            "execution_count": 34,
            "source": [
                "noise = np.random.randint(0, 100, (len(X_train), 784))\n",
                "X_train_mod = X_train + noise\n",
                "noise = np.random.randint(0, 100, (len(X_test), 784))\n",
                "X_test_mod = X_test + noise\n",
                "y_train_mod = X_train\n",
                "y_test_mod = X_test"
            ],
            "outputs": [],
            "metadata": {}
        },
        {
            "cell_type": "code",
            "execution_count": 44,
            "source": [
                "some_index = 10\n",
                "show_digit(np.array(X_test_mod)[some_index])\n",
                "show_digit(np.array(X_test)[some_index])"
            ],
            "outputs": [
                {
                    "output_type": "display_data",
                    "data": {
                        "text/plain": [
                            "<Figure size 432x288 with 1 Axes>"
                        ],
                        "image/png": "[encoded data removed]"
                    },
                    "metadata": {
                        "needs_background": "light"
                    }
                },
                {
                    "output_type": "display_data",
                    "data": {
                        "text/plain": [
                            "<Figure size 432x288 with 1 Axes>"
                        ],
                        "image/png": "[encoded data removed]"
                    },
                    "metadata": {
                        "needs_background": "light"
                    }
                }
            ],
            "metadata": {}
        },
        {
            "cell_type": "code",
            "execution_count": 39,
            "source": [
                "from sklearn.neighbors import KNeighborsClassifier\n",
                "\n",
                "knn_clf = KNeighborsClassifier()\n",
                "knn_clf.fit(X_train_mod, y_train_mod)"
            ],
            "outputs": [
                {
                    "output_type": "execute_result",
                    "data": {
                        "text/plain": [
                            "KNeighborsClassifier()"
                        ]
                    },
                    "metadata": {},
                    "execution_count": 39
                }
            ],
            "metadata": {}
        },
        {
            "cell_type": "code",
            "execution_count": 45,
            "source": [
                "clean_digit = knn_clf.predict([np.array(X_test_mod)[some_index]])\n",
                "show_digit(clean_digit)"
            ],
            "outputs": [
                {
                    "output_type": "display_data",
                    "data": {
                        "text/plain": [
                            "<Figure size 432x288 with 1 Axes>"
                        ],
                        "image/png": "[encoded data removed]"
                    },
                    "metadata": {
                        "needs_background": "light"
                    }
                }
            ],
            "metadata": {}
        },
        {
            "cell_type": "markdown",
            "source": [
                "## 3.8　演習問題"
            ],
            "metadata": {}
        },
        {
            "cell_type": "markdown",
            "source": [
                "### 1\n",
                "\n",
                "MNISTデータセット用の分類器を作り、テストセットで97%の正解率を目指しなさい。ヒント：このタスクでは、KNeighborsClassifierが効果的である。あとは、適切なハイパーパラメータ値を見つけるだけでよい（weightsとn_neighborsの2つのハイパーパラメータでグリッドサーチを試していただきたい）。"
            ],
            "metadata": {}
        },
        {
            "cell_type": "code",
            "execution_count": 87,
            "source": [
                "from sklearn.preprocessing import StandardScaler\n",
                "\n",
                "scaler = StandardScaler()\n",
                "X_train_scaled = scaler.fit_transform(np.array(X_train).astype(np.float64))"
            ],
            "outputs": [],
            "metadata": {}
        },
        {
            "cell_type": "code",
            "execution_count": 88,
            "source": [
                "knn_clf = KNeighborsClassifier()\n",
                "knn_clf.fit(X_train_scaled, y_train)"
            ],
            "outputs": [
                {
                    "output_type": "execute_result",
                    "data": {
                        "text/plain": [
                            "KNeighborsClassifier()"
                        ]
                    },
                    "metadata": {},
                    "execution_count": 88
                }
            ],
            "metadata": {}
        },
        {
            "cell_type": "code",
            "execution_count": 89,
            "source": [
                "knn_clf.predict([some_digit])"
            ],
            "outputs": [
                {
                    "output_type": "execute_result",
                    "data": {
                        "text/plain": [
                            "array([3], dtype=uint8)"
                        ]
                    },
                    "metadata": {},
                    "execution_count": 89
                }
            ],
            "metadata": {}
        },
        {
            "cell_type": "markdown",
            "source": [
                "Scaler を通すと some_digit (= 5) が誤判定される。3/5 は相互に間違えられやすい影響か？"
            ],
            "metadata": {}
        },
        {
            "cell_type": "code",
            "execution_count": 91,
            "source": [
                "cross_val_score(knn_clf, X_train_scaled, y_train, cv=3, scoring=\"accuracy\")"
            ],
            "outputs": [
                {
                    "output_type": "execute_result",
                    "data": {
                        "text/plain": [
                            "array([0.9376, 0.9411, 0.9424])"
                        ]
                    },
                    "metadata": {},
                    "execution_count": 91
                }
            ],
            "metadata": {}
        },
        {
            "cell_type": "markdown",
            "source": [
                "K近傍法＋正規化で約94%"
            ],
            "metadata": {}
        },
        {
            "cell_type": "code",
            "execution_count": 94,
            "source": [
                "from sklearn.model_selection import GridSearchCV\n",
                "\n",
                "param_grid = [\n",
                "  {\n",
                "    'n_neighbors': [3, 5, 7],\n",
                "    'weights': ['uniform', 'distance'],\n",
                "  },\n",
                "]\n",
                "\n",
                "grid_search = GridSearchCV(\n",
                "  knn_clf, \n",
                "  param_grid, \n",
                "  cv=5,\n",
                "  verbose=3\n",
                ")\n",
                "grid_search.fit(X_train_scaled, y_train)"
            ],
            "outputs": [
                {
                    "output_type": "stream",
                    "name": "stdout",
                    "text": [
                        "Fitting 5 folds for each of 6 candidates, totalling 30 fits\n",
                        "[CV 1/5] END ....n_neighbors=3, weights=uniform;, score=0.942 total time=  13.2s\n",
                        "[CV 2/5] END ....n_neighbors=3, weights=uniform;, score=0.944 total time=  13.5s\n",
                        "[CV 3/5] END ....n_neighbors=3, weights=uniform;, score=0.945 total time=  13.9s\n",
                        "[CV 4/5] END ....n_neighbors=3, weights=uniform;, score=0.938 total time=  14.9s\n",
                        "[CV 5/5] END ....n_neighbors=3, weights=uniform;, score=0.945 total time=  14.7s\n",
                        "[CV 1/5] END ...n_neighbors=3, weights=distance;, score=0.942 total time=  14.5s\n",
                        "[CV 2/5] END ...n_neighbors=3, weights=distance;, score=0.946 total time=  14.6s\n",
                        "[CV 3/5] END ...n_neighbors=3, weights=distance;, score=0.945 total time=  13.8s\n",
                        "[CV 4/5] END ...n_neighbors=3, weights=distance;, score=0.941 total time=  14.0s\n",
                        "[CV 5/5] END ...n_neighbors=3, weights=distance;, score=0.947 total time=  14.7s\n",
                        "[CV 1/5] END ....n_neighbors=5, weights=uniform;, score=0.941 total time=  19.5s\n",
                        "[CV 2/5] END ....n_neighbors=5, weights=uniform;, score=0.943 total time=  18.3s\n",
                        "[CV 3/5] END ....n_neighbors=5, weights=uniform;, score=0.943 total time=  17.9s\n",
                        "[CV 4/5] END ....n_neighbors=5, weights=uniform;, score=0.936 total time=  18.3s\n",
                        "[CV 5/5] END ....n_neighbors=5, weights=uniform;, score=0.947 total time=  18.5s\n",
                        "[CV 1/5] END ...n_neighbors=5, weights=distance;, score=0.942 total time=  18.3s\n",
                        "[CV 2/5] END ...n_neighbors=5, weights=distance;, score=0.945 total time=  18.6s\n",
                        "[CV 3/5] END ...n_neighbors=5, weights=distance;, score=0.945 total time=  18.1s\n",
                        "[CV 4/5] END ...n_neighbors=5, weights=distance;, score=0.940 total time=  17.3s\n",
                        "[CV 5/5] END ...n_neighbors=5, weights=distance;, score=0.948 total time=  16.9s\n",
                        "[CV 1/5] END ....n_neighbors=7, weights=uniform;, score=0.939 total time=  17.5s\n",
                        "[CV 2/5] END ....n_neighbors=7, weights=uniform;, score=0.941 total time=  17.3s\n",
                        "[CV 3/5] END ....n_neighbors=7, weights=uniform;, score=0.942 total time=  17.6s\n",
                        "[CV 4/5] END ....n_neighbors=7, weights=uniform;, score=0.936 total time=  17.0s\n",
                        "[CV 5/5] END ....n_neighbors=7, weights=uniform;, score=0.946 total time=  17.8s\n",
                        "[CV 1/5] END ...n_neighbors=7, weights=distance;, score=0.940 total time=  17.3s\n",
                        "[CV 2/5] END ...n_neighbors=7, weights=distance;, score=0.943 total time=  16.8s\n",
                        "[CV 3/5] END ...n_neighbors=7, weights=distance;, score=0.943 total time=  16.8s\n",
                        "[CV 4/5] END ...n_neighbors=7, weights=distance;, score=0.938 total time=  16.6s\n",
                        "[CV 5/5] END ...n_neighbors=7, weights=distance;, score=0.947 total time=  18.0s\n"
                    ]
                },
                {
                    "output_type": "execute_result",
                    "data": {
                        "text/plain": [
                            "GridSearchCV(cv=5, estimator=KNeighborsClassifier(),\n",
                            "             param_grid=[{'n_neighbors': [3, 5, 7],\n",
                            "                          'weights': ['uniform', 'distance']}],\n",
                            "             verbose=3)"
                        ]
                    },
                    "metadata": {},
                    "execution_count": 94
                }
            ],
            "metadata": {}
        },
        {
            "cell_type": "code",
            "execution_count": 95,
            "source": [
                "grid_search.best_params_"
            ],
            "outputs": [
                {
                    "output_type": "execute_result",
                    "data": {
                        "text/plain": [
                            "{'n_neighbors': 5, 'weights': 'distance'}"
                        ]
                    },
                    "metadata": {},
                    "execution_count": 95
                }
            ],
            "metadata": {}
        },
        {
            "cell_type": "code",
            "execution_count": 96,
            "source": [
                "grid_search.best_score_"
            ],
            "outputs": [
                {
                    "output_type": "execute_result",
                    "data": {
                        "text/plain": [
                            "0.94435"
                        ]
                    },
                    "metadata": {},
                    "execution_count": 96
                }
            ],
            "metadata": {}
        },
        {
            "cell_type": "markdown",
            "source": [
                "正解率は94%なので未達"
            ],
            "metadata": {}
        },
        {
            "cell_type": "code",
            "execution_count": 97,
            "source": [
                "knn_clf2 = KNeighborsClassifier(n_neighbors=4, weights='distance')\n",
                "cross_val_score(knn_clf2, X_train_scaled, y_train, cv=3, scoring=\"accuracy\")"
            ],
            "outputs": [
                {
                    "output_type": "execute_result",
                    "data": {
                        "text/plain": [
                            "array([0.9428, 0.9442, 0.9443])"
                        ]
                    },
                    "metadata": {},
                    "execution_count": 97
                }
            ],
            "metadata": {}
        },
        {
            "cell_type": "markdown",
            "source": [
                "解答例の best_params をそのまま適用しても未達"
            ],
            "metadata": {}
        },
        {
            "cell_type": "code",
            "execution_count": 98,
            "source": [
                "cross_val_score(knn_clf2, X_train, y_train, cv=3, scoring=\"accuracy\")"
            ],
            "outputs": [
                {
                    "output_type": "execute_result",
                    "data": {
                        "text/plain": [
                            "array([0.9709 , 0.9698 , 0.97035])"
                        ]
                    },
                    "metadata": {},
                    "execution_count": 98
                }
            ],
            "metadata": {}
        },
        {
            "cell_type": "markdown",
            "source": [
                "標準化してない学習データを使った方がスコアが高い。。"
            ],
            "metadata": {}
        },
        {
            "cell_type": "code",
            "execution_count": null,
            "source": [
                "from sklearn.model_selection import GridSearchCV\n",
                "\n",
                "param_grid = [\n",
                "  {\n",
                "    'n_neighbors': [3, 5, 7],\n",
                "    'weights': ['uniform', 'distance'],\n",
                "  },\n",
                "]\n",
                "\n",
                "grid_search = GridSearchCV(\n",
                "  knn_clf, \n",
                "  param_grid, \n",
                "  cv=5,\n",
                "  verbose=3\n",
                ")\n",
                "grid_search.fit(X_train, y_train)"
            ],
            "outputs": [],
            "metadata": {}
        },
        {
            "cell_type": "markdown",
            "source": [
                "### 2\n",
                "\n",
                "MNIST画像を任意の方向（上下左右）に1ピクセルずつずらす関数を書きなさい†5。次に、訓練セットのすべての画像について、4方向に1ピクセルずつずらした4つのコピーを作り、それを訓練セットに追加しなさい。最後に、この拡張訓練セットを使って自分にとって最良のモデルを訓練し、訓練セットに対する適合率を測定しなさい。モデルの性能がさらに上がったことがわかるだろう。このように訓練セットを人工的に増やすテクニックをデータ拡張（data augmentation）とか訓練セットの拡張（training set expansion）と呼ぶ。\n",
                "\n",
                "> scipy.ndimage.interpolationモジュールのshift()関数を使えばよい。たとえば、shift(image, [2, 1], cval=0)を実行すると、画像は2ピクセル下、1ピクセル右に移動する。\n"
            ],
            "metadata": {}
        },
        {
            "cell_type": "code",
            "execution_count": 8,
            "source": [
                "from scipy.ndimage.interpolation import shift\n",
                "\n",
                "def expand(digit):\n",
                "  image = digit.reshape(28, 28)\n",
                "  up = shift(image, [-1, 0])\n",
                "  down = shift(image, [1, 0])\n",
                "  left = shift(image, [0, -1])\n",
                "  right = shift(image, [0, 1])\n",
                "  return digit, up, down, left, right"
            ],
            "outputs": [],
            "metadata": {}
        },
        {
            "cell_type": "code",
            "execution_count": 12,
            "source": [
                "plot_digits(expand(some_digit), images_per_row=5)\n",
                "plt.show()"
            ],
            "outputs": [
                {
                    "output_type": "display_data",
                    "data": {
                        "text/plain": [
                            "<Figure size 432x288 with 1 Axes>"
                        ],
                        "image/png": "[encoded data removed]"
                    },
                    "metadata": {
                        "needs_background": "light"
                    }
                }
            ],
            "metadata": {}
        },
        {
            "cell_type": "code",
            "execution_count": 157,
            "source": [
                "def expand_label(val):\n",
                "  return val, val, val, val, val"
            ],
            "outputs": [],
            "metadata": {}
        },
        {
            "cell_type": "code",
            "execution_count": 158,
            "source": [
                "f = np.frompyfunc(expand_label, 1, 5)\n",
                "y_train_expanded = np.ravel(f(np.array(y_train)))\n",
                "y_train_expanded"
            ],
            "outputs": [
                {
                    "output_type": "execute_result",
                    "data": {
                        "text/plain": [
                            "array([5, 0, 4, ..., 5, 6, 8], dtype=object)"
                        ]
                    },
                    "metadata": {},
                    "execution_count": 158
                }
            ],
            "metadata": {}
        },
        {
            "cell_type": "markdown",
            "source": [
                "↑は想定通りではない"
            ],
            "metadata": {}
        },
        {
            "cell_type": "code",
            "execution_count": 171,
            "source": [
                "y_train_expanded = np.ravel([expand_label(y) for y in np.array(y_train)])\n",
                "y_train_expanded"
            ],
            "outputs": [
                {
                    "output_type": "execute_result",
                    "data": {
                        "text/plain": [
                            "array([5, 5, 5, ..., 8, 8, 8], dtype=uint8)"
                        ]
                    },
                    "metadata": {},
                    "execution_count": 171
                }
            ],
            "metadata": {}
        },
        {
            "cell_type": "code",
            "execution_count": 174,
            "source": [
                "X_train_expanded = np.ravel([expand(x) for x in np.array(X_train)])"
            ],
            "outputs": [],
            "metadata": {}
        },
        {
            "cell_type": "code",
            "execution_count": 176,
            "source": [
                "len(X_train_expanded)"
            ],
            "outputs": [
                {
                    "output_type": "execute_result",
                    "data": {
                        "text/plain": [
                            "235200000"
                        ]
                    },
                    "metadata": {},
                    "execution_count": 176
                }
            ],
            "metadata": {}
        },
        {
            "cell_type": "code",
            "execution_count": 175,
            "source": [
                "cross_val_score(knn_clf2, X_train_expanded, y_train_expanded, cv=3, scoring=\"accuracy\")"
            ],
            "outputs": [
                {
                    "output_type": "error",
                    "ename": "ValueError",
                    "evalue": "Found input variables with inconsistent numbers of samples: [235200000, 300000]",
                    "traceback": [
                        "\u001b[0;31m---------------------------------------------------------------------------\u001b[0m",
                        "\u001b[0;31mValueError\u001b[0m                                Traceback (most recent call last)",
                        "\u001b[0;32m<ipython-input-175-4be47da9fa17>\u001b[0m in \u001b[0;36m<module>\u001b[0;34m\u001b[0m\n\u001b[0;32m----> 1\u001b[0;31m \u001b[0mcross_val_score\u001b[0m\u001b[0;34m(\u001b[0m\u001b[0mknn_clf2\u001b[0m\u001b[0;34m,\u001b[0m \u001b[0mX_train_expanded\u001b[0m\u001b[0;34m,\u001b[0m \u001b[0my_train_expanded\u001b[0m\u001b[0;34m,\u001b[0m \u001b[0mcv\u001b[0m\u001b[0;34m=\u001b[0m\u001b[0;36m3\u001b[0m\u001b[0;34m,\u001b[0m \u001b[0mscoring\u001b[0m\u001b[0;34m=\u001b[0m\u001b[0;34m\"accuracy\"\u001b[0m\u001b[0;34m)\u001b[0m\u001b[0;34m\u001b[0m\u001b[0;34m\u001b[0m\u001b[0m\n\u001b[0m",
                        "\u001b[0;32m/usr/local/lib/python3.9/site-packages/sklearn/utils/validation.py\u001b[0m in \u001b[0;36minner_f\u001b[0;34m(*args, **kwargs)\u001b[0m\n\u001b[1;32m     61\u001b[0m             \u001b[0mextra_args\u001b[0m \u001b[0;34m=\u001b[0m \u001b[0mlen\u001b[0m\u001b[0;34m(\u001b[0m\u001b[0margs\u001b[0m\u001b[0;34m)\u001b[0m \u001b[0;34m-\u001b[0m \u001b[0mlen\u001b[0m\u001b[0;34m(\u001b[0m\u001b[0mall_args\u001b[0m\u001b[0;34m)\u001b[0m\u001b[0;34m\u001b[0m\u001b[0;34m\u001b[0m\u001b[0m\n\u001b[1;32m     62\u001b[0m             \u001b[0;32mif\u001b[0m \u001b[0mextra_args\u001b[0m \u001b[0;34m<=\u001b[0m \u001b[0;36m0\u001b[0m\u001b[0;34m:\u001b[0m\u001b[0;34m\u001b[0m\u001b[0;34m\u001b[0m\u001b[0m\n\u001b[0;32m---> 63\u001b[0;31m                 \u001b[0;32mreturn\u001b[0m \u001b[0mf\u001b[0m\u001b[0;34m(\u001b[0m\u001b[0;34m*\u001b[0m\u001b[0margs\u001b[0m\u001b[0;34m,\u001b[0m \u001b[0;34m**\u001b[0m\u001b[0mkwargs\u001b[0m\u001b[0;34m)\u001b[0m\u001b[0;34m\u001b[0m\u001b[0;34m\u001b[0m\u001b[0m\n\u001b[0m\u001b[1;32m     64\u001b[0m \u001b[0;34m\u001b[0m\u001b[0m\n\u001b[1;32m     65\u001b[0m             \u001b[0;31m# extra_args > 0\u001b[0m\u001b[0;34m\u001b[0m\u001b[0;34m\u001b[0m\u001b[0;34m\u001b[0m\u001b[0m\n",
                        "\u001b[0;32m/usr/local/lib/python3.9/site-packages/sklearn/model_selection/_validation.py\u001b[0m in \u001b[0;36mcross_val_score\u001b[0;34m(estimator, X, y, groups, scoring, cv, n_jobs, verbose, fit_params, pre_dispatch, error_score)\u001b[0m\n\u001b[1;32m    443\u001b[0m     \u001b[0mscorer\u001b[0m \u001b[0;34m=\u001b[0m \u001b[0mcheck_scoring\u001b[0m\u001b[0;34m(\u001b[0m\u001b[0mestimator\u001b[0m\u001b[0;34m,\u001b[0m \u001b[0mscoring\u001b[0m\u001b[0;34m=\u001b[0m\u001b[0mscoring\u001b[0m\u001b[0;34m)\u001b[0m\u001b[0;34m\u001b[0m\u001b[0;34m\u001b[0m\u001b[0m\n\u001b[1;32m    444\u001b[0m \u001b[0;34m\u001b[0m\u001b[0m\n\u001b[0;32m--> 445\u001b[0;31m     cv_results = cross_validate(estimator=estimator, X=X, y=y, groups=groups,\n\u001b[0m\u001b[1;32m    446\u001b[0m                                 \u001b[0mscoring\u001b[0m\u001b[0;34m=\u001b[0m\u001b[0;34m{\u001b[0m\u001b[0;34m'score'\u001b[0m\u001b[0;34m:\u001b[0m \u001b[0mscorer\u001b[0m\u001b[0;34m}\u001b[0m\u001b[0;34m,\u001b[0m \u001b[0mcv\u001b[0m\u001b[0;34m=\u001b[0m\u001b[0mcv\u001b[0m\u001b[0;34m,\u001b[0m\u001b[0;34m\u001b[0m\u001b[0;34m\u001b[0m\u001b[0m\n\u001b[1;32m    447\u001b[0m                                 \u001b[0mn_jobs\u001b[0m\u001b[0;34m=\u001b[0m\u001b[0mn_jobs\u001b[0m\u001b[0;34m,\u001b[0m \u001b[0mverbose\u001b[0m\u001b[0;34m=\u001b[0m\u001b[0mverbose\u001b[0m\u001b[0;34m,\u001b[0m\u001b[0;34m\u001b[0m\u001b[0;34m\u001b[0m\u001b[0m\n",
                        "\u001b[0;32m/usr/local/lib/python3.9/site-packages/sklearn/utils/validation.py\u001b[0m in \u001b[0;36minner_f\u001b[0;34m(*args, **kwargs)\u001b[0m\n\u001b[1;32m     61\u001b[0m             \u001b[0mextra_args\u001b[0m \u001b[0;34m=\u001b[0m \u001b[0mlen\u001b[0m\u001b[0;34m(\u001b[0m\u001b[0margs\u001b[0m\u001b[0;34m)\u001b[0m \u001b[0;34m-\u001b[0m \u001b[0mlen\u001b[0m\u001b[0;34m(\u001b[0m\u001b[0mall_args\u001b[0m\u001b[0;34m)\u001b[0m\u001b[0;34m\u001b[0m\u001b[0;34m\u001b[0m\u001b[0m\n\u001b[1;32m     62\u001b[0m             \u001b[0;32mif\u001b[0m \u001b[0mextra_args\u001b[0m \u001b[0;34m<=\u001b[0m \u001b[0;36m0\u001b[0m\u001b[0;34m:\u001b[0m\u001b[0;34m\u001b[0m\u001b[0;34m\u001b[0m\u001b[0m\n\u001b[0;32m---> 63\u001b[0;31m                 \u001b[0;32mreturn\u001b[0m \u001b[0mf\u001b[0m\u001b[0;34m(\u001b[0m\u001b[0;34m*\u001b[0m\u001b[0margs\u001b[0m\u001b[0;34m,\u001b[0m \u001b[0;34m**\u001b[0m\u001b[0mkwargs\u001b[0m\u001b[0;34m)\u001b[0m\u001b[0;34m\u001b[0m\u001b[0;34m\u001b[0m\u001b[0m\n\u001b[0m\u001b[1;32m     64\u001b[0m \u001b[0;34m\u001b[0m\u001b[0m\n\u001b[1;32m     65\u001b[0m             \u001b[0;31m# extra_args > 0\u001b[0m\u001b[0;34m\u001b[0m\u001b[0;34m\u001b[0m\u001b[0;34m\u001b[0m\u001b[0m\n",
                        "\u001b[0;32m/usr/local/lib/python3.9/site-packages/sklearn/model_selection/_validation.py\u001b[0m in \u001b[0;36mcross_validate\u001b[0;34m(estimator, X, y, groups, scoring, cv, n_jobs, verbose, fit_params, pre_dispatch, return_train_score, return_estimator, error_score)\u001b[0m\n\u001b[1;32m    233\u001b[0m \u001b[0;34m\u001b[0m\u001b[0m\n\u001b[1;32m    234\u001b[0m     \"\"\"\n\u001b[0;32m--> 235\u001b[0;31m     \u001b[0mX\u001b[0m\u001b[0;34m,\u001b[0m \u001b[0my\u001b[0m\u001b[0;34m,\u001b[0m \u001b[0mgroups\u001b[0m \u001b[0;34m=\u001b[0m \u001b[0mindexable\u001b[0m\u001b[0;34m(\u001b[0m\u001b[0mX\u001b[0m\u001b[0;34m,\u001b[0m \u001b[0my\u001b[0m\u001b[0;34m,\u001b[0m \u001b[0mgroups\u001b[0m\u001b[0;34m)\u001b[0m\u001b[0;34m\u001b[0m\u001b[0;34m\u001b[0m\u001b[0m\n\u001b[0m\u001b[1;32m    236\u001b[0m \u001b[0;34m\u001b[0m\u001b[0m\n\u001b[1;32m    237\u001b[0m     \u001b[0mcv\u001b[0m \u001b[0;34m=\u001b[0m \u001b[0mcheck_cv\u001b[0m\u001b[0;34m(\u001b[0m\u001b[0mcv\u001b[0m\u001b[0;34m,\u001b[0m \u001b[0my\u001b[0m\u001b[0;34m,\u001b[0m \u001b[0mclassifier\u001b[0m\u001b[0;34m=\u001b[0m\u001b[0mis_classifier\u001b[0m\u001b[0;34m(\u001b[0m\u001b[0mestimator\u001b[0m\u001b[0;34m)\u001b[0m\u001b[0;34m)\u001b[0m\u001b[0;34m\u001b[0m\u001b[0;34m\u001b[0m\u001b[0m\n",
                        "\u001b[0;32m/usr/local/lib/python3.9/site-packages/sklearn/utils/validation.py\u001b[0m in \u001b[0;36mindexable\u001b[0;34m(*iterables)\u001b[0m\n\u001b[1;32m    354\u001b[0m     \"\"\"\n\u001b[1;32m    355\u001b[0m     \u001b[0mresult\u001b[0m \u001b[0;34m=\u001b[0m \u001b[0;34m[\u001b[0m\u001b[0m_make_indexable\u001b[0m\u001b[0;34m(\u001b[0m\u001b[0mX\u001b[0m\u001b[0;34m)\u001b[0m \u001b[0;32mfor\u001b[0m \u001b[0mX\u001b[0m \u001b[0;32min\u001b[0m \u001b[0miterables\u001b[0m\u001b[0;34m]\u001b[0m\u001b[0;34m\u001b[0m\u001b[0;34m\u001b[0m\u001b[0m\n\u001b[0;32m--> 356\u001b[0;31m     \u001b[0mcheck_consistent_length\u001b[0m\u001b[0;34m(\u001b[0m\u001b[0;34m*\u001b[0m\u001b[0mresult\u001b[0m\u001b[0;34m)\u001b[0m\u001b[0;34m\u001b[0m\u001b[0;34m\u001b[0m\u001b[0m\n\u001b[0m\u001b[1;32m    357\u001b[0m     \u001b[0;32mreturn\u001b[0m \u001b[0mresult\u001b[0m\u001b[0;34m\u001b[0m\u001b[0;34m\u001b[0m\u001b[0m\n\u001b[1;32m    358\u001b[0m \u001b[0;34m\u001b[0m\u001b[0m\n",
                        "\u001b[0;32m/usr/local/lib/python3.9/site-packages/sklearn/utils/validation.py\u001b[0m in \u001b[0;36mcheck_consistent_length\u001b[0;34m(*arrays)\u001b[0m\n\u001b[1;32m    317\u001b[0m     \u001b[0muniques\u001b[0m \u001b[0;34m=\u001b[0m \u001b[0mnp\u001b[0m\u001b[0;34m.\u001b[0m\u001b[0munique\u001b[0m\u001b[0;34m(\u001b[0m\u001b[0mlengths\u001b[0m\u001b[0;34m)\u001b[0m\u001b[0;34m\u001b[0m\u001b[0;34m\u001b[0m\u001b[0m\n\u001b[1;32m    318\u001b[0m     \u001b[0;32mif\u001b[0m \u001b[0mlen\u001b[0m\u001b[0;34m(\u001b[0m\u001b[0muniques\u001b[0m\u001b[0;34m)\u001b[0m \u001b[0;34m>\u001b[0m \u001b[0;36m1\u001b[0m\u001b[0;34m:\u001b[0m\u001b[0;34m\u001b[0m\u001b[0;34m\u001b[0m\u001b[0m\n\u001b[0;32m--> 319\u001b[0;31m         raise ValueError(\"Found input variables with inconsistent numbers of\"\n\u001b[0m\u001b[1;32m    320\u001b[0m                          \" samples: %r\" % [int(l) for l in lengths])\n\u001b[1;32m    321\u001b[0m \u001b[0;34m\u001b[0m\u001b[0m\n",
                        "\u001b[0;31mValueError\u001b[0m: Found input variables with inconsistent numbers of samples: [235200000, 300000]"
                    ]
                }
            ],
            "metadata": {}
        },
        {
            "cell_type": "markdown",
            "source": [
                "**方針転換**\n",
                "\n",
                "解答例を参考に拡張"
            ],
            "metadata": {}
        },
        {
            "cell_type": "code",
            "execution_count": 27,
            "source": [
                "def expand(digit, x, y):\n",
                "  image = digit.reshape(28, 28)\n",
                "  _image = shift(image, [x, y], cval=0, mode=\"constant\")\n",
                "  return _image.reshape([-1])"
            ],
            "outputs": [],
            "metadata": {}
        },
        {
            "cell_type": "code",
            "execution_count": 28,
            "source": [
                "X_train_expanded = [*np.array(X_train)]\n",
                "y_train_expanded = [*y_train]\n",
                "\n",
                "for x, y in [(-1, 0), (1, 0), (0, -1), (0, 1)]:\n",
                "  for image, label in zip(np.array(X_train), y_train):\n",
                "    X_train_expanded.append(expand(image, x, y))\n",
                "    y_train_expanded.append(label)"
            ],
            "outputs": [],
            "metadata": {}
        },
        {
            "cell_type": "code",
            "execution_count": 211,
            "source": [
                "len(X_train_expanded)"
            ],
            "outputs": [
                {
                    "output_type": "execute_result",
                    "data": {
                        "text/plain": [
                            "300000"
                        ]
                    },
                    "metadata": {},
                    "execution_count": 211
                }
            ],
            "metadata": {}
        },
        {
            "cell_type": "code",
            "execution_count": 212,
            "source": [
                "len(y_train_expanded)"
            ],
            "outputs": [
                {
                    "output_type": "execute_result",
                    "data": {
                        "text/plain": [
                            "300000"
                        ]
                    },
                    "metadata": {},
                    "execution_count": 212
                }
            ],
            "metadata": {}
        },
        {
            "cell_type": "code",
            "execution_count": 213,
            "source": [
                "# knn_clf2 = KNeighborsClassifier(n_neighbors=4, weights='distance')\n",
                "cross_val_score(knn_clf2, X_train_expanded, y_train_expanded, cv=3, scoring=\"accuracy\")"
            ],
            "outputs": [
                {
                    "output_type": "execute_result",
                    "data": {
                        "text/plain": [
                            "array([0.98414, 0.98003, 0.97199])"
                        ]
                    },
                    "metadata": {},
                    "execution_count": 213
                }
            ],
            "metadata": {}
        },
        {
            "cell_type": "markdown",
            "source": [
                "拡張前 `array([0.9709 , 0.9698 , 0.97035])` に比べて性能が向上している"
            ],
            "metadata": {}
        },
        {
            "cell_type": "code",
            "execution_count": 30,
            "source": [
                "knn_clf2.fit(X_train_expanded, y_train_expanded)"
            ],
            "outputs": [
                {
                    "output_type": "execute_result",
                    "data": {
                        "text/plain": [
                            "KNeighborsClassifier(n_neighbors=4, weights='distance')"
                        ]
                    },
                    "metadata": {},
                    "execution_count": 30
                }
            ],
            "metadata": {}
        },
        {
            "cell_type": "code",
            "execution_count": 31,
            "source": [
                "y_pred = knn_clf2.predict(X_test)\n",
                "y_pred"
            ],
            "outputs": [
                {
                    "output_type": "execute_result",
                    "data": {
                        "text/plain": [
                            "array([7, 2, 1, ..., 4, 5, 6])"
                        ]
                    },
                    "metadata": {},
                    "execution_count": 31
                }
            ],
            "metadata": {}
        },
        {
            "cell_type": "code",
            "execution_count": 32,
            "source": [
                "from sklearn.metrics import precision_score\n",
                "\n",
                "precision_score(y_test, y_pred)"
            ],
            "outputs": [
                {
                    "output_type": "error",
                    "ename": "ValueError",
                    "evalue": "Target is multiclass but average='binary'. Please choose another average setting, one of [None, 'micro', 'macro', 'weighted'].",
                    "traceback": [
                        "\u001b[0;31m---------------------------------------------------------------------------\u001b[0m",
                        "\u001b[0;31mValueError\u001b[0m                                Traceback (most recent call last)",
                        "\u001b[0;32m<ipython-input-32-d107837f2446>\u001b[0m in \u001b[0;36m<module>\u001b[0;34m\u001b[0m\n\u001b[1;32m      1\u001b[0m \u001b[0;32mfrom\u001b[0m \u001b[0msklearn\u001b[0m\u001b[0;34m.\u001b[0m\u001b[0mmetrics\u001b[0m \u001b[0;32mimport\u001b[0m \u001b[0mprecision_score\u001b[0m\u001b[0;34m\u001b[0m\u001b[0;34m\u001b[0m\u001b[0m\n\u001b[1;32m      2\u001b[0m \u001b[0;34m\u001b[0m\u001b[0m\n\u001b[0;32m----> 3\u001b[0;31m \u001b[0mprecision_score\u001b[0m\u001b[0;34m(\u001b[0m\u001b[0my_test\u001b[0m\u001b[0;34m,\u001b[0m \u001b[0my_pred\u001b[0m\u001b[0;34m)\u001b[0m\u001b[0;34m\u001b[0m\u001b[0;34m\u001b[0m\u001b[0m\n\u001b[0m",
                        "\u001b[0;32m/usr/local/lib/python3.9/site-packages/sklearn/utils/validation.py\u001b[0m in \u001b[0;36minner_f\u001b[0;34m(*args, **kwargs)\u001b[0m\n\u001b[1;32m     61\u001b[0m             \u001b[0mextra_args\u001b[0m \u001b[0;34m=\u001b[0m \u001b[0mlen\u001b[0m\u001b[0;34m(\u001b[0m\u001b[0margs\u001b[0m\u001b[0;34m)\u001b[0m \u001b[0;34m-\u001b[0m \u001b[0mlen\u001b[0m\u001b[0;34m(\u001b[0m\u001b[0mall_args\u001b[0m\u001b[0;34m)\u001b[0m\u001b[0;34m\u001b[0m\u001b[0;34m\u001b[0m\u001b[0m\n\u001b[1;32m     62\u001b[0m             \u001b[0;32mif\u001b[0m \u001b[0mextra_args\u001b[0m \u001b[0;34m<=\u001b[0m \u001b[0;36m0\u001b[0m\u001b[0;34m:\u001b[0m\u001b[0;34m\u001b[0m\u001b[0;34m\u001b[0m\u001b[0m\n\u001b[0;32m---> 63\u001b[0;31m                 \u001b[0;32mreturn\u001b[0m \u001b[0mf\u001b[0m\u001b[0;34m(\u001b[0m\u001b[0;34m*\u001b[0m\u001b[0margs\u001b[0m\u001b[0;34m,\u001b[0m \u001b[0;34m**\u001b[0m\u001b[0mkwargs\u001b[0m\u001b[0;34m)\u001b[0m\u001b[0;34m\u001b[0m\u001b[0;34m\u001b[0m\u001b[0m\n\u001b[0m\u001b[1;32m     64\u001b[0m \u001b[0;34m\u001b[0m\u001b[0m\n\u001b[1;32m     65\u001b[0m             \u001b[0;31m# extra_args > 0\u001b[0m\u001b[0;34m\u001b[0m\u001b[0;34m\u001b[0m\u001b[0;34m\u001b[0m\u001b[0m\n",
                        "\u001b[0;32m/usr/local/lib/python3.9/site-packages/sklearn/metrics/_classification.py\u001b[0m in \u001b[0;36mprecision_score\u001b[0;34m(y_true, y_pred, labels, pos_label, average, sample_weight, zero_division)\u001b[0m\n\u001b[1;32m   1654\u001b[0m \u001b[0;34m\u001b[0m\u001b[0m\n\u001b[1;32m   1655\u001b[0m     \"\"\"\n\u001b[0;32m-> 1656\u001b[0;31m     p, _, _, _ = precision_recall_fscore_support(y_true, y_pred,\n\u001b[0m\u001b[1;32m   1657\u001b[0m                                                  \u001b[0mlabels\u001b[0m\u001b[0;34m=\u001b[0m\u001b[0mlabels\u001b[0m\u001b[0;34m,\u001b[0m\u001b[0;34m\u001b[0m\u001b[0;34m\u001b[0m\u001b[0m\n\u001b[1;32m   1658\u001b[0m                                                  \u001b[0mpos_label\u001b[0m\u001b[0;34m=\u001b[0m\u001b[0mpos_label\u001b[0m\u001b[0;34m,\u001b[0m\u001b[0;34m\u001b[0m\u001b[0;34m\u001b[0m\u001b[0m\n",
                        "\u001b[0;32m/usr/local/lib/python3.9/site-packages/sklearn/utils/validation.py\u001b[0m in \u001b[0;36minner_f\u001b[0;34m(*args, **kwargs)\u001b[0m\n\u001b[1;32m     61\u001b[0m             \u001b[0mextra_args\u001b[0m \u001b[0;34m=\u001b[0m \u001b[0mlen\u001b[0m\u001b[0;34m(\u001b[0m\u001b[0margs\u001b[0m\u001b[0;34m)\u001b[0m \u001b[0;34m-\u001b[0m \u001b[0mlen\u001b[0m\u001b[0;34m(\u001b[0m\u001b[0mall_args\u001b[0m\u001b[0;34m)\u001b[0m\u001b[0;34m\u001b[0m\u001b[0;34m\u001b[0m\u001b[0m\n\u001b[1;32m     62\u001b[0m             \u001b[0;32mif\u001b[0m \u001b[0mextra_args\u001b[0m \u001b[0;34m<=\u001b[0m \u001b[0;36m0\u001b[0m\u001b[0;34m:\u001b[0m\u001b[0;34m\u001b[0m\u001b[0;34m\u001b[0m\u001b[0m\n\u001b[0;32m---> 63\u001b[0;31m                 \u001b[0;32mreturn\u001b[0m \u001b[0mf\u001b[0m\u001b[0;34m(\u001b[0m\u001b[0;34m*\u001b[0m\u001b[0margs\u001b[0m\u001b[0;34m,\u001b[0m \u001b[0;34m**\u001b[0m\u001b[0mkwargs\u001b[0m\u001b[0;34m)\u001b[0m\u001b[0;34m\u001b[0m\u001b[0;34m\u001b[0m\u001b[0m\n\u001b[0m\u001b[1;32m     64\u001b[0m \u001b[0;34m\u001b[0m\u001b[0m\n\u001b[1;32m     65\u001b[0m             \u001b[0;31m# extra_args > 0\u001b[0m\u001b[0;34m\u001b[0m\u001b[0;34m\u001b[0m\u001b[0;34m\u001b[0m\u001b[0m\n",
                        "\u001b[0;32m/usr/local/lib/python3.9/site-packages/sklearn/metrics/_classification.py\u001b[0m in \u001b[0;36mprecision_recall_fscore_support\u001b[0;34m(y_true, y_pred, beta, labels, pos_label, average, warn_for, sample_weight, zero_division)\u001b[0m\n\u001b[1;32m   1462\u001b[0m     \u001b[0;32mif\u001b[0m \u001b[0mbeta\u001b[0m \u001b[0;34m<\u001b[0m \u001b[0;36m0\u001b[0m\u001b[0;34m:\u001b[0m\u001b[0;34m\u001b[0m\u001b[0;34m\u001b[0m\u001b[0m\n\u001b[1;32m   1463\u001b[0m         \u001b[0;32mraise\u001b[0m \u001b[0mValueError\u001b[0m\u001b[0;34m(\u001b[0m\u001b[0;34m\"beta should be >=0 in the F-beta score\"\u001b[0m\u001b[0;34m)\u001b[0m\u001b[0;34m\u001b[0m\u001b[0;34m\u001b[0m\u001b[0m\n\u001b[0;32m-> 1464\u001b[0;31m     labels = _check_set_wise_labels(y_true, y_pred, average, labels,\n\u001b[0m\u001b[1;32m   1465\u001b[0m                                     pos_label)\n\u001b[1;32m   1466\u001b[0m \u001b[0;34m\u001b[0m\u001b[0m\n",
                        "\u001b[0;32m/usr/local/lib/python3.9/site-packages/sklearn/metrics/_classification.py\u001b[0m in \u001b[0;36m_check_set_wise_labels\u001b[0;34m(y_true, y_pred, average, labels, pos_label)\u001b[0m\n\u001b[1;32m   1292\u001b[0m             \u001b[0;32mif\u001b[0m \u001b[0my_type\u001b[0m \u001b[0;34m==\u001b[0m \u001b[0;34m'multiclass'\u001b[0m\u001b[0;34m:\u001b[0m\u001b[0;34m\u001b[0m\u001b[0;34m\u001b[0m\u001b[0m\n\u001b[1;32m   1293\u001b[0m                 \u001b[0maverage_options\u001b[0m\u001b[0;34m.\u001b[0m\u001b[0mremove\u001b[0m\u001b[0;34m(\u001b[0m\u001b[0;34m'samples'\u001b[0m\u001b[0;34m)\u001b[0m\u001b[0;34m\u001b[0m\u001b[0;34m\u001b[0m\u001b[0m\n\u001b[0;32m-> 1294\u001b[0;31m             raise ValueError(\"Target is %s but average='binary'. Please \"\n\u001b[0m\u001b[1;32m   1295\u001b[0m                              \u001b[0;34m\"choose another average setting, one of %r.\"\u001b[0m\u001b[0;34m\u001b[0m\u001b[0;34m\u001b[0m\u001b[0m\n\u001b[1;32m   1296\u001b[0m                              % (y_type, average_options))\n",
                        "\u001b[0;31mValueError\u001b[0m: Target is multiclass but average='binary'. Please choose another average setting, one of [None, 'micro', 'macro', 'weighted']."
                    ]
                }
            ],
            "metadata": {}
        },
        {
            "cell_type": "code",
            "execution_count": 33,
            "source": [
                "precision_score(y_test, y_pred, average='macro')"
            ],
            "outputs": [
                {
                    "output_type": "execute_result",
                    "data": {
                        "text/plain": [
                            "0.9766352308968693"
                        ]
                    },
                    "metadata": {},
                    "execution_count": 33
                }
            ],
            "metadata": {}
        },
        {
            "cell_type": "code",
            "execution_count": 34,
            "source": [
                "precision_score(y_test, y_pred, average='micro')"
            ],
            "outputs": [
                {
                    "output_type": "execute_result",
                    "data": {
                        "text/plain": [
                            "0.9763"
                        ]
                    },
                    "metadata": {},
                    "execution_count": 34
                }
            ],
            "metadata": {}
        },
        {
            "cell_type": "code",
            "execution_count": 48,
            "source": [
                "from sklearn.metrics import confusion_matrix\n",
                "\n",
                "confusion_matrix(y_test, y_pred)"
            ],
            "outputs": [
                {
                    "output_type": "execute_result",
                    "data": {
                        "text/plain": [
                            "array([[ 974,    1,    1,    0,    0,    1,    2,    1,    0,    0],\n",
                            "       [   0, 1132,    2,    0,    0,    0,    0,    0,    0,    1],\n",
                            "       [   6,    2, 1004,    2,    2,    0,    2,   13,    1,    0],\n",
                            "       [   0,    2,    2,  988,    1,    7,    0,    5,    3,    2],\n",
                            "       [   0,    5,    0,    0,  952,    0,    4,    2,    0,   19],\n",
                            "       [   2,    2,    0,    7,    0,  869,    5,    1,    3,    3],\n",
                            "       [   5,    4,    0,    0,    2,    2,  945,    0,    0,    0],\n",
                            "       [   0,   19,    5,    0,    2,    0,    0,  993,    0,    9],\n",
                            "       [   4,    1,    3,   10,    5,   10,    2,    3,  930,    6],\n",
                            "       [   2,    5,    1,    5,    6,    5,    0,    9,    0,  976]])"
                        ]
                    },
                    "metadata": {},
                    "execution_count": 48
                }
            ],
            "metadata": {}
        }
    ],
    "metadata": {
        "orig_nbformat": 4,
        "language_info": {
            "name": "python",
            "version": "3.9.5",
            "mimetype": "text/x-python",
            "codemirror_mode": {
                "name": "ipython",
                "version": 3
            },
            "pygments_lexer": "ipython3",
            "nbconvert_exporter": "python",
            "file_extension": ".py"
        },
        "kernelspec": {
            "name": "python3",
            "display_name": "Python 3.9.5 64-bit"
        },
        "interpreter": {
            "hash": "aee8b7b246df8f9039afb4144a1f6fd8d2ca17a180786b69acc140d282b71a49"
        }
    },
    "nbformat": 4,
    "nbformat_minor": 2
}