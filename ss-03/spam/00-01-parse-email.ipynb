{
 "cells": [
  {
   "cell_type": "markdown",
   "source": [
    "個々のメールを特徴量ベクトルに変換するデータ準備パイプラインを書く。準備パイプラインは、メールで使われ得る個々の単語の有無を示す（疎）ベクトルを作る。たとえば、すべてのメールに含まれている単語が\"Hello\"、\"how\"、\"are\"、\"you\"の4語だけだとすると、\"Hello you Hello Hello you\"というメールは、[1, 0, 0, 1]というベクトルに変換される（Helloはある、howはない、areはない、youはあるという意味）。[3, 0, 0, 2] を生成して、個々の単語の出現数を数えてもよい。\n",
    "\n",
    "準備パイプラインには、メールヘッダを取り除くかどうか、個々のメールを小文字に変換するかどうか、記号を取り除くかどうか、すべてのURLを\"URL\"に変換するかどうか、すべての数値を\"NUMBER\"に変換するかどうか、ステミング（stemming：つまり、単語の変化を取り除くこと。そのためのPythonライブラリが作られている）をするかどうかを指定するハイパーパラメータを追加する。\n",
    "\n",
    "最後に複数の分類器を試し、再現率と適合率の両方が高い優れたスパム分類器を構築できるかどうかを考える。"
   ],
   "metadata": {}
  },
  {
   "cell_type": "code",
   "execution_count": 7,
   "source": [
    "def detect_mime_type(file):\n",
    "  mime_type = 'text'\n",
    "\n",
    "  while True:\n",
    "    line = file.readline()\n",
    "    # print(line)\n",
    "\n",
    "    is_content_type = line.startswith(\"Content-Type:\")\n",
    "    if not is_content_type:\n",
    "      continue\n",
    "\n",
    "    is_html = \"text/html\" in line\n",
    "    if is_html:\n",
    "      mime_type = 'html'\n",
    "    break\n",
    "    \n",
    "  return mime_type"
   ],
   "outputs": [],
   "metadata": {}
  },
  {
   "cell_type": "code",
   "execution_count": 16,
   "source": [
    "def _read(path):\n",
    "  with open(path, mode=\"r\") as f:\n",
    "    mime_type = detect_mime_type(f)\n",
    "    print(mime_type)\n"
   ],
   "outputs": [],
   "metadata": {}
  },
  {
   "cell_type": "code",
   "execution_count": 3,
   "source": [
    "files = os.listdir(\"./samples/easy_ham\")\n",
    "files[:5]"
   ],
   "outputs": [
    {
     "output_type": "execute_result",
     "data": {
      "text/plain": [
       "['2170.78c282a5e417d6d231dc75aa8588ebb7',\n",
       " '0461.7609029b07acf65f40bd93882aa35887',\n",
       " '1077.5967a2892063a3470f32596403b095aa',\n",
       " '1000.348e8a82897b05d584de019f4dd5c7e2',\n",
       " '2125.ee1e93366c2199584cfbd4cbb353d918']"
      ]
     },
     "metadata": {},
     "execution_count": 3
    }
   ],
   "metadata": {}
  },
  {
   "cell_type": "code",
   "execution_count": 17,
   "source": [
    "_read(\"./samples/easy_ham/\" + files[0])"
   ],
   "outputs": [
    {
     "output_type": "stream",
     "name": "stdout",
     "text": [
      "text\n"
     ]
    }
   ],
   "metadata": {}
  },
  {
   "cell_type": "code",
   "execution_count": 18,
   "source": [
    "_read(\"./samples/spam/0001.bfc8d64d12b325ff385cca8d07b84288\")"
   ],
   "outputs": [
    {
     "output_type": "stream",
     "name": "stdout",
     "text": [
      "html\n"
     ]
    }
   ],
   "metadata": {}
  },
  {
   "cell_type": "code",
   "execution_count": 19,
   "source": [
    "import re\n",
    "\n",
    "def _read(path):\n",
    "  with open(path, mode=\"r\") as file:\n",
    "    mime_type = detect_mime_type(file)\n",
    "    print(mime_type)\n",
    "\n",
    "    # skip row for `from` and headers\n",
    "    file.readline()\n",
    "    while True:\n",
    "      line = file.readline()\n",
    "      if re.search(\"\\A.*:\\z\", line):\n",
    "        # when \n",
    "        continue \n",
    "      elif line == \"\":\n",
    "        break\n",
    "\n",
    "    if mime_type == \"text\":\n",
    "      return file.readline()\n"
   ],
   "outputs": [],
   "metadata": {}
  },
  {
   "cell_type": "code",
   "execution_count": 20,
   "source": [
    "_read(\"./samples/easy_ham/2170.78c282a5e417d6d231dc75aa8588ebb7\")"
   ],
   "outputs": [
    {
     "output_type": "stream",
     "name": "stdout",
     "text": [
      "text\n"
     ]
    },
    {
     "output_type": "execute_result",
     "data": {
      "text/plain": [
       "''"
      ]
     },
     "metadata": {},
     "execution_count": 20
    }
   ],
   "metadata": {}
  },
  {
   "cell_type": "markdown",
   "source": [
    "\"X-Spam-Level:\" の内容を削除したのか、空の行が入っている。他のパターンがないか確認"
   ],
   "metadata": {}
  },
  {
   "cell_type": "code",
   "execution_count": 4,
   "source": [
    "!cd \"./samples\"\n",
    "!rg --multiline  \"^[^\\s]*:[\\s]*?\\n\\n\" | rg --invert-match \"(X-Spam-Level:)\" | rg --invert-match \".+/[\\d]+\\..+:$\""
   ],
   "outputs": [
    {
     "output_type": "stream",
     "name": "stdout",
     "text": [
      "samples/easy_ham/1399.5ee3b9902af076cc63e0c4e612f99ba0:BlogStart: \n",
      "samples/easy_ham/2457.5fba5a23aa428e3201526f7c978c88c6:medium: \n",
      "samples/easy_ham/2326.73396f0421612c54d1c9727ed953582e:Potty.: \n",
      "samples/easy_ham/2198.161bc9ce9471f604149d2468b2bc198d:M3: \n",
      "samples/spam/0062.41f708df91642411f0fd8f91e28d3521: \n",
      "samples/hard_ham/0155.4b7d1d147b6a15245d7ce572ef804b74:BlogStart: \n",
      "samples/hard_ham/0138.6f5a6164234f79dfaaa530134395bef1:Software: \n",
      "samples/hard_ham/0154.b7e55edcd1795f418e9949a9092b8018:Links: \n",
      "samples/hard_ham/0154.b7e55edcd1795f418e9949a9092b8018:Links: \n",
      "samples/hard_ham/0154.b7e55edcd1795f418e9949a9092b8018:Links: \n",
      "samples/hard_ham/0154.b7e55edcd1795f418e9949a9092b8018:Links: \n",
      "samples/hard_ham/0154.b7e55edcd1795f418e9949a9092b8018:Links: \n",
      "samples/hard_ham/0182.b7ddf319da0b2846f1f78a20e7a6fc9c:::::::::::::::::::::::::::::::\t\n",
      "samples/hard_ham/0182.b7ddf319da0b2846f1f78a20e7a6fc9c: \n",
      "samples/spam/0326.80f15e07265a22b78068bab5b56b01c7:Country:\t\t\t\t\t\t\t\t\t\t\t\n"
     ]
    }
   ],
   "metadata": {}
  }
 ],
 "metadata": {
  "orig_nbformat": 4,
  "language_info": {
   "name": "python",
   "version": "3.9.5",
   "mimetype": "text/x-python",
   "codemirror_mode": {
    "name": "ipython",
    "version": 3
   },
   "pygments_lexer": "ipython3",
   "nbconvert_exporter": "python",
   "file_extension": ".py"
  },
  "kernelspec": {
   "name": "python3",
   "display_name": "Python 3.9.5 64-bit"
  },
  "interpreter": {
   "hash": "aee8b7b246df8f9039afb4144a1f6fd8d2ca17a180786b69acc140d282b71a49"
  }
 },
 "nbformat": 4,
 "nbformat_minor": 2
}