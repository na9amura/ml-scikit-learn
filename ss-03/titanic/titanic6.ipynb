{
 "cells": [
  {
   "cell_type": "code",
   "execution_count": 1,
   "source": [
    "import numpy as np\n",
    "import pandas as pd"
   ],
   "outputs": [],
   "metadata": {}
  },
  {
   "cell_type": "code",
   "execution_count": 2,
   "source": [
    "from sklearn.model_selection import train_test_split\n",
    "\n",
    "titanic = pd.read_csv('./titanic/train.csv')\n",
    "train, test = train_test_split(titanic, test_size=0.2, random_state=39)"
   ],
   "outputs": [],
   "metadata": {}
  },
  {
   "cell_type": "code",
   "execution_count": 3,
   "source": [
    "titanic[\"Survived\"].mean()"
   ],
   "outputs": [
    {
     "output_type": "execute_result",
     "data": {
      "text/plain": [
       "0.3838383838383838"
      ]
     },
     "metadata": {},
     "execution_count": 3
    }
   ],
   "metadata": {}
  },
  {
   "cell_type": "markdown",
   "source": [
    "[タイタニック号の乗客の生存予測〜80%以上の予測精度を超える方法（探索的データ解析編） │ キヨシの命題](https://yolo-kiyoshi.com/2018/12/16/post-951/)\n",
    "\n",
    "ここを参考にデータの傾向を見てみる"
   ],
   "metadata": {}
  },
  {
   "cell_type": "markdown",
   "source": [
    "# Analyze Pclass"
   ],
   "metadata": {}
  },
  {
   "cell_type": "code",
   "execution_count": 5,
   "source": [
    "titanic[\"Survived\"].groupby(titanic[\"Pclass\"]).mean()"
   ],
   "outputs": [
    {
     "output_type": "execute_result",
     "data": {
      "text/plain": [
       "Pclass\n",
       "1    0.629630\n",
       "2    0.472826\n",
       "3    0.242363\n",
       "Name: Survived, dtype: float64"
      ]
     },
     "metadata": {},
     "execution_count": 5
    }
   ],
   "metadata": {}
  },
  {
   "cell_type": "code",
   "execution_count": 42,
   "source": [
    "_titanic = titanic[[\"Survived\", \"Pclass\"]]\n",
    "\n",
    "survived_pclass_count = _titanic.query(\"Survived == 1\")[\"Pclass\"].value_counts().sort_index(0).rename(\"Survived\")\n",
    "# survived_pclass_count.plot(kind=\"bar\")\n",
    "\n",
    "dead_pclass_count = _titanic.query(\"Survived == 0\")[\"Pclass\"].value_counts().sort_index(0).rename(\"Dead\")\n",
    "# dead_pclass_count.plot(kind=\"bar\")"
   ],
   "outputs": [],
   "metadata": {}
  },
  {
   "cell_type": "code",
   "execution_count": 43,
   "source": [
    "pclass_count = pd.DataFrame([survived_pclass_count, dead_pclass_count]).transpose()\n",
    "pclass_count"
   ],
   "outputs": [
    {
     "output_type": "execute_result",
     "data": {
      "text/plain": [
       "   Survived  Dead\n",
       "1       136    80\n",
       "2        87    97\n",
       "3       119   372"
      ],
      "text/html": [
       "<div>\n",
       "<style scoped>\n",
       "    .dataframe tbody tr th:only-of-type {\n",
       "        vertical-align: middle;\n",
       "    }\n",
       "\n",
       "    .dataframe tbody tr th {\n",
       "        vertical-align: top;\n",
       "    }\n",
       "\n",
       "    .dataframe thead th {\n",
       "        text-align: right;\n",
       "    }\n",
       "</style>\n",
       "<table border=\"1\" class=\"dataframe\">\n",
       "  <thead>\n",
       "    <tr style=\"text-align: right;\">\n",
       "      <th></th>\n",
       "      <th>Survived</th>\n",
       "      <th>Dead</th>\n",
       "    </tr>\n",
       "  </thead>\n",
       "  <tbody>\n",
       "    <tr>\n",
       "      <th>1</th>\n",
       "      <td>136</td>\n",
       "      <td>80</td>\n",
       "    </tr>\n",
       "    <tr>\n",
       "      <th>2</th>\n",
       "      <td>87</td>\n",
       "      <td>97</td>\n",
       "    </tr>\n",
       "    <tr>\n",
       "      <th>3</th>\n",
       "      <td>119</td>\n",
       "      <td>372</td>\n",
       "    </tr>\n",
       "  </tbody>\n",
       "</table>\n",
       "</div>"
      ]
     },
     "metadata": {},
     "execution_count": 43
    }
   ],
   "metadata": {}
  },
  {
   "cell_type": "code",
   "execution_count": 44,
   "source": [
    "pclass_count.plot(kind=\"bar\")"
   ],
   "outputs": [
    {
     "output_type": "execute_result",
     "data": {
      "text/plain": [
       "<AxesSubplot:>"
      ]
     },
     "metadata": {},
     "execution_count": 44
    },
    {
     "output_type": "display_data",
     "data": {
      "text/plain": [
       "<Figure size 432x288 with 1 Axes>"
      ],
      "image/svg+xml": "<?xml version=\"1.0\" encoding=\"utf-8\" standalone=\"no\"?>\n<!DOCTYPE svg PUBLIC \"-//W3C//DTD SVG 1.1//EN\"\n  \"http://www.w3.org/Graphics/SVG/1.1/DTD/svg11.dtd\">\n<svg height=\"245.2025pt\" version=\"1.1\" viewBox=\"0 0 375.2875 245.2025\" width=\"375.2875pt\" xmlns=\"http://www.w3.org/2000/svg\" xmlns:xlink=\"http://www.w3.org/1999/xlink\">\n <metadata>\n  <rdf:RDF xmlns:cc=\"http://creativecommons.org/ns#\" xmlns:dc=\"http://purl.org/dc/elements/1.1/\" xmlns:rdf=\"http://www.w3.org/1999/02/22-rdf-syntax-ns#\">\n   <cc:Work>\n    <dc:type rdf:resource=\"http://purl.org/dc/dcmitype/StillImage\"/>\n    <dc:date>2021-07-26T15:25:31.802664</dc:date>\n    <dc:format>image/svg+xml</dc:format>\n    <dc:creator>\n     <cc:Agent>\n      <dc:title>Matplotlib v3.4.2, https://matplotlib.org/</dc:title>\n     </cc:Agent>\n    </dc:creator>\n   </cc:Work>\n  </rdf:RDF>\n </metadata>\n <defs>\n  <style type=\"text/css\">*{stroke-linecap:butt;stroke-linejoin:round;}</style>\n </defs>\n <g id=\"figure_1\">\n  <g id=\"patch_1\">\n   <path d=\"M 0 245.2025 \nL 375.2875 245.2025 \nL 375.2875 0 \nL 0 0 \nz\n\" style=\"fill:none;\"/>\n  </g>\n  <g id=\"axes_1\">\n   <g id=\"patch_2\">\n    <path d=\"M 33.2875 224.64 \nL 368.0875 224.64 \nL 368.0875 7.2 \nL 33.2875 7.2 \nz\n\" style=\"fill:#ffffff;\"/>\n   </g>\n   <g id=\"patch_3\">\n    <path clip-path=\"url(#p933fb8c13a)\" d=\"M 61.1875 224.64 \nL 89.0875 224.64 \nL 89.0875 148.931244 \nL 61.1875 148.931244 \nz\n\" style=\"fill:#1f77b4;\"/>\n   </g>\n   <g id=\"patch_4\">\n    <path clip-path=\"url(#p933fb8c13a)\" d=\"M 172.7875 224.64 \nL 200.6875 224.64 \nL 200.6875 176.208664 \nL 172.7875 176.208664 \nz\n\" style=\"fill:#1f77b4;\"/>\n   </g>\n   <g id=\"patch_5\">\n    <path clip-path=\"url(#p933fb8c13a)\" d=\"M 284.3875 224.64 \nL 312.2875 224.64 \nL 312.2875 158.394839 \nL 284.3875 158.394839 \nz\n\" style=\"fill:#1f77b4;\"/>\n   </g>\n   <g id=\"patch_6\">\n    <path clip-path=\"url(#p933fb8c13a)\" d=\"M 89.0875 224.64 \nL 116.9875 224.64 \nL 116.9875 180.105438 \nL 89.0875 180.105438 \nz\n\" style=\"fill:#ff7f0e;\"/>\n   </g>\n   <g id=\"patch_7\">\n    <path clip-path=\"url(#p933fb8c13a)\" d=\"M 200.6875 224.64 \nL 228.5875 224.64 \nL 228.5875 170.641843 \nL 200.6875 170.641843 \nz\n\" style=\"fill:#ff7f0e;\"/>\n   </g>\n   <g id=\"patch_8\">\n    <path clip-path=\"url(#p933fb8c13a)\" d=\"M 312.2875 224.64 \nL 340.1875 224.64 \nL 340.1875 17.554286 \nL 312.2875 17.554286 \nz\n\" style=\"fill:#ff7f0e;\"/>\n   </g>\n   <g id=\"matplotlib.axis_1\">\n    <g id=\"xtick_1\">\n     <g id=\"line2d_1\">\n      <defs>\n       <path d=\"M 0 0 \nL 0 3.5 \n\" id=\"m57d2e7f6d3\" style=\"stroke:#000000;stroke-width:0.8;\"/>\n      </defs>\n      <g>\n       <use style=\"stroke:#000000;stroke-width:0.8;\" x=\"89.0875\" xlink:href=\"#m57d2e7f6d3\" y=\"224.64\"/>\n      </g>\n     </g>\n     <g id=\"text_1\">\n      <!-- 1 -->\n      <g transform=\"translate(91.846875 238.0025)rotate(-90)scale(0.1 -0.1)\">\n       <defs>\n        <path d=\"M 794 531 \nL 1825 531 \nL 1825 4091 \nL 703 3866 \nL 703 4441 \nL 1819 4666 \nL 2450 4666 \nL 2450 531 \nL 3481 531 \nL 3481 0 \nL 794 0 \nL 794 531 \nz\n\" id=\"DejaVuSans-31\" transform=\"scale(0.015625)\"/>\n       </defs>\n       <use xlink:href=\"#DejaVuSans-31\"/>\n      </g>\n     </g>\n    </g>\n    <g id=\"xtick_2\">\n     <g id=\"line2d_2\">\n      <g>\n       <use style=\"stroke:#000000;stroke-width:0.8;\" x=\"200.6875\" xlink:href=\"#m57d2e7f6d3\" y=\"224.64\"/>\n      </g>\n     </g>\n     <g id=\"text_2\">\n      <!-- 2 -->\n      <g transform=\"translate(203.446875 238.0025)rotate(-90)scale(0.1 -0.1)\">\n       <defs>\n        <path d=\"M 1228 531 \nL 3431 531 \nL 3431 0 \nL 469 0 \nL 469 531 \nQ 828 903 1448 1529 \nQ 2069 2156 2228 2338 \nQ 2531 2678 2651 2914 \nQ 2772 3150 2772 3378 \nQ 2772 3750 2511 3984 \nQ 2250 4219 1831 4219 \nQ 1534 4219 1204 4116 \nQ 875 4013 500 3803 \nL 500 4441 \nQ 881 4594 1212 4672 \nQ 1544 4750 1819 4750 \nQ 2544 4750 2975 4387 \nQ 3406 4025 3406 3419 \nQ 3406 3131 3298 2873 \nQ 3191 2616 2906 2266 \nQ 2828 2175 2409 1742 \nQ 1991 1309 1228 531 \nz\n\" id=\"DejaVuSans-32\" transform=\"scale(0.015625)\"/>\n       </defs>\n       <use xlink:href=\"#DejaVuSans-32\"/>\n      </g>\n     </g>\n    </g>\n    <g id=\"xtick_3\">\n     <g id=\"line2d_3\">\n      <g>\n       <use style=\"stroke:#000000;stroke-width:0.8;\" x=\"312.2875\" xlink:href=\"#m57d2e7f6d3\" y=\"224.64\"/>\n      </g>\n     </g>\n     <g id=\"text_3\">\n      <!-- 3 -->\n      <g transform=\"translate(315.046875 238.0025)rotate(-90)scale(0.1 -0.1)\">\n       <defs>\n        <path d=\"M 2597 2516 \nQ 3050 2419 3304 2112 \nQ 3559 1806 3559 1356 \nQ 3559 666 3084 287 \nQ 2609 -91 1734 -91 \nQ 1441 -91 1130 -33 \nQ 819 25 488 141 \nL 488 750 \nQ 750 597 1062 519 \nQ 1375 441 1716 441 \nQ 2309 441 2620 675 \nQ 2931 909 2931 1356 \nQ 2931 1769 2642 2001 \nQ 2353 2234 1838 2234 \nL 1294 2234 \nL 1294 2753 \nL 1863 2753 \nQ 2328 2753 2575 2939 \nQ 2822 3125 2822 3475 \nQ 2822 3834 2567 4026 \nQ 2313 4219 1838 4219 \nQ 1578 4219 1281 4162 \nQ 984 4106 628 3988 \nL 628 4550 \nQ 988 4650 1302 4700 \nQ 1616 4750 1894 4750 \nQ 2613 4750 3031 4423 \nQ 3450 4097 3450 3541 \nQ 3450 3153 3228 2886 \nQ 3006 2619 2597 2516 \nz\n\" id=\"DejaVuSans-33\" transform=\"scale(0.015625)\"/>\n       </defs>\n       <use xlink:href=\"#DejaVuSans-33\"/>\n      </g>\n     </g>\n    </g>\n   </g>\n   <g id=\"matplotlib.axis_2\">\n    <g id=\"ytick_1\">\n     <g id=\"line2d_4\">\n      <defs>\n       <path d=\"M 0 0 \nL -3.5 0 \n\" id=\"m51b3db2eb9\" style=\"stroke:#000000;stroke-width:0.8;\"/>\n      </defs>\n      <g>\n       <use style=\"stroke:#000000;stroke-width:0.8;\" x=\"33.2875\" xlink:href=\"#m51b3db2eb9\" y=\"224.64\"/>\n      </g>\n     </g>\n     <g id=\"text_4\">\n      <!-- 0 -->\n      <g transform=\"translate(19.925 228.439219)scale(0.1 -0.1)\">\n       <defs>\n        <path d=\"M 2034 4250 \nQ 1547 4250 1301 3770 \nQ 1056 3291 1056 2328 \nQ 1056 1369 1301 889 \nQ 1547 409 2034 409 \nQ 2525 409 2770 889 \nQ 3016 1369 3016 2328 \nQ 3016 3291 2770 3770 \nQ 2525 4250 2034 4250 \nz\nM 2034 4750 \nQ 2819 4750 3233 4129 \nQ 3647 3509 3647 2328 \nQ 3647 1150 3233 529 \nQ 2819 -91 2034 -91 \nQ 1250 -91 836 529 \nQ 422 1150 422 2328 \nQ 422 3509 836 4129 \nQ 1250 4750 2034 4750 \nz\n\" id=\"DejaVuSans-30\" transform=\"scale(0.015625)\"/>\n       </defs>\n       <use xlink:href=\"#DejaVuSans-30\"/>\n      </g>\n     </g>\n    </g>\n    <g id=\"ytick_2\">\n     <g id=\"line2d_5\">\n      <g>\n       <use style=\"stroke:#000000;stroke-width:0.8;\" x=\"33.2875\" xlink:href=\"#m51b3db2eb9\" y=\"196.805899\"/>\n      </g>\n     </g>\n     <g id=\"text_5\">\n      <!-- 50 -->\n      <g transform=\"translate(13.5625 200.605117)scale(0.1 -0.1)\">\n       <defs>\n        <path d=\"M 691 4666 \nL 3169 4666 \nL 3169 4134 \nL 1269 4134 \nL 1269 2991 \nQ 1406 3038 1543 3061 \nQ 1681 3084 1819 3084 \nQ 2600 3084 3056 2656 \nQ 3513 2228 3513 1497 \nQ 3513 744 3044 326 \nQ 2575 -91 1722 -91 \nQ 1428 -91 1123 -41 \nQ 819 9 494 109 \nL 494 744 \nQ 775 591 1075 516 \nQ 1375 441 1709 441 \nQ 2250 441 2565 725 \nQ 2881 1009 2881 1497 \nQ 2881 1984 2565 2268 \nQ 2250 2553 1709 2553 \nQ 1456 2553 1204 2497 \nQ 953 2441 691 2322 \nL 691 4666 \nz\n\" id=\"DejaVuSans-35\" transform=\"scale(0.015625)\"/>\n       </defs>\n       <use xlink:href=\"#DejaVuSans-35\"/>\n       <use x=\"63.623047\" xlink:href=\"#DejaVuSans-30\"/>\n      </g>\n     </g>\n    </g>\n    <g id=\"ytick_3\">\n     <g id=\"line2d_6\">\n      <g>\n       <use style=\"stroke:#000000;stroke-width:0.8;\" x=\"33.2875\" xlink:href=\"#m51b3db2eb9\" y=\"168.971797\"/>\n      </g>\n     </g>\n     <g id=\"text_6\">\n      <!-- 100 -->\n      <g transform=\"translate(7.2 172.771016)scale(0.1 -0.1)\">\n       <use xlink:href=\"#DejaVuSans-31\"/>\n       <use x=\"63.623047\" xlink:href=\"#DejaVuSans-30\"/>\n       <use x=\"127.246094\" xlink:href=\"#DejaVuSans-30\"/>\n      </g>\n     </g>\n    </g>\n    <g id=\"ytick_4\">\n     <g id=\"line2d_7\">\n      <g>\n       <use style=\"stroke:#000000;stroke-width:0.8;\" x=\"33.2875\" xlink:href=\"#m51b3db2eb9\" y=\"141.137696\"/>\n      </g>\n     </g>\n     <g id=\"text_7\">\n      <!-- 150 -->\n      <g transform=\"translate(7.2 144.936915)scale(0.1 -0.1)\">\n       <use xlink:href=\"#DejaVuSans-31\"/>\n       <use x=\"63.623047\" xlink:href=\"#DejaVuSans-35\"/>\n       <use x=\"127.246094\" xlink:href=\"#DejaVuSans-30\"/>\n      </g>\n     </g>\n    </g>\n    <g id=\"ytick_5\">\n     <g id=\"line2d_8\">\n      <g>\n       <use style=\"stroke:#000000;stroke-width:0.8;\" x=\"33.2875\" xlink:href=\"#m51b3db2eb9\" y=\"113.303594\"/>\n      </g>\n     </g>\n     <g id=\"text_8\">\n      <!-- 200 -->\n      <g transform=\"translate(7.2 117.102813)scale(0.1 -0.1)\">\n       <use xlink:href=\"#DejaVuSans-32\"/>\n       <use x=\"63.623047\" xlink:href=\"#DejaVuSans-30\"/>\n       <use x=\"127.246094\" xlink:href=\"#DejaVuSans-30\"/>\n      </g>\n     </g>\n    </g>\n    <g id=\"ytick_6\">\n     <g id=\"line2d_9\">\n      <g>\n       <use style=\"stroke:#000000;stroke-width:0.8;\" x=\"33.2875\" xlink:href=\"#m51b3db2eb9\" y=\"85.469493\"/>\n      </g>\n     </g>\n     <g id=\"text_9\">\n      <!-- 250 -->\n      <g transform=\"translate(7.2 89.268712)scale(0.1 -0.1)\">\n       <use xlink:href=\"#DejaVuSans-32\"/>\n       <use x=\"63.623047\" xlink:href=\"#DejaVuSans-35\"/>\n       <use x=\"127.246094\" xlink:href=\"#DejaVuSans-30\"/>\n      </g>\n     </g>\n    </g>\n    <g id=\"ytick_7\">\n     <g id=\"line2d_10\">\n      <g>\n       <use style=\"stroke:#000000;stroke-width:0.8;\" x=\"33.2875\" xlink:href=\"#m51b3db2eb9\" y=\"57.635392\"/>\n      </g>\n     </g>\n     <g id=\"text_10\">\n      <!-- 300 -->\n      <g transform=\"translate(7.2 61.43461)scale(0.1 -0.1)\">\n       <use xlink:href=\"#DejaVuSans-33\"/>\n       <use x=\"63.623047\" xlink:href=\"#DejaVuSans-30\"/>\n       <use x=\"127.246094\" xlink:href=\"#DejaVuSans-30\"/>\n      </g>\n     </g>\n    </g>\n    <g id=\"ytick_8\">\n     <g id=\"line2d_11\">\n      <g>\n       <use style=\"stroke:#000000;stroke-width:0.8;\" x=\"33.2875\" xlink:href=\"#m51b3db2eb9\" y=\"29.80129\"/>\n      </g>\n     </g>\n     <g id=\"text_11\">\n      <!-- 350 -->\n      <g transform=\"translate(7.2 33.600509)scale(0.1 -0.1)\">\n       <use xlink:href=\"#DejaVuSans-33\"/>\n       <use x=\"63.623047\" xlink:href=\"#DejaVuSans-35\"/>\n       <use x=\"127.246094\" xlink:href=\"#DejaVuSans-30\"/>\n      </g>\n     </g>\n    </g>\n   </g>\n   <g id=\"patch_9\">\n    <path d=\"M 33.2875 224.64 \nL 33.2875 7.2 \n\" style=\"fill:none;stroke:#000000;stroke-linecap:square;stroke-linejoin:miter;stroke-width:0.8;\"/>\n   </g>\n   <g id=\"patch_10\">\n    <path d=\"M 368.0875 224.64 \nL 368.0875 7.2 \n\" style=\"fill:none;stroke:#000000;stroke-linecap:square;stroke-linejoin:miter;stroke-width:0.8;\"/>\n   </g>\n   <g id=\"patch_11\">\n    <path d=\"M 33.2875 224.64 \nL 368.0875 224.64 \n\" style=\"fill:none;stroke:#000000;stroke-linecap:square;stroke-linejoin:miter;stroke-width:0.8;\"/>\n   </g>\n   <g id=\"patch_12\">\n    <path d=\"M 33.2875 7.2 \nL 368.0875 7.2 \n\" style=\"fill:none;stroke:#000000;stroke-linecap:square;stroke-linejoin:miter;stroke-width:0.8;\"/>\n   </g>\n   <g id=\"legend_1\">\n    <g id=\"patch_13\">\n     <path d=\"M 40.2875 44.55625 \nL 116.201563 44.55625 \nQ 118.201563 44.55625 118.201563 42.55625 \nL 118.201563 14.2 \nQ 118.201563 12.2 116.201563 12.2 \nL 40.2875 12.2 \nQ 38.2875 12.2 38.2875 14.2 \nL 38.2875 42.55625 \nQ 38.2875 44.55625 40.2875 44.55625 \nz\n\" style=\"fill:#ffffff;opacity:0.8;stroke:#cccccc;stroke-linejoin:miter;\"/>\n    </g>\n    <g id=\"patch_14\">\n     <path d=\"M 42.2875 23.798437 \nL 62.2875 23.798437 \nL 62.2875 16.798437 \nL 42.2875 16.798437 \nz\n\" style=\"fill:#1f77b4;\"/>\n    </g>\n    <g id=\"text_12\">\n     <!-- Survived -->\n     <g transform=\"translate(70.2875 23.798437)scale(0.1 -0.1)\">\n      <defs>\n       <path d=\"M 3425 4513 \nL 3425 3897 \nQ 3066 4069 2747 4153 \nQ 2428 4238 2131 4238 \nQ 1616 4238 1336 4038 \nQ 1056 3838 1056 3469 \nQ 1056 3159 1242 3001 \nQ 1428 2844 1947 2747 \nL 2328 2669 \nQ 3034 2534 3370 2195 \nQ 3706 1856 3706 1288 \nQ 3706 609 3251 259 \nQ 2797 -91 1919 -91 \nQ 1588 -91 1214 -16 \nQ 841 59 441 206 \nL 441 856 \nQ 825 641 1194 531 \nQ 1563 422 1919 422 \nQ 2459 422 2753 634 \nQ 3047 847 3047 1241 \nQ 3047 1584 2836 1778 \nQ 2625 1972 2144 2069 \nL 1759 2144 \nQ 1053 2284 737 2584 \nQ 422 2884 422 3419 \nQ 422 4038 858 4394 \nQ 1294 4750 2059 4750 \nQ 2388 4750 2728 4690 \nQ 3069 4631 3425 4513 \nz\n\" id=\"DejaVuSans-53\" transform=\"scale(0.015625)\"/>\n       <path d=\"M 544 1381 \nL 544 3500 \nL 1119 3500 \nL 1119 1403 \nQ 1119 906 1312 657 \nQ 1506 409 1894 409 \nQ 2359 409 2629 706 \nQ 2900 1003 2900 1516 \nL 2900 3500 \nL 3475 3500 \nL 3475 0 \nL 2900 0 \nL 2900 538 \nQ 2691 219 2414 64 \nQ 2138 -91 1772 -91 \nQ 1169 -91 856 284 \nQ 544 659 544 1381 \nz\nM 1991 3584 \nL 1991 3584 \nz\n\" id=\"DejaVuSans-75\" transform=\"scale(0.015625)\"/>\n       <path d=\"M 2631 2963 \nQ 2534 3019 2420 3045 \nQ 2306 3072 2169 3072 \nQ 1681 3072 1420 2755 \nQ 1159 2438 1159 1844 \nL 1159 0 \nL 581 0 \nL 581 3500 \nL 1159 3500 \nL 1159 2956 \nQ 1341 3275 1631 3429 \nQ 1922 3584 2338 3584 \nQ 2397 3584 2469 3576 \nQ 2541 3569 2628 3553 \nL 2631 2963 \nz\n\" id=\"DejaVuSans-72\" transform=\"scale(0.015625)\"/>\n       <path d=\"M 191 3500 \nL 800 3500 \nL 1894 563 \nL 2988 3500 \nL 3597 3500 \nL 2284 0 \nL 1503 0 \nL 191 3500 \nz\n\" id=\"DejaVuSans-76\" transform=\"scale(0.015625)\"/>\n       <path d=\"M 603 3500 \nL 1178 3500 \nL 1178 0 \nL 603 0 \nL 603 3500 \nz\nM 603 4863 \nL 1178 4863 \nL 1178 4134 \nL 603 4134 \nL 603 4863 \nz\n\" id=\"DejaVuSans-69\" transform=\"scale(0.015625)\"/>\n       <path d=\"M 3597 1894 \nL 3597 1613 \nL 953 1613 \nQ 991 1019 1311 708 \nQ 1631 397 2203 397 \nQ 2534 397 2845 478 \nQ 3156 559 3463 722 \nL 3463 178 \nQ 3153 47 2828 -22 \nQ 2503 -91 2169 -91 \nQ 1331 -91 842 396 \nQ 353 884 353 1716 \nQ 353 2575 817 3079 \nQ 1281 3584 2069 3584 \nQ 2775 3584 3186 3129 \nQ 3597 2675 3597 1894 \nz\nM 3022 2063 \nQ 3016 2534 2758 2815 \nQ 2500 3097 2075 3097 \nQ 1594 3097 1305 2825 \nQ 1016 2553 972 2059 \nL 3022 2063 \nz\n\" id=\"DejaVuSans-65\" transform=\"scale(0.015625)\"/>\n       <path d=\"M 2906 2969 \nL 2906 4863 \nL 3481 4863 \nL 3481 0 \nL 2906 0 \nL 2906 525 \nQ 2725 213 2448 61 \nQ 2172 -91 1784 -91 \nQ 1150 -91 751 415 \nQ 353 922 353 1747 \nQ 353 2572 751 3078 \nQ 1150 3584 1784 3584 \nQ 2172 3584 2448 3432 \nQ 2725 3281 2906 2969 \nz\nM 947 1747 \nQ 947 1113 1208 752 \nQ 1469 391 1925 391 \nQ 2381 391 2643 752 \nQ 2906 1113 2906 1747 \nQ 2906 2381 2643 2742 \nQ 2381 3103 1925 3103 \nQ 1469 3103 1208 2742 \nQ 947 2381 947 1747 \nz\n\" id=\"DejaVuSans-64\" transform=\"scale(0.015625)\"/>\n      </defs>\n      <use xlink:href=\"#DejaVuSans-53\"/>\n      <use x=\"63.476562\" xlink:href=\"#DejaVuSans-75\"/>\n      <use x=\"126.855469\" xlink:href=\"#DejaVuSans-72\"/>\n      <use x=\"167.96875\" xlink:href=\"#DejaVuSans-76\"/>\n      <use x=\"227.148438\" xlink:href=\"#DejaVuSans-69\"/>\n      <use x=\"254.931641\" xlink:href=\"#DejaVuSans-76\"/>\n      <use x=\"314.111328\" xlink:href=\"#DejaVuSans-65\"/>\n      <use x=\"375.634766\" xlink:href=\"#DejaVuSans-64\"/>\n     </g>\n    </g>\n    <g id=\"patch_15\">\n     <path d=\"M 42.2875 38.476562 \nL 62.2875 38.476562 \nL 62.2875 31.476562 \nL 42.2875 31.476562 \nz\n\" style=\"fill:#ff7f0e;\"/>\n    </g>\n    <g id=\"text_13\">\n     <!-- Dead -->\n     <g transform=\"translate(70.2875 38.476562)scale(0.1 -0.1)\">\n      <defs>\n       <path d=\"M 1259 4147 \nL 1259 519 \nL 2022 519 \nQ 2988 519 3436 956 \nQ 3884 1394 3884 2338 \nQ 3884 3275 3436 3711 \nQ 2988 4147 2022 4147 \nL 1259 4147 \nz\nM 628 4666 \nL 1925 4666 \nQ 3281 4666 3915 4102 \nQ 4550 3538 4550 2338 \nQ 4550 1131 3912 565 \nQ 3275 0 1925 0 \nL 628 0 \nL 628 4666 \nz\n\" id=\"DejaVuSans-44\" transform=\"scale(0.015625)\"/>\n       <path d=\"M 2194 1759 \nQ 1497 1759 1228 1600 \nQ 959 1441 959 1056 \nQ 959 750 1161 570 \nQ 1363 391 1709 391 \nQ 2188 391 2477 730 \nQ 2766 1069 2766 1631 \nL 2766 1759 \nL 2194 1759 \nz\nM 3341 1997 \nL 3341 0 \nL 2766 0 \nL 2766 531 \nQ 2569 213 2275 61 \nQ 1981 -91 1556 -91 \nQ 1019 -91 701 211 \nQ 384 513 384 1019 \nQ 384 1609 779 1909 \nQ 1175 2209 1959 2209 \nL 2766 2209 \nL 2766 2266 \nQ 2766 2663 2505 2880 \nQ 2244 3097 1772 3097 \nQ 1472 3097 1187 3025 \nQ 903 2953 641 2809 \nL 641 3341 \nQ 956 3463 1253 3523 \nQ 1550 3584 1831 3584 \nQ 2591 3584 2966 3190 \nQ 3341 2797 3341 1997 \nz\n\" id=\"DejaVuSans-61\" transform=\"scale(0.015625)\"/>\n      </defs>\n      <use xlink:href=\"#DejaVuSans-44\"/>\n      <use x=\"77.001953\" xlink:href=\"#DejaVuSans-65\"/>\n      <use x=\"138.525391\" xlink:href=\"#DejaVuSans-61\"/>\n      <use x=\"199.804688\" xlink:href=\"#DejaVuSans-64\"/>\n     </g>\n    </g>\n   </g>\n  </g>\n </g>\n <defs>\n  <clipPath id=\"p933fb8c13a\">\n   <rect height=\"217.44\" width=\"334.8\" x=\"33.2875\" y=\"7.2\"/>\n  </clipPath>\n </defs>\n</svg>\n",
      "image/png": "[encoded data removed]"
     },
     "metadata": {
      "needs_background": "light"
     }
    }
   ],
   "metadata": {}
  },
  {
   "cell_type": "markdown",
   "source": [
    "# Analyze Fare"
   ],
   "metadata": {}
  },
  {
   "cell_type": "code",
   "execution_count": 49,
   "source": [
    "min = titanic[\"Fare\"].min()\n",
    "max = titanic[\"Fare\"].max() \n",
    "min, max"
   ],
   "outputs": [
    {
     "output_type": "execute_result",
     "data": {
      "text/plain": [
       "(0.0, 512.3292)"
      ]
     },
     "metadata": {},
     "execution_count": 49
    }
   ],
   "metadata": {}
  },
  {
   "cell_type": "code",
   "execution_count": 61,
   "source": [
    "# pd.cut(titanic[\"Fare\"], 10)\n",
    "pd.cut(titanic[\"Fare\"], np.arange(0, 550, 50))"
   ],
   "outputs": [
    {
     "output_type": "execute_result",
     "data": {
      "text/plain": [
       "0        (0, 50]\n",
       "1      (50, 100]\n",
       "2        (0, 50]\n",
       "3      (50, 100]\n",
       "4        (0, 50]\n",
       "         ...    \n",
       "886      (0, 50]\n",
       "887      (0, 50]\n",
       "888      (0, 50]\n",
       "889      (0, 50]\n",
       "890      (0, 50]\n",
       "Name: Fare, Length: 891, dtype: category\n",
       "Categories (10, interval[int64]): [(0, 50] < (50, 100] < (100, 150] < (150, 200] ... (300, 350] < (350, 400] < (400, 450] < (450, 500]]"
      ]
     },
     "metadata": {},
     "execution_count": 61
    }
   ],
   "metadata": {}
  },
  {
   "cell_type": "code",
   "execution_count": 72,
   "source": [
    "titanic.groupby(pd.cut(titanic[\"Fare\"], np.arange(0.0, 600.0, 50))).size()"
   ],
   "outputs": [
    {
     "output_type": "execute_result",
     "data": {
      "text/plain": [
       "Fare\n",
       "(0.0, 50.0]       716\n",
       "(50.0, 100.0]     107\n",
       "(100.0, 150.0]     24\n",
       "(150.0, 200.0]      9\n",
       "(200.0, 250.0]     11\n",
       "(250.0, 300.0]      6\n",
       "(300.0, 350.0]      0\n",
       "(350.0, 400.0]      0\n",
       "(400.0, 450.0]      0\n",
       "(450.0, 500.0]      0\n",
       "(500.0, 550.0]      3\n",
       "dtype: int64"
      ]
     },
     "metadata": {},
     "execution_count": 72
    }
   ],
   "metadata": {}
  },
  {
   "cell_type": "code",
   "execution_count": 73,
   "source": [
    "survived = _titanic.query(\"Survived == 1\")\n",
    "dead = _titanic.query(\"Survived == 0\")"
   ],
   "outputs": [],
   "metadata": {}
  },
  {
   "cell_type": "code",
   "execution_count": 74,
   "source": [
    "pd.cut(titanic[\"Fare\"], np.arange(0.0, 600.0, 50))"
   ],
   "outputs": [
    {
     "output_type": "execute_result",
     "data": {
      "text/plain": [
       "0        (0.0, 50.0]\n",
       "1      (50.0, 100.0]\n",
       "2        (0.0, 50.0]\n",
       "3      (50.0, 100.0]\n",
       "4        (0.0, 50.0]\n",
       "           ...      \n",
       "886      (0.0, 50.0]\n",
       "887      (0.0, 50.0]\n",
       "888      (0.0, 50.0]\n",
       "889      (0.0, 50.0]\n",
       "890      (0.0, 50.0]\n",
       "Name: Fare, Length: 891, dtype: category\n",
       "Categories (11, interval[float64]): [(0.0, 50.0] < (50.0, 100.0] < (100.0, 150.0] < (150.0, 200.0] ... (350.0, 400.0] < (400.0, 450.0] < (450.0, 500.0] < (500.0, 550.0]]"
      ]
     },
     "metadata": {},
     "execution_count": 74
    }
   ],
   "metadata": {}
  },
  {
   "cell_type": "code",
   "execution_count": 80,
   "source": [
    "with_fare_range = titanic.assign(FareRange=pd.cut(titanic[\"Fare\"], np.arange(0.0, 600.0, 50)))[[\"Survived\", \"FareRange\"]]\n",
    "with_fare_range"
   ],
   "outputs": [
    {
     "output_type": "execute_result",
     "data": {
      "text/plain": [
       "     Survived      FareRange\n",
       "0           0    (0.0, 50.0]\n",
       "1           1  (50.0, 100.0]\n",
       "2           1    (0.0, 50.0]\n",
       "3           1  (50.0, 100.0]\n",
       "4           0    (0.0, 50.0]\n",
       "..        ...            ...\n",
       "886         0    (0.0, 50.0]\n",
       "887         1    (0.0, 50.0]\n",
       "888         0    (0.0, 50.0]\n",
       "889         1    (0.0, 50.0]\n",
       "890         0    (0.0, 50.0]\n",
       "\n",
       "[891 rows x 2 columns]"
      ],
      "text/html": [
       "<div>\n",
       "<style scoped>\n",
       "    .dataframe tbody tr th:only-of-type {\n",
       "        vertical-align: middle;\n",
       "    }\n",
       "\n",
       "    .dataframe tbody tr th {\n",
       "        vertical-align: top;\n",
       "    }\n",
       "\n",
       "    .dataframe thead th {\n",
       "        text-align: right;\n",
       "    }\n",
       "</style>\n",
       "<table border=\"1\" class=\"dataframe\">\n",
       "  <thead>\n",
       "    <tr style=\"text-align: right;\">\n",
       "      <th></th>\n",
       "      <th>Survived</th>\n",
       "      <th>FareRange</th>\n",
       "    </tr>\n",
       "  </thead>\n",
       "  <tbody>\n",
       "    <tr>\n",
       "      <th>0</th>\n",
       "      <td>0</td>\n",
       "      <td>(0.0, 50.0]</td>\n",
       "    </tr>\n",
       "    <tr>\n",
       "      <th>1</th>\n",
       "      <td>1</td>\n",
       "      <td>(50.0, 100.0]</td>\n",
       "    </tr>\n",
       "    <tr>\n",
       "      <th>2</th>\n",
       "      <td>1</td>\n",
       "      <td>(0.0, 50.0]</td>\n",
       "    </tr>\n",
       "    <tr>\n",
       "      <th>3</th>\n",
       "      <td>1</td>\n",
       "      <td>(50.0, 100.0]</td>\n",
       "    </tr>\n",
       "    <tr>\n",
       "      <th>4</th>\n",
       "      <td>0</td>\n",
       "      <td>(0.0, 50.0]</td>\n",
       "    </tr>\n",
       "    <tr>\n",
       "      <th>...</th>\n",
       "      <td>...</td>\n",
       "      <td>...</td>\n",
       "    </tr>\n",
       "    <tr>\n",
       "      <th>886</th>\n",
       "      <td>0</td>\n",
       "      <td>(0.0, 50.0]</td>\n",
       "    </tr>\n",
       "    <tr>\n",
       "      <th>887</th>\n",
       "      <td>1</td>\n",
       "      <td>(0.0, 50.0]</td>\n",
       "    </tr>\n",
       "    <tr>\n",
       "      <th>888</th>\n",
       "      <td>0</td>\n",
       "      <td>(0.0, 50.0]</td>\n",
       "    </tr>\n",
       "    <tr>\n",
       "      <th>889</th>\n",
       "      <td>1</td>\n",
       "      <td>(0.0, 50.0]</td>\n",
       "    </tr>\n",
       "    <tr>\n",
       "      <th>890</th>\n",
       "      <td>0</td>\n",
       "      <td>(0.0, 50.0]</td>\n",
       "    </tr>\n",
       "  </tbody>\n",
       "</table>\n",
       "<p>891 rows × 2 columns</p>\n",
       "</div>"
      ]
     },
     "metadata": {},
     "execution_count": 80
    }
   ],
   "metadata": {}
  },
  {
   "cell_type": "code",
   "execution_count": 82,
   "source": [
    "survived_fare_range_count = with_fare_range.query(\"Survived == 1\")[\"FareRange\"].value_counts().sort_index(0).rename(\"Survived\")\n",
    "dead_fare_range_count = with_fare_range.query(\"Survived == 0\")[\"FareRange\"].value_counts().sort_index(0).rename(\"Dead\")"
   ],
   "outputs": [],
   "metadata": {}
  },
  {
   "cell_type": "code",
   "execution_count": 84,
   "source": [
    "fare_range_count = pd.DataFrame([survived_fare_range_count, dead_fare_range_count]).transpose()\n",
    "fare_range_count"
   ],
   "outputs": [
    {
     "output_type": "execute_result",
     "data": {
      "text/plain": [
       "                Survived  Dead\n",
       "(0.0, 50.0]          232   484\n",
       "(50.0, 100.0]         70    37\n",
       "(100.0, 150.0]        19     5\n",
       "(150.0, 200.0]         6     3\n",
       "(200.0, 250.0]         7     4\n",
       "(250.0, 300.0]         4     2\n",
       "(300.0, 350.0]         0     0\n",
       "(350.0, 400.0]         0     0\n",
       "(400.0, 450.0]         0     0\n",
       "(450.0, 500.0]         0     0\n",
       "(500.0, 550.0]         3     0"
      ],
      "text/html": [
       "<div>\n",
       "<style scoped>\n",
       "    .dataframe tbody tr th:only-of-type {\n",
       "        vertical-align: middle;\n",
       "    }\n",
       "\n",
       "    .dataframe tbody tr th {\n",
       "        vertical-align: top;\n",
       "    }\n",
       "\n",
       "    .dataframe thead th {\n",
       "        text-align: right;\n",
       "    }\n",
       "</style>\n",
       "<table border=\"1\" class=\"dataframe\">\n",
       "  <thead>\n",
       "    <tr style=\"text-align: right;\">\n",
       "      <th></th>\n",
       "      <th>Survived</th>\n",
       "      <th>Dead</th>\n",
       "    </tr>\n",
       "  </thead>\n",
       "  <tbody>\n",
       "    <tr>\n",
       "      <th>(0.0, 50.0]</th>\n",
       "      <td>232</td>\n",
       "      <td>484</td>\n",
       "    </tr>\n",
       "    <tr>\n",
       "      <th>(50.0, 100.0]</th>\n",
       "      <td>70</td>\n",
       "      <td>37</td>\n",
       "    </tr>\n",
       "    <tr>\n",
       "      <th>(100.0, 150.0]</th>\n",
       "      <td>19</td>\n",
       "      <td>5</td>\n",
       "    </tr>\n",
       "    <tr>\n",
       "      <th>(150.0, 200.0]</th>\n",
       "      <td>6</td>\n",
       "      <td>3</td>\n",
       "    </tr>\n",
       "    <tr>\n",
       "      <th>(200.0, 250.0]</th>\n",
       "      <td>7</td>\n",
       "      <td>4</td>\n",
       "    </tr>\n",
       "    <tr>\n",
       "      <th>(250.0, 300.0]</th>\n",
       "      <td>4</td>\n",
       "      <td>2</td>\n",
       "    </tr>\n",
       "    <tr>\n",
       "      <th>(300.0, 350.0]</th>\n",
       "      <td>0</td>\n",
       "      <td>0</td>\n",
       "    </tr>\n",
       "    <tr>\n",
       "      <th>(350.0, 400.0]</th>\n",
       "      <td>0</td>\n",
       "      <td>0</td>\n",
       "    </tr>\n",
       "    <tr>\n",
       "      <th>(400.0, 450.0]</th>\n",
       "      <td>0</td>\n",
       "      <td>0</td>\n",
       "    </tr>\n",
       "    <tr>\n",
       "      <th>(450.0, 500.0]</th>\n",
       "      <td>0</td>\n",
       "      <td>0</td>\n",
       "    </tr>\n",
       "    <tr>\n",
       "      <th>(500.0, 550.0]</th>\n",
       "      <td>3</td>\n",
       "      <td>0</td>\n",
       "    </tr>\n",
       "  </tbody>\n",
       "</table>\n",
       "</div>"
      ]
     },
     "metadata": {},
     "execution_count": 84
    }
   ],
   "metadata": {}
  },
  {
   "cell_type": "code",
   "execution_count": 86,
   "source": [
    "fare_range_count.plot(kind=\"bar\")"
   ],
   "outputs": [
    {
     "output_type": "execute_result",
     "data": {
      "text/plain": [
       "<AxesSubplot:>"
      ]
     },
     "metadata": {},
     "execution_count": 86
    },
    {
     "output_type": "display_data",
     "data": {
      "text/plain": [
       "<Figure size 432x288 with 1 Axes>"
      ],
      "image/svg+xml": "<?xml version=\"1.0\" encoding=\"utf-8\" standalone=\"no\"?>\n<!DOCTYPE svg PUBLIC \"-//W3C//DTD SVG 1.1//EN\"\n  \"http://www.w3.org/Graphics/SVG/1.1/DTD/svg11.dtd\">\n<svg height=\"310.546367pt\" version=\"1.1\" viewBox=\"0 0 375.2875 310.546367\" width=\"375.2875pt\" xmlns=\"http://www.w3.org/2000/svg\" xmlns:xlink=\"http://www.w3.org/1999/xlink\">\n <metadata>\n  <rdf:RDF xmlns:cc=\"http://creativecommons.org/ns#\" xmlns:dc=\"http://purl.org/dc/elements/1.1/\" xmlns:rdf=\"http://www.w3.org/1999/02/22-rdf-syntax-ns#\">\n   <cc:Work>\n    <dc:type rdf:resource=\"http://purl.org/dc/dcmitype/StillImage\"/>\n    <dc:date>2021-07-26T16:51:58.027493</dc:date>\n    <dc:format>image/svg+xml</dc:format>\n    <dc:creator>\n     <cc:Agent>\n      <dc:title>Matplotlib v3.4.2, https://matplotlib.org/</dc:title>\n     </cc:Agent>\n    </dc:creator>\n   </cc:Work>\n  </rdf:RDF>\n </metadata>\n <defs>\n  <style type=\"text/css\">*{stroke-linecap:butt;stroke-linejoin:round;}</style>\n </defs>\n <g id=\"figure_1\">\n  <g id=\"patch_1\">\n   <path d=\"M 0 310.546367 \nL 375.2875 310.546367 \nL 375.2875 0 \nL 0 0 \nz\n\" style=\"fill:none;\"/>\n  </g>\n  <g id=\"axes_1\">\n   <g id=\"patch_2\">\n    <path d=\"M 33.2875 224.930742 \nL 368.0875 224.930742 \nL 368.0875 7.490742 \nL 33.2875 7.490742 \nz\n\" style=\"fill:#ffffff;\"/>\n   </g>\n   <g id=\"patch_3\">\n    <path clip-path=\"url(#p4071dfe518)\" d=\"M 40.896591 224.930742 \nL 48.505682 224.930742 \nL 48.505682 125.666515 \nL 40.896591 125.666515 \nz\n\" style=\"fill:#1f77b4;\"/>\n   </g>\n   <g id=\"patch_4\">\n    <path clip-path=\"url(#p4071dfe518)\" d=\"M 71.332955 224.930742 \nL 78.942045 224.930742 \nL 78.942045 194.980329 \nL 71.332955 194.980329 \nz\n\" style=\"fill:#1f77b4;\"/>\n   </g>\n   <g id=\"patch_5\">\n    <path clip-path=\"url(#p4071dfe518)\" d=\"M 101.769318 224.930742 \nL 109.378409 224.930742 \nL 109.378409 216.801344 \nL 101.769318 216.801344 \nz\n\" style=\"fill:#1f77b4;\"/>\n   </g>\n   <g id=\"patch_6\">\n    <path clip-path=\"url(#p4071dfe518)\" d=\"M 132.205682 224.930742 \nL 139.814773 224.930742 \nL 139.814773 222.363563 \nL 132.205682 222.363563 \nz\n\" style=\"fill:#1f77b4;\"/>\n   </g>\n   <g id=\"patch_7\">\n    <path clip-path=\"url(#p4071dfe518)\" d=\"M 162.642045 224.930742 \nL 170.251136 224.930742 \nL 170.251136 221.9357 \nL 162.642045 221.9357 \nz\n\" style=\"fill:#1f77b4;\"/>\n   </g>\n   <g id=\"patch_8\">\n    <path clip-path=\"url(#p4071dfe518)\" d=\"M 193.078409 224.930742 \nL 200.6875 224.930742 \nL 200.6875 223.21929 \nL 193.078409 223.21929 \nz\n\" style=\"fill:#1f77b4;\"/>\n   </g>\n   <g id=\"patch_9\">\n    <path clip-path=\"url(#p4071dfe518)\" d=\"M 223.514773 224.930742 \nL 231.123864 224.930742 \nL 231.123864 224.930742 \nL 223.514773 224.930742 \nz\n\" style=\"fill:#1f77b4;\"/>\n   </g>\n   <g id=\"patch_10\">\n    <path clip-path=\"url(#p4071dfe518)\" d=\"M 253.951136 224.930742 \nL 261.560227 224.930742 \nL 261.560227 224.930742 \nL 253.951136 224.930742 \nz\n\" style=\"fill:#1f77b4;\"/>\n   </g>\n   <g id=\"patch_11\">\n    <path clip-path=\"url(#p4071dfe518)\" d=\"M 284.3875 224.930742 \nL 291.996591 224.930742 \nL 291.996591 224.930742 \nL 284.3875 224.930742 \nz\n\" style=\"fill:#1f77b4;\"/>\n   </g>\n   <g id=\"patch_12\">\n    <path clip-path=\"url(#p4071dfe518)\" d=\"M 314.823864 224.930742 \nL 322.432955 224.930742 \nL 322.432955 224.930742 \nL 314.823864 224.930742 \nz\n\" style=\"fill:#1f77b4;\"/>\n   </g>\n   <g id=\"patch_13\">\n    <path clip-path=\"url(#p4071dfe518)\" d=\"M 345.260227 224.930742 \nL 352.869318 224.930742 \nL 352.869318 223.647153 \nL 345.260227 223.647153 \nz\n\" style=\"fill:#1f77b4;\"/>\n   </g>\n   <g id=\"patch_14\">\n    <path clip-path=\"url(#p4071dfe518)\" d=\"M 48.505682 224.930742 \nL 56.114773 224.930742 \nL 56.114773 17.845027 \nL 48.505682 17.845027 \nz\n\" style=\"fill:#ff7f0e;\"/>\n   </g>\n   <g id=\"patch_15\">\n    <path clip-path=\"url(#p4071dfe518)\" d=\"M 78.942045 224.930742 \nL 86.551136 224.930742 \nL 86.551136 209.099809 \nL 78.942045 209.099809 \nz\n\" style=\"fill:#ff7f0e;\"/>\n   </g>\n   <g id=\"patch_16\">\n    <path clip-path=\"url(#p4071dfe518)\" d=\"M 109.378409 224.930742 \nL 116.9875 224.930742 \nL 116.9875 222.791427 \nL 109.378409 222.791427 \nz\n\" style=\"fill:#ff7f0e;\"/>\n   </g>\n   <g id=\"patch_17\">\n    <path clip-path=\"url(#p4071dfe518)\" d=\"M 139.814773 224.930742 \nL 147.423864 224.930742 \nL 147.423864 223.647153 \nL 139.814773 223.647153 \nz\n\" style=\"fill:#ff7f0e;\"/>\n   </g>\n   <g id=\"patch_18\">\n    <path clip-path=\"url(#p4071dfe518)\" d=\"M 170.251136 224.930742 \nL 177.860227 224.930742 \nL 177.860227 223.21929 \nL 170.251136 223.21929 \nz\n\" style=\"fill:#ff7f0e;\"/>\n   </g>\n   <g id=\"patch_19\">\n    <path clip-path=\"url(#p4071dfe518)\" d=\"M 200.6875 224.930742 \nL 208.296591 224.930742 \nL 208.296591 224.075016 \nL 200.6875 224.075016 \nz\n\" style=\"fill:#ff7f0e;\"/>\n   </g>\n   <g id=\"patch_20\">\n    <path clip-path=\"url(#p4071dfe518)\" d=\"M 231.123864 224.930742 \nL 238.732955 224.930742 \nL 238.732955 224.930742 \nL 231.123864 224.930742 \nz\n\" style=\"fill:#ff7f0e;\"/>\n   </g>\n   <g id=\"patch_21\">\n    <path clip-path=\"url(#p4071dfe518)\" d=\"M 261.560227 224.930742 \nL 269.169318 224.930742 \nL 269.169318 224.930742 \nL 261.560227 224.930742 \nz\n\" style=\"fill:#ff7f0e;\"/>\n   </g>\n   <g id=\"patch_22\">\n    <path clip-path=\"url(#p4071dfe518)\" d=\"M 291.996591 224.930742 \nL 299.605682 224.930742 \nL 299.605682 224.930742 \nL 291.996591 224.930742 \nz\n\" style=\"fill:#ff7f0e;\"/>\n   </g>\n   <g id=\"patch_23\">\n    <path clip-path=\"url(#p4071dfe518)\" d=\"M 322.432955 224.930742 \nL 330.042045 224.930742 \nL 330.042045 224.930742 \nL 322.432955 224.930742 \nz\n\" style=\"fill:#ff7f0e;\"/>\n   </g>\n   <g id=\"patch_24\">\n    <path clip-path=\"url(#p4071dfe518)\" d=\"M 352.869318 224.930742 \nL 360.478409 224.930742 \nL 360.478409 224.930742 \nL 352.869318 224.930742 \nz\n\" style=\"fill:#ff7f0e;\"/>\n   </g>\n   <g id=\"matplotlib.axis_1\">\n    <g id=\"xtick_1\">\n     <g id=\"line2d_1\">\n      <defs>\n       <path d=\"M 0 0 \nL 0 3.5 \n\" id=\"ma537a58086\" style=\"stroke:#000000;stroke-width:0.8;\"/>\n      </defs>\n      <g>\n       <use style=\"stroke:#000000;stroke-width:0.8;\" x=\"48.505682\" xlink:href=\"#ma537a58086\" y=\"224.930742\"/>\n      </g>\n     </g>\n     <g id=\"text_1\">\n      <!-- (0.0, 50.0] -->\n      <g transform=\"translate(51.265057 284.258867)rotate(-90)scale(0.1 -0.1)\">\n       <defs>\n        <path d=\"M 1984 4856 \nQ 1566 4138 1362 3434 \nQ 1159 2731 1159 2009 \nQ 1159 1288 1364 580 \nQ 1569 -128 1984 -844 \nL 1484 -844 \nQ 1016 -109 783 600 \nQ 550 1309 550 2009 \nQ 550 2706 781 3412 \nQ 1013 4119 1484 4856 \nL 1984 4856 \nz\n\" id=\"DejaVuSans-28\" transform=\"scale(0.015625)\"/>\n        <path d=\"M 2034 4250 \nQ 1547 4250 1301 3770 \nQ 1056 3291 1056 2328 \nQ 1056 1369 1301 889 \nQ 1547 409 2034 409 \nQ 2525 409 2770 889 \nQ 3016 1369 3016 2328 \nQ 3016 3291 2770 3770 \nQ 2525 4250 2034 4250 \nz\nM 2034 4750 \nQ 2819 4750 3233 4129 \nQ 3647 3509 3647 2328 \nQ 3647 1150 3233 529 \nQ 2819 -91 2034 -91 \nQ 1250 -91 836 529 \nQ 422 1150 422 2328 \nQ 422 3509 836 4129 \nQ 1250 4750 2034 4750 \nz\n\" id=\"DejaVuSans-30\" transform=\"scale(0.015625)\"/>\n        <path d=\"M 684 794 \nL 1344 794 \nL 1344 0 \nL 684 0 \nL 684 794 \nz\n\" id=\"DejaVuSans-2e\" transform=\"scale(0.015625)\"/>\n        <path d=\"M 750 794 \nL 1409 794 \nL 1409 256 \nL 897 -744 \nL 494 -744 \nL 750 256 \nL 750 794 \nz\n\" id=\"DejaVuSans-2c\" transform=\"scale(0.015625)\"/>\n        <path id=\"DejaVuSans-20\" transform=\"scale(0.015625)\"/>\n        <path d=\"M 691 4666 \nL 3169 4666 \nL 3169 4134 \nL 1269 4134 \nL 1269 2991 \nQ 1406 3038 1543 3061 \nQ 1681 3084 1819 3084 \nQ 2600 3084 3056 2656 \nQ 3513 2228 3513 1497 \nQ 3513 744 3044 326 \nQ 2575 -91 1722 -91 \nQ 1428 -91 1123 -41 \nQ 819 9 494 109 \nL 494 744 \nQ 775 591 1075 516 \nQ 1375 441 1709 441 \nQ 2250 441 2565 725 \nQ 2881 1009 2881 1497 \nQ 2881 1984 2565 2268 \nQ 2250 2553 1709 2553 \nQ 1456 2553 1204 2497 \nQ 953 2441 691 2322 \nL 691 4666 \nz\n\" id=\"DejaVuSans-35\" transform=\"scale(0.015625)\"/>\n        <path d=\"M 1947 4863 \nL 1947 -844 \nL 622 -844 \nL 622 -397 \nL 1369 -397 \nL 1369 4416 \nL 622 4416 \nL 622 4863 \nL 1947 4863 \nz\n\" id=\"DejaVuSans-5d\" transform=\"scale(0.015625)\"/>\n       </defs>\n       <use xlink:href=\"#DejaVuSans-28\"/>\n       <use x=\"39.013672\" xlink:href=\"#DejaVuSans-30\"/>\n       <use x=\"102.636719\" xlink:href=\"#DejaVuSans-2e\"/>\n       <use x=\"134.423828\" xlink:href=\"#DejaVuSans-30\"/>\n       <use x=\"198.046875\" xlink:href=\"#DejaVuSans-2c\"/>\n       <use x=\"229.833984\" xlink:href=\"#DejaVuSans-20\"/>\n       <use x=\"261.621094\" xlink:href=\"#DejaVuSans-35\"/>\n       <use x=\"325.244141\" xlink:href=\"#DejaVuSans-30\"/>\n       <use x=\"388.867188\" xlink:href=\"#DejaVuSans-2e\"/>\n       <use x=\"420.654297\" xlink:href=\"#DejaVuSans-30\"/>\n       <use x=\"484.277344\" xlink:href=\"#DejaVuSans-5d\"/>\n      </g>\n     </g>\n    </g>\n    <g id=\"xtick_2\">\n     <g id=\"line2d_2\">\n      <g>\n       <use style=\"stroke:#000000;stroke-width:0.8;\" x=\"78.942045\" xlink:href=\"#ma537a58086\" y=\"224.930742\"/>\n      </g>\n     </g>\n     <g id=\"text_2\">\n      <!-- (50.0, 100.0] -->\n      <g transform=\"translate(81.70142 296.983867)rotate(-90)scale(0.1 -0.1)\">\n       <defs>\n        <path d=\"M 794 531 \nL 1825 531 \nL 1825 4091 \nL 703 3866 \nL 703 4441 \nL 1819 4666 \nL 2450 4666 \nL 2450 531 \nL 3481 531 \nL 3481 0 \nL 794 0 \nL 794 531 \nz\n\" id=\"DejaVuSans-31\" transform=\"scale(0.015625)\"/>\n       </defs>\n       <use xlink:href=\"#DejaVuSans-28\"/>\n       <use x=\"39.013672\" xlink:href=\"#DejaVuSans-35\"/>\n       <use x=\"102.636719\" xlink:href=\"#DejaVuSans-30\"/>\n       <use x=\"166.259766\" xlink:href=\"#DejaVuSans-2e\"/>\n       <use x=\"198.046875\" xlink:href=\"#DejaVuSans-30\"/>\n       <use x=\"261.669922\" xlink:href=\"#DejaVuSans-2c\"/>\n       <use x=\"293.457031\" xlink:href=\"#DejaVuSans-20\"/>\n       <use x=\"325.244141\" xlink:href=\"#DejaVuSans-31\"/>\n       <use x=\"388.867188\" xlink:href=\"#DejaVuSans-30\"/>\n       <use x=\"452.490234\" xlink:href=\"#DejaVuSans-30\"/>\n       <use x=\"516.113281\" xlink:href=\"#DejaVuSans-2e\"/>\n       <use x=\"547.900391\" xlink:href=\"#DejaVuSans-30\"/>\n       <use x=\"611.523438\" xlink:href=\"#DejaVuSans-5d\"/>\n      </g>\n     </g>\n    </g>\n    <g id=\"xtick_3\">\n     <g id=\"line2d_3\">\n      <g>\n       <use style=\"stroke:#000000;stroke-width:0.8;\" x=\"109.378409\" xlink:href=\"#ma537a58086\" y=\"224.930742\"/>\n      </g>\n     </g>\n     <g id=\"text_3\">\n      <!-- (100.0, 150.0] -->\n      <g transform=\"translate(112.137784 303.346367)rotate(-90)scale(0.1 -0.1)\">\n       <use xlink:href=\"#DejaVuSans-28\"/>\n       <use x=\"39.013672\" xlink:href=\"#DejaVuSans-31\"/>\n       <use x=\"102.636719\" xlink:href=\"#DejaVuSans-30\"/>\n       <use x=\"166.259766\" xlink:href=\"#DejaVuSans-30\"/>\n       <use x=\"229.882812\" xlink:href=\"#DejaVuSans-2e\"/>\n       <use x=\"261.669922\" xlink:href=\"#DejaVuSans-30\"/>\n       <use x=\"325.292969\" xlink:href=\"#DejaVuSans-2c\"/>\n       <use x=\"357.080078\" xlink:href=\"#DejaVuSans-20\"/>\n       <use x=\"388.867188\" xlink:href=\"#DejaVuSans-31\"/>\n       <use x=\"452.490234\" xlink:href=\"#DejaVuSans-35\"/>\n       <use x=\"516.113281\" xlink:href=\"#DejaVuSans-30\"/>\n       <use x=\"579.736328\" xlink:href=\"#DejaVuSans-2e\"/>\n       <use x=\"611.523438\" xlink:href=\"#DejaVuSans-30\"/>\n       <use x=\"675.146484\" xlink:href=\"#DejaVuSans-5d\"/>\n      </g>\n     </g>\n    </g>\n    <g id=\"xtick_4\">\n     <g id=\"line2d_4\">\n      <g>\n       <use style=\"stroke:#000000;stroke-width:0.8;\" x=\"139.814773\" xlink:href=\"#ma537a58086\" y=\"224.930742\"/>\n      </g>\n     </g>\n     <g id=\"text_4\">\n      <!-- (150.0, 200.0] -->\n      <g transform=\"translate(142.574148 303.346367)rotate(-90)scale(0.1 -0.1)\">\n       <defs>\n        <path d=\"M 1228 531 \nL 3431 531 \nL 3431 0 \nL 469 0 \nL 469 531 \nQ 828 903 1448 1529 \nQ 2069 2156 2228 2338 \nQ 2531 2678 2651 2914 \nQ 2772 3150 2772 3378 \nQ 2772 3750 2511 3984 \nQ 2250 4219 1831 4219 \nQ 1534 4219 1204 4116 \nQ 875 4013 500 3803 \nL 500 4441 \nQ 881 4594 1212 4672 \nQ 1544 4750 1819 4750 \nQ 2544 4750 2975 4387 \nQ 3406 4025 3406 3419 \nQ 3406 3131 3298 2873 \nQ 3191 2616 2906 2266 \nQ 2828 2175 2409 1742 \nQ 1991 1309 1228 531 \nz\n\" id=\"DejaVuSans-32\" transform=\"scale(0.015625)\"/>\n       </defs>\n       <use xlink:href=\"#DejaVuSans-28\"/>\n       <use x=\"39.013672\" xlink:href=\"#DejaVuSans-31\"/>\n       <use x=\"102.636719\" xlink:href=\"#DejaVuSans-35\"/>\n       <use x=\"166.259766\" xlink:href=\"#DejaVuSans-30\"/>\n       <use x=\"229.882812\" xlink:href=\"#DejaVuSans-2e\"/>\n       <use x=\"261.669922\" xlink:href=\"#DejaVuSans-30\"/>\n       <use x=\"325.292969\" xlink:href=\"#DejaVuSans-2c\"/>\n       <use x=\"357.080078\" xlink:href=\"#DejaVuSans-20\"/>\n       <use x=\"388.867188\" xlink:href=\"#DejaVuSans-32\"/>\n       <use x=\"452.490234\" xlink:href=\"#DejaVuSans-30\"/>\n       <use x=\"516.113281\" xlink:href=\"#DejaVuSans-30\"/>\n       <use x=\"579.736328\" xlink:href=\"#DejaVuSans-2e\"/>\n       <use x=\"611.523438\" xlink:href=\"#DejaVuSans-30\"/>\n       <use x=\"675.146484\" xlink:href=\"#DejaVuSans-5d\"/>\n      </g>\n     </g>\n    </g>\n    <g id=\"xtick_5\">\n     <g id=\"line2d_5\">\n      <g>\n       <use style=\"stroke:#000000;stroke-width:0.8;\" x=\"170.251136\" xlink:href=\"#ma537a58086\" y=\"224.930742\"/>\n      </g>\n     </g>\n     <g id=\"text_5\">\n      <!-- (200.0, 250.0] -->\n      <g transform=\"translate(173.010511 303.346367)rotate(-90)scale(0.1 -0.1)\">\n       <use xlink:href=\"#DejaVuSans-28\"/>\n       <use x=\"39.013672\" xlink:href=\"#DejaVuSans-32\"/>\n       <use x=\"102.636719\" xlink:href=\"#DejaVuSans-30\"/>\n       <use x=\"166.259766\" xlink:href=\"#DejaVuSans-30\"/>\n       <use x=\"229.882812\" xlink:href=\"#DejaVuSans-2e\"/>\n       <use x=\"261.669922\" xlink:href=\"#DejaVuSans-30\"/>\n       <use x=\"325.292969\" xlink:href=\"#DejaVuSans-2c\"/>\n       <use x=\"357.080078\" xlink:href=\"#DejaVuSans-20\"/>\n       <use x=\"388.867188\" xlink:href=\"#DejaVuSans-32\"/>\n       <use x=\"452.490234\" xlink:href=\"#DejaVuSans-35\"/>\n       <use x=\"516.113281\" xlink:href=\"#DejaVuSans-30\"/>\n       <use x=\"579.736328\" xlink:href=\"#DejaVuSans-2e\"/>\n       <use x=\"611.523438\" xlink:href=\"#DejaVuSans-30\"/>\n       <use x=\"675.146484\" xlink:href=\"#DejaVuSans-5d\"/>\n      </g>\n     </g>\n    </g>\n    <g id=\"xtick_6\">\n     <g id=\"line2d_6\">\n      <g>\n       <use style=\"stroke:#000000;stroke-width:0.8;\" x=\"200.6875\" xlink:href=\"#ma537a58086\" y=\"224.930742\"/>\n      </g>\n     </g>\n     <g id=\"text_6\">\n      <!-- (250.0, 300.0] -->\n      <g transform=\"translate(203.446875 303.346367)rotate(-90)scale(0.1 -0.1)\">\n       <defs>\n        <path d=\"M 2597 2516 \nQ 3050 2419 3304 2112 \nQ 3559 1806 3559 1356 \nQ 3559 666 3084 287 \nQ 2609 -91 1734 -91 \nQ 1441 -91 1130 -33 \nQ 819 25 488 141 \nL 488 750 \nQ 750 597 1062 519 \nQ 1375 441 1716 441 \nQ 2309 441 2620 675 \nQ 2931 909 2931 1356 \nQ 2931 1769 2642 2001 \nQ 2353 2234 1838 2234 \nL 1294 2234 \nL 1294 2753 \nL 1863 2753 \nQ 2328 2753 2575 2939 \nQ 2822 3125 2822 3475 \nQ 2822 3834 2567 4026 \nQ 2313 4219 1838 4219 \nQ 1578 4219 1281 4162 \nQ 984 4106 628 3988 \nL 628 4550 \nQ 988 4650 1302 4700 \nQ 1616 4750 1894 4750 \nQ 2613 4750 3031 4423 \nQ 3450 4097 3450 3541 \nQ 3450 3153 3228 2886 \nQ 3006 2619 2597 2516 \nz\n\" id=\"DejaVuSans-33\" transform=\"scale(0.015625)\"/>\n       </defs>\n       <use xlink:href=\"#DejaVuSans-28\"/>\n       <use x=\"39.013672\" xlink:href=\"#DejaVuSans-32\"/>\n       <use x=\"102.636719\" xlink:href=\"#DejaVuSans-35\"/>\n       <use x=\"166.259766\" xlink:href=\"#DejaVuSans-30\"/>\n       <use x=\"229.882812\" xlink:href=\"#DejaVuSans-2e\"/>\n       <use x=\"261.669922\" xlink:href=\"#DejaVuSans-30\"/>\n       <use x=\"325.292969\" xlink:href=\"#DejaVuSans-2c\"/>\n       <use x=\"357.080078\" xlink:href=\"#DejaVuSans-20\"/>\n       <use x=\"388.867188\" xlink:href=\"#DejaVuSans-33\"/>\n       <use x=\"452.490234\" xlink:href=\"#DejaVuSans-30\"/>\n       <use x=\"516.113281\" xlink:href=\"#DejaVuSans-30\"/>\n       <use x=\"579.736328\" xlink:href=\"#DejaVuSans-2e\"/>\n       <use x=\"611.523438\" xlink:href=\"#DejaVuSans-30\"/>\n       <use x=\"675.146484\" xlink:href=\"#DejaVuSans-5d\"/>\n      </g>\n     </g>\n    </g>\n    <g id=\"xtick_7\">\n     <g id=\"line2d_7\">\n      <g>\n       <use style=\"stroke:#000000;stroke-width:0.8;\" x=\"231.123864\" xlink:href=\"#ma537a58086\" y=\"224.930742\"/>\n      </g>\n     </g>\n     <g id=\"text_7\">\n      <!-- (300.0, 350.0] -->\n      <g transform=\"translate(233.883239 303.346367)rotate(-90)scale(0.1 -0.1)\">\n       <use xlink:href=\"#DejaVuSans-28\"/>\n       <use x=\"39.013672\" xlink:href=\"#DejaVuSans-33\"/>\n       <use x=\"102.636719\" xlink:href=\"#DejaVuSans-30\"/>\n       <use x=\"166.259766\" xlink:href=\"#DejaVuSans-30\"/>\n       <use x=\"229.882812\" xlink:href=\"#DejaVuSans-2e\"/>\n       <use x=\"261.669922\" xlink:href=\"#DejaVuSans-30\"/>\n       <use x=\"325.292969\" xlink:href=\"#DejaVuSans-2c\"/>\n       <use x=\"357.080078\" xlink:href=\"#DejaVuSans-20\"/>\n       <use x=\"388.867188\" xlink:href=\"#DejaVuSans-33\"/>\n       <use x=\"452.490234\" xlink:href=\"#DejaVuSans-35\"/>\n       <use x=\"516.113281\" xlink:href=\"#DejaVuSans-30\"/>\n       <use x=\"579.736328\" xlink:href=\"#DejaVuSans-2e\"/>\n       <use x=\"611.523438\" xlink:href=\"#DejaVuSans-30\"/>\n       <use x=\"675.146484\" xlink:href=\"#DejaVuSans-5d\"/>\n      </g>\n     </g>\n    </g>\n    <g id=\"xtick_8\">\n     <g id=\"line2d_8\">\n      <g>\n       <use style=\"stroke:#000000;stroke-width:0.8;\" x=\"261.560227\" xlink:href=\"#ma537a58086\" y=\"224.930742\"/>\n      </g>\n     </g>\n     <g id=\"text_8\">\n      <!-- (350.0, 400.0] -->\n      <g transform=\"translate(264.319602 303.346367)rotate(-90)scale(0.1 -0.1)\">\n       <defs>\n        <path d=\"M 2419 4116 \nL 825 1625 \nL 2419 1625 \nL 2419 4116 \nz\nM 2253 4666 \nL 3047 4666 \nL 3047 1625 \nL 3713 1625 \nL 3713 1100 \nL 3047 1100 \nL 3047 0 \nL 2419 0 \nL 2419 1100 \nL 313 1100 \nL 313 1709 \nL 2253 4666 \nz\n\" id=\"DejaVuSans-34\" transform=\"scale(0.015625)\"/>\n       </defs>\n       <use xlink:href=\"#DejaVuSans-28\"/>\n       <use x=\"39.013672\" xlink:href=\"#DejaVuSans-33\"/>\n       <use x=\"102.636719\" xlink:href=\"#DejaVuSans-35\"/>\n       <use x=\"166.259766\" xlink:href=\"#DejaVuSans-30\"/>\n       <use x=\"229.882812\" xlink:href=\"#DejaVuSans-2e\"/>\n       <use x=\"261.669922\" xlink:href=\"#DejaVuSans-30\"/>\n       <use x=\"325.292969\" xlink:href=\"#DejaVuSans-2c\"/>\n       <use x=\"357.080078\" xlink:href=\"#DejaVuSans-20\"/>\n       <use x=\"388.867188\" xlink:href=\"#DejaVuSans-34\"/>\n       <use x=\"452.490234\" xlink:href=\"#DejaVuSans-30\"/>\n       <use x=\"516.113281\" xlink:href=\"#DejaVuSans-30\"/>\n       <use x=\"579.736328\" xlink:href=\"#DejaVuSans-2e\"/>\n       <use x=\"611.523438\" xlink:href=\"#DejaVuSans-30\"/>\n       <use x=\"675.146484\" xlink:href=\"#DejaVuSans-5d\"/>\n      </g>\n     </g>\n    </g>\n    <g id=\"xtick_9\">\n     <g id=\"line2d_9\">\n      <g>\n       <use style=\"stroke:#000000;stroke-width:0.8;\" x=\"291.996591\" xlink:href=\"#ma537a58086\" y=\"224.930742\"/>\n      </g>\n     </g>\n     <g id=\"text_9\">\n      <!-- (400.0, 450.0] -->\n      <g transform=\"translate(294.755966 303.346367)rotate(-90)scale(0.1 -0.1)\">\n       <use xlink:href=\"#DejaVuSans-28\"/>\n       <use x=\"39.013672\" xlink:href=\"#DejaVuSans-34\"/>\n       <use x=\"102.636719\" xlink:href=\"#DejaVuSans-30\"/>\n       <use x=\"166.259766\" xlink:href=\"#DejaVuSans-30\"/>\n       <use x=\"229.882812\" xlink:href=\"#DejaVuSans-2e\"/>\n       <use x=\"261.669922\" xlink:href=\"#DejaVuSans-30\"/>\n       <use x=\"325.292969\" xlink:href=\"#DejaVuSans-2c\"/>\n       <use x=\"357.080078\" xlink:href=\"#DejaVuSans-20\"/>\n       <use x=\"388.867188\" xlink:href=\"#DejaVuSans-34\"/>\n       <use x=\"452.490234\" xlink:href=\"#DejaVuSans-35\"/>\n       <use x=\"516.113281\" xlink:href=\"#DejaVuSans-30\"/>\n       <use x=\"579.736328\" xlink:href=\"#DejaVuSans-2e\"/>\n       <use x=\"611.523438\" xlink:href=\"#DejaVuSans-30\"/>\n       <use x=\"675.146484\" xlink:href=\"#DejaVuSans-5d\"/>\n      </g>\n     </g>\n    </g>\n    <g id=\"xtick_10\">\n     <g id=\"line2d_10\">\n      <g>\n       <use style=\"stroke:#000000;stroke-width:0.8;\" x=\"322.432955\" xlink:href=\"#ma537a58086\" y=\"224.930742\"/>\n      </g>\n     </g>\n     <g id=\"text_10\">\n      <!-- (450.0, 500.0] -->\n      <g transform=\"translate(325.19233 303.346367)rotate(-90)scale(0.1 -0.1)\">\n       <use xlink:href=\"#DejaVuSans-28\"/>\n       <use x=\"39.013672\" xlink:href=\"#DejaVuSans-34\"/>\n       <use x=\"102.636719\" xlink:href=\"#DejaVuSans-35\"/>\n       <use x=\"166.259766\" xlink:href=\"#DejaVuSans-30\"/>\n       <use x=\"229.882812\" xlink:href=\"#DejaVuSans-2e\"/>\n       <use x=\"261.669922\" xlink:href=\"#DejaVuSans-30\"/>\n       <use x=\"325.292969\" xlink:href=\"#DejaVuSans-2c\"/>\n       <use x=\"357.080078\" xlink:href=\"#DejaVuSans-20\"/>\n       <use x=\"388.867188\" xlink:href=\"#DejaVuSans-35\"/>\n       <use x=\"452.490234\" xlink:href=\"#DejaVuSans-30\"/>\n       <use x=\"516.113281\" xlink:href=\"#DejaVuSans-30\"/>\n       <use x=\"579.736328\" xlink:href=\"#DejaVuSans-2e\"/>\n       <use x=\"611.523438\" xlink:href=\"#DejaVuSans-30\"/>\n       <use x=\"675.146484\" xlink:href=\"#DejaVuSans-5d\"/>\n      </g>\n     </g>\n    </g>\n    <g id=\"xtick_11\">\n     <g id=\"line2d_11\">\n      <g>\n       <use style=\"stroke:#000000;stroke-width:0.8;\" x=\"352.869318\" xlink:href=\"#ma537a58086\" y=\"224.930742\"/>\n      </g>\n     </g>\n     <g id=\"text_11\">\n      <!-- (500.0, 550.0] -->\n      <g transform=\"translate(355.628693 303.346367)rotate(-90)scale(0.1 -0.1)\">\n       <use xlink:href=\"#DejaVuSans-28\"/>\n       <use x=\"39.013672\" xlink:href=\"#DejaVuSans-35\"/>\n       <use x=\"102.636719\" xlink:href=\"#DejaVuSans-30\"/>\n       <use x=\"166.259766\" xlink:href=\"#DejaVuSans-30\"/>\n       <use x=\"229.882812\" xlink:href=\"#DejaVuSans-2e\"/>\n       <use x=\"261.669922\" xlink:href=\"#DejaVuSans-30\"/>\n       <use x=\"325.292969\" xlink:href=\"#DejaVuSans-2c\"/>\n       <use x=\"357.080078\" xlink:href=\"#DejaVuSans-20\"/>\n       <use x=\"388.867188\" xlink:href=\"#DejaVuSans-35\"/>\n       <use x=\"452.490234\" xlink:href=\"#DejaVuSans-35\"/>\n       <use x=\"516.113281\" xlink:href=\"#DejaVuSans-30\"/>\n       <use x=\"579.736328\" xlink:href=\"#DejaVuSans-2e\"/>\n       <use x=\"611.523438\" xlink:href=\"#DejaVuSans-30\"/>\n       <use x=\"675.146484\" xlink:href=\"#DejaVuSans-5d\"/>\n      </g>\n     </g>\n    </g>\n   </g>\n   <g id=\"matplotlib.axis_2\">\n    <g id=\"ytick_1\">\n     <g id=\"line2d_12\">\n      <defs>\n       <path d=\"M 0 0 \nL -3.5 0 \n\" id=\"m9c21474506\" style=\"stroke:#000000;stroke-width:0.8;\"/>\n      </defs>\n      <g>\n       <use style=\"stroke:#000000;stroke-width:0.8;\" x=\"33.2875\" xlink:href=\"#m9c21474506\" y=\"224.930742\"/>\n      </g>\n     </g>\n     <g id=\"text_12\">\n      <!-- 0 -->\n      <g transform=\"translate(19.925 228.729961)scale(0.1 -0.1)\">\n       <use xlink:href=\"#DejaVuSans-30\"/>\n      </g>\n     </g>\n    </g>\n    <g id=\"ytick_2\">\n     <g id=\"line2d_13\">\n      <g>\n       <use style=\"stroke:#000000;stroke-width:0.8;\" x=\"33.2875\" xlink:href=\"#m9c21474506\" y=\"182.144437\"/>\n      </g>\n     </g>\n     <g id=\"text_13\">\n      <!-- 100 -->\n      <g transform=\"translate(7.2 185.943656)scale(0.1 -0.1)\">\n       <use xlink:href=\"#DejaVuSans-31\"/>\n       <use x=\"63.623047\" xlink:href=\"#DejaVuSans-30\"/>\n       <use x=\"127.246094\" xlink:href=\"#DejaVuSans-30\"/>\n      </g>\n     </g>\n    </g>\n    <g id=\"ytick_3\">\n     <g id=\"line2d_14\">\n      <g>\n       <use style=\"stroke:#000000;stroke-width:0.8;\" x=\"33.2875\" xlink:href=\"#m9c21474506\" y=\"139.358133\"/>\n      </g>\n     </g>\n     <g id=\"text_14\">\n      <!-- 200 -->\n      <g transform=\"translate(7.2 143.157351)scale(0.1 -0.1)\">\n       <use xlink:href=\"#DejaVuSans-32\"/>\n       <use x=\"63.623047\" xlink:href=\"#DejaVuSans-30\"/>\n       <use x=\"127.246094\" xlink:href=\"#DejaVuSans-30\"/>\n      </g>\n     </g>\n    </g>\n    <g id=\"ytick_4\">\n     <g id=\"line2d_15\">\n      <g>\n       <use style=\"stroke:#000000;stroke-width:0.8;\" x=\"33.2875\" xlink:href=\"#m9c21474506\" y=\"96.571828\"/>\n      </g>\n     </g>\n     <g id=\"text_15\">\n      <!-- 300 -->\n      <g transform=\"translate(7.2 100.371047)scale(0.1 -0.1)\">\n       <use xlink:href=\"#DejaVuSans-33\"/>\n       <use x=\"63.623047\" xlink:href=\"#DejaVuSans-30\"/>\n       <use x=\"127.246094\" xlink:href=\"#DejaVuSans-30\"/>\n      </g>\n     </g>\n    </g>\n    <g id=\"ytick_5\">\n     <g id=\"line2d_16\">\n      <g>\n       <use style=\"stroke:#000000;stroke-width:0.8;\" x=\"33.2875\" xlink:href=\"#m9c21474506\" y=\"53.785523\"/>\n      </g>\n     </g>\n     <g id=\"text_16\">\n      <!-- 400 -->\n      <g transform=\"translate(7.2 57.584742)scale(0.1 -0.1)\">\n       <use xlink:href=\"#DejaVuSans-34\"/>\n       <use x=\"63.623047\" xlink:href=\"#DejaVuSans-30\"/>\n       <use x=\"127.246094\" xlink:href=\"#DejaVuSans-30\"/>\n      </g>\n     </g>\n    </g>\n    <g id=\"ytick_6\">\n     <g id=\"line2d_17\">\n      <g>\n       <use style=\"stroke:#000000;stroke-width:0.8;\" x=\"33.2875\" xlink:href=\"#m9c21474506\" y=\"10.999219\"/>\n      </g>\n     </g>\n     <g id=\"text_17\">\n      <!-- 500 -->\n      <g transform=\"translate(7.2 14.798437)scale(0.1 -0.1)\">\n       <use xlink:href=\"#DejaVuSans-35\"/>\n       <use x=\"63.623047\" xlink:href=\"#DejaVuSans-30\"/>\n       <use x=\"127.246094\" xlink:href=\"#DejaVuSans-30\"/>\n      </g>\n     </g>\n    </g>\n   </g>\n   <g id=\"patch_25\">\n    <path d=\"M 33.2875 224.930742 \nL 33.2875 7.490742 \n\" style=\"fill:none;stroke:#000000;stroke-linecap:square;stroke-linejoin:miter;stroke-width:0.8;\"/>\n   </g>\n   <g id=\"patch_26\">\n    <path d=\"M 368.0875 224.930742 \nL 368.0875 7.490742 \n\" style=\"fill:none;stroke:#000000;stroke-linecap:square;stroke-linejoin:miter;stroke-width:0.8;\"/>\n   </g>\n   <g id=\"patch_27\">\n    <path d=\"M 33.2875 224.930742 \nL 368.0875 224.930742 \n\" style=\"fill:none;stroke:#000000;stroke-linecap:square;stroke-linejoin:miter;stroke-width:0.8;\"/>\n   </g>\n   <g id=\"patch_28\">\n    <path d=\"M 33.2875 7.490742 \nL 368.0875 7.490742 \n\" style=\"fill:none;stroke:#000000;stroke-linecap:square;stroke-linejoin:miter;stroke-width:0.8;\"/>\n   </g>\n   <g id=\"legend_1\">\n    <g id=\"patch_29\">\n     <path d=\"M 285.173438 44.846992 \nL 361.0875 44.846992 \nQ 363.0875 44.846992 363.0875 42.846992 \nL 363.0875 14.490742 \nQ 363.0875 12.490742 361.0875 12.490742 \nL 285.173438 12.490742 \nQ 283.173438 12.490742 283.173438 14.490742 \nL 283.173438 42.846992 \nQ 283.173438 44.846992 285.173438 44.846992 \nz\n\" style=\"fill:#ffffff;opacity:0.8;stroke:#cccccc;stroke-linejoin:miter;\"/>\n    </g>\n    <g id=\"patch_30\">\n     <path d=\"M 287.173438 24.089179 \nL 307.173438 24.089179 \nL 307.173438 17.089179 \nL 287.173438 17.089179 \nz\n\" style=\"fill:#1f77b4;\"/>\n    </g>\n    <g id=\"text_18\">\n     <!-- Survived -->\n     <g transform=\"translate(315.173438 24.089179)scale(0.1 -0.1)\">\n      <defs>\n       <path d=\"M 3425 4513 \nL 3425 3897 \nQ 3066 4069 2747 4153 \nQ 2428 4238 2131 4238 \nQ 1616 4238 1336 4038 \nQ 1056 3838 1056 3469 \nQ 1056 3159 1242 3001 \nQ 1428 2844 1947 2747 \nL 2328 2669 \nQ 3034 2534 3370 2195 \nQ 3706 1856 3706 1288 \nQ 3706 609 3251 259 \nQ 2797 -91 1919 -91 \nQ 1588 -91 1214 -16 \nQ 841 59 441 206 \nL 441 856 \nQ 825 641 1194 531 \nQ 1563 422 1919 422 \nQ 2459 422 2753 634 \nQ 3047 847 3047 1241 \nQ 3047 1584 2836 1778 \nQ 2625 1972 2144 2069 \nL 1759 2144 \nQ 1053 2284 737 2584 \nQ 422 2884 422 3419 \nQ 422 4038 858 4394 \nQ 1294 4750 2059 4750 \nQ 2388 4750 2728 4690 \nQ 3069 4631 3425 4513 \nz\n\" id=\"DejaVuSans-53\" transform=\"scale(0.015625)\"/>\n       <path d=\"M 544 1381 \nL 544 3500 \nL 1119 3500 \nL 1119 1403 \nQ 1119 906 1312 657 \nQ 1506 409 1894 409 \nQ 2359 409 2629 706 \nQ 2900 1003 2900 1516 \nL 2900 3500 \nL 3475 3500 \nL 3475 0 \nL 2900 0 \nL 2900 538 \nQ 2691 219 2414 64 \nQ 2138 -91 1772 -91 \nQ 1169 -91 856 284 \nQ 544 659 544 1381 \nz\nM 1991 3584 \nL 1991 3584 \nz\n\" id=\"DejaVuSans-75\" transform=\"scale(0.015625)\"/>\n       <path d=\"M 2631 2963 \nQ 2534 3019 2420 3045 \nQ 2306 3072 2169 3072 \nQ 1681 3072 1420 2755 \nQ 1159 2438 1159 1844 \nL 1159 0 \nL 581 0 \nL 581 3500 \nL 1159 3500 \nL 1159 2956 \nQ 1341 3275 1631 3429 \nQ 1922 3584 2338 3584 \nQ 2397 3584 2469 3576 \nQ 2541 3569 2628 3553 \nL 2631 2963 \nz\n\" id=\"DejaVuSans-72\" transform=\"scale(0.015625)\"/>\n       <path d=\"M 191 3500 \nL 800 3500 \nL 1894 563 \nL 2988 3500 \nL 3597 3500 \nL 2284 0 \nL 1503 0 \nL 191 3500 \nz\n\" id=\"DejaVuSans-76\" transform=\"scale(0.015625)\"/>\n       <path d=\"M 603 3500 \nL 1178 3500 \nL 1178 0 \nL 603 0 \nL 603 3500 \nz\nM 603 4863 \nL 1178 4863 \nL 1178 4134 \nL 603 4134 \nL 603 4863 \nz\n\" id=\"DejaVuSans-69\" transform=\"scale(0.015625)\"/>\n       <path d=\"M 3597 1894 \nL 3597 1613 \nL 953 1613 \nQ 991 1019 1311 708 \nQ 1631 397 2203 397 \nQ 2534 397 2845 478 \nQ 3156 559 3463 722 \nL 3463 178 \nQ 3153 47 2828 -22 \nQ 2503 -91 2169 -91 \nQ 1331 -91 842 396 \nQ 353 884 353 1716 \nQ 353 2575 817 3079 \nQ 1281 3584 2069 3584 \nQ 2775 3584 3186 3129 \nQ 3597 2675 3597 1894 \nz\nM 3022 2063 \nQ 3016 2534 2758 2815 \nQ 2500 3097 2075 3097 \nQ 1594 3097 1305 2825 \nQ 1016 2553 972 2059 \nL 3022 2063 \nz\n\" id=\"DejaVuSans-65\" transform=\"scale(0.015625)\"/>\n       <path d=\"M 2906 2969 \nL 2906 4863 \nL 3481 4863 \nL 3481 0 \nL 2906 0 \nL 2906 525 \nQ 2725 213 2448 61 \nQ 2172 -91 1784 -91 \nQ 1150 -91 751 415 \nQ 353 922 353 1747 \nQ 353 2572 751 3078 \nQ 1150 3584 1784 3584 \nQ 2172 3584 2448 3432 \nQ 2725 3281 2906 2969 \nz\nM 947 1747 \nQ 947 1113 1208 752 \nQ 1469 391 1925 391 \nQ 2381 391 2643 752 \nQ 2906 1113 2906 1747 \nQ 2906 2381 2643 2742 \nQ 2381 3103 1925 3103 \nQ 1469 3103 1208 2742 \nQ 947 2381 947 1747 \nz\n\" id=\"DejaVuSans-64\" transform=\"scale(0.015625)\"/>\n      </defs>\n      <use xlink:href=\"#DejaVuSans-53\"/>\n      <use x=\"63.476562\" xlink:href=\"#DejaVuSans-75\"/>\n      <use x=\"126.855469\" xlink:href=\"#DejaVuSans-72\"/>\n      <use x=\"167.96875\" xlink:href=\"#DejaVuSans-76\"/>\n      <use x=\"227.148438\" xlink:href=\"#DejaVuSans-69\"/>\n      <use x=\"254.931641\" xlink:href=\"#DejaVuSans-76\"/>\n      <use x=\"314.111328\" xlink:href=\"#DejaVuSans-65\"/>\n      <use x=\"375.634766\" xlink:href=\"#DejaVuSans-64\"/>\n     </g>\n    </g>\n    <g id=\"patch_31\">\n     <path d=\"M 287.173438 38.767304 \nL 307.173438 38.767304 \nL 307.173438 31.767304 \nL 287.173438 31.767304 \nz\n\" style=\"fill:#ff7f0e;\"/>\n    </g>\n    <g id=\"text_19\">\n     <!-- Dead -->\n     <g transform=\"translate(315.173438 38.767304)scale(0.1 -0.1)\">\n      <defs>\n       <path d=\"M 1259 4147 \nL 1259 519 \nL 2022 519 \nQ 2988 519 3436 956 \nQ 3884 1394 3884 2338 \nQ 3884 3275 3436 3711 \nQ 2988 4147 2022 4147 \nL 1259 4147 \nz\nM 628 4666 \nL 1925 4666 \nQ 3281 4666 3915 4102 \nQ 4550 3538 4550 2338 \nQ 4550 1131 3912 565 \nQ 3275 0 1925 0 \nL 628 0 \nL 628 4666 \nz\n\" id=\"DejaVuSans-44\" transform=\"scale(0.015625)\"/>\n       <path d=\"M 2194 1759 \nQ 1497 1759 1228 1600 \nQ 959 1441 959 1056 \nQ 959 750 1161 570 \nQ 1363 391 1709 391 \nQ 2188 391 2477 730 \nQ 2766 1069 2766 1631 \nL 2766 1759 \nL 2194 1759 \nz\nM 3341 1997 \nL 3341 0 \nL 2766 0 \nL 2766 531 \nQ 2569 213 2275 61 \nQ 1981 -91 1556 -91 \nQ 1019 -91 701 211 \nQ 384 513 384 1019 \nQ 384 1609 779 1909 \nQ 1175 2209 1959 2209 \nL 2766 2209 \nL 2766 2266 \nQ 2766 2663 2505 2880 \nQ 2244 3097 1772 3097 \nQ 1472 3097 1187 3025 \nQ 903 2953 641 2809 \nL 641 3341 \nQ 956 3463 1253 3523 \nQ 1550 3584 1831 3584 \nQ 2591 3584 2966 3190 \nQ 3341 2797 3341 1997 \nz\n\" id=\"DejaVuSans-61\" transform=\"scale(0.015625)\"/>\n      </defs>\n      <use xlink:href=\"#DejaVuSans-44\"/>\n      <use x=\"77.001953\" xlink:href=\"#DejaVuSans-65\"/>\n      <use x=\"138.525391\" xlink:href=\"#DejaVuSans-61\"/>\n      <use x=\"199.804688\" xlink:href=\"#DejaVuSans-64\"/>\n     </g>\n    </g>\n   </g>\n  </g>\n </g>\n <defs>\n  <clipPath id=\"p4071dfe518\">\n   <rect height=\"217.44\" width=\"334.8\" x=\"33.2875\" y=\"7.490742\"/>\n  </clipPath>\n </defs>\n</svg>\n",
      "image/png": "[encoded data removed]"
     },
     "metadata": {
      "needs_background": "light"
     }
    }
   ],
   "metadata": {}
  },
  {
   "cell_type": "code",
   "execution_count": 97,
   "source": [
    "fare_range_count.drop(pd.Interval(left=0.0, right=50.0)).plot(kind=\"bar\")"
   ],
   "outputs": [
    {
     "output_type": "execute_result",
     "data": {
      "text/plain": [
       "<AxesSubplot:>"
      ]
     },
     "metadata": {},
     "execution_count": 97
    },
    {
     "output_type": "display_data",
     "data": {
      "text/plain": [
       "<Figure size 432x288 with 1 Axes>"
      ],
      "image/svg+xml": "<?xml version=\"1.0\" encoding=\"utf-8\" standalone=\"no\"?>\n<!DOCTYPE svg PUBLIC \"-//W3C//DTD SVG 1.1//EN\"\n  \"http://www.w3.org/Graphics/SVG/1.1/DTD/svg11.dtd\">\n<svg height=\"310.255625pt\" version=\"1.1\" viewBox=\"0 0 368.925 310.255625\" width=\"368.925pt\" xmlns=\"http://www.w3.org/2000/svg\" xmlns:xlink=\"http://www.w3.org/1999/xlink\">\n <metadata>\n  <rdf:RDF xmlns:cc=\"http://creativecommons.org/ns#\" xmlns:dc=\"http://purl.org/dc/elements/1.1/\" xmlns:rdf=\"http://www.w3.org/1999/02/22-rdf-syntax-ns#\">\n   <cc:Work>\n    <dc:type rdf:resource=\"http://purl.org/dc/dcmitype/StillImage\"/>\n    <dc:date>2021-07-26T17:00:51.052724</dc:date>\n    <dc:format>image/svg+xml</dc:format>\n    <dc:creator>\n     <cc:Agent>\n      <dc:title>Matplotlib v3.4.2, https://matplotlib.org/</dc:title>\n     </cc:Agent>\n    </dc:creator>\n   </cc:Work>\n  </rdf:RDF>\n </metadata>\n <defs>\n  <style type=\"text/css\">*{stroke-linecap:butt;stroke-linejoin:round;}</style>\n </defs>\n <g id=\"figure_1\">\n  <g id=\"patch_1\">\n   <path d=\"M -0 310.255625 \nL 368.925 310.255625 \nL 368.925 0 \nL -0 0 \nz\n\" style=\"fill:none;\"/>\n  </g>\n  <g id=\"axes_1\">\n   <g id=\"patch_2\">\n    <path d=\"M 26.925 224.64 \nL 361.725 224.64 \nL 361.725 7.2 \nL 26.925 7.2 \nz\n\" style=\"fill:#ffffff;\"/>\n   </g>\n   <g id=\"patch_3\">\n    <path clip-path=\"url(#pa672388583)\" d=\"M 35.295 224.64 \nL 43.665 224.64 \nL 43.665 17.554286 \nL 35.295 17.554286 \nz\n\" style=\"fill:#1f77b4;\"/>\n   </g>\n   <g id=\"patch_4\">\n    <path clip-path=\"url(#pa672388583)\" d=\"M 68.775 224.64 \nL 77.145 224.64 \nL 77.145 168.43102 \nL 68.775 168.43102 \nz\n\" style=\"fill:#1f77b4;\"/>\n   </g>\n   <g id=\"patch_5\">\n    <path clip-path=\"url(#pa672388583)\" d=\"M 102.255 224.64 \nL 110.625 224.64 \nL 110.625 206.889796 \nL 102.255 206.889796 \nz\n\" style=\"fill:#1f77b4;\"/>\n   </g>\n   <g id=\"patch_6\">\n    <path clip-path=\"url(#pa672388583)\" d=\"M 135.735 224.64 \nL 144.105 224.64 \nL 144.105 203.931429 \nL 135.735 203.931429 \nz\n\" style=\"fill:#1f77b4;\"/>\n   </g>\n   <g id=\"patch_7\">\n    <path clip-path=\"url(#pa672388583)\" d=\"M 169.215 224.64 \nL 177.585 224.64 \nL 177.585 212.806531 \nL 169.215 212.806531 \nz\n\" style=\"fill:#1f77b4;\"/>\n   </g>\n   <g id=\"patch_8\">\n    <path clip-path=\"url(#pa672388583)\" d=\"M 202.695 224.64 \nL 211.065 224.64 \nL 211.065 224.64 \nL 202.695 224.64 \nz\n\" style=\"fill:#1f77b4;\"/>\n   </g>\n   <g id=\"patch_9\">\n    <path clip-path=\"url(#pa672388583)\" d=\"M 236.175 224.64 \nL 244.545 224.64 \nL 244.545 224.64 \nL 236.175 224.64 \nz\n\" style=\"fill:#1f77b4;\"/>\n   </g>\n   <g id=\"patch_10\">\n    <path clip-path=\"url(#pa672388583)\" d=\"M 269.655 224.64 \nL 278.025 224.64 \nL 278.025 224.64 \nL 269.655 224.64 \nz\n\" style=\"fill:#1f77b4;\"/>\n   </g>\n   <g id=\"patch_11\">\n    <path clip-path=\"url(#pa672388583)\" d=\"M 303.135 224.64 \nL 311.505 224.64 \nL 311.505 224.64 \nL 303.135 224.64 \nz\n\" style=\"fill:#1f77b4;\"/>\n   </g>\n   <g id=\"patch_12\">\n    <path clip-path=\"url(#pa672388583)\" d=\"M 336.615 224.64 \nL 344.985 224.64 \nL 344.985 215.764898 \nL 336.615 215.764898 \nz\n\" style=\"fill:#1f77b4;\"/>\n   </g>\n   <g id=\"patch_13\">\n    <path clip-path=\"url(#pa672388583)\" d=\"M 43.665 224.64 \nL 52.035 224.64 \nL 52.035 115.180408 \nL 43.665 115.180408 \nz\n\" style=\"fill:#ff7f0e;\"/>\n   </g>\n   <g id=\"patch_14\">\n    <path clip-path=\"url(#pa672388583)\" d=\"M 77.145 224.64 \nL 85.515 224.64 \nL 85.515 209.848163 \nL 77.145 209.848163 \nz\n\" style=\"fill:#ff7f0e;\"/>\n   </g>\n   <g id=\"patch_15\">\n    <path clip-path=\"url(#pa672388583)\" d=\"M 110.625 224.64 \nL 118.995 224.64 \nL 118.995 215.764898 \nL 110.625 215.764898 \nz\n\" style=\"fill:#ff7f0e;\"/>\n   </g>\n   <g id=\"patch_16\">\n    <path clip-path=\"url(#pa672388583)\" d=\"M 144.105 224.64 \nL 152.475 224.64 \nL 152.475 212.806531 \nL 144.105 212.806531 \nz\n\" style=\"fill:#ff7f0e;\"/>\n   </g>\n   <g id=\"patch_17\">\n    <path clip-path=\"url(#pa672388583)\" d=\"M 177.585 224.64 \nL 185.955 224.64 \nL 185.955 218.723265 \nL 177.585 218.723265 \nz\n\" style=\"fill:#ff7f0e;\"/>\n   </g>\n   <g id=\"patch_18\">\n    <path clip-path=\"url(#pa672388583)\" d=\"M 211.065 224.64 \nL 219.435 224.64 \nL 219.435 224.64 \nL 211.065 224.64 \nz\n\" style=\"fill:#ff7f0e;\"/>\n   </g>\n   <g id=\"patch_19\">\n    <path clip-path=\"url(#pa672388583)\" d=\"M 244.545 224.64 \nL 252.915 224.64 \nL 252.915 224.64 \nL 244.545 224.64 \nz\n\" style=\"fill:#ff7f0e;\"/>\n   </g>\n   <g id=\"patch_20\">\n    <path clip-path=\"url(#pa672388583)\" d=\"M 278.025 224.64 \nL 286.395 224.64 \nL 286.395 224.64 \nL 278.025 224.64 \nz\n\" style=\"fill:#ff7f0e;\"/>\n   </g>\n   <g id=\"patch_21\">\n    <path clip-path=\"url(#pa672388583)\" d=\"M 311.505 224.64 \nL 319.875 224.64 \nL 319.875 224.64 \nL 311.505 224.64 \nz\n\" style=\"fill:#ff7f0e;\"/>\n   </g>\n   <g id=\"patch_22\">\n    <path clip-path=\"url(#pa672388583)\" d=\"M 344.985 224.64 \nL 353.355 224.64 \nL 353.355 224.64 \nL 344.985 224.64 \nz\n\" style=\"fill:#ff7f0e;\"/>\n   </g>\n   <g id=\"matplotlib.axis_1\">\n    <g id=\"xtick_1\">\n     <g id=\"line2d_1\">\n      <defs>\n       <path d=\"M 0 0 \nL 0 3.5 \n\" id=\"m0d1b8b02b2\" style=\"stroke:#000000;stroke-width:0.8;\"/>\n      </defs>\n      <g>\n       <use style=\"stroke:#000000;stroke-width:0.8;\" x=\"43.665\" xlink:href=\"#m0d1b8b02b2\" y=\"224.64\"/>\n      </g>\n     </g>\n     <g id=\"text_1\">\n      <!-- (50.0, 100.0] -->\n      <g transform=\"translate(46.424375 296.693125)rotate(-90)scale(0.1 -0.1)\">\n       <defs>\n        <path d=\"M 1984 4856 \nQ 1566 4138 1362 3434 \nQ 1159 2731 1159 2009 \nQ 1159 1288 1364 580 \nQ 1569 -128 1984 -844 \nL 1484 -844 \nQ 1016 -109 783 600 \nQ 550 1309 550 2009 \nQ 550 2706 781 3412 \nQ 1013 4119 1484 4856 \nL 1984 4856 \nz\n\" id=\"DejaVuSans-28\" transform=\"scale(0.015625)\"/>\n        <path d=\"M 691 4666 \nL 3169 4666 \nL 3169 4134 \nL 1269 4134 \nL 1269 2991 \nQ 1406 3038 1543 3061 \nQ 1681 3084 1819 3084 \nQ 2600 3084 3056 2656 \nQ 3513 2228 3513 1497 \nQ 3513 744 3044 326 \nQ 2575 -91 1722 -91 \nQ 1428 -91 1123 -41 \nQ 819 9 494 109 \nL 494 744 \nQ 775 591 1075 516 \nQ 1375 441 1709 441 \nQ 2250 441 2565 725 \nQ 2881 1009 2881 1497 \nQ 2881 1984 2565 2268 \nQ 2250 2553 1709 2553 \nQ 1456 2553 1204 2497 \nQ 953 2441 691 2322 \nL 691 4666 \nz\n\" id=\"DejaVuSans-35\" transform=\"scale(0.015625)\"/>\n        <path d=\"M 2034 4250 \nQ 1547 4250 1301 3770 \nQ 1056 3291 1056 2328 \nQ 1056 1369 1301 889 \nQ 1547 409 2034 409 \nQ 2525 409 2770 889 \nQ 3016 1369 3016 2328 \nQ 3016 3291 2770 3770 \nQ 2525 4250 2034 4250 \nz\nM 2034 4750 \nQ 2819 4750 3233 4129 \nQ 3647 3509 3647 2328 \nQ 3647 1150 3233 529 \nQ 2819 -91 2034 -91 \nQ 1250 -91 836 529 \nQ 422 1150 422 2328 \nQ 422 3509 836 4129 \nQ 1250 4750 2034 4750 \nz\n\" id=\"DejaVuSans-30\" transform=\"scale(0.015625)\"/>\n        <path d=\"M 684 794 \nL 1344 794 \nL 1344 0 \nL 684 0 \nL 684 794 \nz\n\" id=\"DejaVuSans-2e\" transform=\"scale(0.015625)\"/>\n        <path d=\"M 750 794 \nL 1409 794 \nL 1409 256 \nL 897 -744 \nL 494 -744 \nL 750 256 \nL 750 794 \nz\n\" id=\"DejaVuSans-2c\" transform=\"scale(0.015625)\"/>\n        <path id=\"DejaVuSans-20\" transform=\"scale(0.015625)\"/>\n        <path d=\"M 794 531 \nL 1825 531 \nL 1825 4091 \nL 703 3866 \nL 703 4441 \nL 1819 4666 \nL 2450 4666 \nL 2450 531 \nL 3481 531 \nL 3481 0 \nL 794 0 \nL 794 531 \nz\n\" id=\"DejaVuSans-31\" transform=\"scale(0.015625)\"/>\n        <path d=\"M 1947 4863 \nL 1947 -844 \nL 622 -844 \nL 622 -397 \nL 1369 -397 \nL 1369 4416 \nL 622 4416 \nL 622 4863 \nL 1947 4863 \nz\n\" id=\"DejaVuSans-5d\" transform=\"scale(0.015625)\"/>\n       </defs>\n       <use xlink:href=\"#DejaVuSans-28\"/>\n       <use x=\"39.013672\" xlink:href=\"#DejaVuSans-35\"/>\n       <use x=\"102.636719\" xlink:href=\"#DejaVuSans-30\"/>\n       <use x=\"166.259766\" xlink:href=\"#DejaVuSans-2e\"/>\n       <use x=\"198.046875\" xlink:href=\"#DejaVuSans-30\"/>\n       <use x=\"261.669922\" xlink:href=\"#DejaVuSans-2c\"/>\n       <use x=\"293.457031\" xlink:href=\"#DejaVuSans-20\"/>\n       <use x=\"325.244141\" xlink:href=\"#DejaVuSans-31\"/>\n       <use x=\"388.867188\" xlink:href=\"#DejaVuSans-30\"/>\n       <use x=\"452.490234\" xlink:href=\"#DejaVuSans-30\"/>\n       <use x=\"516.113281\" xlink:href=\"#DejaVuSans-2e\"/>\n       <use x=\"547.900391\" xlink:href=\"#DejaVuSans-30\"/>\n       <use x=\"611.523438\" xlink:href=\"#DejaVuSans-5d\"/>\n      </g>\n     </g>\n    </g>\n    <g id=\"xtick_2\">\n     <g id=\"line2d_2\">\n      <g>\n       <use style=\"stroke:#000000;stroke-width:0.8;\" x=\"77.145\" xlink:href=\"#m0d1b8b02b2\" y=\"224.64\"/>\n      </g>\n     </g>\n     <g id=\"text_2\">\n      <!-- (100.0, 150.0] -->\n      <g transform=\"translate(79.904375 303.055625)rotate(-90)scale(0.1 -0.1)\">\n       <use xlink:href=\"#DejaVuSans-28\"/>\n       <use x=\"39.013672\" xlink:href=\"#DejaVuSans-31\"/>\n       <use x=\"102.636719\" xlink:href=\"#DejaVuSans-30\"/>\n       <use x=\"166.259766\" xlink:href=\"#DejaVuSans-30\"/>\n       <use x=\"229.882812\" xlink:href=\"#DejaVuSans-2e\"/>\n       <use x=\"261.669922\" xlink:href=\"#DejaVuSans-30\"/>\n       <use x=\"325.292969\" xlink:href=\"#DejaVuSans-2c\"/>\n       <use x=\"357.080078\" xlink:href=\"#DejaVuSans-20\"/>\n       <use x=\"388.867188\" xlink:href=\"#DejaVuSans-31\"/>\n       <use x=\"452.490234\" xlink:href=\"#DejaVuSans-35\"/>\n       <use x=\"516.113281\" xlink:href=\"#DejaVuSans-30\"/>\n       <use x=\"579.736328\" xlink:href=\"#DejaVuSans-2e\"/>\n       <use x=\"611.523438\" xlink:href=\"#DejaVuSans-30\"/>\n       <use x=\"675.146484\" xlink:href=\"#DejaVuSans-5d\"/>\n      </g>\n     </g>\n    </g>\n    <g id=\"xtick_3\">\n     <g id=\"line2d_3\">\n      <g>\n       <use style=\"stroke:#000000;stroke-width:0.8;\" x=\"110.625\" xlink:href=\"#m0d1b8b02b2\" y=\"224.64\"/>\n      </g>\n     </g>\n     <g id=\"text_3\">\n      <!-- (150.0, 200.0] -->\n      <g transform=\"translate(113.384375 303.055625)rotate(-90)scale(0.1 -0.1)\">\n       <defs>\n        <path d=\"M 1228 531 \nL 3431 531 \nL 3431 0 \nL 469 0 \nL 469 531 \nQ 828 903 1448 1529 \nQ 2069 2156 2228 2338 \nQ 2531 2678 2651 2914 \nQ 2772 3150 2772 3378 \nQ 2772 3750 2511 3984 \nQ 2250 4219 1831 4219 \nQ 1534 4219 1204 4116 \nQ 875 4013 500 3803 \nL 500 4441 \nQ 881 4594 1212 4672 \nQ 1544 4750 1819 4750 \nQ 2544 4750 2975 4387 \nQ 3406 4025 3406 3419 \nQ 3406 3131 3298 2873 \nQ 3191 2616 2906 2266 \nQ 2828 2175 2409 1742 \nQ 1991 1309 1228 531 \nz\n\" id=\"DejaVuSans-32\" transform=\"scale(0.015625)\"/>\n       </defs>\n       <use xlink:href=\"#DejaVuSans-28\"/>\n       <use x=\"39.013672\" xlink:href=\"#DejaVuSans-31\"/>\n       <use x=\"102.636719\" xlink:href=\"#DejaVuSans-35\"/>\n       <use x=\"166.259766\" xlink:href=\"#DejaVuSans-30\"/>\n       <use x=\"229.882812\" xlink:href=\"#DejaVuSans-2e\"/>\n       <use x=\"261.669922\" xlink:href=\"#DejaVuSans-30\"/>\n       <use x=\"325.292969\" xlink:href=\"#DejaVuSans-2c\"/>\n       <use x=\"357.080078\" xlink:href=\"#DejaVuSans-20\"/>\n       <use x=\"388.867188\" xlink:href=\"#DejaVuSans-32\"/>\n       <use x=\"452.490234\" xlink:href=\"#DejaVuSans-30\"/>\n       <use x=\"516.113281\" xlink:href=\"#DejaVuSans-30\"/>\n       <use x=\"579.736328\" xlink:href=\"#DejaVuSans-2e\"/>\n       <use x=\"611.523438\" xlink:href=\"#DejaVuSans-30\"/>\n       <use x=\"675.146484\" xlink:href=\"#DejaVuSans-5d\"/>\n      </g>\n     </g>\n    </g>\n    <g id=\"xtick_4\">\n     <g id=\"line2d_4\">\n      <g>\n       <use style=\"stroke:#000000;stroke-width:0.8;\" x=\"144.105\" xlink:href=\"#m0d1b8b02b2\" y=\"224.64\"/>\n      </g>\n     </g>\n     <g id=\"text_4\">\n      <!-- (200.0, 250.0] -->\n      <g transform=\"translate(146.864375 303.055625)rotate(-90)scale(0.1 -0.1)\">\n       <use xlink:href=\"#DejaVuSans-28\"/>\n       <use x=\"39.013672\" xlink:href=\"#DejaVuSans-32\"/>\n       <use x=\"102.636719\" xlink:href=\"#DejaVuSans-30\"/>\n       <use x=\"166.259766\" xlink:href=\"#DejaVuSans-30\"/>\n       <use x=\"229.882812\" xlink:href=\"#DejaVuSans-2e\"/>\n       <use x=\"261.669922\" xlink:href=\"#DejaVuSans-30\"/>\n       <use x=\"325.292969\" xlink:href=\"#DejaVuSans-2c\"/>\n       <use x=\"357.080078\" xlink:href=\"#DejaVuSans-20\"/>\n       <use x=\"388.867188\" xlink:href=\"#DejaVuSans-32\"/>\n       <use x=\"452.490234\" xlink:href=\"#DejaVuSans-35\"/>\n       <use x=\"516.113281\" xlink:href=\"#DejaVuSans-30\"/>\n       <use x=\"579.736328\" xlink:href=\"#DejaVuSans-2e\"/>\n       <use x=\"611.523438\" xlink:href=\"#DejaVuSans-30\"/>\n       <use x=\"675.146484\" xlink:href=\"#DejaVuSans-5d\"/>\n      </g>\n     </g>\n    </g>\n    <g id=\"xtick_5\">\n     <g id=\"line2d_5\">\n      <g>\n       <use style=\"stroke:#000000;stroke-width:0.8;\" x=\"177.585\" xlink:href=\"#m0d1b8b02b2\" y=\"224.64\"/>\n      </g>\n     </g>\n     <g id=\"text_5\">\n      <!-- (250.0, 300.0] -->\n      <g transform=\"translate(180.344375 303.055625)rotate(-90)scale(0.1 -0.1)\">\n       <defs>\n        <path d=\"M 2597 2516 \nQ 3050 2419 3304 2112 \nQ 3559 1806 3559 1356 \nQ 3559 666 3084 287 \nQ 2609 -91 1734 -91 \nQ 1441 -91 1130 -33 \nQ 819 25 488 141 \nL 488 750 \nQ 750 597 1062 519 \nQ 1375 441 1716 441 \nQ 2309 441 2620 675 \nQ 2931 909 2931 1356 \nQ 2931 1769 2642 2001 \nQ 2353 2234 1838 2234 \nL 1294 2234 \nL 1294 2753 \nL 1863 2753 \nQ 2328 2753 2575 2939 \nQ 2822 3125 2822 3475 \nQ 2822 3834 2567 4026 \nQ 2313 4219 1838 4219 \nQ 1578 4219 1281 4162 \nQ 984 4106 628 3988 \nL 628 4550 \nQ 988 4650 1302 4700 \nQ 1616 4750 1894 4750 \nQ 2613 4750 3031 4423 \nQ 3450 4097 3450 3541 \nQ 3450 3153 3228 2886 \nQ 3006 2619 2597 2516 \nz\n\" id=\"DejaVuSans-33\" transform=\"scale(0.015625)\"/>\n       </defs>\n       <use xlink:href=\"#DejaVuSans-28\"/>\n       <use x=\"39.013672\" xlink:href=\"#DejaVuSans-32\"/>\n       <use x=\"102.636719\" xlink:href=\"#DejaVuSans-35\"/>\n       <use x=\"166.259766\" xlink:href=\"#DejaVuSans-30\"/>\n       <use x=\"229.882812\" xlink:href=\"#DejaVuSans-2e\"/>\n       <use x=\"261.669922\" xlink:href=\"#DejaVuSans-30\"/>\n       <use x=\"325.292969\" xlink:href=\"#DejaVuSans-2c\"/>\n       <use x=\"357.080078\" xlink:href=\"#DejaVuSans-20\"/>\n       <use x=\"388.867188\" xlink:href=\"#DejaVuSans-33\"/>\n       <use x=\"452.490234\" xlink:href=\"#DejaVuSans-30\"/>\n       <use x=\"516.113281\" xlink:href=\"#DejaVuSans-30\"/>\n       <use x=\"579.736328\" xlink:href=\"#DejaVuSans-2e\"/>\n       <use x=\"611.523438\" xlink:href=\"#DejaVuSans-30\"/>\n       <use x=\"675.146484\" xlink:href=\"#DejaVuSans-5d\"/>\n      </g>\n     </g>\n    </g>\n    <g id=\"xtick_6\">\n     <g id=\"line2d_6\">\n      <g>\n       <use style=\"stroke:#000000;stroke-width:0.8;\" x=\"211.065\" xlink:href=\"#m0d1b8b02b2\" y=\"224.64\"/>\n      </g>\n     </g>\n     <g id=\"text_6\">\n      <!-- (300.0, 350.0] -->\n      <g transform=\"translate(213.824375 303.055625)rotate(-90)scale(0.1 -0.1)\">\n       <use xlink:href=\"#DejaVuSans-28\"/>\n       <use x=\"39.013672\" xlink:href=\"#DejaVuSans-33\"/>\n       <use x=\"102.636719\" xlink:href=\"#DejaVuSans-30\"/>\n       <use x=\"166.259766\" xlink:href=\"#DejaVuSans-30\"/>\n       <use x=\"229.882812\" xlink:href=\"#DejaVuSans-2e\"/>\n       <use x=\"261.669922\" xlink:href=\"#DejaVuSans-30\"/>\n       <use x=\"325.292969\" xlink:href=\"#DejaVuSans-2c\"/>\n       <use x=\"357.080078\" xlink:href=\"#DejaVuSans-20\"/>\n       <use x=\"388.867188\" xlink:href=\"#DejaVuSans-33\"/>\n       <use x=\"452.490234\" xlink:href=\"#DejaVuSans-35\"/>\n       <use x=\"516.113281\" xlink:href=\"#DejaVuSans-30\"/>\n       <use x=\"579.736328\" xlink:href=\"#DejaVuSans-2e\"/>\n       <use x=\"611.523438\" xlink:href=\"#DejaVuSans-30\"/>\n       <use x=\"675.146484\" xlink:href=\"#DejaVuSans-5d\"/>\n      </g>\n     </g>\n    </g>\n    <g id=\"xtick_7\">\n     <g id=\"line2d_7\">\n      <g>\n       <use style=\"stroke:#000000;stroke-width:0.8;\" x=\"244.545\" xlink:href=\"#m0d1b8b02b2\" y=\"224.64\"/>\n      </g>\n     </g>\n     <g id=\"text_7\">\n      <!-- (350.0, 400.0] -->\n      <g transform=\"translate(247.304375 303.055625)rotate(-90)scale(0.1 -0.1)\">\n       <defs>\n        <path d=\"M 2419 4116 \nL 825 1625 \nL 2419 1625 \nL 2419 4116 \nz\nM 2253 4666 \nL 3047 4666 \nL 3047 1625 \nL 3713 1625 \nL 3713 1100 \nL 3047 1100 \nL 3047 0 \nL 2419 0 \nL 2419 1100 \nL 313 1100 \nL 313 1709 \nL 2253 4666 \nz\n\" id=\"DejaVuSans-34\" transform=\"scale(0.015625)\"/>\n       </defs>\n       <use xlink:href=\"#DejaVuSans-28\"/>\n       <use x=\"39.013672\" xlink:href=\"#DejaVuSans-33\"/>\n       <use x=\"102.636719\" xlink:href=\"#DejaVuSans-35\"/>\n       <use x=\"166.259766\" xlink:href=\"#DejaVuSans-30\"/>\n       <use x=\"229.882812\" xlink:href=\"#DejaVuSans-2e\"/>\n       <use x=\"261.669922\" xlink:href=\"#DejaVuSans-30\"/>\n       <use x=\"325.292969\" xlink:href=\"#DejaVuSans-2c\"/>\n       <use x=\"357.080078\" xlink:href=\"#DejaVuSans-20\"/>\n       <use x=\"388.867188\" xlink:href=\"#DejaVuSans-34\"/>\n       <use x=\"452.490234\" xlink:href=\"#DejaVuSans-30\"/>\n       <use x=\"516.113281\" xlink:href=\"#DejaVuSans-30\"/>\n       <use x=\"579.736328\" xlink:href=\"#DejaVuSans-2e\"/>\n       <use x=\"611.523438\" xlink:href=\"#DejaVuSans-30\"/>\n       <use x=\"675.146484\" xlink:href=\"#DejaVuSans-5d\"/>\n      </g>\n     </g>\n    </g>\n    <g id=\"xtick_8\">\n     <g id=\"line2d_8\">\n      <g>\n       <use style=\"stroke:#000000;stroke-width:0.8;\" x=\"278.025\" xlink:href=\"#m0d1b8b02b2\" y=\"224.64\"/>\n      </g>\n     </g>\n     <g id=\"text_8\">\n      <!-- (400.0, 450.0] -->\n      <g transform=\"translate(280.784375 303.055625)rotate(-90)scale(0.1 -0.1)\">\n       <use xlink:href=\"#DejaVuSans-28\"/>\n       <use x=\"39.013672\" xlink:href=\"#DejaVuSans-34\"/>\n       <use x=\"102.636719\" xlink:href=\"#DejaVuSans-30\"/>\n       <use x=\"166.259766\" xlink:href=\"#DejaVuSans-30\"/>\n       <use x=\"229.882812\" xlink:href=\"#DejaVuSans-2e\"/>\n       <use x=\"261.669922\" xlink:href=\"#DejaVuSans-30\"/>\n       <use x=\"325.292969\" xlink:href=\"#DejaVuSans-2c\"/>\n       <use x=\"357.080078\" xlink:href=\"#DejaVuSans-20\"/>\n       <use x=\"388.867188\" xlink:href=\"#DejaVuSans-34\"/>\n       <use x=\"452.490234\" xlink:href=\"#DejaVuSans-35\"/>\n       <use x=\"516.113281\" xlink:href=\"#DejaVuSans-30\"/>\n       <use x=\"579.736328\" xlink:href=\"#DejaVuSans-2e\"/>\n       <use x=\"611.523438\" xlink:href=\"#DejaVuSans-30\"/>\n       <use x=\"675.146484\" xlink:href=\"#DejaVuSans-5d\"/>\n      </g>\n     </g>\n    </g>\n    <g id=\"xtick_9\">\n     <g id=\"line2d_9\">\n      <g>\n       <use style=\"stroke:#000000;stroke-width:0.8;\" x=\"311.505\" xlink:href=\"#m0d1b8b02b2\" y=\"224.64\"/>\n      </g>\n     </g>\n     <g id=\"text_9\">\n      <!-- (450.0, 500.0] -->\n      <g transform=\"translate(314.264375 303.055625)rotate(-90)scale(0.1 -0.1)\">\n       <use xlink:href=\"#DejaVuSans-28\"/>\n       <use x=\"39.013672\" xlink:href=\"#DejaVuSans-34\"/>\n       <use x=\"102.636719\" xlink:href=\"#DejaVuSans-35\"/>\n       <use x=\"166.259766\" xlink:href=\"#DejaVuSans-30\"/>\n       <use x=\"229.882812\" xlink:href=\"#DejaVuSans-2e\"/>\n       <use x=\"261.669922\" xlink:href=\"#DejaVuSans-30\"/>\n       <use x=\"325.292969\" xlink:href=\"#DejaVuSans-2c\"/>\n       <use x=\"357.080078\" xlink:href=\"#DejaVuSans-20\"/>\n       <use x=\"388.867188\" xlink:href=\"#DejaVuSans-35\"/>\n       <use x=\"452.490234\" xlink:href=\"#DejaVuSans-30\"/>\n       <use x=\"516.113281\" xlink:href=\"#DejaVuSans-30\"/>\n       <use x=\"579.736328\" xlink:href=\"#DejaVuSans-2e\"/>\n       <use x=\"611.523438\" xlink:href=\"#DejaVuSans-30\"/>\n       <use x=\"675.146484\" xlink:href=\"#DejaVuSans-5d\"/>\n      </g>\n     </g>\n    </g>\n    <g id=\"xtick_10\">\n     <g id=\"line2d_10\">\n      <g>\n       <use style=\"stroke:#000000;stroke-width:0.8;\" x=\"344.985\" xlink:href=\"#m0d1b8b02b2\" y=\"224.64\"/>\n      </g>\n     </g>\n     <g id=\"text_10\">\n      <!-- (500.0, 550.0] -->\n      <g transform=\"translate(347.744375 303.055625)rotate(-90)scale(0.1 -0.1)\">\n       <use xlink:href=\"#DejaVuSans-28\"/>\n       <use x=\"39.013672\" xlink:href=\"#DejaVuSans-35\"/>\n       <use x=\"102.636719\" xlink:href=\"#DejaVuSans-30\"/>\n       <use x=\"166.259766\" xlink:href=\"#DejaVuSans-30\"/>\n       <use x=\"229.882812\" xlink:href=\"#DejaVuSans-2e\"/>\n       <use x=\"261.669922\" xlink:href=\"#DejaVuSans-30\"/>\n       <use x=\"325.292969\" xlink:href=\"#DejaVuSans-2c\"/>\n       <use x=\"357.080078\" xlink:href=\"#DejaVuSans-20\"/>\n       <use x=\"388.867188\" xlink:href=\"#DejaVuSans-35\"/>\n       <use x=\"452.490234\" xlink:href=\"#DejaVuSans-35\"/>\n       <use x=\"516.113281\" xlink:href=\"#DejaVuSans-30\"/>\n       <use x=\"579.736328\" xlink:href=\"#DejaVuSans-2e\"/>\n       <use x=\"611.523438\" xlink:href=\"#DejaVuSans-30\"/>\n       <use x=\"675.146484\" xlink:href=\"#DejaVuSans-5d\"/>\n      </g>\n     </g>\n    </g>\n   </g>\n   <g id=\"matplotlib.axis_2\">\n    <g id=\"ytick_1\">\n     <g id=\"line2d_11\">\n      <defs>\n       <path d=\"M 0 0 \nL -3.5 0 \n\" id=\"mcececd420a\" style=\"stroke:#000000;stroke-width:0.8;\"/>\n      </defs>\n      <g>\n       <use style=\"stroke:#000000;stroke-width:0.8;\" x=\"26.925\" xlink:href=\"#mcececd420a\" y=\"224.64\"/>\n      </g>\n     </g>\n     <g id=\"text_11\">\n      <!-- 0 -->\n      <g transform=\"translate(13.5625 228.439219)scale(0.1 -0.1)\">\n       <use xlink:href=\"#DejaVuSans-30\"/>\n      </g>\n     </g>\n    </g>\n    <g id=\"ytick_2\">\n     <g id=\"line2d_12\">\n      <g>\n       <use style=\"stroke:#000000;stroke-width:0.8;\" x=\"26.925\" xlink:href=\"#mcececd420a\" y=\"195.056327\"/>\n      </g>\n     </g>\n     <g id=\"text_12\">\n      <!-- 10 -->\n      <g transform=\"translate(7.2 198.855545)scale(0.1 -0.1)\">\n       <use xlink:href=\"#DejaVuSans-31\"/>\n       <use x=\"63.623047\" xlink:href=\"#DejaVuSans-30\"/>\n      </g>\n     </g>\n    </g>\n    <g id=\"ytick_3\">\n     <g id=\"line2d_13\">\n      <g>\n       <use style=\"stroke:#000000;stroke-width:0.8;\" x=\"26.925\" xlink:href=\"#mcececd420a\" y=\"165.472653\"/>\n      </g>\n     </g>\n     <g id=\"text_13\">\n      <!-- 20 -->\n      <g transform=\"translate(7.2 169.271872)scale(0.1 -0.1)\">\n       <use xlink:href=\"#DejaVuSans-32\"/>\n       <use x=\"63.623047\" xlink:href=\"#DejaVuSans-30\"/>\n      </g>\n     </g>\n    </g>\n    <g id=\"ytick_4\">\n     <g id=\"line2d_14\">\n      <g>\n       <use style=\"stroke:#000000;stroke-width:0.8;\" x=\"26.925\" xlink:href=\"#mcececd420a\" y=\"135.88898\"/>\n      </g>\n     </g>\n     <g id=\"text_14\">\n      <!-- 30 -->\n      <g transform=\"translate(7.2 139.688198)scale(0.1 -0.1)\">\n       <use xlink:href=\"#DejaVuSans-33\"/>\n       <use x=\"63.623047\" xlink:href=\"#DejaVuSans-30\"/>\n      </g>\n     </g>\n    </g>\n    <g id=\"ytick_5\">\n     <g id=\"line2d_15\">\n      <g>\n       <use style=\"stroke:#000000;stroke-width:0.8;\" x=\"26.925\" xlink:href=\"#mcececd420a\" y=\"106.305306\"/>\n      </g>\n     </g>\n     <g id=\"text_15\">\n      <!-- 40 -->\n      <g transform=\"translate(7.2 110.104525)scale(0.1 -0.1)\">\n       <use xlink:href=\"#DejaVuSans-34\"/>\n       <use x=\"63.623047\" xlink:href=\"#DejaVuSans-30\"/>\n      </g>\n     </g>\n    </g>\n    <g id=\"ytick_6\">\n     <g id=\"line2d_16\">\n      <g>\n       <use style=\"stroke:#000000;stroke-width:0.8;\" x=\"26.925\" xlink:href=\"#mcececd420a\" y=\"76.721633\"/>\n      </g>\n     </g>\n     <g id=\"text_16\">\n      <!-- 50 -->\n      <g transform=\"translate(7.2 80.520851)scale(0.1 -0.1)\">\n       <use xlink:href=\"#DejaVuSans-35\"/>\n       <use x=\"63.623047\" xlink:href=\"#DejaVuSans-30\"/>\n      </g>\n     </g>\n    </g>\n    <g id=\"ytick_7\">\n     <g id=\"line2d_17\">\n      <g>\n       <use style=\"stroke:#000000;stroke-width:0.8;\" x=\"26.925\" xlink:href=\"#mcececd420a\" y=\"47.137959\"/>\n      </g>\n     </g>\n     <g id=\"text_17\">\n      <!-- 60 -->\n      <g transform=\"translate(7.2 50.937178)scale(0.1 -0.1)\">\n       <defs>\n        <path d=\"M 2113 2584 \nQ 1688 2584 1439 2293 \nQ 1191 2003 1191 1497 \nQ 1191 994 1439 701 \nQ 1688 409 2113 409 \nQ 2538 409 2786 701 \nQ 3034 994 3034 1497 \nQ 3034 2003 2786 2293 \nQ 2538 2584 2113 2584 \nz\nM 3366 4563 \nL 3366 3988 \nQ 3128 4100 2886 4159 \nQ 2644 4219 2406 4219 \nQ 1781 4219 1451 3797 \nQ 1122 3375 1075 2522 \nQ 1259 2794 1537 2939 \nQ 1816 3084 2150 3084 \nQ 2853 3084 3261 2657 \nQ 3669 2231 3669 1497 \nQ 3669 778 3244 343 \nQ 2819 -91 2113 -91 \nQ 1303 -91 875 529 \nQ 447 1150 447 2328 \nQ 447 3434 972 4092 \nQ 1497 4750 2381 4750 \nQ 2619 4750 2861 4703 \nQ 3103 4656 3366 4563 \nz\n\" id=\"DejaVuSans-36\" transform=\"scale(0.015625)\"/>\n       </defs>\n       <use xlink:href=\"#DejaVuSans-36\"/>\n       <use x=\"63.623047\" xlink:href=\"#DejaVuSans-30\"/>\n      </g>\n     </g>\n    </g>\n    <g id=\"ytick_8\">\n     <g id=\"line2d_18\">\n      <g>\n       <use style=\"stroke:#000000;stroke-width:0.8;\" x=\"26.925\" xlink:href=\"#mcececd420a\" y=\"17.554286\"/>\n      </g>\n     </g>\n     <g id=\"text_18\">\n      <!-- 70 -->\n      <g transform=\"translate(7.2 21.353504)scale(0.1 -0.1)\">\n       <defs>\n        <path d=\"M 525 4666 \nL 3525 4666 \nL 3525 4397 \nL 1831 0 \nL 1172 0 \nL 2766 4134 \nL 525 4134 \nL 525 4666 \nz\n\" id=\"DejaVuSans-37\" transform=\"scale(0.015625)\"/>\n       </defs>\n       <use xlink:href=\"#DejaVuSans-37\"/>\n       <use x=\"63.623047\" xlink:href=\"#DejaVuSans-30\"/>\n      </g>\n     </g>\n    </g>\n   </g>\n   <g id=\"patch_23\">\n    <path d=\"M 26.925 224.64 \nL 26.925 7.2 \n\" style=\"fill:none;stroke:#000000;stroke-linecap:square;stroke-linejoin:miter;stroke-width:0.8;\"/>\n   </g>\n   <g id=\"patch_24\">\n    <path d=\"M 361.725 224.64 \nL 361.725 7.2 \n\" style=\"fill:none;stroke:#000000;stroke-linecap:square;stroke-linejoin:miter;stroke-width:0.8;\"/>\n   </g>\n   <g id=\"patch_25\">\n    <path d=\"M 26.925 224.64 \nL 361.725 224.64 \n\" style=\"fill:none;stroke:#000000;stroke-linecap:square;stroke-linejoin:miter;stroke-width:0.8;\"/>\n   </g>\n   <g id=\"patch_26\">\n    <path d=\"M 26.925 7.2 \nL 361.725 7.2 \n\" style=\"fill:none;stroke:#000000;stroke-linecap:square;stroke-linejoin:miter;stroke-width:0.8;\"/>\n   </g>\n   <g id=\"legend_1\">\n    <g id=\"patch_27\">\n     <path d=\"M 278.810938 44.55625 \nL 354.725 44.55625 \nQ 356.725 44.55625 356.725 42.55625 \nL 356.725 14.2 \nQ 356.725 12.2 354.725 12.2 \nL 278.810938 12.2 \nQ 276.810938 12.2 276.810938 14.2 \nL 276.810938 42.55625 \nQ 276.810938 44.55625 278.810938 44.55625 \nz\n\" style=\"fill:#ffffff;opacity:0.8;stroke:#cccccc;stroke-linejoin:miter;\"/>\n    </g>\n    <g id=\"patch_28\">\n     <path d=\"M 280.810938 23.798437 \nL 300.810938 23.798437 \nL 300.810938 16.798437 \nL 280.810938 16.798437 \nz\n\" style=\"fill:#1f77b4;\"/>\n    </g>\n    <g id=\"text_19\">\n     <!-- Survived -->\n     <g transform=\"translate(308.810938 23.798437)scale(0.1 -0.1)\">\n      <defs>\n       <path d=\"M 3425 4513 \nL 3425 3897 \nQ 3066 4069 2747 4153 \nQ 2428 4238 2131 4238 \nQ 1616 4238 1336 4038 \nQ 1056 3838 1056 3469 \nQ 1056 3159 1242 3001 \nQ 1428 2844 1947 2747 \nL 2328 2669 \nQ 3034 2534 3370 2195 \nQ 3706 1856 3706 1288 \nQ 3706 609 3251 259 \nQ 2797 -91 1919 -91 \nQ 1588 -91 1214 -16 \nQ 841 59 441 206 \nL 441 856 \nQ 825 641 1194 531 \nQ 1563 422 1919 422 \nQ 2459 422 2753 634 \nQ 3047 847 3047 1241 \nQ 3047 1584 2836 1778 \nQ 2625 1972 2144 2069 \nL 1759 2144 \nQ 1053 2284 737 2584 \nQ 422 2884 422 3419 \nQ 422 4038 858 4394 \nQ 1294 4750 2059 4750 \nQ 2388 4750 2728 4690 \nQ 3069 4631 3425 4513 \nz\n\" id=\"DejaVuSans-53\" transform=\"scale(0.015625)\"/>\n       <path d=\"M 544 1381 \nL 544 3500 \nL 1119 3500 \nL 1119 1403 \nQ 1119 906 1312 657 \nQ 1506 409 1894 409 \nQ 2359 409 2629 706 \nQ 2900 1003 2900 1516 \nL 2900 3500 \nL 3475 3500 \nL 3475 0 \nL 2900 0 \nL 2900 538 \nQ 2691 219 2414 64 \nQ 2138 -91 1772 -91 \nQ 1169 -91 856 284 \nQ 544 659 544 1381 \nz\nM 1991 3584 \nL 1991 3584 \nz\n\" id=\"DejaVuSans-75\" transform=\"scale(0.015625)\"/>\n       <path d=\"M 2631 2963 \nQ 2534 3019 2420 3045 \nQ 2306 3072 2169 3072 \nQ 1681 3072 1420 2755 \nQ 1159 2438 1159 1844 \nL 1159 0 \nL 581 0 \nL 581 3500 \nL 1159 3500 \nL 1159 2956 \nQ 1341 3275 1631 3429 \nQ 1922 3584 2338 3584 \nQ 2397 3584 2469 3576 \nQ 2541 3569 2628 3553 \nL 2631 2963 \nz\n\" id=\"DejaVuSans-72\" transform=\"scale(0.015625)\"/>\n       <path d=\"M 191 3500 \nL 800 3500 \nL 1894 563 \nL 2988 3500 \nL 3597 3500 \nL 2284 0 \nL 1503 0 \nL 191 3500 \nz\n\" id=\"DejaVuSans-76\" transform=\"scale(0.015625)\"/>\n       <path d=\"M 603 3500 \nL 1178 3500 \nL 1178 0 \nL 603 0 \nL 603 3500 \nz\nM 603 4863 \nL 1178 4863 \nL 1178 4134 \nL 603 4134 \nL 603 4863 \nz\n\" id=\"DejaVuSans-69\" transform=\"scale(0.015625)\"/>\n       <path d=\"M 3597 1894 \nL 3597 1613 \nL 953 1613 \nQ 991 1019 1311 708 \nQ 1631 397 2203 397 \nQ 2534 397 2845 478 \nQ 3156 559 3463 722 \nL 3463 178 \nQ 3153 47 2828 -22 \nQ 2503 -91 2169 -91 \nQ 1331 -91 842 396 \nQ 353 884 353 1716 \nQ 353 2575 817 3079 \nQ 1281 3584 2069 3584 \nQ 2775 3584 3186 3129 \nQ 3597 2675 3597 1894 \nz\nM 3022 2063 \nQ 3016 2534 2758 2815 \nQ 2500 3097 2075 3097 \nQ 1594 3097 1305 2825 \nQ 1016 2553 972 2059 \nL 3022 2063 \nz\n\" id=\"DejaVuSans-65\" transform=\"scale(0.015625)\"/>\n       <path d=\"M 2906 2969 \nL 2906 4863 \nL 3481 4863 \nL 3481 0 \nL 2906 0 \nL 2906 525 \nQ 2725 213 2448 61 \nQ 2172 -91 1784 -91 \nQ 1150 -91 751 415 \nQ 353 922 353 1747 \nQ 353 2572 751 3078 \nQ 1150 3584 1784 3584 \nQ 2172 3584 2448 3432 \nQ 2725 3281 2906 2969 \nz\nM 947 1747 \nQ 947 1113 1208 752 \nQ 1469 391 1925 391 \nQ 2381 391 2643 752 \nQ 2906 1113 2906 1747 \nQ 2906 2381 2643 2742 \nQ 2381 3103 1925 3103 \nQ 1469 3103 1208 2742 \nQ 947 2381 947 1747 \nz\n\" id=\"DejaVuSans-64\" transform=\"scale(0.015625)\"/>\n      </defs>\n      <use xlink:href=\"#DejaVuSans-53\"/>\n      <use x=\"63.476562\" xlink:href=\"#DejaVuSans-75\"/>\n      <use x=\"126.855469\" xlink:href=\"#DejaVuSans-72\"/>\n      <use x=\"167.96875\" xlink:href=\"#DejaVuSans-76\"/>\n      <use x=\"227.148438\" xlink:href=\"#DejaVuSans-69\"/>\n      <use x=\"254.931641\" xlink:href=\"#DejaVuSans-76\"/>\n      <use x=\"314.111328\" xlink:href=\"#DejaVuSans-65\"/>\n      <use x=\"375.634766\" xlink:href=\"#DejaVuSans-64\"/>\n     </g>\n    </g>\n    <g id=\"patch_29\">\n     <path d=\"M 280.810938 38.476562 \nL 300.810938 38.476562 \nL 300.810938 31.476562 \nL 280.810938 31.476562 \nz\n\" style=\"fill:#ff7f0e;\"/>\n    </g>\n    <g id=\"text_20\">\n     <!-- Dead -->\n     <g transform=\"translate(308.810938 38.476562)scale(0.1 -0.1)\">\n      <defs>\n       <path d=\"M 1259 4147 \nL 1259 519 \nL 2022 519 \nQ 2988 519 3436 956 \nQ 3884 1394 3884 2338 \nQ 3884 3275 3436 3711 \nQ 2988 4147 2022 4147 \nL 1259 4147 \nz\nM 628 4666 \nL 1925 4666 \nQ 3281 4666 3915 4102 \nQ 4550 3538 4550 2338 \nQ 4550 1131 3912 565 \nQ 3275 0 1925 0 \nL 628 0 \nL 628 4666 \nz\n\" id=\"DejaVuSans-44\" transform=\"scale(0.015625)\"/>\n       <path d=\"M 2194 1759 \nQ 1497 1759 1228 1600 \nQ 959 1441 959 1056 \nQ 959 750 1161 570 \nQ 1363 391 1709 391 \nQ 2188 391 2477 730 \nQ 2766 1069 2766 1631 \nL 2766 1759 \nL 2194 1759 \nz\nM 3341 1997 \nL 3341 0 \nL 2766 0 \nL 2766 531 \nQ 2569 213 2275 61 \nQ 1981 -91 1556 -91 \nQ 1019 -91 701 211 \nQ 384 513 384 1019 \nQ 384 1609 779 1909 \nQ 1175 2209 1959 2209 \nL 2766 2209 \nL 2766 2266 \nQ 2766 2663 2505 2880 \nQ 2244 3097 1772 3097 \nQ 1472 3097 1187 3025 \nQ 903 2953 641 2809 \nL 641 3341 \nQ 956 3463 1253 3523 \nQ 1550 3584 1831 3584 \nQ 2591 3584 2966 3190 \nQ 3341 2797 3341 1997 \nz\n\" id=\"DejaVuSans-61\" transform=\"scale(0.015625)\"/>\n      </defs>\n      <use xlink:href=\"#DejaVuSans-44\"/>\n      <use x=\"77.001953\" xlink:href=\"#DejaVuSans-65\"/>\n      <use x=\"138.525391\" xlink:href=\"#DejaVuSans-61\"/>\n      <use x=\"199.804688\" xlink:href=\"#DejaVuSans-64\"/>\n     </g>\n    </g>\n   </g>\n  </g>\n </g>\n <defs>\n  <clipPath id=\"pa672388583\">\n   <rect height=\"217.44\" width=\"334.8\" x=\"26.925\" y=\"7.2\"/>\n  </clipPath>\n </defs>\n</svg>\n",
      "image/png": "[encoded data removed]"
     },
     "metadata": {
      "needs_background": "light"
     }
    }
   ],
   "metadata": {}
  },
  {
   "cell_type": "code",
   "execution_count": 103,
   "source": [
    "titanic[\"Fare\"].skew()"
   ],
   "outputs": [
    {
     "output_type": "execute_result",
     "data": {
      "text/plain": [
       "4.787316519674893"
      ]
     },
     "metadata": {},
     "execution_count": 103
    }
   ],
   "metadata": {}
  },
  {
   "cell_type": "code",
   "execution_count": 114,
   "source": [
    "np.log1p(titanic[\"Fare\"]).skew()"
   ],
   "outputs": [
    {
     "output_type": "execute_result",
     "data": {
      "text/plain": [
       "0.3949280095189306"
      ]
     },
     "metadata": {},
     "execution_count": 114
    }
   ],
   "metadata": {}
  },
  {
   "cell_type": "code",
   "execution_count": 115,
   "source": [
    "titanic.isnull().sum()"
   ],
   "outputs": [
    {
     "output_type": "execute_result",
     "data": {
      "text/plain": [
       "PassengerId      0\n",
       "Survived         0\n",
       "Pclass           0\n",
       "Name             0\n",
       "Sex              0\n",
       "Age            177\n",
       "SibSp            0\n",
       "Parch            0\n",
       "Ticket           0\n",
       "Fare             0\n",
       "Cabin          687\n",
       "Embarked         2\n",
       "dtype: int64"
      ]
     },
     "metadata": {},
     "execution_count": 115
    }
   ],
   "metadata": {}
  },
  {
   "cell_type": "markdown",
   "source": [
    "# Train model with these analysis"
   ],
   "metadata": {}
  },
  {
   "cell_type": "code",
   "execution_count": 141,
   "source": [
    "%run \"./age-filter.py\"\n",
    "%run \"./baby-appender.py\"\n",
    "%run \"./cabin-converter.py\""
   ],
   "outputs": [],
   "metadata": {}
  },
  {
   "cell_type": "code",
   "execution_count": 131,
   "source": [
    "from sklearn.base import BaseEstimator, TransformerMixin\n",
    "\n",
    "class FamilySizeAppender(BaseEstimator, TransformerMixin):\n",
    "\n",
    "  def __init__(self):\n",
    "    return\n",
    "\n",
    "  def fit(self, X, y=None):\n",
    "    return self\n",
    "  \n",
    "  def transform(self, X, y=None):\n",
    "    return X.assign(Family=X[\"Parch\"] + X[\"SibSp\"] + 1)\n"
   ],
   "outputs": [],
   "metadata": {}
  },
  {
   "cell_type": "code",
   "execution_count": 125,
   "source": [
    "from sklearn.base import BaseEstimator, TransformerMixin\n",
    "\n",
    "class NDFareAppender(BaseEstimator, TransformerMixin):\n",
    "\n",
    "  def __init__(self, limit=5):\n",
    "    self.limit = limit \n",
    "    return\n",
    "\n",
    "  def fit(self, X, y=None):\n",
    "    return self\n",
    "  \n",
    "  def transform(self, X, y=None):\n",
    "    return X.assign(Fare_nd=np.log1p(X[\"Fare\"]))\n"
   ],
   "outputs": [],
   "metadata": {}
  },
  {
   "cell_type": "code",
   "execution_count": 137,
   "source": [
    "_titanic = FamilySizeAppender().fit_transform(titanic)\n",
    "# _titanic\n",
    "# _titanic[\"Family\"]\n",
    "pd.cut(_titanic[\"Family\"], [0, 1, 4, 7, np.Infinity], labels=['solo', 'small', 'middle', 'large'])"
   ],
   "outputs": [
    {
     "output_type": "execute_result",
     "data": {
      "text/plain": [
       "0      small\n",
       "1      small\n",
       "2       solo\n",
       "3      small\n",
       "4       solo\n",
       "       ...  \n",
       "886     solo\n",
       "887     solo\n",
       "888    small\n",
       "889     solo\n",
       "890     solo\n",
       "Name: Family, Length: 891, dtype: category\n",
       "Categories (4, object): ['solo' < 'small' < 'middle' < 'large']"
      ]
     },
     "metadata": {},
     "execution_count": 137
    }
   ],
   "metadata": {}
  },
  {
   "cell_type": "code",
   "execution_count": 189,
   "source": [
    "from sklearn.base import BaseEstimator, TransformerMixin\n",
    "\n",
    "class Binner(BaseEstimator, TransformerMixin):\n",
    "\n",
    "  def __init__(self):\n",
    "    return\n",
    "\n",
    "  def fit(self, X, y=None):\n",
    "    return self\n",
    "  \n",
    "  def transform(self, X, y=None):\n",
    "    _X = X.assign(Family_bin=pd.cut(_titanic[\"Family\"], [0, 1, 4, 7, np.Infinity], labels=['solo', 'small', 'middle', 'large']))\n",
    "    _X = _X.assign(Age_bin=pd.cut(X[\"Age\"], np.arange(0, 100, 5)))\n",
    "    _X = _X.assign(Fare_nd_bin=pd.cut(X[\"Fare_nd\"], np.arange(0, 600, 50)))\n",
    "    return _X\n"
   ],
   "outputs": [],
   "metadata": {}
  },
  {
   "cell_type": "code",
   "execution_count": 190,
   "source": [
    "from sklearn.pipeline import Pipeline\n",
    "\n",
    "dataframe_pipeline = Pipeline([\n",
    "  ('baby', BabyAppender(limit=20)),\n",
    "  ('cabin', CabinConverter()),\n",
    "  ('group', FamilySizeAppender()),\n",
    "  ('fare', NDFareAppender()),\n",
    "  ('bin', Binner()),\n",
    "])"
   ],
   "outputs": [],
   "metadata": {}
  },
  {
   "cell_type": "code",
   "execution_count": 191,
   "source": [
    "dataframe_pipeline.fit_transform(titanic)"
   ],
   "outputs": [
    {
     "output_type": "execute_result",
     "data": {
      "text/plain": [
       "     PassengerId  Survived  Pclass  \\\n",
       "0              1         0       3   \n",
       "1              2         1       1   \n",
       "2              3         1       3   \n",
       "3              4         1       1   \n",
       "4              5         0       3   \n",
       "..           ...       ...     ...   \n",
       "886          887         0       2   \n",
       "887          888         1       1   \n",
       "888          889         0       3   \n",
       "889          890         1       1   \n",
       "890          891         0       3   \n",
       "\n",
       "                                                  Name     Sex   Age  SibSp  \\\n",
       "0                              Braund, Mr. Owen Harris    male  22.0      1   \n",
       "1    Cumings, Mrs. John Bradley (Florence Briggs Th...  female  38.0      1   \n",
       "2                               Heikkinen, Miss. Laina  female  26.0      0   \n",
       "3         Futrelle, Mrs. Jacques Heath (Lily May Peel)  female  35.0      1   \n",
       "4                             Allen, Mr. William Henry    male  35.0      0   \n",
       "..                                                 ...     ...   ...    ...   \n",
       "886                              Montvila, Rev. Juozas    male  27.0      0   \n",
       "887                       Graham, Miss. Margaret Edith  female  19.0      0   \n",
       "888           Johnston, Miss. Catherine Helen \"Carrie\"  female   NaN      1   \n",
       "889                              Behr, Mr. Karl Howell    male  26.0      0   \n",
       "890                                Dooley, Mr. Patrick    male  32.0      0   \n",
       "\n",
       "     Parch            Ticket     Fare Embarked   Baby Floor  CabinNumber  \\\n",
       "0        0         A/5 21171   7.2500        S  False   NaN          NaN   \n",
       "1        0          PC 17599  71.2833        C  False     C         85.0   \n",
       "2        0  STON/O2. 3101282   7.9250        S  False   NaN          NaN   \n",
       "3        0            113803  53.1000        S  False     C        123.0   \n",
       "4        0            373450   8.0500        S  False   NaN          NaN   \n",
       "..     ...               ...      ...      ...    ...   ...          ...   \n",
       "886      0            211536  13.0000        S  False   NaN          NaN   \n",
       "887      0            112053  30.0000        S   True     B         42.0   \n",
       "888      2        W./C. 6607  23.4500        S  False   NaN          NaN   \n",
       "889      0            111369  30.0000        C  False     C        148.0   \n",
       "890      0            370376   7.7500        Q  False   NaN          NaN   \n",
       "\n",
       "     Family   Fare_nd Family_bin       Age_bin Fare_nd_bin  \n",
       "0         2  2.110213      small  (20.0, 25.0]     (0, 50]  \n",
       "1         2  4.280593      small  (35.0, 40.0]     (0, 50]  \n",
       "2         1  2.188856       solo  (25.0, 30.0]     (0, 50]  \n",
       "3         2  3.990834      small  (30.0, 35.0]     (0, 50]  \n",
       "4         1  2.202765       solo  (30.0, 35.0]     (0, 50]  \n",
       "..      ...       ...        ...           ...         ...  \n",
       "886       1  2.639057       solo  (25.0, 30.0]     (0, 50]  \n",
       "887       1  3.433987       solo  (15.0, 20.0]     (0, 50]  \n",
       "888       4  3.196630      small           NaN     (0, 50]  \n",
       "889       1  3.433987       solo  (25.0, 30.0]     (0, 50]  \n",
       "890       1  2.169054       solo  (30.0, 35.0]     (0, 50]  \n",
       "\n",
       "[891 rows x 19 columns]"
      ],
      "text/html": [
       "<div>\n",
       "<style scoped>\n",
       "    .dataframe tbody tr th:only-of-type {\n",
       "        vertical-align: middle;\n",
       "    }\n",
       "\n",
       "    .dataframe tbody tr th {\n",
       "        vertical-align: top;\n",
       "    }\n",
       "\n",
       "    .dataframe thead th {\n",
       "        text-align: right;\n",
       "    }\n",
       "</style>\n",
       "<table border=\"1\" class=\"dataframe\">\n",
       "  <thead>\n",
       "    <tr style=\"text-align: right;\">\n",
       "      <th></th>\n",
       "      <th>PassengerId</th>\n",
       "      <th>Survived</th>\n",
       "      <th>Pclass</th>\n",
       "      <th>Name</th>\n",
       "      <th>Sex</th>\n",
       "      <th>Age</th>\n",
       "      <th>SibSp</th>\n",
       "      <th>Parch</th>\n",
       "      <th>Ticket</th>\n",
       "      <th>Fare</th>\n",
       "      <th>Embarked</th>\n",
       "      <th>Baby</th>\n",
       "      <th>Floor</th>\n",
       "      <th>CabinNumber</th>\n",
       "      <th>Family</th>\n",
       "      <th>Fare_nd</th>\n",
       "      <th>Family_bin</th>\n",
       "      <th>Age_bin</th>\n",
       "      <th>Fare_nd_bin</th>\n",
       "    </tr>\n",
       "  </thead>\n",
       "  <tbody>\n",
       "    <tr>\n",
       "      <th>0</th>\n",
       "      <td>1</td>\n",
       "      <td>0</td>\n",
       "      <td>3</td>\n",
       "      <td>Braund, Mr. Owen Harris</td>\n",
       "      <td>male</td>\n",
       "      <td>22.0</td>\n",
       "      <td>1</td>\n",
       "      <td>0</td>\n",
       "      <td>A/5 21171</td>\n",
       "      <td>7.2500</td>\n",
       "      <td>S</td>\n",
       "      <td>False</td>\n",
       "      <td>NaN</td>\n",
       "      <td>NaN</td>\n",
       "      <td>2</td>\n",
       "      <td>2.110213</td>\n",
       "      <td>small</td>\n",
       "      <td>(20.0, 25.0]</td>\n",
       "      <td>(0, 50]</td>\n",
       "    </tr>\n",
       "    <tr>\n",
       "      <th>1</th>\n",
       "      <td>2</td>\n",
       "      <td>1</td>\n",
       "      <td>1</td>\n",
       "      <td>Cumings, Mrs. John Bradley (Florence Briggs Th...</td>\n",
       "      <td>female</td>\n",
       "      <td>38.0</td>\n",
       "      <td>1</td>\n",
       "      <td>0</td>\n",
       "      <td>PC 17599</td>\n",
       "      <td>71.2833</td>\n",
       "      <td>C</td>\n",
       "      <td>False</td>\n",
       "      <td>C</td>\n",
       "      <td>85.0</td>\n",
       "      <td>2</td>\n",
       "      <td>4.280593</td>\n",
       "      <td>small</td>\n",
       "      <td>(35.0, 40.0]</td>\n",
       "      <td>(0, 50]</td>\n",
       "    </tr>\n",
       "    <tr>\n",
       "      <th>2</th>\n",
       "      <td>3</td>\n",
       "      <td>1</td>\n",
       "      <td>3</td>\n",
       "      <td>Heikkinen, Miss. Laina</td>\n",
       "      <td>female</td>\n",
       "      <td>26.0</td>\n",
       "      <td>0</td>\n",
       "      <td>0</td>\n",
       "      <td>STON/O2. 3101282</td>\n",
       "      <td>7.9250</td>\n",
       "      <td>S</td>\n",
       "      <td>False</td>\n",
       "      <td>NaN</td>\n",
       "      <td>NaN</td>\n",
       "      <td>1</td>\n",
       "      <td>2.188856</td>\n",
       "      <td>solo</td>\n",
       "      <td>(25.0, 30.0]</td>\n",
       "      <td>(0, 50]</td>\n",
       "    </tr>\n",
       "    <tr>\n",
       "      <th>3</th>\n",
       "      <td>4</td>\n",
       "      <td>1</td>\n",
       "      <td>1</td>\n",
       "      <td>Futrelle, Mrs. Jacques Heath (Lily May Peel)</td>\n",
       "      <td>female</td>\n",
       "      <td>35.0</td>\n",
       "      <td>1</td>\n",
       "      <td>0</td>\n",
       "      <td>113803</td>\n",
       "      <td>53.1000</td>\n",
       "      <td>S</td>\n",
       "      <td>False</td>\n",
       "      <td>C</td>\n",
       "      <td>123.0</td>\n",
       "      <td>2</td>\n",
       "      <td>3.990834</td>\n",
       "      <td>small</td>\n",
       "      <td>(30.0, 35.0]</td>\n",
       "      <td>(0, 50]</td>\n",
       "    </tr>\n",
       "    <tr>\n",
       "      <th>4</th>\n",
       "      <td>5</td>\n",
       "      <td>0</td>\n",
       "      <td>3</td>\n",
       "      <td>Allen, Mr. William Henry</td>\n",
       "      <td>male</td>\n",
       "      <td>35.0</td>\n",
       "      <td>0</td>\n",
       "      <td>0</td>\n",
       "      <td>373450</td>\n",
       "      <td>8.0500</td>\n",
       "      <td>S</td>\n",
       "      <td>False</td>\n",
       "      <td>NaN</td>\n",
       "      <td>NaN</td>\n",
       "      <td>1</td>\n",
       "      <td>2.202765</td>\n",
       "      <td>solo</td>\n",
       "      <td>(30.0, 35.0]</td>\n",
       "      <td>(0, 50]</td>\n",
       "    </tr>\n",
       "    <tr>\n",
       "      <th>...</th>\n",
       "      <td>...</td>\n",
       "      <td>...</td>\n",
       "      <td>...</td>\n",
       "      <td>...</td>\n",
       "      <td>...</td>\n",
       "      <td>...</td>\n",
       "      <td>...</td>\n",
       "      <td>...</td>\n",
       "      <td>...</td>\n",
       "      <td>...</td>\n",
       "      <td>...</td>\n",
       "      <td>...</td>\n",
       "      <td>...</td>\n",
       "      <td>...</td>\n",
       "      <td>...</td>\n",
       "      <td>...</td>\n",
       "      <td>...</td>\n",
       "      <td>...</td>\n",
       "      <td>...</td>\n",
       "    </tr>\n",
       "    <tr>\n",
       "      <th>886</th>\n",
       "      <td>887</td>\n",
       "      <td>0</td>\n",
       "      <td>2</td>\n",
       "      <td>Montvila, Rev. Juozas</td>\n",
       "      <td>male</td>\n",
       "      <td>27.0</td>\n",
       "      <td>0</td>\n",
       "      <td>0</td>\n",
       "      <td>211536</td>\n",
       "      <td>13.0000</td>\n",
       "      <td>S</td>\n",
       "      <td>False</td>\n",
       "      <td>NaN</td>\n",
       "      <td>NaN</td>\n",
       "      <td>1</td>\n",
       "      <td>2.639057</td>\n",
       "      <td>solo</td>\n",
       "      <td>(25.0, 30.0]</td>\n",
       "      <td>(0, 50]</td>\n",
       "    </tr>\n",
       "    <tr>\n",
       "      <th>887</th>\n",
       "      <td>888</td>\n",
       "      <td>1</td>\n",
       "      <td>1</td>\n",
       "      <td>Graham, Miss. Margaret Edith</td>\n",
       "      <td>female</td>\n",
       "      <td>19.0</td>\n",
       "      <td>0</td>\n",
       "      <td>0</td>\n",
       "      <td>112053</td>\n",
       "      <td>30.0000</td>\n",
       "      <td>S</td>\n",
       "      <td>True</td>\n",
       "      <td>B</td>\n",
       "      <td>42.0</td>\n",
       "      <td>1</td>\n",
       "      <td>3.433987</td>\n",
       "      <td>solo</td>\n",
       "      <td>(15.0, 20.0]</td>\n",
       "      <td>(0, 50]</td>\n",
       "    </tr>\n",
       "    <tr>\n",
       "      <th>888</th>\n",
       "      <td>889</td>\n",
       "      <td>0</td>\n",
       "      <td>3</td>\n",
       "      <td>Johnston, Miss. Catherine Helen \"Carrie\"</td>\n",
       "      <td>female</td>\n",
       "      <td>NaN</td>\n",
       "      <td>1</td>\n",
       "      <td>2</td>\n",
       "      <td>W./C. 6607</td>\n",
       "      <td>23.4500</td>\n",
       "      <td>S</td>\n",
       "      <td>False</td>\n",
       "      <td>NaN</td>\n",
       "      <td>NaN</td>\n",
       "      <td>4</td>\n",
       "      <td>3.196630</td>\n",
       "      <td>small</td>\n",
       "      <td>NaN</td>\n",
       "      <td>(0, 50]</td>\n",
       "    </tr>\n",
       "    <tr>\n",
       "      <th>889</th>\n",
       "      <td>890</td>\n",
       "      <td>1</td>\n",
       "      <td>1</td>\n",
       "      <td>Behr, Mr. Karl Howell</td>\n",
       "      <td>male</td>\n",
       "      <td>26.0</td>\n",
       "      <td>0</td>\n",
       "      <td>0</td>\n",
       "      <td>111369</td>\n",
       "      <td>30.0000</td>\n",
       "      <td>C</td>\n",
       "      <td>False</td>\n",
       "      <td>C</td>\n",
       "      <td>148.0</td>\n",
       "      <td>1</td>\n",
       "      <td>3.433987</td>\n",
       "      <td>solo</td>\n",
       "      <td>(25.0, 30.0]</td>\n",
       "      <td>(0, 50]</td>\n",
       "    </tr>\n",
       "    <tr>\n",
       "      <th>890</th>\n",
       "      <td>891</td>\n",
       "      <td>0</td>\n",
       "      <td>3</td>\n",
       "      <td>Dooley, Mr. Patrick</td>\n",
       "      <td>male</td>\n",
       "      <td>32.0</td>\n",
       "      <td>0</td>\n",
       "      <td>0</td>\n",
       "      <td>370376</td>\n",
       "      <td>7.7500</td>\n",
       "      <td>Q</td>\n",
       "      <td>False</td>\n",
       "      <td>NaN</td>\n",
       "      <td>NaN</td>\n",
       "      <td>1</td>\n",
       "      <td>2.169054</td>\n",
       "      <td>solo</td>\n",
       "      <td>(30.0, 35.0]</td>\n",
       "      <td>(0, 50]</td>\n",
       "    </tr>\n",
       "  </tbody>\n",
       "</table>\n",
       "<p>891 rows × 19 columns</p>\n",
       "</div>"
      ]
     },
     "metadata": {},
     "execution_count": 191
    }
   ],
   "metadata": {}
  },
  {
   "cell_type": "code",
   "execution_count": 225,
   "source": [
    "from sklearn.compose import ColumnTransformer\n",
    "from sklearn.preprocessing import StandardScaler\n",
    "from sklearn.preprocessing import OneHotEncoder\n",
    "from sklearn.pipeline import Pipeline\n",
    "from sklearn.impute import SimpleImputer\n",
    "\n",
    "cabins = ['A', 'B', 'C', 'D', 'E', 'F', 'G', 'T', np.nan]\n",
    "\n",
    "scaler_pipeline = Pipeline([\n",
    "  ('imputer', SimpleImputer()),\n",
    "  ('std_scaler', StandardScaler()),\n",
    "])\n",
    "\n",
    "col_transformer = ColumnTransformer([ \n",
    "  (\"onehot\", OneHotEncoder(), [\"Pclass\", \"Sex\", \"Family_bin\", \"Fare_nd_bin\", \"Age_bin\"]),\n",
    "  (\"floor\", OneHotEncoder(categories=[cabins]), [\"Floor\"]),\n",
    "  (\"passthrough\", \"passthrough\", [\"Baby\"]),\n",
    "])"
   ],
   "outputs": [],
   "metadata": {}
  },
  {
   "cell_type": "code",
   "execution_count": 226,
   "source": [
    "whole_pipeline = Pipeline([\n",
    "  ('dataframe', dataframe_pipeline),\n",
    "  ('std_scaler', col_transformer),\n",
    "])"
   ],
   "outputs": [],
   "metadata": {}
  },
  {
   "cell_type": "code",
   "execution_count": 227,
   "source": [
    "y_train = train[\"Survived\"]\n",
    "X_train = train.drop(\"Survived\", axis=1)\n",
    "\n",
    "y_test = test[\"Survived\"]\n",
    "X_test = test.drop(\"Survived\", axis=1)"
   ],
   "outputs": [],
   "metadata": {}
  },
  {
   "cell_type": "code",
   "execution_count": 228,
   "source": [
    "from sklearn.ensemble import RandomForestClassifier\n",
    "from sklearn.model_selection import cross_val_score\n",
    "\n",
    "_X_train = whole_pipeline.fit_transform(X_train)\n",
    "clf = RandomForestClassifier(random_state=38)\n",
    "clf.fit(_X_train, y_train)\n",
    "cross_val_score(clf, _X_train, y_train, cv=3, scoring=\"accuracy\")"
   ],
   "outputs": [
    {
     "output_type": "execute_result",
     "data": {
      "text/plain": [
       "array([0.83613445, 0.79324895, 0.82278481])"
      ]
     },
     "metadata": {},
     "execution_count": 228
    }
   ],
   "metadata": {}
  },
  {
   "cell_type": "code",
   "execution_count": 229,
   "source": [
    "from sklearn.model_selection import GridSearchCV\n",
    "\n",
    "param_grid = [\n",
    "  { \n",
    "    # \"criterion\": [\"gini\", \"entropy\"],\n",
    "    # \"class_weight\": [\"balanced\"],\n",
    "    # \"max_features\": [\"sqrt\", \"log2\"],\n",
    "    \"max_features\": [\"sqrt\", 2, 4, 8, 16],\n",
    "    \"min_samples_split\": [2, 4, 8, 16],\n",
    "    \"n_estimators\": [50, 100, 150],\n",
    "  }\n",
    "]\n",
    "\n",
    "grid_search = GridSearchCV(\n",
    "  RandomForestClassifier(random_state=38),\n",
    "  param_grid,\n",
    "  cv=5,\n",
    "  scoring=\"accuracy\",\n",
    "  return_train_score=True)\n",
    "grid_search.fit(_X_train, y_train)"
   ],
   "outputs": [
    {
     "output_type": "execute_result",
     "data": {
      "text/plain": [
       "GridSearchCV(cv=5, estimator=RandomForestClassifier(random_state=38),\n",
       "             param_grid=[{'max_features': ['sqrt', 2, 4, 8, 16],\n",
       "                          'min_samples_split': [2, 4, 8, 16],\n",
       "                          'n_estimators': [50, 100, 150]}],\n",
       "             return_train_score=True, scoring='accuracy')"
      ]
     },
     "metadata": {},
     "execution_count": 229
    }
   ],
   "metadata": {}
  },
  {
   "cell_type": "code",
   "execution_count": null,
   "source": [],
   "outputs": [],
   "metadata": {}
  },
  {
   "cell_type": "code",
   "execution_count": 230,
   "source": [
    "grid_search.best_score_, grid_search.best_params_"
   ],
   "outputs": [
    {
     "output_type": "execute_result",
     "data": {
      "text/plain": [
       "(0.8215207327883384,\n",
       " {'max_features': 8, 'min_samples_split': 16, 'n_estimators': 100})"
      ]
     },
     "metadata": {},
     "execution_count": 230
    }
   ],
   "metadata": {}
  },
  {
   "cell_type": "code",
   "execution_count": 231,
   "source": [
    "_X_test = whole_pipeline.fit_transform(X_test)\n",
    "cross_val_score(grid_search.best_estimator_, _X_test, y_test, cv=3, scoring=\"accuracy\")"
   ],
   "outputs": [
    {
     "output_type": "execute_result",
     "data": {
      "text/plain": [
       "array([0.8       , 0.83333333, 0.79661017])"
      ]
     },
     "metadata": {},
     "execution_count": 231
    }
   ],
   "metadata": {}
  },
  {
   "cell_type": "code",
   "execution_count": 232,
   "source": [
    "titanic_test = pd.read_csv('./titanic/test.csv')"
   ],
   "outputs": [],
   "metadata": {}
  },
  {
   "cell_type": "code",
   "execution_count": 233,
   "source": [
    "_titanic_test = whole_pipeline.fit_transform(titanic_test)\n",
    "predict = grid_search.best_estimator_.predict(_titanic_test)\n",
    "\n",
    "id = np.array(titanic_test[\"PassengerId\"]).astype(int)\n",
    "df = pd.DataFrame(predict, id, columns = [\"Survived\"])\n",
    "df.to_csv(\"./titanic/predict-6.csv\", index_label = [\"PassengerId\"])"
   ],
   "outputs": [],
   "metadata": {}
  },
  {
   "cell_type": "code",
   "execution_count": 222,
   "source": [
    "import matplotlib as mpl\n",
    "import matplotlib.pyplot as plt"
   ],
   "outputs": [],
   "metadata": {}
  },
  {
   "cell_type": "code",
   "execution_count": 223,
   "source": [
    "rfc = grid_search.best_estimator_\n",
    "rfc.feature_importances_"
   ],
   "outputs": [
    {
     "output_type": "execute_result",
     "data": {
      "text/plain": [
       "array([0.03904487, 0.02832632, 0.06710554, 0.17941729, 0.17553445,\n",
       "       0.00683236, 0.01993479, 0.05620738, 0.0321738 , 0.00599879,\n",
       "       0.00702626, 0.04567253, 0.01298156, 0.00987765, 0.01498534,\n",
       "       0.01974184, 0.02207793, 0.01743438, 0.0188063 , 0.02207602,\n",
       "       0.01708331, 0.00702042, 0.00715119, 0.00946089, 0.0022673 ,\n",
       "       0.00236307, 0.01872718, 0.008823  , 0.01628483, 0.01639715,\n",
       "       0.01254023, 0.02085118, 0.00556778, 0.0016622 , 0.        ,\n",
       "       0.05254485])"
      ]
     },
     "metadata": {},
     "execution_count": 223
    }
   ],
   "metadata": {}
  },
  {
   "cell_type": "code",
   "execution_count": null,
   "source": [
    "[\"Pclass\", \"Sex\", \"Family_bin\", \"Fare_nd_bin\", \"Age_bin\"]"
   ],
   "outputs": [],
   "metadata": {}
  },
  {
   "cell_type": "code",
   "execution_count": null,
   "source": [
    "\n",
    "plt.figure(figsize=(20,10))\n",
    "plt.barh(\n",
    "    _X_train.columns[np.argsort(rfc.feature_importances_)],\n",
    "    rfc.feature_importances_[np.argsort(rfc.feature_importances_)],\n",
    "    label='RandomForestClassifier'\n",
    ")\n",
    "plt.title('RandomForestClassifier feature importance')"
   ],
   "outputs": [],
   "metadata": {}
  },
  {
   "cell_type": "code",
   "execution_count": 239,
   "source": [
    "_titanic = dataframe_pipeline.fit_transform(titanic)\n",
    "\n",
    "onehot = OneHotEncoder()\n",
    "_titanic_onehot = onehot.fit_transform(_titanic[[\"Pclass\", \"Sex\", \"Family_bin\", \"Fare_nd_bin\", \"Age_bin\"]])\n",
    "onehot.categories_, _titanic_onehot.toarray()"
   ],
   "outputs": [
    {
     "output_type": "execute_result",
     "data": {
      "text/plain": [
       "([array([1, 2, 3]),\n",
       "  array(['female', 'male'], dtype=object),\n",
       "  array(['large', 'middle', 'small', 'solo'], dtype=object),\n",
       "  array([Interval(0.0, 50.0, closed='right'), nan], dtype=object),\n",
       "  array([Interval(0.0, 5.0, closed='right'),\n",
       "         Interval(5.0, 10.0, closed='right'),\n",
       "         Interval(10.0, 15.0, closed='right'),\n",
       "         Interval(15.0, 20.0, closed='right'),\n",
       "         Interval(20.0, 25.0, closed='right'),\n",
       "         Interval(25.0, 30.0, closed='right'),\n",
       "         Interval(30.0, 35.0, closed='right'),\n",
       "         Interval(35.0, 40.0, closed='right'),\n",
       "         Interval(40.0, 45.0, closed='right'),\n",
       "         Interval(45.0, 50.0, closed='right'),\n",
       "         Interval(50.0, 55.0, closed='right'),\n",
       "         Interval(55.0, 60.0, closed='right'),\n",
       "         Interval(60.0, 65.0, closed='right'),\n",
       "         Interval(65.0, 70.0, closed='right'),\n",
       "         Interval(70.0, 75.0, closed='right'),\n",
       "         Interval(75.0, 80.0, closed='right'), nan], dtype=object)],\n",
       " array([[0., 0., 1., ..., 0., 0., 0.],\n",
       "        [1., 0., 0., ..., 0., 0., 0.],\n",
       "        [0., 0., 1., ..., 0., 0., 0.],\n",
       "        ...,\n",
       "        [0., 0., 1., ..., 0., 0., 1.],\n",
       "        [1., 0., 0., ..., 0., 0., 0.],\n",
       "        [0., 0., 1., ..., 0., 0., 0.]]))"
      ]
     },
     "metadata": {},
     "execution_count": 239
    }
   ],
   "metadata": {}
  },
  {
   "cell_type": "markdown",
   "source": [
    "Fare_nd_bin の作り方がおかしい。1カテゴリになってる。。"
   ],
   "metadata": {}
  },
  {
   "cell_type": "code",
   "execution_count": 243,
   "source": [
    "NDFareAppender().fit_transform(titanic)[\"Fare_nd\"].describe()"
   ],
   "outputs": [
    {
     "output_type": "execute_result",
     "data": {
      "text/plain": [
       "count    891.000000\n",
       "mean       2.962246\n",
       "std        0.969048\n",
       "min        0.000000\n",
       "25%        2.187218\n",
       "50%        2.737881\n",
       "75%        3.465736\n",
       "max        6.240917\n",
       "Name: Fare_nd, dtype: float64"
      ]
     },
     "metadata": {},
     "execution_count": 243
    }
   ],
   "metadata": {}
  },
  {
   "cell_type": "code",
   "execution_count": 249,
   "source": [
    "_titanic = NDFareAppender().fit_transform(titanic)\n",
    "pd.cut(_titanic[\"Fare_nd\"], 20)"
   ],
   "outputs": [
    {
     "output_type": "execute_result",
     "data": {
      "text/plain": [
       "0      (1.872, 2.184]\n",
       "1      (4.057, 4.369]\n",
       "2      (2.184, 2.496]\n",
       "3      (3.745, 4.057]\n",
       "4      (2.184, 2.496]\n",
       "            ...      \n",
       "886    (2.496, 2.808]\n",
       "887    (3.433, 3.745]\n",
       "888     (3.12, 3.433]\n",
       "889    (3.433, 3.745]\n",
       "890    (1.872, 2.184]\n",
       "Name: Fare_nd, Length: 891, dtype: category\n",
       "Categories (20, interval[float64]): [(-0.00624, 0.312] < (0.312, 0.624] < (0.624, 0.936] < (0.936, 1.248] ... (4.993, 5.305] < (5.305, 5.617] < (5.617, 5.929] < (5.929, 6.241]]"
      ]
     },
     "metadata": {},
     "execution_count": 249
    }
   ],
   "metadata": {}
  },
  {
   "cell_type": "code",
   "execution_count": 255,
   "source": [
    "pd.cut(_titanic[\"Fare_nd\"], 20).value_counts().plot(kind=\"bar\")"
   ],
   "outputs": [
    {
     "output_type": "execute_result",
     "data": {
      "text/plain": [
       "<AxesSubplot:>"
      ]
     },
     "metadata": {},
     "execution_count": 255
    },
    {
     "output_type": "display_data",
     "data": {
      "text/plain": [
       "<Figure size 432x288 with 1 Axes>"
      ],
      "image/svg+xml": "<?xml version=\"1.0\" encoding=\"utf-8\" standalone=\"no\"?>\n<!DOCTYPE svg PUBLIC \"-//W3C//DTD SVG 1.1//EN\"\n  \"http://www.w3.org/Graphics/SVG/1.1/DTD/svg11.dtd\">\n<svg height=\"326.588437pt\" version=\"1.1\" viewBox=\"0 0 375.2875 326.588437\" width=\"375.2875pt\" xmlns=\"http://www.w3.org/2000/svg\" xmlns:xlink=\"http://www.w3.org/1999/xlink\">\n <metadata>\n  <rdf:RDF xmlns:cc=\"http://creativecommons.org/ns#\" xmlns:dc=\"http://purl.org/dc/elements/1.1/\" xmlns:rdf=\"http://www.w3.org/1999/02/22-rdf-syntax-ns#\">\n   <cc:Work>\n    <dc:type rdf:resource=\"http://purl.org/dc/dcmitype/StillImage\"/>\n    <dc:date>2021-07-27T23:31:33.533476</dc:date>\n    <dc:format>image/svg+xml</dc:format>\n    <dc:creator>\n     <cc:Agent>\n      <dc:title>Matplotlib v3.4.2, https://matplotlib.org/</dc:title>\n     </cc:Agent>\n    </dc:creator>\n   </cc:Work>\n  </rdf:RDF>\n </metadata>\n <defs>\n  <style type=\"text/css\">*{stroke-linecap:butt;stroke-linejoin:round;}</style>\n </defs>\n <g id=\"figure_1\">\n  <g id=\"patch_1\">\n   <path d=\"M 0 326.588437 \nL 375.2875 326.588437 \nL 375.2875 0 \nL 0 0 \nz\n\" style=\"fill:none;\"/>\n  </g>\n  <g id=\"axes_1\">\n   <g id=\"patch_2\">\n    <path d=\"M 33.2875 224.64 \nL 368.0875 224.64 \nL 368.0875 7.2 \nL 33.2875 7.2 \nz\n\" style=\"fill:#ffffff;\"/>\n   </g>\n   <g id=\"patch_3\">\n    <path clip-path=\"url(#pde790a8bda)\" d=\"M 37.4725 224.64 \nL 45.8425 224.64 \nL 45.8425 17.554286 \nL 37.4725 17.554286 \nz\n\" style=\"fill:#1f77b4;\"/>\n   </g>\n   <g id=\"patch_4\">\n    <path clip-path=\"url(#pde790a8bda)\" d=\"M 54.2125 224.64 \nL 62.5825 224.64 \nL 62.5825 35.660141 \nL 54.2125 35.660141 \nz\n\" style=\"fill:#1f77b4;\"/>\n   </g>\n   <g id=\"patch_5\">\n    <path clip-path=\"url(#pde790a8bda)\" d=\"M 70.9525 224.64 \nL 79.3225 224.64 \nL 79.3225 92.240937 \nL 70.9525 92.240937 \nz\n\" style=\"fill:#1f77b4;\"/>\n   </g>\n   <g id=\"patch_6\">\n    <path clip-path=\"url(#pde790a8bda)\" d=\"M 87.6925 224.64 \nL 96.0625 224.64 \nL 96.0625 102.42548 \nL 87.6925 102.42548 \nz\n\" style=\"fill:#1f77b4;\"/>\n   </g>\n   <g id=\"patch_7\">\n    <path clip-path=\"url(#pde790a8bda)\" d=\"M 104.4325 224.64 \nL 112.8025 224.64 \nL 112.8025 151.084965 \nL 104.4325 151.084965 \nz\n\" style=\"fill:#1f77b4;\"/>\n   </g>\n   <g id=\"patch_8\">\n    <path clip-path=\"url(#pde790a8bda)\" d=\"M 121.1725 224.64 \nL 129.5425 224.64 \nL 129.5425 157.87466 \nL 121.1725 157.87466 \nz\n\" style=\"fill:#1f77b4;\"/>\n   </g>\n   <g id=\"patch_9\">\n    <path clip-path=\"url(#pde790a8bda)\" d=\"M 137.9125 224.64 \nL 146.2825 224.64 \nL 146.2825 172.585667 \nL 137.9125 172.585667 \nz\n\" style=\"fill:#1f77b4;\"/>\n   </g>\n   <g id=\"patch_10\">\n    <path clip-path=\"url(#pde790a8bda)\" d=\"M 154.6525 224.64 \nL 163.0225 224.64 \nL 163.0225 180.506979 \nL 154.6525 180.506979 \nz\n\" style=\"fill:#1f77b4;\"/>\n   </g>\n   <g id=\"patch_11\">\n    <path clip-path=\"url(#pde790a8bda)\" d=\"M 171.3925 224.64 \nL 179.7625 224.64 \nL 179.7625 180.506979 \nL 171.3925 180.506979 \nz\n\" style=\"fill:#1f77b4;\"/>\n   </g>\n   <g id=\"patch_12\">\n    <path clip-path=\"url(#pde790a8bda)\" d=\"M 188.1325 224.64 \nL 196.5025 224.64 \nL 196.5025 202.007681 \nL 188.1325 202.007681 \nz\n\" style=\"fill:#1f77b4;\"/>\n   </g>\n   <g id=\"patch_13\">\n    <path clip-path=\"url(#pde790a8bda)\" d=\"M 204.8725 224.64 \nL 213.2425 224.64 \nL 213.2425 205.402529 \nL 204.8725 205.402529 \nz\n\" style=\"fill:#1f77b4;\"/>\n   </g>\n   <g id=\"patch_14\">\n    <path clip-path=\"url(#pde790a8bda)\" d=\"M 221.6125 224.64 \nL 229.9825 224.64 \nL 229.9825 207.665761 \nL 221.6125 207.665761 \nz\n\" style=\"fill:#1f77b4;\"/>\n   </g>\n   <g id=\"patch_15\">\n    <path clip-path=\"url(#pde790a8bda)\" d=\"M 238.3525 224.64 \nL 246.7225 224.64 \nL 246.7225 212.192225 \nL 238.3525 212.192225 \nz\n\" style=\"fill:#1f77b4;\"/>\n   </g>\n   <g id=\"patch_16\">\n    <path clip-path=\"url(#pde790a8bda)\" d=\"M 255.0925 224.64 \nL 263.4625 224.64 \nL 263.4625 221.245152 \nL 255.0925 221.245152 \nz\n\" style=\"fill:#1f77b4;\"/>\n   </g>\n   <g id=\"patch_17\">\n    <path clip-path=\"url(#pde790a8bda)\" d=\"M 271.8325 224.64 \nL 280.2025 224.64 \nL 280.2025 222.376768 \nL 271.8325 222.376768 \nz\n\" style=\"fill:#1f77b4;\"/>\n   </g>\n   <g id=\"patch_18\">\n    <path clip-path=\"url(#pde790a8bda)\" d=\"M 288.5725 224.64 \nL 296.9425 224.64 \nL 296.9425 224.64 \nL 288.5725 224.64 \nz\n\" style=\"fill:#1f77b4;\"/>\n   </g>\n   <g id=\"patch_19\">\n    <path clip-path=\"url(#pde790a8bda)\" d=\"M 305.3125 224.64 \nL 313.6825 224.64 \nL 313.6825 224.64 \nL 305.3125 224.64 \nz\n\" style=\"fill:#1f77b4;\"/>\n   </g>\n   <g id=\"patch_20\">\n    <path clip-path=\"url(#pde790a8bda)\" d=\"M 322.0525 224.64 \nL 330.4225 224.64 \nL 330.4225 224.64 \nL 322.0525 224.64 \nz\n\" style=\"fill:#1f77b4;\"/>\n   </g>\n   <g id=\"patch_21\">\n    <path clip-path=\"url(#pde790a8bda)\" d=\"M 338.7925 224.64 \nL 347.1625 224.64 \nL 347.1625 224.64 \nL 338.7925 224.64 \nz\n\" style=\"fill:#1f77b4;\"/>\n   </g>\n   <g id=\"patch_22\">\n    <path clip-path=\"url(#pde790a8bda)\" d=\"M 355.5325 224.64 \nL 363.9025 224.64 \nL 363.9025 224.64 \nL 355.5325 224.64 \nz\n\" style=\"fill:#1f77b4;\"/>\n   </g>\n   <g id=\"matplotlib.axis_1\">\n    <g id=\"xtick_1\">\n     <g id=\"line2d_1\">\n      <defs>\n       <path d=\"M 0 0 \nL 0 3.5 \n\" id=\"m15e8d53750\" style=\"stroke:#000000;stroke-width:0.8;\"/>\n      </defs>\n      <g>\n       <use style=\"stroke:#000000;stroke-width:0.8;\" x=\"41.6575\" xlink:href=\"#m15e8d53750\" y=\"224.64\"/>\n      </g>\n     </g>\n     <g id=\"text_1\">\n      <!-- (2.184, 2.496] -->\n      <g transform=\"translate(44.416875 303.055625)rotate(-90)scale(0.1 -0.1)\">\n       <defs>\n        <path d=\"M 1984 4856 \nQ 1566 4138 1362 3434 \nQ 1159 2731 1159 2009 \nQ 1159 1288 1364 580 \nQ 1569 -128 1984 -844 \nL 1484 -844 \nQ 1016 -109 783 600 \nQ 550 1309 550 2009 \nQ 550 2706 781 3412 \nQ 1013 4119 1484 4856 \nL 1984 4856 \nz\n\" id=\"DejaVuSans-28\" transform=\"scale(0.015625)\"/>\n        <path d=\"M 1228 531 \nL 3431 531 \nL 3431 0 \nL 469 0 \nL 469 531 \nQ 828 903 1448 1529 \nQ 2069 2156 2228 2338 \nQ 2531 2678 2651 2914 \nQ 2772 3150 2772 3378 \nQ 2772 3750 2511 3984 \nQ 2250 4219 1831 4219 \nQ 1534 4219 1204 4116 \nQ 875 4013 500 3803 \nL 500 4441 \nQ 881 4594 1212 4672 \nQ 1544 4750 1819 4750 \nQ 2544 4750 2975 4387 \nQ 3406 4025 3406 3419 \nQ 3406 3131 3298 2873 \nQ 3191 2616 2906 2266 \nQ 2828 2175 2409 1742 \nQ 1991 1309 1228 531 \nz\n\" id=\"DejaVuSans-32\" transform=\"scale(0.015625)\"/>\n        <path d=\"M 684 794 \nL 1344 794 \nL 1344 0 \nL 684 0 \nL 684 794 \nz\n\" id=\"DejaVuSans-2e\" transform=\"scale(0.015625)\"/>\n        <path d=\"M 794 531 \nL 1825 531 \nL 1825 4091 \nL 703 3866 \nL 703 4441 \nL 1819 4666 \nL 2450 4666 \nL 2450 531 \nL 3481 531 \nL 3481 0 \nL 794 0 \nL 794 531 \nz\n\" id=\"DejaVuSans-31\" transform=\"scale(0.015625)\"/>\n        <path d=\"M 2034 2216 \nQ 1584 2216 1326 1975 \nQ 1069 1734 1069 1313 \nQ 1069 891 1326 650 \nQ 1584 409 2034 409 \nQ 2484 409 2743 651 \nQ 3003 894 3003 1313 \nQ 3003 1734 2745 1975 \nQ 2488 2216 2034 2216 \nz\nM 1403 2484 \nQ 997 2584 770 2862 \nQ 544 3141 544 3541 \nQ 544 4100 942 4425 \nQ 1341 4750 2034 4750 \nQ 2731 4750 3128 4425 \nQ 3525 4100 3525 3541 \nQ 3525 3141 3298 2862 \nQ 3072 2584 2669 2484 \nQ 3125 2378 3379 2068 \nQ 3634 1759 3634 1313 \nQ 3634 634 3220 271 \nQ 2806 -91 2034 -91 \nQ 1263 -91 848 271 \nQ 434 634 434 1313 \nQ 434 1759 690 2068 \nQ 947 2378 1403 2484 \nz\nM 1172 3481 \nQ 1172 3119 1398 2916 \nQ 1625 2713 2034 2713 \nQ 2441 2713 2670 2916 \nQ 2900 3119 2900 3481 \nQ 2900 3844 2670 4047 \nQ 2441 4250 2034 4250 \nQ 1625 4250 1398 4047 \nQ 1172 3844 1172 3481 \nz\n\" id=\"DejaVuSans-38\" transform=\"scale(0.015625)\"/>\n        <path d=\"M 2419 4116 \nL 825 1625 \nL 2419 1625 \nL 2419 4116 \nz\nM 2253 4666 \nL 3047 4666 \nL 3047 1625 \nL 3713 1625 \nL 3713 1100 \nL 3047 1100 \nL 3047 0 \nL 2419 0 \nL 2419 1100 \nL 313 1100 \nL 313 1709 \nL 2253 4666 \nz\n\" id=\"DejaVuSans-34\" transform=\"scale(0.015625)\"/>\n        <path d=\"M 750 794 \nL 1409 794 \nL 1409 256 \nL 897 -744 \nL 494 -744 \nL 750 256 \nL 750 794 \nz\n\" id=\"DejaVuSans-2c\" transform=\"scale(0.015625)\"/>\n        <path id=\"DejaVuSans-20\" transform=\"scale(0.015625)\"/>\n        <path d=\"M 703 97 \nL 703 672 \nQ 941 559 1184 500 \nQ 1428 441 1663 441 \nQ 2288 441 2617 861 \nQ 2947 1281 2994 2138 \nQ 2813 1869 2534 1725 \nQ 2256 1581 1919 1581 \nQ 1219 1581 811 2004 \nQ 403 2428 403 3163 \nQ 403 3881 828 4315 \nQ 1253 4750 1959 4750 \nQ 2769 4750 3195 4129 \nQ 3622 3509 3622 2328 \nQ 3622 1225 3098 567 \nQ 2575 -91 1691 -91 \nQ 1453 -91 1209 -44 \nQ 966 3 703 97 \nz\nM 1959 2075 \nQ 2384 2075 2632 2365 \nQ 2881 2656 2881 3163 \nQ 2881 3666 2632 3958 \nQ 2384 4250 1959 4250 \nQ 1534 4250 1286 3958 \nQ 1038 3666 1038 3163 \nQ 1038 2656 1286 2365 \nQ 1534 2075 1959 2075 \nz\n\" id=\"DejaVuSans-39\" transform=\"scale(0.015625)\"/>\n        <path d=\"M 2113 2584 \nQ 1688 2584 1439 2293 \nQ 1191 2003 1191 1497 \nQ 1191 994 1439 701 \nQ 1688 409 2113 409 \nQ 2538 409 2786 701 \nQ 3034 994 3034 1497 \nQ 3034 2003 2786 2293 \nQ 2538 2584 2113 2584 \nz\nM 3366 4563 \nL 3366 3988 \nQ 3128 4100 2886 4159 \nQ 2644 4219 2406 4219 \nQ 1781 4219 1451 3797 \nQ 1122 3375 1075 2522 \nQ 1259 2794 1537 2939 \nQ 1816 3084 2150 3084 \nQ 2853 3084 3261 2657 \nQ 3669 2231 3669 1497 \nQ 3669 778 3244 343 \nQ 2819 -91 2113 -91 \nQ 1303 -91 875 529 \nQ 447 1150 447 2328 \nQ 447 3434 972 4092 \nQ 1497 4750 2381 4750 \nQ 2619 4750 2861 4703 \nQ 3103 4656 3366 4563 \nz\n\" id=\"DejaVuSans-36\" transform=\"scale(0.015625)\"/>\n        <path d=\"M 1947 4863 \nL 1947 -844 \nL 622 -844 \nL 622 -397 \nL 1369 -397 \nL 1369 4416 \nL 622 4416 \nL 622 4863 \nL 1947 4863 \nz\n\" id=\"DejaVuSans-5d\" transform=\"scale(0.015625)\"/>\n       </defs>\n       <use xlink:href=\"#DejaVuSans-28\"/>\n       <use x=\"39.013672\" xlink:href=\"#DejaVuSans-32\"/>\n       <use x=\"102.636719\" xlink:href=\"#DejaVuSans-2e\"/>\n       <use x=\"134.423828\" xlink:href=\"#DejaVuSans-31\"/>\n       <use x=\"198.046875\" xlink:href=\"#DejaVuSans-38\"/>\n       <use x=\"261.669922\" xlink:href=\"#DejaVuSans-34\"/>\n       <use x=\"325.292969\" xlink:href=\"#DejaVuSans-2c\"/>\n       <use x=\"357.080078\" xlink:href=\"#DejaVuSans-20\"/>\n       <use x=\"388.867188\" xlink:href=\"#DejaVuSans-32\"/>\n       <use x=\"452.490234\" xlink:href=\"#DejaVuSans-2e\"/>\n       <use x=\"484.277344\" xlink:href=\"#DejaVuSans-34\"/>\n       <use x=\"547.900391\" xlink:href=\"#DejaVuSans-39\"/>\n       <use x=\"611.523438\" xlink:href=\"#DejaVuSans-36\"/>\n       <use x=\"675.146484\" xlink:href=\"#DejaVuSans-5d\"/>\n      </g>\n     </g>\n    </g>\n    <g id=\"xtick_2\">\n     <g id=\"line2d_2\">\n      <g>\n       <use style=\"stroke:#000000;stroke-width:0.8;\" x=\"58.3975\" xlink:href=\"#m15e8d53750\" y=\"224.64\"/>\n      </g>\n     </g>\n     <g id=\"text_2\">\n      <!-- (1.872, 2.184] -->\n      <g transform=\"translate(61.156875 303.055625)rotate(-90)scale(0.1 -0.1)\">\n       <defs>\n        <path d=\"M 525 4666 \nL 3525 4666 \nL 3525 4397 \nL 1831 0 \nL 1172 0 \nL 2766 4134 \nL 525 4134 \nL 525 4666 \nz\n\" id=\"DejaVuSans-37\" transform=\"scale(0.015625)\"/>\n       </defs>\n       <use xlink:href=\"#DejaVuSans-28\"/>\n       <use x=\"39.013672\" xlink:href=\"#DejaVuSans-31\"/>\n       <use x=\"102.636719\" xlink:href=\"#DejaVuSans-2e\"/>\n       <use x=\"134.423828\" xlink:href=\"#DejaVuSans-38\"/>\n       <use x=\"198.046875\" xlink:href=\"#DejaVuSans-37\"/>\n       <use x=\"261.669922\" xlink:href=\"#DejaVuSans-32\"/>\n       <use x=\"325.292969\" xlink:href=\"#DejaVuSans-2c\"/>\n       <use x=\"357.080078\" xlink:href=\"#DejaVuSans-20\"/>\n       <use x=\"388.867188\" xlink:href=\"#DejaVuSans-32\"/>\n       <use x=\"452.490234\" xlink:href=\"#DejaVuSans-2e\"/>\n       <use x=\"484.277344\" xlink:href=\"#DejaVuSans-31\"/>\n       <use x=\"547.900391\" xlink:href=\"#DejaVuSans-38\"/>\n       <use x=\"611.523438\" xlink:href=\"#DejaVuSans-34\"/>\n       <use x=\"675.146484\" xlink:href=\"#DejaVuSans-5d\"/>\n      </g>\n     </g>\n    </g>\n    <g id=\"xtick_3\">\n     <g id=\"line2d_3\">\n      <g>\n       <use style=\"stroke:#000000;stroke-width:0.8;\" x=\"75.1375\" xlink:href=\"#m15e8d53750\" y=\"224.64\"/>\n      </g>\n     </g>\n     <g id=\"text_3\">\n      <!-- (3.12, 3.433] -->\n      <g transform=\"translate(77.896875 296.693125)rotate(-90)scale(0.1 -0.1)\">\n       <defs>\n        <path d=\"M 2597 2516 \nQ 3050 2419 3304 2112 \nQ 3559 1806 3559 1356 \nQ 3559 666 3084 287 \nQ 2609 -91 1734 -91 \nQ 1441 -91 1130 -33 \nQ 819 25 488 141 \nL 488 750 \nQ 750 597 1062 519 \nQ 1375 441 1716 441 \nQ 2309 441 2620 675 \nQ 2931 909 2931 1356 \nQ 2931 1769 2642 2001 \nQ 2353 2234 1838 2234 \nL 1294 2234 \nL 1294 2753 \nL 1863 2753 \nQ 2328 2753 2575 2939 \nQ 2822 3125 2822 3475 \nQ 2822 3834 2567 4026 \nQ 2313 4219 1838 4219 \nQ 1578 4219 1281 4162 \nQ 984 4106 628 3988 \nL 628 4550 \nQ 988 4650 1302 4700 \nQ 1616 4750 1894 4750 \nQ 2613 4750 3031 4423 \nQ 3450 4097 3450 3541 \nQ 3450 3153 3228 2886 \nQ 3006 2619 2597 2516 \nz\n\" id=\"DejaVuSans-33\" transform=\"scale(0.015625)\"/>\n       </defs>\n       <use xlink:href=\"#DejaVuSans-28\"/>\n       <use x=\"39.013672\" xlink:href=\"#DejaVuSans-33\"/>\n       <use x=\"102.636719\" xlink:href=\"#DejaVuSans-2e\"/>\n       <use x=\"134.423828\" xlink:href=\"#DejaVuSans-31\"/>\n       <use x=\"198.046875\" xlink:href=\"#DejaVuSans-32\"/>\n       <use x=\"261.669922\" xlink:href=\"#DejaVuSans-2c\"/>\n       <use x=\"293.457031\" xlink:href=\"#DejaVuSans-20\"/>\n       <use x=\"325.244141\" xlink:href=\"#DejaVuSans-33\"/>\n       <use x=\"388.867188\" xlink:href=\"#DejaVuSans-2e\"/>\n       <use x=\"420.654297\" xlink:href=\"#DejaVuSans-34\"/>\n       <use x=\"484.277344\" xlink:href=\"#DejaVuSans-33\"/>\n       <use x=\"547.900391\" xlink:href=\"#DejaVuSans-33\"/>\n       <use x=\"611.523438\" xlink:href=\"#DejaVuSans-5d\"/>\n      </g>\n     </g>\n    </g>\n    <g id=\"xtick_4\">\n     <g id=\"line2d_4\">\n      <g>\n       <use style=\"stroke:#000000;stroke-width:0.8;\" x=\"91.8775\" xlink:href=\"#m15e8d53750\" y=\"224.64\"/>\n      </g>\n     </g>\n     <g id=\"text_4\">\n      <!-- (2.496, 2.808] -->\n      <g transform=\"translate(94.636875 303.055625)rotate(-90)scale(0.1 -0.1)\">\n       <defs>\n        <path d=\"M 2034 4250 \nQ 1547 4250 1301 3770 \nQ 1056 3291 1056 2328 \nQ 1056 1369 1301 889 \nQ 1547 409 2034 409 \nQ 2525 409 2770 889 \nQ 3016 1369 3016 2328 \nQ 3016 3291 2770 3770 \nQ 2525 4250 2034 4250 \nz\nM 2034 4750 \nQ 2819 4750 3233 4129 \nQ 3647 3509 3647 2328 \nQ 3647 1150 3233 529 \nQ 2819 -91 2034 -91 \nQ 1250 -91 836 529 \nQ 422 1150 422 2328 \nQ 422 3509 836 4129 \nQ 1250 4750 2034 4750 \nz\n\" id=\"DejaVuSans-30\" transform=\"scale(0.015625)\"/>\n       </defs>\n       <use xlink:href=\"#DejaVuSans-28\"/>\n       <use x=\"39.013672\" xlink:href=\"#DejaVuSans-32\"/>\n       <use x=\"102.636719\" xlink:href=\"#DejaVuSans-2e\"/>\n       <use x=\"134.423828\" xlink:href=\"#DejaVuSans-34\"/>\n       <use x=\"198.046875\" xlink:href=\"#DejaVuSans-39\"/>\n       <use x=\"261.669922\" xlink:href=\"#DejaVuSans-36\"/>\n       <use x=\"325.292969\" xlink:href=\"#DejaVuSans-2c\"/>\n       <use x=\"357.080078\" xlink:href=\"#DejaVuSans-20\"/>\n       <use x=\"388.867188\" xlink:href=\"#DejaVuSans-32\"/>\n       <use x=\"452.490234\" xlink:href=\"#DejaVuSans-2e\"/>\n       <use x=\"484.277344\" xlink:href=\"#DejaVuSans-38\"/>\n       <use x=\"547.900391\" xlink:href=\"#DejaVuSans-30\"/>\n       <use x=\"611.523438\" xlink:href=\"#DejaVuSans-38\"/>\n       <use x=\"675.146484\" xlink:href=\"#DejaVuSans-5d\"/>\n      </g>\n     </g>\n    </g>\n    <g id=\"xtick_5\">\n     <g id=\"line2d_5\">\n      <g>\n       <use style=\"stroke:#000000;stroke-width:0.8;\" x=\"108.6175\" xlink:href=\"#m15e8d53750\" y=\"224.64\"/>\n      </g>\n     </g>\n     <g id=\"text_5\">\n      <!-- (3.433, 3.745] -->\n      <g transform=\"translate(111.376875 303.055625)rotate(-90)scale(0.1 -0.1)\">\n       <defs>\n        <path d=\"M 691 4666 \nL 3169 4666 \nL 3169 4134 \nL 1269 4134 \nL 1269 2991 \nQ 1406 3038 1543 3061 \nQ 1681 3084 1819 3084 \nQ 2600 3084 3056 2656 \nQ 3513 2228 3513 1497 \nQ 3513 744 3044 326 \nQ 2575 -91 1722 -91 \nQ 1428 -91 1123 -41 \nQ 819 9 494 109 \nL 494 744 \nQ 775 591 1075 516 \nQ 1375 441 1709 441 \nQ 2250 441 2565 725 \nQ 2881 1009 2881 1497 \nQ 2881 1984 2565 2268 \nQ 2250 2553 1709 2553 \nQ 1456 2553 1204 2497 \nQ 953 2441 691 2322 \nL 691 4666 \nz\n\" id=\"DejaVuSans-35\" transform=\"scale(0.015625)\"/>\n       </defs>\n       <use xlink:href=\"#DejaVuSans-28\"/>\n       <use x=\"39.013672\" xlink:href=\"#DejaVuSans-33\"/>\n       <use x=\"102.636719\" xlink:href=\"#DejaVuSans-2e\"/>\n       <use x=\"134.423828\" xlink:href=\"#DejaVuSans-34\"/>\n       <use x=\"198.046875\" xlink:href=\"#DejaVuSans-33\"/>\n       <use x=\"261.669922\" xlink:href=\"#DejaVuSans-33\"/>\n       <use x=\"325.292969\" xlink:href=\"#DejaVuSans-2c\"/>\n       <use x=\"357.080078\" xlink:href=\"#DejaVuSans-20\"/>\n       <use x=\"388.867188\" xlink:href=\"#DejaVuSans-33\"/>\n       <use x=\"452.490234\" xlink:href=\"#DejaVuSans-2e\"/>\n       <use x=\"484.277344\" xlink:href=\"#DejaVuSans-37\"/>\n       <use x=\"547.900391\" xlink:href=\"#DejaVuSans-34\"/>\n       <use x=\"611.523438\" xlink:href=\"#DejaVuSans-35\"/>\n       <use x=\"675.146484\" xlink:href=\"#DejaVuSans-5d\"/>\n      </g>\n     </g>\n    </g>\n    <g id=\"xtick_6\">\n     <g id=\"line2d_6\">\n      <g>\n       <use style=\"stroke:#000000;stroke-width:0.8;\" x=\"125.3575\" xlink:href=\"#m15e8d53750\" y=\"224.64\"/>\n      </g>\n     </g>\n     <g id=\"text_6\">\n      <!-- (2.808, 3.12] -->\n      <g transform=\"translate(128.116875 296.693125)rotate(-90)scale(0.1 -0.1)\">\n       <use xlink:href=\"#DejaVuSans-28\"/>\n       <use x=\"39.013672\" xlink:href=\"#DejaVuSans-32\"/>\n       <use x=\"102.636719\" xlink:href=\"#DejaVuSans-2e\"/>\n       <use x=\"134.423828\" xlink:href=\"#DejaVuSans-38\"/>\n       <use x=\"198.046875\" xlink:href=\"#DejaVuSans-30\"/>\n       <use x=\"261.669922\" xlink:href=\"#DejaVuSans-38\"/>\n       <use x=\"325.292969\" xlink:href=\"#DejaVuSans-2c\"/>\n       <use x=\"357.080078\" xlink:href=\"#DejaVuSans-20\"/>\n       <use x=\"388.867188\" xlink:href=\"#DejaVuSans-33\"/>\n       <use x=\"452.490234\" xlink:href=\"#DejaVuSans-2e\"/>\n       <use x=\"484.277344\" xlink:href=\"#DejaVuSans-31\"/>\n       <use x=\"547.900391\" xlink:href=\"#DejaVuSans-32\"/>\n       <use x=\"611.523438\" xlink:href=\"#DejaVuSans-5d\"/>\n      </g>\n     </g>\n    </g>\n    <g id=\"xtick_7\">\n     <g id=\"line2d_7\">\n      <g>\n       <use style=\"stroke:#000000;stroke-width:0.8;\" x=\"142.0975\" xlink:href=\"#m15e8d53750\" y=\"224.64\"/>\n      </g>\n     </g>\n     <g id=\"text_7\">\n      <!-- (3.745, 4.057] -->\n      <g transform=\"translate(144.856875 303.055625)rotate(-90)scale(0.1 -0.1)\">\n       <use xlink:href=\"#DejaVuSans-28\"/>\n       <use x=\"39.013672\" xlink:href=\"#DejaVuSans-33\"/>\n       <use x=\"102.636719\" xlink:href=\"#DejaVuSans-2e\"/>\n       <use x=\"134.423828\" xlink:href=\"#DejaVuSans-37\"/>\n       <use x=\"198.046875\" xlink:href=\"#DejaVuSans-34\"/>\n       <use x=\"261.669922\" xlink:href=\"#DejaVuSans-35\"/>\n       <use x=\"325.292969\" xlink:href=\"#DejaVuSans-2c\"/>\n       <use x=\"357.080078\" xlink:href=\"#DejaVuSans-20\"/>\n       <use x=\"388.867188\" xlink:href=\"#DejaVuSans-34\"/>\n       <use x=\"452.490234\" xlink:href=\"#DejaVuSans-2e\"/>\n       <use x=\"484.277344\" xlink:href=\"#DejaVuSans-30\"/>\n       <use x=\"547.900391\" xlink:href=\"#DejaVuSans-35\"/>\n       <use x=\"611.523438\" xlink:href=\"#DejaVuSans-37\"/>\n       <use x=\"675.146484\" xlink:href=\"#DejaVuSans-5d\"/>\n      </g>\n     </g>\n    </g>\n    <g id=\"xtick_8\">\n     <g id=\"line2d_8\">\n      <g>\n       <use style=\"stroke:#000000;stroke-width:0.8;\" x=\"158.8375\" xlink:href=\"#m15e8d53750\" y=\"224.64\"/>\n      </g>\n     </g>\n     <g id=\"text_8\">\n      <!-- (4.369, 4.681] -->\n      <g transform=\"translate(161.596875 303.055625)rotate(-90)scale(0.1 -0.1)\">\n       <use xlink:href=\"#DejaVuSans-28\"/>\n       <use x=\"39.013672\" xlink:href=\"#DejaVuSans-34\"/>\n       <use x=\"102.636719\" xlink:href=\"#DejaVuSans-2e\"/>\n       <use x=\"134.423828\" xlink:href=\"#DejaVuSans-33\"/>\n       <use x=\"198.046875\" xlink:href=\"#DejaVuSans-36\"/>\n       <use x=\"261.669922\" xlink:href=\"#DejaVuSans-39\"/>\n       <use x=\"325.292969\" xlink:href=\"#DejaVuSans-2c\"/>\n       <use x=\"357.080078\" xlink:href=\"#DejaVuSans-20\"/>\n       <use x=\"388.867188\" xlink:href=\"#DejaVuSans-34\"/>\n       <use x=\"452.490234\" xlink:href=\"#DejaVuSans-2e\"/>\n       <use x=\"484.277344\" xlink:href=\"#DejaVuSans-36\"/>\n       <use x=\"547.900391\" xlink:href=\"#DejaVuSans-38\"/>\n       <use x=\"611.523438\" xlink:href=\"#DejaVuSans-31\"/>\n       <use x=\"675.146484\" xlink:href=\"#DejaVuSans-5d\"/>\n      </g>\n     </g>\n    </g>\n    <g id=\"xtick_9\">\n     <g id=\"line2d_9\">\n      <g>\n       <use style=\"stroke:#000000;stroke-width:0.8;\" x=\"175.5775\" xlink:href=\"#m15e8d53750\" y=\"224.64\"/>\n      </g>\n     </g>\n     <g id=\"text_9\">\n      <!-- (4.057, 4.369] -->\n      <g transform=\"translate(178.336875 303.055625)rotate(-90)scale(0.1 -0.1)\">\n       <use xlink:href=\"#DejaVuSans-28\"/>\n       <use x=\"39.013672\" xlink:href=\"#DejaVuSans-34\"/>\n       <use x=\"102.636719\" xlink:href=\"#DejaVuSans-2e\"/>\n       <use x=\"134.423828\" xlink:href=\"#DejaVuSans-30\"/>\n       <use x=\"198.046875\" xlink:href=\"#DejaVuSans-35\"/>\n       <use x=\"261.669922\" xlink:href=\"#DejaVuSans-37\"/>\n       <use x=\"325.292969\" xlink:href=\"#DejaVuSans-2c\"/>\n       <use x=\"357.080078\" xlink:href=\"#DejaVuSans-20\"/>\n       <use x=\"388.867188\" xlink:href=\"#DejaVuSans-34\"/>\n       <use x=\"452.490234\" xlink:href=\"#DejaVuSans-2e\"/>\n       <use x=\"484.277344\" xlink:href=\"#DejaVuSans-33\"/>\n       <use x=\"547.900391\" xlink:href=\"#DejaVuSans-36\"/>\n       <use x=\"611.523438\" xlink:href=\"#DejaVuSans-39\"/>\n       <use x=\"675.146484\" xlink:href=\"#DejaVuSans-5d\"/>\n      </g>\n     </g>\n    </g>\n    <g id=\"xtick_10\">\n     <g id=\"line2d_10\">\n      <g>\n       <use style=\"stroke:#000000;stroke-width:0.8;\" x=\"192.3175\" xlink:href=\"#m15e8d53750\" y=\"224.64\"/>\n      </g>\n     </g>\n     <g id=\"text_10\">\n      <!-- (4.681, 4.993] -->\n      <g transform=\"translate(195.076875 303.055625)rotate(-90)scale(0.1 -0.1)\">\n       <use xlink:href=\"#DejaVuSans-28\"/>\n       <use x=\"39.013672\" xlink:href=\"#DejaVuSans-34\"/>\n       <use x=\"102.636719\" xlink:href=\"#DejaVuSans-2e\"/>\n       <use x=\"134.423828\" xlink:href=\"#DejaVuSans-36\"/>\n       <use x=\"198.046875\" xlink:href=\"#DejaVuSans-38\"/>\n       <use x=\"261.669922\" xlink:href=\"#DejaVuSans-31\"/>\n       <use x=\"325.292969\" xlink:href=\"#DejaVuSans-2c\"/>\n       <use x=\"357.080078\" xlink:href=\"#DejaVuSans-20\"/>\n       <use x=\"388.867188\" xlink:href=\"#DejaVuSans-34\"/>\n       <use x=\"452.490234\" xlink:href=\"#DejaVuSans-2e\"/>\n       <use x=\"484.277344\" xlink:href=\"#DejaVuSans-39\"/>\n       <use x=\"547.900391\" xlink:href=\"#DejaVuSans-39\"/>\n       <use x=\"611.523438\" xlink:href=\"#DejaVuSans-33\"/>\n       <use x=\"675.146484\" xlink:href=\"#DejaVuSans-5d\"/>\n      </g>\n     </g>\n    </g>\n    <g id=\"xtick_11\">\n     <g id=\"line2d_11\">\n      <g>\n       <use style=\"stroke:#000000;stroke-width:0.8;\" x=\"209.0575\" xlink:href=\"#m15e8d53750\" y=\"224.64\"/>\n      </g>\n     </g>\n     <g id=\"text_11\">\n      <!-- (5.305, 5.617] -->\n      <g transform=\"translate(211.816875 303.055625)rotate(-90)scale(0.1 -0.1)\">\n       <use xlink:href=\"#DejaVuSans-28\"/>\n       <use x=\"39.013672\" xlink:href=\"#DejaVuSans-35\"/>\n       <use x=\"102.636719\" xlink:href=\"#DejaVuSans-2e\"/>\n       <use x=\"134.423828\" xlink:href=\"#DejaVuSans-33\"/>\n       <use x=\"198.046875\" xlink:href=\"#DejaVuSans-30\"/>\n       <use x=\"261.669922\" xlink:href=\"#DejaVuSans-35\"/>\n       <use x=\"325.292969\" xlink:href=\"#DejaVuSans-2c\"/>\n       <use x=\"357.080078\" xlink:href=\"#DejaVuSans-20\"/>\n       <use x=\"388.867188\" xlink:href=\"#DejaVuSans-35\"/>\n       <use x=\"452.490234\" xlink:href=\"#DejaVuSans-2e\"/>\n       <use x=\"484.277344\" xlink:href=\"#DejaVuSans-36\"/>\n       <use x=\"547.900391\" xlink:href=\"#DejaVuSans-31\"/>\n       <use x=\"611.523438\" xlink:href=\"#DejaVuSans-37\"/>\n       <use x=\"675.146484\" xlink:href=\"#DejaVuSans-5d\"/>\n      </g>\n     </g>\n    </g>\n    <g id=\"xtick_12\">\n     <g id=\"line2d_12\">\n      <g>\n       <use style=\"stroke:#000000;stroke-width:0.8;\" x=\"225.7975\" xlink:href=\"#m15e8d53750\" y=\"224.64\"/>\n      </g>\n     </g>\n     <g id=\"text_12\">\n      <!-- (-0.00624, 0.312] -->\n      <g transform=\"translate(228.556875 319.388438)rotate(-90)scale(0.1 -0.1)\">\n       <defs>\n        <path d=\"M 313 2009 \nL 1997 2009 \nL 1997 1497 \nL 313 1497 \nL 313 2009 \nz\n\" id=\"DejaVuSans-2d\" transform=\"scale(0.015625)\"/>\n       </defs>\n       <use xlink:href=\"#DejaVuSans-28\"/>\n       <use x=\"39.013672\" xlink:href=\"#DejaVuSans-2d\"/>\n       <use x=\"75.097656\" xlink:href=\"#DejaVuSans-30\"/>\n       <use x=\"138.720703\" xlink:href=\"#DejaVuSans-2e\"/>\n       <use x=\"170.507812\" xlink:href=\"#DejaVuSans-30\"/>\n       <use x=\"234.130859\" xlink:href=\"#DejaVuSans-30\"/>\n       <use x=\"297.753906\" xlink:href=\"#DejaVuSans-36\"/>\n       <use x=\"361.376953\" xlink:href=\"#DejaVuSans-32\"/>\n       <use x=\"425\" xlink:href=\"#DejaVuSans-34\"/>\n       <use x=\"488.623047\" xlink:href=\"#DejaVuSans-2c\"/>\n       <use x=\"520.410156\" xlink:href=\"#DejaVuSans-20\"/>\n       <use x=\"552.197266\" xlink:href=\"#DejaVuSans-30\"/>\n       <use x=\"615.820312\" xlink:href=\"#DejaVuSans-2e\"/>\n       <use x=\"647.607422\" xlink:href=\"#DejaVuSans-33\"/>\n       <use x=\"711.230469\" xlink:href=\"#DejaVuSans-31\"/>\n       <use x=\"774.853516\" xlink:href=\"#DejaVuSans-32\"/>\n       <use x=\"838.476562\" xlink:href=\"#DejaVuSans-5d\"/>\n      </g>\n     </g>\n    </g>\n    <g id=\"xtick_13\">\n     <g id=\"line2d_13\">\n      <g>\n       <use style=\"stroke:#000000;stroke-width:0.8;\" x=\"242.5375\" xlink:href=\"#m15e8d53750\" y=\"224.64\"/>\n      </g>\n     </g>\n     <g id=\"text_13\">\n      <!-- (4.993, 5.305] -->\n      <g transform=\"translate(245.296875 303.055625)rotate(-90)scale(0.1 -0.1)\">\n       <use xlink:href=\"#DejaVuSans-28\"/>\n       <use x=\"39.013672\" xlink:href=\"#DejaVuSans-34\"/>\n       <use x=\"102.636719\" xlink:href=\"#DejaVuSans-2e\"/>\n       <use x=\"134.423828\" xlink:href=\"#DejaVuSans-39\"/>\n       <use x=\"198.046875\" xlink:href=\"#DejaVuSans-39\"/>\n       <use x=\"261.669922\" xlink:href=\"#DejaVuSans-33\"/>\n       <use x=\"325.292969\" xlink:href=\"#DejaVuSans-2c\"/>\n       <use x=\"357.080078\" xlink:href=\"#DejaVuSans-20\"/>\n       <use x=\"388.867188\" xlink:href=\"#DejaVuSans-35\"/>\n       <use x=\"452.490234\" xlink:href=\"#DejaVuSans-2e\"/>\n       <use x=\"484.277344\" xlink:href=\"#DejaVuSans-33\"/>\n       <use x=\"547.900391\" xlink:href=\"#DejaVuSans-30\"/>\n       <use x=\"611.523438\" xlink:href=\"#DejaVuSans-35\"/>\n       <use x=\"675.146484\" xlink:href=\"#DejaVuSans-5d\"/>\n      </g>\n     </g>\n    </g>\n    <g id=\"xtick_14\">\n     <g id=\"line2d_14\">\n      <g>\n       <use style=\"stroke:#000000;stroke-width:0.8;\" x=\"259.2775\" xlink:href=\"#m15e8d53750\" y=\"224.64\"/>\n      </g>\n     </g>\n     <g id=\"text_14\">\n      <!-- (5.929, 6.241] -->\n      <g transform=\"translate(262.036875 303.055625)rotate(-90)scale(0.1 -0.1)\">\n       <use xlink:href=\"#DejaVuSans-28\"/>\n       <use x=\"39.013672\" xlink:href=\"#DejaVuSans-35\"/>\n       <use x=\"102.636719\" xlink:href=\"#DejaVuSans-2e\"/>\n       <use x=\"134.423828\" xlink:href=\"#DejaVuSans-39\"/>\n       <use x=\"198.046875\" xlink:href=\"#DejaVuSans-32\"/>\n       <use x=\"261.669922\" xlink:href=\"#DejaVuSans-39\"/>\n       <use x=\"325.292969\" xlink:href=\"#DejaVuSans-2c\"/>\n       <use x=\"357.080078\" xlink:href=\"#DejaVuSans-20\"/>\n       <use x=\"388.867188\" xlink:href=\"#DejaVuSans-36\"/>\n       <use x=\"452.490234\" xlink:href=\"#DejaVuSans-2e\"/>\n       <use x=\"484.277344\" xlink:href=\"#DejaVuSans-32\"/>\n       <use x=\"547.900391\" xlink:href=\"#DejaVuSans-34\"/>\n       <use x=\"611.523438\" xlink:href=\"#DejaVuSans-31\"/>\n       <use x=\"675.146484\" xlink:href=\"#DejaVuSans-5d\"/>\n      </g>\n     </g>\n    </g>\n    <g id=\"xtick_15\">\n     <g id=\"line2d_15\">\n      <g>\n       <use style=\"stroke:#000000;stroke-width:0.8;\" x=\"276.0175\" xlink:href=\"#m15e8d53750\" y=\"224.64\"/>\n      </g>\n     </g>\n     <g id=\"text_15\">\n      <!-- (1.56, 1.872] -->\n      <g transform=\"translate(278.776875 296.693125)rotate(-90)scale(0.1 -0.1)\">\n       <use xlink:href=\"#DejaVuSans-28\"/>\n       <use x=\"39.013672\" xlink:href=\"#DejaVuSans-31\"/>\n       <use x=\"102.636719\" xlink:href=\"#DejaVuSans-2e\"/>\n       <use x=\"134.423828\" xlink:href=\"#DejaVuSans-35\"/>\n       <use x=\"198.046875\" xlink:href=\"#DejaVuSans-36\"/>\n       <use x=\"261.669922\" xlink:href=\"#DejaVuSans-2c\"/>\n       <use x=\"293.457031\" xlink:href=\"#DejaVuSans-20\"/>\n       <use x=\"325.244141\" xlink:href=\"#DejaVuSans-31\"/>\n       <use x=\"388.867188\" xlink:href=\"#DejaVuSans-2e\"/>\n       <use x=\"420.654297\" xlink:href=\"#DejaVuSans-38\"/>\n       <use x=\"484.277344\" xlink:href=\"#DejaVuSans-37\"/>\n       <use x=\"547.900391\" xlink:href=\"#DejaVuSans-32\"/>\n       <use x=\"611.523438\" xlink:href=\"#DejaVuSans-5d\"/>\n      </g>\n     </g>\n    </g>\n    <g id=\"xtick_16\">\n     <g id=\"line2d_16\">\n      <g>\n       <use style=\"stroke:#000000;stroke-width:0.8;\" x=\"292.7575\" xlink:href=\"#m15e8d53750\" y=\"224.64\"/>\n      </g>\n     </g>\n     <g id=\"text_16\">\n      <!-- (0.312, 0.624] -->\n      <g transform=\"translate(295.516875 303.055625)rotate(-90)scale(0.1 -0.1)\">\n       <use xlink:href=\"#DejaVuSans-28\"/>\n       <use x=\"39.013672\" xlink:href=\"#DejaVuSans-30\"/>\n       <use x=\"102.636719\" xlink:href=\"#DejaVuSans-2e\"/>\n       <use x=\"134.423828\" xlink:href=\"#DejaVuSans-33\"/>\n       <use x=\"198.046875\" xlink:href=\"#DejaVuSans-31\"/>\n       <use x=\"261.669922\" xlink:href=\"#DejaVuSans-32\"/>\n       <use x=\"325.292969\" xlink:href=\"#DejaVuSans-2c\"/>\n       <use x=\"357.080078\" xlink:href=\"#DejaVuSans-20\"/>\n       <use x=\"388.867188\" xlink:href=\"#DejaVuSans-30\"/>\n       <use x=\"452.490234\" xlink:href=\"#DejaVuSans-2e\"/>\n       <use x=\"484.277344\" xlink:href=\"#DejaVuSans-36\"/>\n       <use x=\"547.900391\" xlink:href=\"#DejaVuSans-32\"/>\n       <use x=\"611.523438\" xlink:href=\"#DejaVuSans-34\"/>\n       <use x=\"675.146484\" xlink:href=\"#DejaVuSans-5d\"/>\n      </g>\n     </g>\n    </g>\n    <g id=\"xtick_17\">\n     <g id=\"line2d_17\">\n      <g>\n       <use style=\"stroke:#000000;stroke-width:0.8;\" x=\"309.4975\" xlink:href=\"#m15e8d53750\" y=\"224.64\"/>\n      </g>\n     </g>\n     <g id=\"text_17\">\n      <!-- (1.248, 1.56] -->\n      <g transform=\"translate(312.256875 296.693125)rotate(-90)scale(0.1 -0.1)\">\n       <use xlink:href=\"#DejaVuSans-28\"/>\n       <use x=\"39.013672\" xlink:href=\"#DejaVuSans-31\"/>\n       <use x=\"102.636719\" xlink:href=\"#DejaVuSans-2e\"/>\n       <use x=\"134.423828\" xlink:href=\"#DejaVuSans-32\"/>\n       <use x=\"198.046875\" xlink:href=\"#DejaVuSans-34\"/>\n       <use x=\"261.669922\" xlink:href=\"#DejaVuSans-38\"/>\n       <use x=\"325.292969\" xlink:href=\"#DejaVuSans-2c\"/>\n       <use x=\"357.080078\" xlink:href=\"#DejaVuSans-20\"/>\n       <use x=\"388.867188\" xlink:href=\"#DejaVuSans-31\"/>\n       <use x=\"452.490234\" xlink:href=\"#DejaVuSans-2e\"/>\n       <use x=\"484.277344\" xlink:href=\"#DejaVuSans-35\"/>\n       <use x=\"547.900391\" xlink:href=\"#DejaVuSans-36\"/>\n       <use x=\"611.523438\" xlink:href=\"#DejaVuSans-5d\"/>\n      </g>\n     </g>\n    </g>\n    <g id=\"xtick_18\">\n     <g id=\"line2d_18\">\n      <g>\n       <use style=\"stroke:#000000;stroke-width:0.8;\" x=\"326.2375\" xlink:href=\"#m15e8d53750\" y=\"224.64\"/>\n      </g>\n     </g>\n     <g id=\"text_18\">\n      <!-- (0.936, 1.248] -->\n      <g transform=\"translate(328.996875 303.055625)rotate(-90)scale(0.1 -0.1)\">\n       <use xlink:href=\"#DejaVuSans-28\"/>\n       <use x=\"39.013672\" xlink:href=\"#DejaVuSans-30\"/>\n       <use x=\"102.636719\" xlink:href=\"#DejaVuSans-2e\"/>\n       <use x=\"134.423828\" xlink:href=\"#DejaVuSans-39\"/>\n       <use x=\"198.046875\" xlink:href=\"#DejaVuSans-33\"/>\n       <use x=\"261.669922\" xlink:href=\"#DejaVuSans-36\"/>\n       <use x=\"325.292969\" xlink:href=\"#DejaVuSans-2c\"/>\n       <use x=\"357.080078\" xlink:href=\"#DejaVuSans-20\"/>\n       <use x=\"388.867188\" xlink:href=\"#DejaVuSans-31\"/>\n       <use x=\"452.490234\" xlink:href=\"#DejaVuSans-2e\"/>\n       <use x=\"484.277344\" xlink:href=\"#DejaVuSans-32\"/>\n       <use x=\"547.900391\" xlink:href=\"#DejaVuSans-34\"/>\n       <use x=\"611.523438\" xlink:href=\"#DejaVuSans-38\"/>\n       <use x=\"675.146484\" xlink:href=\"#DejaVuSans-5d\"/>\n      </g>\n     </g>\n    </g>\n    <g id=\"xtick_19\">\n     <g id=\"line2d_19\">\n      <g>\n       <use style=\"stroke:#000000;stroke-width:0.8;\" x=\"342.9775\" xlink:href=\"#m15e8d53750\" y=\"224.64\"/>\n      </g>\n     </g>\n     <g id=\"text_19\">\n      <!-- (0.624, 0.936] -->\n      <g transform=\"translate(345.736875 303.055625)rotate(-90)scale(0.1 -0.1)\">\n       <use xlink:href=\"#DejaVuSans-28\"/>\n       <use x=\"39.013672\" xlink:href=\"#DejaVuSans-30\"/>\n       <use x=\"102.636719\" xlink:href=\"#DejaVuSans-2e\"/>\n       <use x=\"134.423828\" xlink:href=\"#DejaVuSans-36\"/>\n       <use x=\"198.046875\" xlink:href=\"#DejaVuSans-32\"/>\n       <use x=\"261.669922\" xlink:href=\"#DejaVuSans-34\"/>\n       <use x=\"325.292969\" xlink:href=\"#DejaVuSans-2c\"/>\n       <use x=\"357.080078\" xlink:href=\"#DejaVuSans-20\"/>\n       <use x=\"388.867188\" xlink:href=\"#DejaVuSans-30\"/>\n       <use x=\"452.490234\" xlink:href=\"#DejaVuSans-2e\"/>\n       <use x=\"484.277344\" xlink:href=\"#DejaVuSans-39\"/>\n       <use x=\"547.900391\" xlink:href=\"#DejaVuSans-33\"/>\n       <use x=\"611.523438\" xlink:href=\"#DejaVuSans-36\"/>\n       <use x=\"675.146484\" xlink:href=\"#DejaVuSans-5d\"/>\n      </g>\n     </g>\n    </g>\n    <g id=\"xtick_20\">\n     <g id=\"line2d_20\">\n      <g>\n       <use style=\"stroke:#000000;stroke-width:0.8;\" x=\"359.7175\" xlink:href=\"#m15e8d53750\" y=\"224.64\"/>\n      </g>\n     </g>\n     <g id=\"text_20\">\n      <!-- (5.617, 5.929] -->\n      <g transform=\"translate(362.476875 303.055625)rotate(-90)scale(0.1 -0.1)\">\n       <use xlink:href=\"#DejaVuSans-28\"/>\n       <use x=\"39.013672\" xlink:href=\"#DejaVuSans-35\"/>\n       <use x=\"102.636719\" xlink:href=\"#DejaVuSans-2e\"/>\n       <use x=\"134.423828\" xlink:href=\"#DejaVuSans-36\"/>\n       <use x=\"198.046875\" xlink:href=\"#DejaVuSans-31\"/>\n       <use x=\"261.669922\" xlink:href=\"#DejaVuSans-37\"/>\n       <use x=\"325.292969\" xlink:href=\"#DejaVuSans-2c\"/>\n       <use x=\"357.080078\" xlink:href=\"#DejaVuSans-20\"/>\n       <use x=\"388.867188\" xlink:href=\"#DejaVuSans-35\"/>\n       <use x=\"452.490234\" xlink:href=\"#DejaVuSans-2e\"/>\n       <use x=\"484.277344\" xlink:href=\"#DejaVuSans-39\"/>\n       <use x=\"547.900391\" xlink:href=\"#DejaVuSans-32\"/>\n       <use x=\"611.523438\" xlink:href=\"#DejaVuSans-39\"/>\n       <use x=\"675.146484\" xlink:href=\"#DejaVuSans-5d\"/>\n      </g>\n     </g>\n    </g>\n   </g>\n   <g id=\"matplotlib.axis_2\">\n    <g id=\"ytick_1\">\n     <g id=\"line2d_21\">\n      <defs>\n       <path d=\"M 0 0 \nL -3.5 0 \n\" id=\"m2aa565994d\" style=\"stroke:#000000;stroke-width:0.8;\"/>\n      </defs>\n      <g>\n       <use style=\"stroke:#000000;stroke-width:0.8;\" x=\"33.2875\" xlink:href=\"#m2aa565994d\" y=\"224.64\"/>\n      </g>\n     </g>\n     <g id=\"text_21\">\n      <!-- 0 -->\n      <g transform=\"translate(19.925 228.439219)scale(0.1 -0.1)\">\n       <use xlink:href=\"#DejaVuSans-30\"/>\n      </g>\n     </g>\n    </g>\n    <g id=\"ytick_2\">\n     <g id=\"line2d_22\">\n      <g>\n       <use style=\"stroke:#000000;stroke-width:0.8;\" x=\"33.2875\" xlink:href=\"#m2aa565994d\" y=\"196.349602\"/>\n      </g>\n     </g>\n     <g id=\"text_22\">\n      <!-- 25 -->\n      <g transform=\"translate(13.5625 200.148821)scale(0.1 -0.1)\">\n       <use xlink:href=\"#DejaVuSans-32\"/>\n       <use x=\"63.623047\" xlink:href=\"#DejaVuSans-35\"/>\n      </g>\n     </g>\n    </g>\n    <g id=\"ytick_3\">\n     <g id=\"line2d_23\">\n      <g>\n       <use style=\"stroke:#000000;stroke-width:0.8;\" x=\"33.2875\" xlink:href=\"#m2aa565994d\" y=\"168.059204\"/>\n      </g>\n     </g>\n     <g id=\"text_23\">\n      <!-- 50 -->\n      <g transform=\"translate(13.5625 171.858422)scale(0.1 -0.1)\">\n       <use xlink:href=\"#DejaVuSans-35\"/>\n       <use x=\"63.623047\" xlink:href=\"#DejaVuSans-30\"/>\n      </g>\n     </g>\n    </g>\n    <g id=\"ytick_4\">\n     <g id=\"line2d_24\">\n      <g>\n       <use style=\"stroke:#000000;stroke-width:0.8;\" x=\"33.2875\" xlink:href=\"#m2aa565994d\" y=\"139.768806\"/>\n      </g>\n     </g>\n     <g id=\"text_24\">\n      <!-- 75 -->\n      <g transform=\"translate(13.5625 143.568024)scale(0.1 -0.1)\">\n       <use xlink:href=\"#DejaVuSans-37\"/>\n       <use x=\"63.623047\" xlink:href=\"#DejaVuSans-35\"/>\n      </g>\n     </g>\n    </g>\n    <g id=\"ytick_5\">\n     <g id=\"line2d_25\">\n      <g>\n       <use style=\"stroke:#000000;stroke-width:0.8;\" x=\"33.2875\" xlink:href=\"#m2aa565994d\" y=\"111.478407\"/>\n      </g>\n     </g>\n     <g id=\"text_25\">\n      <!-- 100 -->\n      <g transform=\"translate(7.2 115.277626)scale(0.1 -0.1)\">\n       <use xlink:href=\"#DejaVuSans-31\"/>\n       <use x=\"63.623047\" xlink:href=\"#DejaVuSans-30\"/>\n       <use x=\"127.246094\" xlink:href=\"#DejaVuSans-30\"/>\n      </g>\n     </g>\n    </g>\n    <g id=\"ytick_6\">\n     <g id=\"line2d_26\">\n      <g>\n       <use style=\"stroke:#000000;stroke-width:0.8;\" x=\"33.2875\" xlink:href=\"#m2aa565994d\" y=\"83.188009\"/>\n      </g>\n     </g>\n     <g id=\"text_26\">\n      <!-- 125 -->\n      <g transform=\"translate(7.2 86.987228)scale(0.1 -0.1)\">\n       <use xlink:href=\"#DejaVuSans-31\"/>\n       <use x=\"63.623047\" xlink:href=\"#DejaVuSans-32\"/>\n       <use x=\"127.246094\" xlink:href=\"#DejaVuSans-35\"/>\n      </g>\n     </g>\n    </g>\n    <g id=\"ytick_7\">\n     <g id=\"line2d_27\">\n      <g>\n       <use style=\"stroke:#000000;stroke-width:0.8;\" x=\"33.2875\" xlink:href=\"#m2aa565994d\" y=\"54.897611\"/>\n      </g>\n     </g>\n     <g id=\"text_27\">\n      <!-- 150 -->\n      <g transform=\"translate(7.2 58.69683)scale(0.1 -0.1)\">\n       <use xlink:href=\"#DejaVuSans-31\"/>\n       <use x=\"63.623047\" xlink:href=\"#DejaVuSans-35\"/>\n       <use x=\"127.246094\" xlink:href=\"#DejaVuSans-30\"/>\n      </g>\n     </g>\n    </g>\n    <g id=\"ytick_8\">\n     <g id=\"line2d_28\">\n      <g>\n       <use style=\"stroke:#000000;stroke-width:0.8;\" x=\"33.2875\" xlink:href=\"#m2aa565994d\" y=\"26.607213\"/>\n      </g>\n     </g>\n     <g id=\"text_28\">\n      <!-- 175 -->\n      <g transform=\"translate(7.2 30.406432)scale(0.1 -0.1)\">\n       <use xlink:href=\"#DejaVuSans-31\"/>\n       <use x=\"63.623047\" xlink:href=\"#DejaVuSans-37\"/>\n       <use x=\"127.246094\" xlink:href=\"#DejaVuSans-35\"/>\n      </g>\n     </g>\n    </g>\n   </g>\n   <g id=\"patch_23\">\n    <path d=\"M 33.2875 224.64 \nL 33.2875 7.2 \n\" style=\"fill:none;stroke:#000000;stroke-linecap:square;stroke-linejoin:miter;stroke-width:0.8;\"/>\n   </g>\n   <g id=\"patch_24\">\n    <path d=\"M 368.0875 224.64 \nL 368.0875 7.2 \n\" style=\"fill:none;stroke:#000000;stroke-linecap:square;stroke-linejoin:miter;stroke-width:0.8;\"/>\n   </g>\n   <g id=\"patch_25\">\n    <path d=\"M 33.2875 224.64 \nL 368.0875 224.64 \n\" style=\"fill:none;stroke:#000000;stroke-linecap:square;stroke-linejoin:miter;stroke-width:0.8;\"/>\n   </g>\n   <g id=\"patch_26\">\n    <path d=\"M 33.2875 7.2 \nL 368.0875 7.2 \n\" style=\"fill:none;stroke:#000000;stroke-linecap:square;stroke-linejoin:miter;stroke-width:0.8;\"/>\n   </g>\n  </g>\n </g>\n <defs>\n  <clipPath id=\"pde790a8bda\">\n   <rect height=\"217.44\" width=\"334.8\" x=\"33.2875\" y=\"7.2\"/>\n  </clipPath>\n </defs>\n</svg>\n",
      "image/png": "[encoded data removed]"
     },
     "metadata": {
      "needs_background": "light"
     }
    }
   ],
   "metadata": {}
  },
  {
   "cell_type": "code",
   "execution_count": 256,
   "source": [
    "from sklearn.base import BaseEstimator, TransformerMixin\n",
    "\n",
    "class Binner(BaseEstimator, TransformerMixin):\n",
    "\n",
    "  def __init__(self):\n",
    "    return\n",
    "\n",
    "  def fit(self, X, y=None):\n",
    "    return self\n",
    "  \n",
    "  def transform(self, X, y=None):\n",
    "    _X = X.assign(Family_bin=pd.cut(X[\"Family\"], [0, 1, 4, 7, np.Infinity], labels=['solo', 'small', 'middle', 'large']))\n",
    "    _X = _X.assign(Age_bin=pd.cut(X[\"Age\"], np.arange(0, 100, 5)))\n",
    "    _X = _X.assign(Fare_nd_bin=pd.cut(X[\"Fare_nd\"], 20))\n",
    "    return _X\n"
   ],
   "outputs": [],
   "metadata": {}
  },
  {
   "cell_type": "code",
   "execution_count": 262,
   "source": [
    "from sklearn.pipeline import Pipeline\n",
    "\n",
    "dataframe_pipeline = Pipeline([\n",
    "  ('baby', BabyAppender(limit=20)),\n",
    "  ('cabin', CabinConverter()),\n",
    "  ('group', FamilySizeAppender()),\n",
    "  ('fare', NDFareAppender()),\n",
    "  ('bin', Binner()),\n",
    "])"
   ],
   "outputs": [],
   "metadata": {}
  },
  {
   "cell_type": "code",
   "execution_count": 263,
   "source": [
    "from sklearn.compose import ColumnTransformer\n",
    "from sklearn.preprocessing import StandardScaler\n",
    "from sklearn.preprocessing import OneHotEncoder\n",
    "from sklearn.pipeline import Pipeline\n",
    "from sklearn.impute import SimpleImputer\n",
    "\n",
    "cabins = ['A', 'B', 'C', 'D', 'E', 'F', 'G', 'T', np.nan]\n",
    "\n",
    "scaler_pipeline = Pipeline([\n",
    "  ('imputer', SimpleImputer()),\n",
    "  ('std_scaler', StandardScaler()),\n",
    "])\n",
    "\n",
    "col_transformer = ColumnTransformer([ \n",
    "  (\"onehot\", OneHotEncoder(), [\"Pclass\", \"Sex\", \"Family_bin\", \"Fare_nd_bin\", \"Age_bin\"]),\n",
    "  (\"floor\", OneHotEncoder(categories=[cabins]), [\"Floor\"]),\n",
    "  (\"passthrough\", \"passthrough\", [\"Baby\"]),\n",
    "])"
   ],
   "outputs": [],
   "metadata": {}
  },
  {
   "cell_type": "code",
   "execution_count": 264,
   "source": [
    "whole_pipeline = Pipeline([\n",
    "  ('dataframe', dataframe_pipeline),\n",
    "  ('std_scaler', col_transformer),\n",
    "])"
   ],
   "outputs": [],
   "metadata": {}
  },
  {
   "cell_type": "code",
   "execution_count": 265,
   "source": [
    "from sklearn.ensemble import RandomForestClassifier\n",
    "from sklearn.model_selection import cross_val_score\n",
    "\n",
    "_X_train = whole_pipeline.fit_transform(X_train)\n",
    "clf = RandomForestClassifier(random_state=38)\n",
    "clf.fit(_X_train, y_train)\n",
    "cross_val_score(clf, _X_train, y_train, cv=3, scoring=\"accuracy\")"
   ],
   "outputs": [
    {
     "output_type": "error",
     "ename": "KeyError",
     "evalue": "'Family'",
     "traceback": [
      "\u001b[0;31m---------------------------------------------------------------------------\u001b[0m",
      "\u001b[0;31mKeyError\u001b[0m                                  Traceback (most recent call last)",
      "\u001b[0;32m/usr/local/lib/python3.9/site-packages/pandas/core/indexes/base.py\u001b[0m in \u001b[0;36mget_loc\u001b[0;34m(self, key, method, tolerance)\u001b[0m\n\u001b[1;32m   3079\u001b[0m             \u001b[0;32mtry\u001b[0m\u001b[0;34m:\u001b[0m\u001b[0;34m\u001b[0m\u001b[0;34m\u001b[0m\u001b[0m\n\u001b[0;32m-> 3080\u001b[0;31m                 \u001b[0;32mreturn\u001b[0m \u001b[0mself\u001b[0m\u001b[0;34m.\u001b[0m\u001b[0m_engine\u001b[0m\u001b[0;34m.\u001b[0m\u001b[0mget_loc\u001b[0m\u001b[0;34m(\u001b[0m\u001b[0mcasted_key\u001b[0m\u001b[0;34m)\u001b[0m\u001b[0;34m\u001b[0m\u001b[0;34m\u001b[0m\u001b[0m\n\u001b[0m\u001b[1;32m   3081\u001b[0m             \u001b[0;32mexcept\u001b[0m \u001b[0mKeyError\u001b[0m \u001b[0;32mas\u001b[0m \u001b[0merr\u001b[0m\u001b[0;34m:\u001b[0m\u001b[0;34m\u001b[0m\u001b[0;34m\u001b[0m\u001b[0m\n",
      "\u001b[0;32mpandas/_libs/index.pyx\u001b[0m in \u001b[0;36mpandas._libs.index.IndexEngine.get_loc\u001b[0;34m()\u001b[0m\n",
      "\u001b[0;32mpandas/_libs/index.pyx\u001b[0m in \u001b[0;36mpandas._libs.index.IndexEngine.get_loc\u001b[0;34m()\u001b[0m\n",
      "\u001b[0;32mpandas/_libs/hashtable_class_helper.pxi\u001b[0m in \u001b[0;36mpandas._libs.hashtable.PyObjectHashTable.get_item\u001b[0;34m()\u001b[0m\n",
      "\u001b[0;32mpandas/_libs/hashtable_class_helper.pxi\u001b[0m in \u001b[0;36mpandas._libs.hashtable.PyObjectHashTable.get_item\u001b[0;34m()\u001b[0m\n",
      "\u001b[0;31mKeyError\u001b[0m: 'Family'",
      "\nThe above exception was the direct cause of the following exception:\n",
      "\u001b[0;31mKeyError\u001b[0m                                  Traceback (most recent call last)",
      "\u001b[0;32m<ipython-input-265-3e92e0408e5c>\u001b[0m in \u001b[0;36m<module>\u001b[0;34m\u001b[0m\n\u001b[1;32m      2\u001b[0m \u001b[0;32mfrom\u001b[0m \u001b[0msklearn\u001b[0m\u001b[0;34m.\u001b[0m\u001b[0mmodel_selection\u001b[0m \u001b[0;32mimport\u001b[0m \u001b[0mcross_val_score\u001b[0m\u001b[0;34m\u001b[0m\u001b[0;34m\u001b[0m\u001b[0m\n\u001b[1;32m      3\u001b[0m \u001b[0;34m\u001b[0m\u001b[0m\n\u001b[0;32m----> 4\u001b[0;31m \u001b[0m_X_train\u001b[0m \u001b[0;34m=\u001b[0m \u001b[0mwhole_pipeline\u001b[0m\u001b[0;34m.\u001b[0m\u001b[0mfit_transform\u001b[0m\u001b[0;34m(\u001b[0m\u001b[0mX_train\u001b[0m\u001b[0;34m)\u001b[0m\u001b[0;34m\u001b[0m\u001b[0;34m\u001b[0m\u001b[0m\n\u001b[0m\u001b[1;32m      5\u001b[0m \u001b[0mclf\u001b[0m \u001b[0;34m=\u001b[0m \u001b[0mRandomForestClassifier\u001b[0m\u001b[0;34m(\u001b[0m\u001b[0mrandom_state\u001b[0m\u001b[0;34m=\u001b[0m\u001b[0;36m38\u001b[0m\u001b[0;34m)\u001b[0m\u001b[0;34m\u001b[0m\u001b[0;34m\u001b[0m\u001b[0m\n\u001b[1;32m      6\u001b[0m \u001b[0mclf\u001b[0m\u001b[0;34m.\u001b[0m\u001b[0mfit\u001b[0m\u001b[0;34m(\u001b[0m\u001b[0m_X_train\u001b[0m\u001b[0;34m,\u001b[0m \u001b[0my_train\u001b[0m\u001b[0;34m)\u001b[0m\u001b[0;34m\u001b[0m\u001b[0;34m\u001b[0m\u001b[0m\n",
      "\u001b[0;32m/usr/local/lib/python3.9/site-packages/sklearn/pipeline.py\u001b[0m in \u001b[0;36mfit_transform\u001b[0;34m(self, X, y, **fit_params)\u001b[0m\n\u001b[1;32m    376\u001b[0m         \"\"\"\n\u001b[1;32m    377\u001b[0m         \u001b[0mfit_params_steps\u001b[0m \u001b[0;34m=\u001b[0m \u001b[0mself\u001b[0m\u001b[0;34m.\u001b[0m\u001b[0m_check_fit_params\u001b[0m\u001b[0;34m(\u001b[0m\u001b[0;34m**\u001b[0m\u001b[0mfit_params\u001b[0m\u001b[0;34m)\u001b[0m\u001b[0;34m\u001b[0m\u001b[0;34m\u001b[0m\u001b[0m\n\u001b[0;32m--> 378\u001b[0;31m         \u001b[0mXt\u001b[0m \u001b[0;34m=\u001b[0m \u001b[0mself\u001b[0m\u001b[0;34m.\u001b[0m\u001b[0m_fit\u001b[0m\u001b[0;34m(\u001b[0m\u001b[0mX\u001b[0m\u001b[0;34m,\u001b[0m \u001b[0my\u001b[0m\u001b[0;34m,\u001b[0m \u001b[0;34m**\u001b[0m\u001b[0mfit_params_steps\u001b[0m\u001b[0;34m)\u001b[0m\u001b[0;34m\u001b[0m\u001b[0;34m\u001b[0m\u001b[0m\n\u001b[0m\u001b[1;32m    379\u001b[0m \u001b[0;34m\u001b[0m\u001b[0m\n\u001b[1;32m    380\u001b[0m         \u001b[0mlast_step\u001b[0m \u001b[0;34m=\u001b[0m \u001b[0mself\u001b[0m\u001b[0;34m.\u001b[0m\u001b[0m_final_estimator\u001b[0m\u001b[0;34m\u001b[0m\u001b[0;34m\u001b[0m\u001b[0m\n",
      "\u001b[0;32m/usr/local/lib/python3.9/site-packages/sklearn/pipeline.py\u001b[0m in \u001b[0;36m_fit\u001b[0;34m(self, X, y, **fit_params_steps)\u001b[0m\n\u001b[1;32m    301\u001b[0m                 \u001b[0mcloned_transformer\u001b[0m \u001b[0;34m=\u001b[0m \u001b[0mclone\u001b[0m\u001b[0;34m(\u001b[0m\u001b[0mtransformer\u001b[0m\u001b[0;34m)\u001b[0m\u001b[0;34m\u001b[0m\u001b[0;34m\u001b[0m\u001b[0m\n\u001b[1;32m    302\u001b[0m             \u001b[0;31m# Fit or load from cache the current transformer\u001b[0m\u001b[0;34m\u001b[0m\u001b[0;34m\u001b[0m\u001b[0;34m\u001b[0m\u001b[0m\n\u001b[0;32m--> 303\u001b[0;31m             X, fitted_transformer = fit_transform_one_cached(\n\u001b[0m\u001b[1;32m    304\u001b[0m                 \u001b[0mcloned_transformer\u001b[0m\u001b[0;34m,\u001b[0m \u001b[0mX\u001b[0m\u001b[0;34m,\u001b[0m \u001b[0my\u001b[0m\u001b[0;34m,\u001b[0m \u001b[0;32mNone\u001b[0m\u001b[0;34m,\u001b[0m\u001b[0;34m\u001b[0m\u001b[0;34m\u001b[0m\u001b[0m\n\u001b[1;32m    305\u001b[0m                 \u001b[0mmessage_clsname\u001b[0m\u001b[0;34m=\u001b[0m\u001b[0;34m'Pipeline'\u001b[0m\u001b[0;34m,\u001b[0m\u001b[0;34m\u001b[0m\u001b[0;34m\u001b[0m\u001b[0m\n",
      "\u001b[0;32m/usr/local/lib/python3.9/site-packages/joblib/memory.py\u001b[0m in \u001b[0;36m__call__\u001b[0;34m(self, *args, **kwargs)\u001b[0m\n\u001b[1;32m    350\u001b[0m \u001b[0;34m\u001b[0m\u001b[0m\n\u001b[1;32m    351\u001b[0m     \u001b[0;32mdef\u001b[0m \u001b[0m__call__\u001b[0m\u001b[0;34m(\u001b[0m\u001b[0mself\u001b[0m\u001b[0;34m,\u001b[0m \u001b[0;34m*\u001b[0m\u001b[0margs\u001b[0m\u001b[0;34m,\u001b[0m \u001b[0;34m**\u001b[0m\u001b[0mkwargs\u001b[0m\u001b[0;34m)\u001b[0m\u001b[0;34m:\u001b[0m\u001b[0;34m\u001b[0m\u001b[0;34m\u001b[0m\u001b[0m\n\u001b[0;32m--> 352\u001b[0;31m         \u001b[0;32mreturn\u001b[0m \u001b[0mself\u001b[0m\u001b[0;34m.\u001b[0m\u001b[0mfunc\u001b[0m\u001b[0;34m(\u001b[0m\u001b[0;34m*\u001b[0m\u001b[0margs\u001b[0m\u001b[0;34m,\u001b[0m \u001b[0;34m**\u001b[0m\u001b[0mkwargs\u001b[0m\u001b[0;34m)\u001b[0m\u001b[0;34m\u001b[0m\u001b[0;34m\u001b[0m\u001b[0m\n\u001b[0m\u001b[1;32m    353\u001b[0m \u001b[0;34m\u001b[0m\u001b[0m\n\u001b[1;32m    354\u001b[0m     \u001b[0;32mdef\u001b[0m \u001b[0mcall_and_shelve\u001b[0m\u001b[0;34m(\u001b[0m\u001b[0mself\u001b[0m\u001b[0;34m,\u001b[0m \u001b[0;34m*\u001b[0m\u001b[0margs\u001b[0m\u001b[0;34m,\u001b[0m \u001b[0;34m**\u001b[0m\u001b[0mkwargs\u001b[0m\u001b[0;34m)\u001b[0m\u001b[0;34m:\u001b[0m\u001b[0;34m\u001b[0m\u001b[0;34m\u001b[0m\u001b[0m\n",
      "\u001b[0;32m/usr/local/lib/python3.9/site-packages/sklearn/pipeline.py\u001b[0m in \u001b[0;36m_fit_transform_one\u001b[0;34m(transformer, X, y, weight, message_clsname, message, **fit_params)\u001b[0m\n\u001b[1;32m    752\u001b[0m     \u001b[0;32mwith\u001b[0m \u001b[0m_print_elapsed_time\u001b[0m\u001b[0;34m(\u001b[0m\u001b[0mmessage_clsname\u001b[0m\u001b[0;34m,\u001b[0m \u001b[0mmessage\u001b[0m\u001b[0;34m)\u001b[0m\u001b[0;34m:\u001b[0m\u001b[0;34m\u001b[0m\u001b[0;34m\u001b[0m\u001b[0m\n\u001b[1;32m    753\u001b[0m         \u001b[0;32mif\u001b[0m \u001b[0mhasattr\u001b[0m\u001b[0;34m(\u001b[0m\u001b[0mtransformer\u001b[0m\u001b[0;34m,\u001b[0m \u001b[0;34m'fit_transform'\u001b[0m\u001b[0;34m)\u001b[0m\u001b[0;34m:\u001b[0m\u001b[0;34m\u001b[0m\u001b[0;34m\u001b[0m\u001b[0m\n\u001b[0;32m--> 754\u001b[0;31m             \u001b[0mres\u001b[0m \u001b[0;34m=\u001b[0m \u001b[0mtransformer\u001b[0m\u001b[0;34m.\u001b[0m\u001b[0mfit_transform\u001b[0m\u001b[0;34m(\u001b[0m\u001b[0mX\u001b[0m\u001b[0;34m,\u001b[0m \u001b[0my\u001b[0m\u001b[0;34m,\u001b[0m \u001b[0;34m**\u001b[0m\u001b[0mfit_params\u001b[0m\u001b[0;34m)\u001b[0m\u001b[0;34m\u001b[0m\u001b[0;34m\u001b[0m\u001b[0m\n\u001b[0m\u001b[1;32m    755\u001b[0m         \u001b[0;32melse\u001b[0m\u001b[0;34m:\u001b[0m\u001b[0;34m\u001b[0m\u001b[0;34m\u001b[0m\u001b[0m\n\u001b[1;32m    756\u001b[0m             \u001b[0mres\u001b[0m \u001b[0;34m=\u001b[0m \u001b[0mtransformer\u001b[0m\u001b[0;34m.\u001b[0m\u001b[0mfit\u001b[0m\u001b[0;34m(\u001b[0m\u001b[0mX\u001b[0m\u001b[0;34m,\u001b[0m \u001b[0my\u001b[0m\u001b[0;34m,\u001b[0m \u001b[0;34m**\u001b[0m\u001b[0mfit_params\u001b[0m\u001b[0;34m)\u001b[0m\u001b[0;34m.\u001b[0m\u001b[0mtransform\u001b[0m\u001b[0;34m(\u001b[0m\u001b[0mX\u001b[0m\u001b[0;34m)\u001b[0m\u001b[0;34m\u001b[0m\u001b[0;34m\u001b[0m\u001b[0m\n",
      "\u001b[0;32m/usr/local/lib/python3.9/site-packages/sklearn/pipeline.py\u001b[0m in \u001b[0;36mfit_transform\u001b[0;34m(self, X, y, **fit_params)\u001b[0m\n\u001b[1;32m    385\u001b[0m             \u001b[0mfit_params_last_step\u001b[0m \u001b[0;34m=\u001b[0m \u001b[0mfit_params_steps\u001b[0m\u001b[0;34m[\u001b[0m\u001b[0mself\u001b[0m\u001b[0;34m.\u001b[0m\u001b[0msteps\u001b[0m\u001b[0;34m[\u001b[0m\u001b[0;34m-\u001b[0m\u001b[0;36m1\u001b[0m\u001b[0;34m]\u001b[0m\u001b[0;34m[\u001b[0m\u001b[0;36m0\u001b[0m\u001b[0;34m]\u001b[0m\u001b[0;34m]\u001b[0m\u001b[0;34m\u001b[0m\u001b[0;34m\u001b[0m\u001b[0m\n\u001b[1;32m    386\u001b[0m             \u001b[0;32mif\u001b[0m \u001b[0mhasattr\u001b[0m\u001b[0;34m(\u001b[0m\u001b[0mlast_step\u001b[0m\u001b[0;34m,\u001b[0m \u001b[0;34m'fit_transform'\u001b[0m\u001b[0;34m)\u001b[0m\u001b[0;34m:\u001b[0m\u001b[0;34m\u001b[0m\u001b[0;34m\u001b[0m\u001b[0m\n\u001b[0;32m--> 387\u001b[0;31m                 \u001b[0;32mreturn\u001b[0m \u001b[0mlast_step\u001b[0m\u001b[0;34m.\u001b[0m\u001b[0mfit_transform\u001b[0m\u001b[0;34m(\u001b[0m\u001b[0mXt\u001b[0m\u001b[0;34m,\u001b[0m \u001b[0my\u001b[0m\u001b[0;34m,\u001b[0m \u001b[0;34m**\u001b[0m\u001b[0mfit_params_last_step\u001b[0m\u001b[0;34m)\u001b[0m\u001b[0;34m\u001b[0m\u001b[0;34m\u001b[0m\u001b[0m\n\u001b[0m\u001b[1;32m    388\u001b[0m             \u001b[0;32melse\u001b[0m\u001b[0;34m:\u001b[0m\u001b[0;34m\u001b[0m\u001b[0;34m\u001b[0m\u001b[0m\n\u001b[1;32m    389\u001b[0m                 return last_step.fit(Xt, y,\n",
      "\u001b[0;32m/usr/local/lib/python3.9/site-packages/sklearn/base.py\u001b[0m in \u001b[0;36mfit_transform\u001b[0;34m(self, X, y, **fit_params)\u001b[0m\n\u001b[1;32m    697\u001b[0m         \u001b[0;32mif\u001b[0m \u001b[0my\u001b[0m \u001b[0;32mis\u001b[0m \u001b[0;32mNone\u001b[0m\u001b[0;34m:\u001b[0m\u001b[0;34m\u001b[0m\u001b[0;34m\u001b[0m\u001b[0m\n\u001b[1;32m    698\u001b[0m             \u001b[0;31m# fit method of arity 1 (unsupervised transformation)\u001b[0m\u001b[0;34m\u001b[0m\u001b[0;34m\u001b[0m\u001b[0;34m\u001b[0m\u001b[0m\n\u001b[0;32m--> 699\u001b[0;31m             \u001b[0;32mreturn\u001b[0m \u001b[0mself\u001b[0m\u001b[0;34m.\u001b[0m\u001b[0mfit\u001b[0m\u001b[0;34m(\u001b[0m\u001b[0mX\u001b[0m\u001b[0;34m,\u001b[0m \u001b[0;34m**\u001b[0m\u001b[0mfit_params\u001b[0m\u001b[0;34m)\u001b[0m\u001b[0;34m.\u001b[0m\u001b[0mtransform\u001b[0m\u001b[0;34m(\u001b[0m\u001b[0mX\u001b[0m\u001b[0;34m)\u001b[0m\u001b[0;34m\u001b[0m\u001b[0;34m\u001b[0m\u001b[0m\n\u001b[0m\u001b[1;32m    700\u001b[0m         \u001b[0;32melse\u001b[0m\u001b[0;34m:\u001b[0m\u001b[0;34m\u001b[0m\u001b[0;34m\u001b[0m\u001b[0m\n\u001b[1;32m    701\u001b[0m             \u001b[0;31m# fit method of arity 2 (supervised transformation)\u001b[0m\u001b[0;34m\u001b[0m\u001b[0;34m\u001b[0m\u001b[0;34m\u001b[0m\u001b[0m\n",
      "\u001b[0;32m<ipython-input-256-aad1a77b76ed>\u001b[0m in \u001b[0;36mtransform\u001b[0;34m(self, X, y)\u001b[0m\n\u001b[1;32m     10\u001b[0m \u001b[0;34m\u001b[0m\u001b[0m\n\u001b[1;32m     11\u001b[0m   \u001b[0;32mdef\u001b[0m \u001b[0mtransform\u001b[0m\u001b[0;34m(\u001b[0m\u001b[0mself\u001b[0m\u001b[0;34m,\u001b[0m \u001b[0mX\u001b[0m\u001b[0;34m,\u001b[0m \u001b[0my\u001b[0m\u001b[0;34m=\u001b[0m\u001b[0;32mNone\u001b[0m\u001b[0;34m)\u001b[0m\u001b[0;34m:\u001b[0m\u001b[0;34m\u001b[0m\u001b[0;34m\u001b[0m\u001b[0m\n\u001b[0;32m---> 12\u001b[0;31m     \u001b[0m_X\u001b[0m \u001b[0;34m=\u001b[0m \u001b[0mX\u001b[0m\u001b[0;34m.\u001b[0m\u001b[0massign\u001b[0m\u001b[0;34m(\u001b[0m\u001b[0mFamily_bin\u001b[0m\u001b[0;34m=\u001b[0m\u001b[0mpd\u001b[0m\u001b[0;34m.\u001b[0m\u001b[0mcut\u001b[0m\u001b[0;34m(\u001b[0m\u001b[0m_titanic\u001b[0m\u001b[0;34m[\u001b[0m\u001b[0;34m\"Family\"\u001b[0m\u001b[0;34m]\u001b[0m\u001b[0;34m,\u001b[0m \u001b[0;34m[\u001b[0m\u001b[0;36m0\u001b[0m\u001b[0;34m,\u001b[0m \u001b[0;36m1\u001b[0m\u001b[0;34m,\u001b[0m \u001b[0;36m4\u001b[0m\u001b[0;34m,\u001b[0m \u001b[0;36m7\u001b[0m\u001b[0;34m,\u001b[0m \u001b[0mnp\u001b[0m\u001b[0;34m.\u001b[0m\u001b[0mInfinity\u001b[0m\u001b[0;34m]\u001b[0m\u001b[0;34m,\u001b[0m \u001b[0mlabels\u001b[0m\u001b[0;34m=\u001b[0m\u001b[0;34m[\u001b[0m\u001b[0;34m'solo'\u001b[0m\u001b[0;34m,\u001b[0m \u001b[0;34m'small'\u001b[0m\u001b[0;34m,\u001b[0m \u001b[0;34m'middle'\u001b[0m\u001b[0;34m,\u001b[0m \u001b[0;34m'large'\u001b[0m\u001b[0;34m]\u001b[0m\u001b[0;34m)\u001b[0m\u001b[0;34m)\u001b[0m\u001b[0;34m\u001b[0m\u001b[0;34m\u001b[0m\u001b[0m\n\u001b[0m\u001b[1;32m     13\u001b[0m     \u001b[0m_X\u001b[0m \u001b[0;34m=\u001b[0m \u001b[0m_X\u001b[0m\u001b[0;34m.\u001b[0m\u001b[0massign\u001b[0m\u001b[0;34m(\u001b[0m\u001b[0mAge_bin\u001b[0m\u001b[0;34m=\u001b[0m\u001b[0mpd\u001b[0m\u001b[0;34m.\u001b[0m\u001b[0mcut\u001b[0m\u001b[0;34m(\u001b[0m\u001b[0mX\u001b[0m\u001b[0;34m[\u001b[0m\u001b[0;34m\"Age\"\u001b[0m\u001b[0;34m]\u001b[0m\u001b[0;34m,\u001b[0m \u001b[0mnp\u001b[0m\u001b[0;34m.\u001b[0m\u001b[0marange\u001b[0m\u001b[0;34m(\u001b[0m\u001b[0;36m0\u001b[0m\u001b[0;34m,\u001b[0m \u001b[0;36m100\u001b[0m\u001b[0;34m,\u001b[0m \u001b[0;36m5\u001b[0m\u001b[0;34m)\u001b[0m\u001b[0;34m)\u001b[0m\u001b[0;34m)\u001b[0m\u001b[0;34m\u001b[0m\u001b[0;34m\u001b[0m\u001b[0m\n\u001b[1;32m     14\u001b[0m     \u001b[0m_X\u001b[0m \u001b[0;34m=\u001b[0m \u001b[0m_X\u001b[0m\u001b[0;34m.\u001b[0m\u001b[0massign\u001b[0m\u001b[0;34m(\u001b[0m\u001b[0mFare_nd_bin\u001b[0m\u001b[0;34m=\u001b[0m\u001b[0mpd\u001b[0m\u001b[0;34m.\u001b[0m\u001b[0mcut\u001b[0m\u001b[0;34m(\u001b[0m\u001b[0mX\u001b[0m\u001b[0;34m[\u001b[0m\u001b[0;34m\"Fare_nd\"\u001b[0m\u001b[0;34m]\u001b[0m\u001b[0;34m,\u001b[0m \u001b[0;36m20\u001b[0m\u001b[0;34m)\u001b[0m\u001b[0;34m)\u001b[0m\u001b[0;34m\u001b[0m\u001b[0;34m\u001b[0m\u001b[0m\n",
      "\u001b[0;32m/usr/local/lib/python3.9/site-packages/pandas/core/frame.py\u001b[0m in \u001b[0;36m__getitem__\u001b[0;34m(self, key)\u001b[0m\n\u001b[1;32m   3022\u001b[0m             \u001b[0;32mif\u001b[0m \u001b[0mself\u001b[0m\u001b[0;34m.\u001b[0m\u001b[0mcolumns\u001b[0m\u001b[0;34m.\u001b[0m\u001b[0mnlevels\u001b[0m \u001b[0;34m>\u001b[0m \u001b[0;36m1\u001b[0m\u001b[0;34m:\u001b[0m\u001b[0;34m\u001b[0m\u001b[0;34m\u001b[0m\u001b[0m\n\u001b[1;32m   3023\u001b[0m                 \u001b[0;32mreturn\u001b[0m \u001b[0mself\u001b[0m\u001b[0;34m.\u001b[0m\u001b[0m_getitem_multilevel\u001b[0m\u001b[0;34m(\u001b[0m\u001b[0mkey\u001b[0m\u001b[0;34m)\u001b[0m\u001b[0;34m\u001b[0m\u001b[0;34m\u001b[0m\u001b[0m\n\u001b[0;32m-> 3024\u001b[0;31m             \u001b[0mindexer\u001b[0m \u001b[0;34m=\u001b[0m \u001b[0mself\u001b[0m\u001b[0;34m.\u001b[0m\u001b[0mcolumns\u001b[0m\u001b[0;34m.\u001b[0m\u001b[0mget_loc\u001b[0m\u001b[0;34m(\u001b[0m\u001b[0mkey\u001b[0m\u001b[0;34m)\u001b[0m\u001b[0;34m\u001b[0m\u001b[0;34m\u001b[0m\u001b[0m\n\u001b[0m\u001b[1;32m   3025\u001b[0m             \u001b[0;32mif\u001b[0m \u001b[0mis_integer\u001b[0m\u001b[0;34m(\u001b[0m\u001b[0mindexer\u001b[0m\u001b[0;34m)\u001b[0m\u001b[0;34m:\u001b[0m\u001b[0;34m\u001b[0m\u001b[0;34m\u001b[0m\u001b[0m\n\u001b[1;32m   3026\u001b[0m                 \u001b[0mindexer\u001b[0m \u001b[0;34m=\u001b[0m \u001b[0;34m[\u001b[0m\u001b[0mindexer\u001b[0m\u001b[0;34m]\u001b[0m\u001b[0;34m\u001b[0m\u001b[0;34m\u001b[0m\u001b[0m\n",
      "\u001b[0;32m/usr/local/lib/python3.9/site-packages/pandas/core/indexes/base.py\u001b[0m in \u001b[0;36mget_loc\u001b[0;34m(self, key, method, tolerance)\u001b[0m\n\u001b[1;32m   3080\u001b[0m                 \u001b[0;32mreturn\u001b[0m \u001b[0mself\u001b[0m\u001b[0;34m.\u001b[0m\u001b[0m_engine\u001b[0m\u001b[0;34m.\u001b[0m\u001b[0mget_loc\u001b[0m\u001b[0;34m(\u001b[0m\u001b[0mcasted_key\u001b[0m\u001b[0;34m)\u001b[0m\u001b[0;34m\u001b[0m\u001b[0;34m\u001b[0m\u001b[0m\n\u001b[1;32m   3081\u001b[0m             \u001b[0;32mexcept\u001b[0m \u001b[0mKeyError\u001b[0m \u001b[0;32mas\u001b[0m \u001b[0merr\u001b[0m\u001b[0;34m:\u001b[0m\u001b[0;34m\u001b[0m\u001b[0;34m\u001b[0m\u001b[0m\n\u001b[0;32m-> 3082\u001b[0;31m                 \u001b[0;32mraise\u001b[0m \u001b[0mKeyError\u001b[0m\u001b[0;34m(\u001b[0m\u001b[0mkey\u001b[0m\u001b[0;34m)\u001b[0m \u001b[0;32mfrom\u001b[0m \u001b[0merr\u001b[0m\u001b[0;34m\u001b[0m\u001b[0;34m\u001b[0m\u001b[0m\n\u001b[0m\u001b[1;32m   3083\u001b[0m \u001b[0;34m\u001b[0m\u001b[0m\n\u001b[1;32m   3084\u001b[0m         \u001b[0;32mif\u001b[0m \u001b[0mtolerance\u001b[0m \u001b[0;32mis\u001b[0m \u001b[0;32mnot\u001b[0m \u001b[0;32mNone\u001b[0m\u001b[0;34m:\u001b[0m\u001b[0;34m\u001b[0m\u001b[0;34m\u001b[0m\u001b[0m\n",
      "\u001b[0;31mKeyError\u001b[0m: 'Family'"
     ]
    }
   ],
   "metadata": {}
  },
  {
   "cell_type": "code",
   "execution_count": null,
   "source": [],
   "outputs": [],
   "metadata": {}
  },
  {
   "cell_type": "code",
   "execution_count": null,
   "source": [],
   "outputs": [],
   "metadata": {}
  }
 ],
 "metadata": {
  "orig_nbformat": 4,
  "language_info": {
   "name": "python",
   "version": "3.9.5",
   "mimetype": "text/x-python",
   "codemirror_mode": {
    "name": "ipython",
    "version": 3
   },
   "pygments_lexer": "ipython3",
   "nbconvert_exporter": "python",
   "file_extension": ".py"
  },
  "kernelspec": {
   "name": "python3",
   "display_name": "Python 3.9.5 64-bit"
  },
  "interpreter": {
   "hash": "aee8b7b246df8f9039afb4144a1f6fd8d2ca17a180786b69acc140d282b71a49"
  }
 },
 "nbformat": 4,
 "nbformat_minor": 2
}