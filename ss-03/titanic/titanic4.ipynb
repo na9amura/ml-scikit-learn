{
 "cells": [
  {
   "cell_type": "code",
   "execution_count": 1,
   "source": [
    "import numpy as np\n",
    "import pandas as pd"
   ],
   "outputs": [],
   "metadata": {}
  },
  {
   "cell_type": "code",
   "execution_count": 10,
   "source": [
    "from sklearn.model_selection import train_test_split\n",
    "\n",
    "titanic = pd.read_csv('./titanic/train.csv')\n",
    "train, test = train_test_split(titanic, test_size=0.2, random_state=39)"
   ],
   "outputs": [],
   "metadata": {}
  },
  {
   "cell_type": "code",
   "execution_count": 4,
   "source": [
    "# cabinの分割\n",
    "from sklearn.base import BaseEstimator, TransformerMixin\n",
    "\n",
    "def split_cabins(cabins):\n",
    "  _floors = []\n",
    "  _numbers = []\n",
    "\n",
    "  for cabin in cabins.astype(str):\n",
    "    if cabin == 'nan' or not cabin:\n",
    "      _floors.append(np.nan)\n",
    "      _numbers.append(np.nan)\n",
    "      continue\n",
    "    else:\n",
    "      _first_cabin = cabin.split(\" \")[0]\n",
    "      floor = _first_cabin[0]\n",
    "      number = _first_cabin[1:]\n",
    "      _floors.append(floor)\n",
    "      _numbers.append(number if number else np.nan)\n",
    "\n",
    "  return _floors, np.array(_numbers, dtype=np.float64)\n",
    "\n",
    "class CabinConverter(BaseEstimator, TransformerMixin):\n",
    "\n",
    "  def __init__(self, cabin_ix = 0, omit_floor_number=False):\n",
    "    self.cabin_ix = cabin_ix\n",
    "    self.omit_floor_number = omit_floor_number\n",
    "    return\n",
    "\n",
    "  def fit(self, X, y=None):\n",
    "    return self\n",
    "\n",
    "  def transform(self, X):\n",
    "    cabins = X[\"Cabin\"].values\n",
    "    floors, numbers = split_cabins(cabins)\n",
    "    _X = X.drop(\"Cabin\", axis=1)\n",
    "    if self.omit_floor_number:\n",
    "      return _X.assign(Floor=floors)\n",
    "    else:\n",
    "      return _X.assign(Floor=floors, CabinNumber=numbers)"
   ],
   "outputs": [],
   "metadata": {}
  },
  {
   "cell_type": "code",
   "execution_count": 5,
   "source": [
    "from sklearn.base import BaseEstimator, TransformerMixin\n",
    "\n",
    "class BabyAppender(BaseEstimator, TransformerMixin):\n",
    "\n",
    "  def __init__(self, limit=5):\n",
    "    self.limit = limit \n",
    "    return\n",
    "\n",
    "  def fit(self, X, y=None):\n",
    "    return self\n",
    "  \n",
    "  def transform(self, X, y=None):\n",
    "    return X.assign(Baby=X[\"Age\"] <= self.limit)"
   ],
   "outputs": [],
   "metadata": {}
  },
  {
   "cell_type": "code",
   "execution_count": 6,
   "source": [
    "from sklearn.base import BaseEstimator, TransformerMixin\n",
    "\n",
    "class AgeFilter(BaseEstimator, TransformerMixin):\n",
    "\n",
    "  def __init__(self, top=80, bottom=0):\n",
    "    self.top = top\n",
    "    self.bottom = bottom\n",
    "    return\n",
    "\n",
    "  def fit(self, X, y=None):\n",
    "    return self\n",
    "  \n",
    "  def transform(self, X, y=None):\n",
    "    return X[(X[\"Age\"] < self.top) & (X[\"Age\"] > self.bottom)]"
   ],
   "outputs": [],
   "metadata": {}
  },
  {
   "cell_type": "code",
   "execution_count": 7,
   "source": [
    "from sklearn.base import BaseEstimator, TransformerMixin\n",
    "\n",
    "class FareFilter(BaseEstimator, TransformerMixin):\n",
    "\n",
    "  def __init__(self, top=200, bottom=0):\n",
    "    self.top = top\n",
    "    self.bottom = bottom\n",
    "    return\n",
    "\n",
    "  def fit(self, X, y=None):\n",
    "    return self\n",
    "  \n",
    "  def transform(self, X, y=None):\n",
    "    return X[(X[\"Fare\"] < self.top) & (X[\"Fare\"] > self.bottom)]"
   ],
   "outputs": [],
   "metadata": {}
  },
  {
   "cell_type": "code",
   "execution_count": 23,
   "source": [
    "from sklearn.compose import ColumnTransformer\n",
    "from sklearn.preprocessing import StandardScaler\n",
    "from sklearn.preprocessing import OneHotEncoder\n",
    "from sklearn.ensemble import RandomForestClassifier\n",
    "from sklearn.model_selection import cross_val_score\n",
    "from sklearn.pipeline import Pipeline\n",
    "from sklearn.impute import SimpleImputer\n",
    "\n",
    "cabins = ['A', 'B', 'C', 'D', 'E', 'F', 'G', 'T', np.nan]\n",
    "\n",
    "dataframe_pipeline = Pipeline([\n",
    "  ('baby-appender', BabyAppender()),\n",
    "  ('converter', CabinConverter()),\n",
    "])\n",
    "\n",
    "scaler_pipeline = Pipeline([\n",
    "  ('imputer', SimpleImputer()),\n",
    "  ('std_scaler', StandardScaler()),\n",
    "])\n",
    "\n",
    "col_transformer = ColumnTransformer([ \n",
    "  (\"scale\", scaler_pipeline, [\"Pclass\", \"Age\", \"Fare\"]),\n",
    "  (\"sex\", OneHotEncoder(), [\"Sex\"]),\n",
    "  (\"floor\", OneHotEncoder(categories=[cabins]), [\"Floor\"]),\n",
    "  (\"passthrough\", \"passthrough\", [\"Baby\"])\n",
    "])\n",
    "\n",
    "whole_pipeline = Pipeline([\n",
    "  ('dataframe', dataframe_pipeline),\n",
    "  ('std_scaler', col_transformer),\n",
    "])"
   ],
   "outputs": [],
   "metadata": {}
  },
  {
   "cell_type": "code",
   "execution_count": 24,
   "source": [
    "filter = Pipeline([\n",
    "  (\"age\", AgeFilter()),\n",
    "  # (\"fare\", FareFilter()),\n",
    "])\n",
    "_train = filter.fit_transform(train)\n",
    "\n",
    "y_train = _train[\"Survived\"]\n",
    "X_train = _train.drop(\"Survived\", axis=1)\n",
    "\n",
    "y_test = test[\"Survived\"]\n",
    "X_test = test.drop(\"Survived\", axis=1)"
   ],
   "outputs": [],
   "metadata": {}
  },
  {
   "cell_type": "code",
   "execution_count": 25,
   "source": [
    "_X_train = whole_pipeline.fit_transform(X_train)\n",
    "clf = RandomForestClassifier(random_state=38)\n",
    "clf.fit(_X_train, y_train)\n",
    "cross_val_score(clf, _X_train, y_train, cv=3, scoring=\"accuracy\")"
   ],
   "outputs": [
    {
     "output_type": "execute_result",
     "data": {
      "text/plain": [
       "array([0.81675393, 0.76315789, 0.83157895])"
      ]
     },
     "metadata": {},
     "execution_count": 25
    }
   ],
   "metadata": {}
  },
  {
   "cell_type": "code",
   "execution_count": 26,
   "source": [
    "_X_test = whole_pipeline.fit_transform(X_test)\n",
    "cross_val_score(clf, _X_test, y_test, cv=3, scoring=\"accuracy\")"
   ],
   "outputs": [
    {
     "output_type": "execute_result",
     "data": {
      "text/plain": [
       "array([0.81666667, 0.76666667, 0.76271186])"
      ]
     },
     "metadata": {},
     "execution_count": 26
    }
   ],
   "metadata": {}
  },
  {
   "cell_type": "code",
   "execution_count": 28,
   "source": [
    "from sklearn.metrics import confusion_matrix\n",
    "\n",
    "confusion_matrix(y_test, clf.predict(_X_test))"
   ],
   "outputs": [
    {
     "output_type": "execute_result",
     "data": {
      "text/plain": [
       "array([[103,  20],\n",
       "       [ 19,  37]])"
      ]
     },
     "metadata": {},
     "execution_count": 28
    }
   ],
   "metadata": {}
  },
  {
   "cell_type": "code",
   "execution_count": 30,
   "source": [
    "from sklearn.model_selection import GridSearchCV\n",
    "\n",
    "param_grid = [\n",
    "  { \n",
    "    \"criterion\": [\"gini\", \"entropy\"],\n",
    "    \"class_weight\": [\"balanced\"],\n",
    "    \"max_features\": [\"sqrt\"],\n",
    "    \"min_samples_split\": [3,4,5,6],\n",
    "    \"n_estimators\": [50, 100, 150],\n",
    "  }\n",
    "]\n",
    "\n",
    "grid_search = GridSearchCV(\n",
    "  RandomForestClassifier(random_state=38),\n",
    "  param_grid,\n",
    "  cv=5,\n",
    "  scoring=\"accuracy\",\n",
    "  return_train_score=True)\n",
    "grid_search.fit(_X_train, y_train)"
   ],
   "outputs": [
    {
     "output_type": "execute_result",
     "data": {
      "text/plain": [
       "GridSearchCV(cv=5, estimator=RandomForestClassifier(random_state=38),\n",
       "             param_grid=[{'class_weight': ['balanced'],\n",
       "                          'criterion': ['gini', 'entropy'],\n",
       "                          'max_features': ['sqrt'],\n",
       "                          'min_samples_split': [3, 4, 5, 6],\n",
       "                          'n_estimators': [50, 100, 150]}],\n",
       "             return_train_score=True, scoring='accuracy')"
      ]
     },
     "metadata": {},
     "execution_count": 30
    }
   ],
   "metadata": {}
  },
  {
   "cell_type": "code",
   "execution_count": 31,
   "source": [
    "grid_search.best_score_, grid_search.best_params_"
   ],
   "outputs": [
    {
     "output_type": "execute_result",
     "data": {
      "text/plain": [
       "(0.8284210526315791,\n",
       " {'class_weight': 'balanced',\n",
       "  'criterion': 'entropy',\n",
       "  'max_features': 'sqrt',\n",
       "  'min_samples_split': 4,\n",
       "  'n_estimators': 100})"
      ]
     },
     "metadata": {},
     "execution_count": 31
    }
   ],
   "metadata": {}
  },
  {
   "cell_type": "code",
   "execution_count": 32,
   "source": [
    "titanic_test = pd.read_csv('./titanic/test.csv')"
   ],
   "outputs": [],
   "metadata": {}
  },
  {
   "cell_type": "code",
   "execution_count": 33,
   "source": [
    "_titanic_test = whole_pipeline.fit_transform(titanic_test)\n",
    "predict = grid_search.best_estimator_.predict(_titanic_test)\n",
    "\n",
    "id = np.array(titanic_test[\"PassengerId\"]).astype(int)\n",
    "df = pd.DataFrame(predict, id, columns = [\"Survived\"])\n",
    "df.to_csv(\"./titanic/predict-4.csv\", index_label = [\"PassengerId\"])"
   ],
   "outputs": [],
   "metadata": {}
  },
  {
   "cell_type": "markdown",
   "source": [
    "# Fareの外れ値を除外"
   ],
   "metadata": {}
  },
  {
   "cell_type": "code",
   "execution_count": 34,
   "source": [
    "filter = Pipeline([\n",
    "  (\"age\", AgeFilter()),\n",
    "  (\"fare\", FareFilter()),\n",
    "])\n",
    "_train = filter.fit_transform(train)\n",
    "\n",
    "y_train = _train[\"Survived\"]\n",
    "X_train = _train.drop(\"Survived\", axis=1)\n",
    "\n",
    "y_test = test[\"Survived\"]\n",
    "X_test = test.drop(\"Survived\", axis=1)"
   ],
   "outputs": [],
   "metadata": {}
  },
  {
   "cell_type": "code",
   "execution_count": 35,
   "source": [
    "_X_train = whole_pipeline.fit_transform(X_train)\n",
    "clf = RandomForestClassifier(random_state=38)\n",
    "clf.fit(_X_train, y_train)\n",
    "cross_val_score(clf, _X_train, y_train, cv=3, scoring=\"accuracy\")"
   ],
   "outputs": [
    {
     "output_type": "execute_result",
     "data": {
      "text/plain": [
       "array([0.80540541, 0.75675676, 0.83243243])"
      ]
     },
     "metadata": {},
     "execution_count": 35
    }
   ],
   "metadata": {}
  },
  {
   "cell_type": "code",
   "execution_count": 36,
   "source": [
    "from sklearn.model_selection import GridSearchCV\n",
    "\n",
    "param_grid = [\n",
    "  { \n",
    "    \"criterion\": [\"gini\", \"entropy\"],\n",
    "    \"class_weight\": [\"balanced\"],\n",
    "    \"max_features\": [\"sqrt\"],\n",
    "    \"min_samples_split\": [3,4,5,6],\n",
    "    \"n_estimators\": [50, 100, 150],\n",
    "  }\n",
    "]\n",
    "\n",
    "grid_search = GridSearchCV(\n",
    "  RandomForestClassifier(random_state=38),\n",
    "  param_grid,\n",
    "  cv=5,\n",
    "  scoring=\"accuracy\",\n",
    "  return_train_score=True)\n",
    "grid_search.fit(_X_train, y_train)"
   ],
   "outputs": [
    {
     "output_type": "execute_result",
     "data": {
      "text/plain": [
       "GridSearchCV(cv=5, estimator=RandomForestClassifier(random_state=38),\n",
       "             param_grid=[{'class_weight': ['balanced'],\n",
       "                          'criterion': ['gini', 'entropy'],\n",
       "                          'max_features': ['sqrt'],\n",
       "                          'min_samples_split': [3, 4, 5, 6],\n",
       "                          'n_estimators': [50, 100, 150]}],\n",
       "             return_train_score=True, scoring='accuracy')"
      ]
     },
     "metadata": {},
     "execution_count": 36
    }
   ],
   "metadata": {}
  },
  {
   "cell_type": "code",
   "execution_count": 37,
   "source": [
    "grid_search.best_score_, grid_search.best_params_"
   ],
   "outputs": [
    {
     "output_type": "execute_result",
     "data": {
      "text/plain": [
       "(0.8198198198198199,\n",
       " {'class_weight': 'balanced',\n",
       "  'criterion': 'entropy',\n",
       "  'max_features': 'sqrt',\n",
       "  'min_samples_split': 5,\n",
       "  'n_estimators': 150})"
      ]
     },
     "metadata": {},
     "execution_count": 37
    }
   ],
   "metadata": {}
  },
  {
   "cell_type": "code",
   "execution_count": 38,
   "source": [
    "_X_test = whole_pipeline.fit_transform(X_test)\n",
    "cross_val_score(grid_search.best_estimator_, _X_test, y_test, cv=3, scoring=\"accuracy\")"
   ],
   "outputs": [
    {
     "output_type": "execute_result",
     "data": {
      "text/plain": [
       "array([0.8       , 0.76666667, 0.72881356])"
      ]
     },
     "metadata": {},
     "execution_count": 38
    }
   ],
   "metadata": {}
  },
  {
   "cell_type": "code",
   "execution_count": 40,
   "source": [
    "_titanic_test = whole_pipeline.fit_transform(titanic_test)\n",
    "predict = grid_search.best_estimator_.predict(_titanic_test)\n",
    "\n",
    "id = np.array(titanic_test[\"PassengerId\"]).astype(int)\n",
    "df = pd.DataFrame(predict, id, columns = [\"Survived\"])\n",
    "df.to_csv(\"./titanic/predict-4-2.csv\", index_label = [\"PassengerId\"])"
   ],
   "outputs": [],
   "metadata": {}
  }
 ],
 "metadata": {
  "orig_nbformat": 4,
  "language_info": {
   "name": "python",
   "version": "3.9.5",
   "mimetype": "text/x-python",
   "codemirror_mode": {
    "name": "ipython",
    "version": 3
   },
   "pygments_lexer": "ipython3",
   "nbconvert_exporter": "python",
   "file_extension": ".py"
  },
  "kernelspec": {
   "name": "python3",
   "display_name": "Python 3.9.5 64-bit"
  },
  "interpreter": {
   "hash": "aee8b7b246df8f9039afb4144a1f6fd8d2ca17a180786b69acc140d282b71a49"
  }
 },
 "nbformat": 4,
 "nbformat_minor": 2
}