{
    "cells": [
        {
            "cell_type": "markdown",
            "source": [
                "前回 (./titanic.ipynb) の予測率0.75598を超えるのを目標にする"
            ],
            "metadata": {}
        },
        {
            "cell_type": "code",
            "execution_count": 2,
            "source": [
                "import numpy as np\n",
                "import pandas as pd"
            ],
            "outputs": [],
            "metadata": {}
        },
        {
            "cell_type": "code",
            "execution_count": 3,
            "source": [
                "titanic = pd.read_csv('./titanic/train.csv')"
            ],
            "outputs": [],
            "metadata": {}
        },
        {
            "cell_type": "markdown",
            "source": [
                "まず\"Cabin\"を追加してみる。前回関連ありそうだと予想したものの、数値化が難しく無視していた。"
            ],
            "metadata": {}
        },
        {
            "cell_type": "code",
            "execution_count": 8,
            "source": [
                "cabins = titanic['Cabin'].dropna()\n",
                "cabins"
            ],
            "outputs": [
                {
                    "output_type": "execute_result",
                    "data": {
                        "text/plain": [
                            "1              C85\n",
                            "3             C123\n",
                            "6              E46\n",
                            "10              G6\n",
                            "11            C103\n",
                            "          ...     \n",
                            "871            D35\n",
                            "872    B51 B53 B55\n",
                            "879            C50\n",
                            "887            B42\n",
                            "889           C148\n",
                            "Name: Cabin, Length: 204, dtype: object"
                        ]
                    },
                    "metadata": {},
                    "execution_count": 8
                }
            ],
            "metadata": {}
        },
        {
            "cell_type": "markdown",
            "source": [
                "件数は204(/891)なのでdropnaはしない"
            ],
            "metadata": {}
        },
        {
            "cell_type": "markdown",
            "source": [
                "パターンを考えるのに客室の図が欲しい。\n",
                "\n",
                "- [タイタニック号の乗客の生存予測～Kaggleに挑戦（その３） │ キヨシの命題](https://yolo-kiyoshi.com/2017/11/26/post-599/)\n",
                "- [kaggleで予測モデルを構築してみた (4) - データの背景を調べる - About connecting the dots.](https://smrmkt.hatenablog.jp/entry/2013/01/04/211844)\n",
                "  - 記事内にあった画像のあるサイト\n",
                "    - [Plans détaillés du Titanic](https://titanic.pagesperso-orange.fr/page94.htm)\n",
                "    - [タイタニック資料館](https://web.archive.org/web/20160916210428/http://homepage1.nifty.com/GOME/MOKEI/TITANIC/TIT_DOC.htm)\n",
                "    - [タイタニック号データ](https://web.archive.org/web/20160924032720/http://homepage1.nifty.com/Titanic/real/danmen.htm)"
            ],
            "metadata": {}
        },
        {
            "cell_type": "code",
            "execution_count": 29,
            "source": [
                "titanic[titanic[\"Cabin\"].str.contains(\" \") == True][\"Cabin\"]"
            ],
            "outputs": [
                {
                    "output_type": "execute_result",
                    "data": {
                        "text/plain": [
                            "27         C23 C25 C27\n",
                            "75               F G73\n",
                            "88         C23 C25 C27\n",
                            "97             D10 D12\n",
                            "118            B58 B60\n",
                            "128              F E69\n",
                            "297            C22 C26\n",
                            "299            B58 B60\n",
                            "305            C22 C26\n",
                            "311    B57 B59 B63 B66\n",
                            "341        C23 C25 C27\n",
                            "390            B96 B98\n",
                            "435            B96 B98\n",
                            "438        C23 C25 C27\n",
                            "498            C22 C26\n",
                            "679        B51 B53 B55\n",
                            "699              F G63\n",
                            "700            C62 C64\n",
                            "715              F G73\n",
                            "742    B57 B59 B63 B66\n",
                            "763            B96 B98\n",
                            "789            B82 B84\n",
                            "802            B96 B98\n",
                            "872        B51 B53 B55\n",
                            "Name: Cabin, dtype: object"
                        ]
                    },
                    "metadata": {},
                    "execution_count": 29
                }
            ],
            "metadata": {}
        },
        {
            "cell_type": "code",
            "execution_count": 32,
            "source": [
                "titanic[titanic[\"Cabin\"].str.contains(\" \") == True]"
            ],
            "outputs": [
                {
                    "output_type": "execute_result",
                    "data": {
                        "text/plain": [
                            "     PassengerId  Survived  Pclass  \\\n",
                            "27            28         0       1   \n",
                            "75            76         0       3   \n",
                            "88            89         1       1   \n",
                            "97            98         1       1   \n",
                            "118          119         0       1   \n",
                            "128          129         1       3   \n",
                            "297          298         0       1   \n",
                            "299          300         1       1   \n",
                            "305          306         1       1   \n",
                            "311          312         1       1   \n",
                            "341          342         1       1   \n",
                            "390          391         1       1   \n",
                            "435          436         1       1   \n",
                            "438          439         0       1   \n",
                            "498          499         0       1   \n",
                            "679          680         1       1   \n",
                            "699          700         0       3   \n",
                            "700          701         1       1   \n",
                            "715          716         0       3   \n",
                            "742          743         1       1   \n",
                            "763          764         1       1   \n",
                            "789          790         0       1   \n",
                            "802          803         1       1   \n",
                            "872          873         0       1   \n",
                            "\n",
                            "                                                  Name     Sex    Age  SibSp  \\\n",
                            "27                      Fortune, Mr. Charles Alexander    male  19.00      3   \n",
                            "75                             Moen, Mr. Sigurd Hansen    male  25.00      0   \n",
                            "88                          Fortune, Miss. Mabel Helen  female  23.00      3   \n",
                            "97                     Greenfield, Mr. William Bertram    male  23.00      0   \n",
                            "118                           Baxter, Mr. Quigg Edmond    male  24.00      0   \n",
                            "128                                  Peter, Miss. Anna  female    NaN      1   \n",
                            "297                       Allison, Miss. Helen Loraine  female   2.00      1   \n",
                            "299    Baxter, Mrs. James (Helene DeLaudeniere Chaput)  female  50.00      0   \n",
                            "305                     Allison, Master. Hudson Trevor    male   0.92      1   \n",
                            "311                         Ryerson, Miss. Emily Borie  female  18.00      2   \n",
                            "341                     Fortune, Miss. Alice Elizabeth  female  24.00      3   \n",
                            "390                         Carter, Mr. William Ernest    male  36.00      1   \n",
                            "435                          Carter, Miss. Lucile Polk  female  14.00      1   \n",
                            "438                                  Fortune, Mr. Mark    male  64.00      1   \n",
                            "498    Allison, Mrs. Hudson J C (Bessie Waldo Daniels)  female  25.00      1   \n",
                            "679                 Cardeza, Mr. Thomas Drake Martinez    male  36.00      0   \n",
                            "699           Humblen, Mr. Adolf Mathias Nicolai Olsen    male  42.00      0   \n",
                            "700  Astor, Mrs. John Jacob (Madeleine Talmadge Force)  female  18.00      1   \n",
                            "715         Soholt, Mr. Peter Andreas Lauritz Andersen    male  19.00      0   \n",
                            "742              Ryerson, Miss. Susan Parker \"Suzette\"  female  21.00      2   \n",
                            "763          Carter, Mrs. William Ernest (Lucile Polk)  female  36.00      1   \n",
                            "789                           Guggenheim, Mr. Benjamin    male  46.00      0   \n",
                            "802                Carter, Master. William Thornton II    male  11.00      1   \n",
                            "872                           Carlsson, Mr. Frans Olof    male  33.00      0   \n",
                            "\n",
                            "     Parch    Ticket      Fare            Cabin Embarked  \n",
                            "27       2     19950  263.0000      C23 C25 C27        S  \n",
                            "75       0    348123    7.6500            F G73        S  \n",
                            "88       2     19950  263.0000      C23 C25 C27        S  \n",
                            "97       1  PC 17759   63.3583          D10 D12        C  \n",
                            "118      1  PC 17558  247.5208          B58 B60        C  \n",
                            "128      1      2668   22.3583            F E69        C  \n",
                            "297      2    113781  151.5500          C22 C26        S  \n",
                            "299      1  PC 17558  247.5208          B58 B60        C  \n",
                            "305      2    113781  151.5500          C22 C26        S  \n",
                            "311      2  PC 17608  262.3750  B57 B59 B63 B66        C  \n",
                            "341      2     19950  263.0000      C23 C25 C27        S  \n",
                            "390      2    113760  120.0000          B96 B98        S  \n",
                            "435      2    113760  120.0000          B96 B98        S  \n",
                            "438      4     19950  263.0000      C23 C25 C27        S  \n",
                            "498      2    113781  151.5500          C22 C26        S  \n",
                            "679      1  PC 17755  512.3292      B51 B53 B55        C  \n",
                            "699      0    348121    7.6500            F G63        S  \n",
                            "700      0  PC 17757  227.5250          C62 C64        C  \n",
                            "715      0    348124    7.6500            F G73        S  \n",
                            "742      2  PC 17608  262.3750  B57 B59 B63 B66        C  \n",
                            "763      2    113760  120.0000          B96 B98        S  \n",
                            "789      0  PC 17593   79.2000          B82 B84        C  \n",
                            "802      2    113760  120.0000          B96 B98        S  \n",
                            "872      0       695    5.0000      B51 B53 B55        S  "
                        ],
                        "text/html": [
                            "<div>\n",
                            "<style scoped>\n",
                            "    .dataframe tbody tr th:only-of-type {\n",
                            "        vertical-align: middle;\n",
                            "    }\n",
                            "\n",
                            "    .dataframe tbody tr th {\n",
                            "        vertical-align: top;\n",
                            "    }\n",
                            "\n",
                            "    .dataframe thead th {\n",
                            "        text-align: right;\n",
                            "    }\n",
                            "</style>\n",
                            "<table border=\"1\" class=\"dataframe\">\n",
                            "  <thead>\n",
                            "    <tr style=\"text-align: right;\">\n",
                            "      <th></th>\n",
                            "      <th>PassengerId</th>\n",
                            "      <th>Survived</th>\n",
                            "      <th>Pclass</th>\n",
                            "      <th>Name</th>\n",
                            "      <th>Sex</th>\n",
                            "      <th>Age</th>\n",
                            "      <th>SibSp</th>\n",
                            "      <th>Parch</th>\n",
                            "      <th>Ticket</th>\n",
                            "      <th>Fare</th>\n",
                            "      <th>Cabin</th>\n",
                            "      <th>Embarked</th>\n",
                            "    </tr>\n",
                            "  </thead>\n",
                            "  <tbody>\n",
                            "    <tr>\n",
                            "      <th>27</th>\n",
                            "      <td>28</td>\n",
                            "      <td>0</td>\n",
                            "      <td>1</td>\n",
                            "      <td>Fortune, Mr. Charles Alexander</td>\n",
                            "      <td>male</td>\n",
                            "      <td>19.00</td>\n",
                            "      <td>3</td>\n",
                            "      <td>2</td>\n",
                            "      <td>19950</td>\n",
                            "      <td>263.0000</td>\n",
                            "      <td>C23 C25 C27</td>\n",
                            "      <td>S</td>\n",
                            "    </tr>\n",
                            "    <tr>\n",
                            "      <th>75</th>\n",
                            "      <td>76</td>\n",
                            "      <td>0</td>\n",
                            "      <td>3</td>\n",
                            "      <td>Moen, Mr. Sigurd Hansen</td>\n",
                            "      <td>male</td>\n",
                            "      <td>25.00</td>\n",
                            "      <td>0</td>\n",
                            "      <td>0</td>\n",
                            "      <td>348123</td>\n",
                            "      <td>7.6500</td>\n",
                            "      <td>F G73</td>\n",
                            "      <td>S</td>\n",
                            "    </tr>\n",
                            "    <tr>\n",
                            "      <th>88</th>\n",
                            "      <td>89</td>\n",
                            "      <td>1</td>\n",
                            "      <td>1</td>\n",
                            "      <td>Fortune, Miss. Mabel Helen</td>\n",
                            "      <td>female</td>\n",
                            "      <td>23.00</td>\n",
                            "      <td>3</td>\n",
                            "      <td>2</td>\n",
                            "      <td>19950</td>\n",
                            "      <td>263.0000</td>\n",
                            "      <td>C23 C25 C27</td>\n",
                            "      <td>S</td>\n",
                            "    </tr>\n",
                            "    <tr>\n",
                            "      <th>97</th>\n",
                            "      <td>98</td>\n",
                            "      <td>1</td>\n",
                            "      <td>1</td>\n",
                            "      <td>Greenfield, Mr. William Bertram</td>\n",
                            "      <td>male</td>\n",
                            "      <td>23.00</td>\n",
                            "      <td>0</td>\n",
                            "      <td>1</td>\n",
                            "      <td>PC 17759</td>\n",
                            "      <td>63.3583</td>\n",
                            "      <td>D10 D12</td>\n",
                            "      <td>C</td>\n",
                            "    </tr>\n",
                            "    <tr>\n",
                            "      <th>118</th>\n",
                            "      <td>119</td>\n",
                            "      <td>0</td>\n",
                            "      <td>1</td>\n",
                            "      <td>Baxter, Mr. Quigg Edmond</td>\n",
                            "      <td>male</td>\n",
                            "      <td>24.00</td>\n",
                            "      <td>0</td>\n",
                            "      <td>1</td>\n",
                            "      <td>PC 17558</td>\n",
                            "      <td>247.5208</td>\n",
                            "      <td>B58 B60</td>\n",
                            "      <td>C</td>\n",
                            "    </tr>\n",
                            "    <tr>\n",
                            "      <th>128</th>\n",
                            "      <td>129</td>\n",
                            "      <td>1</td>\n",
                            "      <td>3</td>\n",
                            "      <td>Peter, Miss. Anna</td>\n",
                            "      <td>female</td>\n",
                            "      <td>NaN</td>\n",
                            "      <td>1</td>\n",
                            "      <td>1</td>\n",
                            "      <td>2668</td>\n",
                            "      <td>22.3583</td>\n",
                            "      <td>F E69</td>\n",
                            "      <td>C</td>\n",
                            "    </tr>\n",
                            "    <tr>\n",
                            "      <th>297</th>\n",
                            "      <td>298</td>\n",
                            "      <td>0</td>\n",
                            "      <td>1</td>\n",
                            "      <td>Allison, Miss. Helen Loraine</td>\n",
                            "      <td>female</td>\n",
                            "      <td>2.00</td>\n",
                            "      <td>1</td>\n",
                            "      <td>2</td>\n",
                            "      <td>113781</td>\n",
                            "      <td>151.5500</td>\n",
                            "      <td>C22 C26</td>\n",
                            "      <td>S</td>\n",
                            "    </tr>\n",
                            "    <tr>\n",
                            "      <th>299</th>\n",
                            "      <td>300</td>\n",
                            "      <td>1</td>\n",
                            "      <td>1</td>\n",
                            "      <td>Baxter, Mrs. James (Helene DeLaudeniere Chaput)</td>\n",
                            "      <td>female</td>\n",
                            "      <td>50.00</td>\n",
                            "      <td>0</td>\n",
                            "      <td>1</td>\n",
                            "      <td>PC 17558</td>\n",
                            "      <td>247.5208</td>\n",
                            "      <td>B58 B60</td>\n",
                            "      <td>C</td>\n",
                            "    </tr>\n",
                            "    <tr>\n",
                            "      <th>305</th>\n",
                            "      <td>306</td>\n",
                            "      <td>1</td>\n",
                            "      <td>1</td>\n",
                            "      <td>Allison, Master. Hudson Trevor</td>\n",
                            "      <td>male</td>\n",
                            "      <td>0.92</td>\n",
                            "      <td>1</td>\n",
                            "      <td>2</td>\n",
                            "      <td>113781</td>\n",
                            "      <td>151.5500</td>\n",
                            "      <td>C22 C26</td>\n",
                            "      <td>S</td>\n",
                            "    </tr>\n",
                            "    <tr>\n",
                            "      <th>311</th>\n",
                            "      <td>312</td>\n",
                            "      <td>1</td>\n",
                            "      <td>1</td>\n",
                            "      <td>Ryerson, Miss. Emily Borie</td>\n",
                            "      <td>female</td>\n",
                            "      <td>18.00</td>\n",
                            "      <td>2</td>\n",
                            "      <td>2</td>\n",
                            "      <td>PC 17608</td>\n",
                            "      <td>262.3750</td>\n",
                            "      <td>B57 B59 B63 B66</td>\n",
                            "      <td>C</td>\n",
                            "    </tr>\n",
                            "    <tr>\n",
                            "      <th>341</th>\n",
                            "      <td>342</td>\n",
                            "      <td>1</td>\n",
                            "      <td>1</td>\n",
                            "      <td>Fortune, Miss. Alice Elizabeth</td>\n",
                            "      <td>female</td>\n",
                            "      <td>24.00</td>\n",
                            "      <td>3</td>\n",
                            "      <td>2</td>\n",
                            "      <td>19950</td>\n",
                            "      <td>263.0000</td>\n",
                            "      <td>C23 C25 C27</td>\n",
                            "      <td>S</td>\n",
                            "    </tr>\n",
                            "    <tr>\n",
                            "      <th>390</th>\n",
                            "      <td>391</td>\n",
                            "      <td>1</td>\n",
                            "      <td>1</td>\n",
                            "      <td>Carter, Mr. William Ernest</td>\n",
                            "      <td>male</td>\n",
                            "      <td>36.00</td>\n",
                            "      <td>1</td>\n",
                            "      <td>2</td>\n",
                            "      <td>113760</td>\n",
                            "      <td>120.0000</td>\n",
                            "      <td>B96 B98</td>\n",
                            "      <td>S</td>\n",
                            "    </tr>\n",
                            "    <tr>\n",
                            "      <th>435</th>\n",
                            "      <td>436</td>\n",
                            "      <td>1</td>\n",
                            "      <td>1</td>\n",
                            "      <td>Carter, Miss. Lucile Polk</td>\n",
                            "      <td>female</td>\n",
                            "      <td>14.00</td>\n",
                            "      <td>1</td>\n",
                            "      <td>2</td>\n",
                            "      <td>113760</td>\n",
                            "      <td>120.0000</td>\n",
                            "      <td>B96 B98</td>\n",
                            "      <td>S</td>\n",
                            "    </tr>\n",
                            "    <tr>\n",
                            "      <th>438</th>\n",
                            "      <td>439</td>\n",
                            "      <td>0</td>\n",
                            "      <td>1</td>\n",
                            "      <td>Fortune, Mr. Mark</td>\n",
                            "      <td>male</td>\n",
                            "      <td>64.00</td>\n",
                            "      <td>1</td>\n",
                            "      <td>4</td>\n",
                            "      <td>19950</td>\n",
                            "      <td>263.0000</td>\n",
                            "      <td>C23 C25 C27</td>\n",
                            "      <td>S</td>\n",
                            "    </tr>\n",
                            "    <tr>\n",
                            "      <th>498</th>\n",
                            "      <td>499</td>\n",
                            "      <td>0</td>\n",
                            "      <td>1</td>\n",
                            "      <td>Allison, Mrs. Hudson J C (Bessie Waldo Daniels)</td>\n",
                            "      <td>female</td>\n",
                            "      <td>25.00</td>\n",
                            "      <td>1</td>\n",
                            "      <td>2</td>\n",
                            "      <td>113781</td>\n",
                            "      <td>151.5500</td>\n",
                            "      <td>C22 C26</td>\n",
                            "      <td>S</td>\n",
                            "    </tr>\n",
                            "    <tr>\n",
                            "      <th>679</th>\n",
                            "      <td>680</td>\n",
                            "      <td>1</td>\n",
                            "      <td>1</td>\n",
                            "      <td>Cardeza, Mr. Thomas Drake Martinez</td>\n",
                            "      <td>male</td>\n",
                            "      <td>36.00</td>\n",
                            "      <td>0</td>\n",
                            "      <td>1</td>\n",
                            "      <td>PC 17755</td>\n",
                            "      <td>512.3292</td>\n",
                            "      <td>B51 B53 B55</td>\n",
                            "      <td>C</td>\n",
                            "    </tr>\n",
                            "    <tr>\n",
                            "      <th>699</th>\n",
                            "      <td>700</td>\n",
                            "      <td>0</td>\n",
                            "      <td>3</td>\n",
                            "      <td>Humblen, Mr. Adolf Mathias Nicolai Olsen</td>\n",
                            "      <td>male</td>\n",
                            "      <td>42.00</td>\n",
                            "      <td>0</td>\n",
                            "      <td>0</td>\n",
                            "      <td>348121</td>\n",
                            "      <td>7.6500</td>\n",
                            "      <td>F G63</td>\n",
                            "      <td>S</td>\n",
                            "    </tr>\n",
                            "    <tr>\n",
                            "      <th>700</th>\n",
                            "      <td>701</td>\n",
                            "      <td>1</td>\n",
                            "      <td>1</td>\n",
                            "      <td>Astor, Mrs. John Jacob (Madeleine Talmadge Force)</td>\n",
                            "      <td>female</td>\n",
                            "      <td>18.00</td>\n",
                            "      <td>1</td>\n",
                            "      <td>0</td>\n",
                            "      <td>PC 17757</td>\n",
                            "      <td>227.5250</td>\n",
                            "      <td>C62 C64</td>\n",
                            "      <td>C</td>\n",
                            "    </tr>\n",
                            "    <tr>\n",
                            "      <th>715</th>\n",
                            "      <td>716</td>\n",
                            "      <td>0</td>\n",
                            "      <td>3</td>\n",
                            "      <td>Soholt, Mr. Peter Andreas Lauritz Andersen</td>\n",
                            "      <td>male</td>\n",
                            "      <td>19.00</td>\n",
                            "      <td>0</td>\n",
                            "      <td>0</td>\n",
                            "      <td>348124</td>\n",
                            "      <td>7.6500</td>\n",
                            "      <td>F G73</td>\n",
                            "      <td>S</td>\n",
                            "    </tr>\n",
                            "    <tr>\n",
                            "      <th>742</th>\n",
                            "      <td>743</td>\n",
                            "      <td>1</td>\n",
                            "      <td>1</td>\n",
                            "      <td>Ryerson, Miss. Susan Parker \"Suzette\"</td>\n",
                            "      <td>female</td>\n",
                            "      <td>21.00</td>\n",
                            "      <td>2</td>\n",
                            "      <td>2</td>\n",
                            "      <td>PC 17608</td>\n",
                            "      <td>262.3750</td>\n",
                            "      <td>B57 B59 B63 B66</td>\n",
                            "      <td>C</td>\n",
                            "    </tr>\n",
                            "    <tr>\n",
                            "      <th>763</th>\n",
                            "      <td>764</td>\n",
                            "      <td>1</td>\n",
                            "      <td>1</td>\n",
                            "      <td>Carter, Mrs. William Ernest (Lucile Polk)</td>\n",
                            "      <td>female</td>\n",
                            "      <td>36.00</td>\n",
                            "      <td>1</td>\n",
                            "      <td>2</td>\n",
                            "      <td>113760</td>\n",
                            "      <td>120.0000</td>\n",
                            "      <td>B96 B98</td>\n",
                            "      <td>S</td>\n",
                            "    </tr>\n",
                            "    <tr>\n",
                            "      <th>789</th>\n",
                            "      <td>790</td>\n",
                            "      <td>0</td>\n",
                            "      <td>1</td>\n",
                            "      <td>Guggenheim, Mr. Benjamin</td>\n",
                            "      <td>male</td>\n",
                            "      <td>46.00</td>\n",
                            "      <td>0</td>\n",
                            "      <td>0</td>\n",
                            "      <td>PC 17593</td>\n",
                            "      <td>79.2000</td>\n",
                            "      <td>B82 B84</td>\n",
                            "      <td>C</td>\n",
                            "    </tr>\n",
                            "    <tr>\n",
                            "      <th>802</th>\n",
                            "      <td>803</td>\n",
                            "      <td>1</td>\n",
                            "      <td>1</td>\n",
                            "      <td>Carter, Master. William Thornton II</td>\n",
                            "      <td>male</td>\n",
                            "      <td>11.00</td>\n",
                            "      <td>1</td>\n",
                            "      <td>2</td>\n",
                            "      <td>113760</td>\n",
                            "      <td>120.0000</td>\n",
                            "      <td>B96 B98</td>\n",
                            "      <td>S</td>\n",
                            "    </tr>\n",
                            "    <tr>\n",
                            "      <th>872</th>\n",
                            "      <td>873</td>\n",
                            "      <td>0</td>\n",
                            "      <td>1</td>\n",
                            "      <td>Carlsson, Mr. Frans Olof</td>\n",
                            "      <td>male</td>\n",
                            "      <td>33.00</td>\n",
                            "      <td>0</td>\n",
                            "      <td>0</td>\n",
                            "      <td>695</td>\n",
                            "      <td>5.0000</td>\n",
                            "      <td>B51 B53 B55</td>\n",
                            "      <td>S</td>\n",
                            "    </tr>\n",
                            "  </tbody>\n",
                            "</table>\n",
                            "</div>"
                        ]
                    },
                    "metadata": {},
                    "execution_count": 32
                }
            ],
            "metadata": {}
        },
        {
            "cell_type": "markdown",
            "source": [
                "複数人分客室取っているデータがある。近いところを取得しているので先頭を取得するか。真ん中取得の方が予測に偏りが出なくて良いかもしれないが処理面倒そうなので先頭で良いかな。\n",
                "\n",
                "ほとんどは階層同じなので `CabinFloor` `CabinNumber` に分割するのが良いか？\n",
                "\n",
                "`CabinNumber` の方は `DistanceFromExit` として距離に変換するのがさらに精度上がりそう。しかし船室番号までは記載されていないので断念。\n",
                "\n",
                "`F G73` のように階層を跨いでるデータも一部ある。番号が欠落している `F ` を削除するのが良いか？"
            ],
            "metadata": {}
        },
        {
            "cell_type": "code",
            "execution_count": 33,
            "source": [
                "titanic[titanic[\"Cabin\"].str.contains(\"F\") == True]"
            ],
            "outputs": [
                {
                    "output_type": "execute_result",
                    "data": {
                        "text/plain": [
                            "     PassengerId  Survived  Pclass  \\\n",
                            "66            67         1       2   \n",
                            "75            76         0       3   \n",
                            "128          129         1       3   \n",
                            "148          149         0       2   \n",
                            "183          184         1       2   \n",
                            "193          194         1       2   \n",
                            "340          341         1       2   \n",
                            "345          346         1       2   \n",
                            "516          517         1       2   \n",
                            "618          619         1       2   \n",
                            "699          700         0       3   \n",
                            "715          716         0       3   \n",
                            "776          777         0       3   \n",
                            "\n",
                            "                                           Name     Sex   Age  SibSp  Parch  \\\n",
                            "66                 Nye, Mrs. (Elizabeth Ramell)  female  29.0      0      0   \n",
                            "75                      Moen, Mr. Sigurd Hansen    male  25.0      0      0   \n",
                            "128                           Peter, Miss. Anna  female   NaN      1      1   \n",
                            "148    Navratil, Mr. Michel (\"Louis M Hoffman\")    male  36.5      0      2   \n",
                            "183                   Becker, Master. Richard F    male   1.0      2      1   \n",
                            "193                  Navratil, Master. Michel M    male   3.0      1      1   \n",
                            "340              Navratil, Master. Edmond Roger    male   2.0      1      1   \n",
                            "345               Brown, Miss. Amelia \"Mildred\"  female  24.0      0      0   \n",
                            "516                Lemore, Mrs. (Amelia Milley)  female  34.0      0      0   \n",
                            "618                 Becker, Miss. Marion Louise  female   4.0      2      1   \n",
                            "699    Humblen, Mr. Adolf Mathias Nicolai Olsen    male  42.0      0      0   \n",
                            "715  Soholt, Mr. Peter Andreas Lauritz Andersen    male  19.0      0      0   \n",
                            "776                            Tobin, Mr. Roger    male   NaN      0      0   \n",
                            "\n",
                            "         Ticket     Fare  Cabin Embarked  \n",
                            "66   C.A. 29395  10.5000    F33        S  \n",
                            "75       348123   7.6500  F G73        S  \n",
                            "128        2668  22.3583  F E69        C  \n",
                            "148      230080  26.0000     F2        S  \n",
                            "183      230136  39.0000     F4        S  \n",
                            "193      230080  26.0000     F2        S  \n",
                            "340      230080  26.0000     F2        S  \n",
                            "345      248733  13.0000    F33        S  \n",
                            "516  C.A. 34260  10.5000    F33        S  \n",
                            "618      230136  39.0000     F4        S  \n",
                            "699      348121   7.6500  F G63        S  \n",
                            "715      348124   7.6500  F G73        S  \n",
                            "776      383121   7.7500    F38        Q  "
                        ],
                        "text/html": [
                            "<div>\n",
                            "<style scoped>\n",
                            "    .dataframe tbody tr th:only-of-type {\n",
                            "        vertical-align: middle;\n",
                            "    }\n",
                            "\n",
                            "    .dataframe tbody tr th {\n",
                            "        vertical-align: top;\n",
                            "    }\n",
                            "\n",
                            "    .dataframe thead th {\n",
                            "        text-align: right;\n",
                            "    }\n",
                            "</style>\n",
                            "<table border=\"1\" class=\"dataframe\">\n",
                            "  <thead>\n",
                            "    <tr style=\"text-align: right;\">\n",
                            "      <th></th>\n",
                            "      <th>PassengerId</th>\n",
                            "      <th>Survived</th>\n",
                            "      <th>Pclass</th>\n",
                            "      <th>Name</th>\n",
                            "      <th>Sex</th>\n",
                            "      <th>Age</th>\n",
                            "      <th>SibSp</th>\n",
                            "      <th>Parch</th>\n",
                            "      <th>Ticket</th>\n",
                            "      <th>Fare</th>\n",
                            "      <th>Cabin</th>\n",
                            "      <th>Embarked</th>\n",
                            "    </tr>\n",
                            "  </thead>\n",
                            "  <tbody>\n",
                            "    <tr>\n",
                            "      <th>66</th>\n",
                            "      <td>67</td>\n",
                            "      <td>1</td>\n",
                            "      <td>2</td>\n",
                            "      <td>Nye, Mrs. (Elizabeth Ramell)</td>\n",
                            "      <td>female</td>\n",
                            "      <td>29.0</td>\n",
                            "      <td>0</td>\n",
                            "      <td>0</td>\n",
                            "      <td>C.A. 29395</td>\n",
                            "      <td>10.5000</td>\n",
                            "      <td>F33</td>\n",
                            "      <td>S</td>\n",
                            "    </tr>\n",
                            "    <tr>\n",
                            "      <th>75</th>\n",
                            "      <td>76</td>\n",
                            "      <td>0</td>\n",
                            "      <td>3</td>\n",
                            "      <td>Moen, Mr. Sigurd Hansen</td>\n",
                            "      <td>male</td>\n",
                            "      <td>25.0</td>\n",
                            "      <td>0</td>\n",
                            "      <td>0</td>\n",
                            "      <td>348123</td>\n",
                            "      <td>7.6500</td>\n",
                            "      <td>F G73</td>\n",
                            "      <td>S</td>\n",
                            "    </tr>\n",
                            "    <tr>\n",
                            "      <th>128</th>\n",
                            "      <td>129</td>\n",
                            "      <td>1</td>\n",
                            "      <td>3</td>\n",
                            "      <td>Peter, Miss. Anna</td>\n",
                            "      <td>female</td>\n",
                            "      <td>NaN</td>\n",
                            "      <td>1</td>\n",
                            "      <td>1</td>\n",
                            "      <td>2668</td>\n",
                            "      <td>22.3583</td>\n",
                            "      <td>F E69</td>\n",
                            "      <td>C</td>\n",
                            "    </tr>\n",
                            "    <tr>\n",
                            "      <th>148</th>\n",
                            "      <td>149</td>\n",
                            "      <td>0</td>\n",
                            "      <td>2</td>\n",
                            "      <td>Navratil, Mr. Michel (\"Louis M Hoffman\")</td>\n",
                            "      <td>male</td>\n",
                            "      <td>36.5</td>\n",
                            "      <td>0</td>\n",
                            "      <td>2</td>\n",
                            "      <td>230080</td>\n",
                            "      <td>26.0000</td>\n",
                            "      <td>F2</td>\n",
                            "      <td>S</td>\n",
                            "    </tr>\n",
                            "    <tr>\n",
                            "      <th>183</th>\n",
                            "      <td>184</td>\n",
                            "      <td>1</td>\n",
                            "      <td>2</td>\n",
                            "      <td>Becker, Master. Richard F</td>\n",
                            "      <td>male</td>\n",
                            "      <td>1.0</td>\n",
                            "      <td>2</td>\n",
                            "      <td>1</td>\n",
                            "      <td>230136</td>\n",
                            "      <td>39.0000</td>\n",
                            "      <td>F4</td>\n",
                            "      <td>S</td>\n",
                            "    </tr>\n",
                            "    <tr>\n",
                            "      <th>193</th>\n",
                            "      <td>194</td>\n",
                            "      <td>1</td>\n",
                            "      <td>2</td>\n",
                            "      <td>Navratil, Master. Michel M</td>\n",
                            "      <td>male</td>\n",
                            "      <td>3.0</td>\n",
                            "      <td>1</td>\n",
                            "      <td>1</td>\n",
                            "      <td>230080</td>\n",
                            "      <td>26.0000</td>\n",
                            "      <td>F2</td>\n",
                            "      <td>S</td>\n",
                            "    </tr>\n",
                            "    <tr>\n",
                            "      <th>340</th>\n",
                            "      <td>341</td>\n",
                            "      <td>1</td>\n",
                            "      <td>2</td>\n",
                            "      <td>Navratil, Master. Edmond Roger</td>\n",
                            "      <td>male</td>\n",
                            "      <td>2.0</td>\n",
                            "      <td>1</td>\n",
                            "      <td>1</td>\n",
                            "      <td>230080</td>\n",
                            "      <td>26.0000</td>\n",
                            "      <td>F2</td>\n",
                            "      <td>S</td>\n",
                            "    </tr>\n",
                            "    <tr>\n",
                            "      <th>345</th>\n",
                            "      <td>346</td>\n",
                            "      <td>1</td>\n",
                            "      <td>2</td>\n",
                            "      <td>Brown, Miss. Amelia \"Mildred\"</td>\n",
                            "      <td>female</td>\n",
                            "      <td>24.0</td>\n",
                            "      <td>0</td>\n",
                            "      <td>0</td>\n",
                            "      <td>248733</td>\n",
                            "      <td>13.0000</td>\n",
                            "      <td>F33</td>\n",
                            "      <td>S</td>\n",
                            "    </tr>\n",
                            "    <tr>\n",
                            "      <th>516</th>\n",
                            "      <td>517</td>\n",
                            "      <td>1</td>\n",
                            "      <td>2</td>\n",
                            "      <td>Lemore, Mrs. (Amelia Milley)</td>\n",
                            "      <td>female</td>\n",
                            "      <td>34.0</td>\n",
                            "      <td>0</td>\n",
                            "      <td>0</td>\n",
                            "      <td>C.A. 34260</td>\n",
                            "      <td>10.5000</td>\n",
                            "      <td>F33</td>\n",
                            "      <td>S</td>\n",
                            "    </tr>\n",
                            "    <tr>\n",
                            "      <th>618</th>\n",
                            "      <td>619</td>\n",
                            "      <td>1</td>\n",
                            "      <td>2</td>\n",
                            "      <td>Becker, Miss. Marion Louise</td>\n",
                            "      <td>female</td>\n",
                            "      <td>4.0</td>\n",
                            "      <td>2</td>\n",
                            "      <td>1</td>\n",
                            "      <td>230136</td>\n",
                            "      <td>39.0000</td>\n",
                            "      <td>F4</td>\n",
                            "      <td>S</td>\n",
                            "    </tr>\n",
                            "    <tr>\n",
                            "      <th>699</th>\n",
                            "      <td>700</td>\n",
                            "      <td>0</td>\n",
                            "      <td>3</td>\n",
                            "      <td>Humblen, Mr. Adolf Mathias Nicolai Olsen</td>\n",
                            "      <td>male</td>\n",
                            "      <td>42.0</td>\n",
                            "      <td>0</td>\n",
                            "      <td>0</td>\n",
                            "      <td>348121</td>\n",
                            "      <td>7.6500</td>\n",
                            "      <td>F G63</td>\n",
                            "      <td>S</td>\n",
                            "    </tr>\n",
                            "    <tr>\n",
                            "      <th>715</th>\n",
                            "      <td>716</td>\n",
                            "      <td>0</td>\n",
                            "      <td>3</td>\n",
                            "      <td>Soholt, Mr. Peter Andreas Lauritz Andersen</td>\n",
                            "      <td>male</td>\n",
                            "      <td>19.0</td>\n",
                            "      <td>0</td>\n",
                            "      <td>0</td>\n",
                            "      <td>348124</td>\n",
                            "      <td>7.6500</td>\n",
                            "      <td>F G73</td>\n",
                            "      <td>S</td>\n",
                            "    </tr>\n",
                            "    <tr>\n",
                            "      <th>776</th>\n",
                            "      <td>777</td>\n",
                            "      <td>0</td>\n",
                            "      <td>3</td>\n",
                            "      <td>Tobin, Mr. Roger</td>\n",
                            "      <td>male</td>\n",
                            "      <td>NaN</td>\n",
                            "      <td>0</td>\n",
                            "      <td>0</td>\n",
                            "      <td>383121</td>\n",
                            "      <td>7.7500</td>\n",
                            "      <td>F38</td>\n",
                            "      <td>Q</td>\n",
                            "    </tr>\n",
                            "  </tbody>\n",
                            "</table>\n",
                            "</div>"
                        ]
                    },
                    "metadata": {},
                    "execution_count": 33
                }
            ],
            "metadata": {}
        },
        {
            "cell_type": "markdown",
            "source": [
                "F階層の人全てが番号なしではない。"
            ],
            "metadata": {}
        },
        {
            "cell_type": "code",
            "execution_count": 36,
            "source": [
                "titanic[titanic[\"Cabin\"].str.contains(\"\\AA|B|C|D|E|F|G\") == False]"
            ],
            "outputs": [
                {
                    "output_type": "execute_result",
                    "data": {
                        "text/plain": [
                            "     PassengerId  Survived  Pclass                          Name   Sex   Age  \\\n",
                            "339          340         0       1  Blackwell, Mr. Stephen Weart  male  45.0   \n",
                            "\n",
                            "     SibSp  Parch  Ticket  Fare Cabin Embarked  \n",
                            "339      0      0  113784  35.5     T        S  "
                        ],
                        "text/html": [
                            "<div>\n",
                            "<style scoped>\n",
                            "    .dataframe tbody tr th:only-of-type {\n",
                            "        vertical-align: middle;\n",
                            "    }\n",
                            "\n",
                            "    .dataframe tbody tr th {\n",
                            "        vertical-align: top;\n",
                            "    }\n",
                            "\n",
                            "    .dataframe thead th {\n",
                            "        text-align: right;\n",
                            "    }\n",
                            "</style>\n",
                            "<table border=\"1\" class=\"dataframe\">\n",
                            "  <thead>\n",
                            "    <tr style=\"text-align: right;\">\n",
                            "      <th></th>\n",
                            "      <th>PassengerId</th>\n",
                            "      <th>Survived</th>\n",
                            "      <th>Pclass</th>\n",
                            "      <th>Name</th>\n",
                            "      <th>Sex</th>\n",
                            "      <th>Age</th>\n",
                            "      <th>SibSp</th>\n",
                            "      <th>Parch</th>\n",
                            "      <th>Ticket</th>\n",
                            "      <th>Fare</th>\n",
                            "      <th>Cabin</th>\n",
                            "      <th>Embarked</th>\n",
                            "    </tr>\n",
                            "  </thead>\n",
                            "  <tbody>\n",
                            "    <tr>\n",
                            "      <th>339</th>\n",
                            "      <td>340</td>\n",
                            "      <td>0</td>\n",
                            "      <td>1</td>\n",
                            "      <td>Blackwell, Mr. Stephen Weart</td>\n",
                            "      <td>male</td>\n",
                            "      <td>45.0</td>\n",
                            "      <td>0</td>\n",
                            "      <td>0</td>\n",
                            "      <td>113784</td>\n",
                            "      <td>35.5</td>\n",
                            "      <td>T</td>\n",
                            "      <td>S</td>\n",
                            "    </tr>\n",
                            "  </tbody>\n",
                            "</table>\n",
                            "</div>"
                        ]
                    },
                    "metadata": {},
                    "execution_count": 36
                }
            ],
            "metadata": {}
        },
        {
            "cell_type": "markdown",
            "source": [
                "Tってなんだろう。1件だし除外しておこう。"
            ],
            "metadata": {}
        },
        {
            "cell_type": "markdown",
            "source": [
                "### Cabinの前処理\n",
                "\n",
                "- \"T\"をNAに置き換え\n",
                "- \"F \"を削除\n",
                "- \" \"でSplit\n",
                "- 先頭を取り出し\n",
                "- 先頭1文字を分離\n",
                "- `Floor` `CabinNumber` に分割\n",
                "- `Floor` を A=1...G=7に変換\n"
            ],
            "metadata": {}
        },
        {
            "cell_type": "markdown",
            "source": [
                "前回最終的に利用したのはこの特徴\n",
                "```py\n",
                "transformer = ColumnTransformer([ \n",
                "  (\"num\", SimpleImputer(), [\"Pclass\", \"Parch\", \"Fare\"]),\n",
                "  (\"scale\", scaler_pipeline, [\"Age\"]),\n",
                "  (\"cat\", OneHotEncoder(), [\"Sex\", \"Embarked\"]),\n",
                "])\n",
                "```"
            ],
            "metadata": {}
        },
        {
            "cell_type": "code",
            "execution_count": 126,
            "source": [
                "_cabins = np.array(titanic)[:, 10]\n",
                "_cabins[:10]"
            ],
            "outputs": [
                {
                    "output_type": "execute_result",
                    "data": {
                        "text/plain": [
                            "array([nan, 'C85', nan, 'C123', nan, nan, 'E46', nan, nan, nan],\n",
                            "      dtype=object)"
                        ]
                    },
                    "metadata": {},
                    "execution_count": 126
                }
            ],
            "metadata": {}
        },
        {
            "cell_type": "code",
            "execution_count": 86,
            "source": [
                "np.isnan(_cabins)\n",
                "# _cabins = np.where(np.isnan(_titanic), None, _titanic)\n",
                "# _cabins"
            ],
            "outputs": [
                {
                    "output_type": "error",
                    "ename": "TypeError",
                    "evalue": "ufunc 'isnan' not supported for the input types, and the inputs could not be safely coerced to any supported types according to the casting rule ''safe''",
                    "traceback": [
                        "\u001b[0;31m---------------------------------------------------------------------------\u001b[0m",
                        "\u001b[0;31mTypeError\u001b[0m                                 Traceback (most recent call last)",
                        "\u001b[0;32m<ipython-input-86-1ae09c973908>\u001b[0m in \u001b[0;36m<module>\u001b[0;34m\u001b[0m\n\u001b[0;32m----> 1\u001b[0;31m \u001b[0mnp\u001b[0m\u001b[0;34m.\u001b[0m\u001b[0misnan\u001b[0m\u001b[0;34m(\u001b[0m\u001b[0m_cabins\u001b[0m\u001b[0;34m)\u001b[0m\u001b[0;34m\u001b[0m\u001b[0;34m\u001b[0m\u001b[0m\n\u001b[0m\u001b[1;32m      2\u001b[0m \u001b[0;31m# _cabins = np.where(np.isnan(_titanic), None, _titanic)\u001b[0m\u001b[0;34m\u001b[0m\u001b[0;34m\u001b[0m\u001b[0;34m\u001b[0m\u001b[0m\n\u001b[1;32m      3\u001b[0m \u001b[0;31m# _cabins\u001b[0m\u001b[0;34m\u001b[0m\u001b[0;34m\u001b[0m\u001b[0;34m\u001b[0m\u001b[0m\n",
                        "\u001b[0;31mTypeError\u001b[0m: ufunc 'isnan' not supported for the input types, and the inputs could not be safely coerced to any supported types according to the casting rule ''safe''"
                    ]
                }
            ],
            "metadata": {}
        },
        {
            "cell_type": "markdown",
            "source": [
                "strが混じると `np.isnan` に渡せないとのこと"
            ],
            "metadata": {}
        },
        {
            "cell_type": "code",
            "execution_count": 191,
            "source": [
                "def split_cabins(cabins):\n",
                "  _floors = []\n",
                "  _numbers = []\n",
                "\n",
                "  for cabin in cabins.astype(str):\n",
                "    if cabin == 'nan' or not cabin:\n",
                "      _floors.append(np.nan)\n",
                "      _numbers.append(np.nan)\n",
                "      continue\n",
                "    else:\n",
                "      _first_cabin = cabin.split(\" \")[0]\n",
                "      floor = _first_cabin[0]\n",
                "      number = _first_cabin[1:]\n",
                "      _floors.append(floor)\n",
                "      _numbers.append(number if number else np.nan)\n",
                "\n",
                "  return _floors, np.array(_numbers, dtype=np.float64)\n",
                "\n",
                "_floors, _numbers = split_cabins(_cabins)\n",
                "_floors[:11], _numbers[:11]"
            ],
            "outputs": [
                {
                    "output_type": "execute_result",
                    "data": {
                        "text/plain": [
                            "([nan, 'C', nan, 'C', nan, nan, 'E', nan, nan, nan, 'G'],\n",
                            " array([ nan,  85.,  nan, 123.,  nan,  nan,  46.,  nan,  nan,  nan,   6.]))"
                        ]
                    },
                    "metadata": {},
                    "execution_count": 191
                }
            ],
            "metadata": {}
        },
        {
            "cell_type": "code",
            "execution_count": 192,
            "source": [
                "from sklearn.preprocessing import LabelEncoder\n",
                "\n",
                "_enc = LabelEncoder()\n",
                "_enc.fit_transform(_floors[:20])"
            ],
            "outputs": [
                {
                    "output_type": "execute_result",
                    "data": {
                        "text/plain": [
                            "array([3, 0, 3, 0, 3, 3, 1, 3, 3, 3, 2, 0, 3, 3, 3, 3, 3, 3, 3, 3])"
                        ]
                    },
                    "metadata": {},
                    "execution_count": 192
                }
            ],
            "metadata": {}
        },
        {
            "cell_type": "code",
            "execution_count": 320,
            "source": [
                "from sklearn.base import BaseEstimator, TransformerMixin\n",
                "\n",
                "class CabinConverter(BaseEstimator, TransformerMixin):\n",
                "\n",
                "  def __init__(self, cabin_ix = 0):\n",
                "    self.cabin_ix = cabin_ix\n",
                "    return\n",
                "\n",
                "  def fit(self, X, y=None):\n",
                "    return self\n",
                "\n",
                "  def transform(self, X):\n",
                "    # print(X)\n",
                "    _X = np.array(X)\n",
                "    cabins = _X[:, self.cabin_ix]\n",
                "    floors, numbers = split_cabins(cabins)\n",
                "    return np.c_[np.delete(_X, self.cabin_ix, 1), floors, numbers]"
            ],
            "outputs": [],
            "metadata": {}
        },
        {
            "cell_type": "code",
            "execution_count": 315,
            "source": [
                "# 2次元配列のまま取り出し\n",
                "np.array(titanic)[:, 10:11][:10]"
            ],
            "outputs": [
                {
                    "output_type": "execute_result",
                    "data": {
                        "text/plain": [
                            "array([[nan],\n",
                            "       ['C85'],\n",
                            "       [nan],\n",
                            "       ['C123'],\n",
                            "       [nan],\n",
                            "       [nan],\n",
                            "       ['E46'],\n",
                            "       [nan],\n",
                            "       [nan],\n",
                            "       [nan]], dtype=object)"
                        ]
                    },
                    "metadata": {},
                    "execution_count": 315
                }
            ],
            "metadata": {}
        },
        {
            "cell_type": "code",
            "execution_count": 321,
            "source": [
                "_conv = CabinConverter()\n",
                "_splitted = _conv.transform(np.array(titanic)[:, 10:11])\n",
                "_splitted"
            ],
            "outputs": [
                {
                    "output_type": "execute_result",
                    "data": {
                        "text/plain": [
                            "array([['nan', nan],\n",
                            "       ['C', 85.0],\n",
                            "       ['nan', nan],\n",
                            "       ...,\n",
                            "       ['nan', nan],\n",
                            "       ['C', 148.0],\n",
                            "       ['nan', nan]], dtype=object)"
                        ]
                    },
                    "metadata": {},
                    "execution_count": 321
                }
            ],
            "metadata": {}
        },
        {
            "cell_type": "code",
            "execution_count": 280,
            "source": [
                "from sklearn.base import BaseEstimator, TransformerMixin\n",
                "from sklearn.preprocessing import LabelEncoder\n",
                "\n",
                "class FloorLabelConverter(BaseEstimator, TransformerMixin):\n",
                "\n",
                "  def __init__(self, floor_ix = 0):\n",
                "    self.floor_ix = floor_ix\n",
                "    return\n",
                "\n",
                "  def fit(self, X, y=None):\n",
                "    return self\n",
                "\n",
                "  def transform(self, X):\n",
                "    floors = X[:, self.floor_ix]\n",
                "    le = LabelEncoder()\n",
                "    _floors = le.fit_transform(floors)\n",
                "    print('categories', le.classes_)\n",
                "    print('floors', _floors[:10])\n",
                "    return np.c_[np.delete(X, self.floor_ix, 1), _floors]"
            ],
            "outputs": [],
            "metadata": {}
        },
        {
            "cell_type": "code",
            "execution_count": 271,
            "source": [
                "_conv = FloorLabelConverter()\n",
                "_labeled = _conv.transform(_splitted)\n",
                "_labeled[:10]"
            ],
            "outputs": [
                {
                    "output_type": "stream",
                    "name": "stdout",
                    "text": [
                        "categories ['A' 'B' 'C' 'D' 'E' 'F' 'G' 'T' 'nan']\n",
                        "floors [8 2 8 2 8 8 4 8 8 8]\n"
                    ]
                },
                {
                    "output_type": "execute_result",
                    "data": {
                        "text/plain": [
                            "array([[nan, 8],\n",
                            "       [85.0, 2],\n",
                            "       [nan, 8],\n",
                            "       [123.0, 2],\n",
                            "       [nan, 8],\n",
                            "       [nan, 8],\n",
                            "       [46.0, 4],\n",
                            "       [nan, 8],\n",
                            "       [nan, 8],\n",
                            "       [nan, 8]], dtype=object)"
                        ]
                    },
                    "metadata": {},
                    "execution_count": 271
                }
            ],
            "metadata": {}
        },
        {
            "cell_type": "markdown",
            "source": [
                "Floor=NaN も1つのカテゴリとして扱われてしまうのは都合が悪い。どうにかしてNAとして扱われるか中央値でFillされるようにしないといけない。"
            ],
            "metadata": {}
        },
        {
            "cell_type": "code",
            "execution_count": 273,
            "source": [
                "%xmode Plain\n",
                "\n",
                "from sklearn.impute import SimpleImputer\n",
                "\n",
                "imputer = SimpleImputer()\n",
                "imputer.fit_transform(_splitted)\n"
            ],
            "outputs": [
                {
                    "output_type": "stream",
                    "name": "stdout",
                    "text": [
                        "Exception reporting mode: Plain\n"
                    ]
                },
                {
                    "output_type": "error",
                    "ename": "ValueError",
                    "evalue": "Cannot use mean strategy with non-numeric data:\ncould not convert string to float: 'C'",
                    "traceback": [
                        "Traceback \u001b[0;36m(most recent call last)\u001b[0m:\n",
                        "  File \u001b[1;32m\"<ipython-input-273-e95db547de6d>\"\u001b[0m, line \u001b[1;32m6\u001b[0m, in \u001b[1;35m<module>\u001b[0m\n    imputer.fit_transform(_splitted)\n",
                        "  File \u001b[1;32m\"/usr/local/lib/python3.9/site-packages/sklearn/base.py\"\u001b[0m, line \u001b[1;32m699\u001b[0m, in \u001b[1;35mfit_transform\u001b[0m\n    return self.fit(X, **fit_params).transform(X)\n",
                        "  File \u001b[1;32m\"/usr/local/lib/python3.9/site-packages/sklearn/impute/_base.py\"\u001b[0m, line \u001b[1;32m288\u001b[0m, in \u001b[1;35mfit\u001b[0m\n    X = self._validate_input(X, in_fit=True)\n",
                        "\u001b[0;36m  File \u001b[0;32m\"/usr/local/lib/python3.9/site-packages/sklearn/impute/_base.py\"\u001b[0;36m, line \u001b[0;32m260\u001b[0;36m, in \u001b[0;35m_validate_input\u001b[0;36m\u001b[0m\n\u001b[0;31m    raise new_ve from None\u001b[0m\n",
                        "\u001b[0;31mValueError\u001b[0m\u001b[0;31m:\u001b[0m Cannot use mean strategy with non-numeric data:\ncould not convert string to float: 'C'\n"
                    ]
                }
            ],
            "metadata": {}
        },
        {
            "cell_type": "markdown",
            "source": [
                "テキストに対してSimpleImputerを使うことはできない"
            ],
            "metadata": {}
        },
        {
            "cell_type": "code",
            "execution_count": 294,
            "source": [
                "from sklearn.base import BaseEstimator, TransformerMixin\n",
                "from sklearn.preprocessing import LabelEncoder\n",
                "\n",
                "class FloorLabelConverter(BaseEstimator, TransformerMixin):\n",
                "\n",
                "  def __init__(self, floor_ix = 0):\n",
                "    self.floor_ix = floor_ix\n",
                "    return\n",
                "\n",
                "  def fit(self, X, y=None):\n",
                "    return self\n",
                "\n",
                "  def transform(self, X):\n",
                "    floors = X[:, self.floor_ix]\n",
                "    le = LabelEncoder()\n",
                "    _floors = le.fit_transform(floors)\n",
                "    print('categories', le.classes_)\n",
                "    nan_label = np.where(le.classes_ == 'nan')[0][0]\n",
                "    print('nan_label', nan_label)\n",
                "    return np.c_[np.delete(X, self.floor_ix, 1), [np.nan if floor == nan_label else floor for floor in _floors]]"
            ],
            "outputs": [],
            "metadata": {}
        },
        {
            "cell_type": "code",
            "execution_count": 295,
            "source": [
                "_conv = FloorLabelConverter()\n",
                "_labeled = _conv.transform(_splitted)\n",
                "_labeled[:10]"
            ],
            "outputs": [
                {
                    "output_type": "stream",
                    "name": "stdout",
                    "text": [
                        "categories ['A' 'B' 'C' 'D' 'E' 'F' 'G' 'T' 'nan']\n",
                        "nan_label 8\n"
                    ]
                },
                {
                    "output_type": "execute_result",
                    "data": {
                        "text/plain": [
                            "array([[nan, nan],\n",
                            "       [85.0, 2.0],\n",
                            "       [nan, nan],\n",
                            "       [123.0, 2.0],\n",
                            "       [nan, nan],\n",
                            "       [nan, nan],\n",
                            "       [46.0, 4.0],\n",
                            "       [nan, nan],\n",
                            "       [nan, nan],\n",
                            "       [nan, nan]], dtype=object)"
                        ]
                    },
                    "metadata": {},
                    "execution_count": 295
                }
            ],
            "metadata": {}
        },
        {
            "cell_type": "markdown",
            "source": [
                "Floorの変換完了。NaNへの置き換えはもっと良い方法あるかもしれない。"
            ],
            "metadata": {}
        },
        {
            "cell_type": "code",
            "execution_count": 322,
            "source": [
                "from sklearn.pipeline import Pipeline\n",
                "from sklearn.impute import SimpleImputer\n",
                "\n",
                "cabin_pipeline = Pipeline([\n",
                "  ('converter', CabinConverter()),\n",
                "  ('label', FloorLabelConverter()),\n",
                "  ('imputer', SimpleImputer(strategy=\"median\")),\n",
                "])"
            ],
            "outputs": [],
            "metadata": {}
        },
        {
            "cell_type": "code",
            "execution_count": 323,
            "source": [
                "cabin_pipeline.fit_transform(np.array(titanic)[:, 10:11])"
            ],
            "outputs": [
                {
                    "output_type": "stream",
                    "name": "stdout",
                    "text": [
                        "categories ['A' 'B' 'C' 'D' 'E' 'F' 'G' 'T' 'nan']\n",
                        "nan_label 8\n"
                    ]
                },
                {
                    "output_type": "execute_result",
                    "data": {
                        "text/plain": [
                            "array([[ 40.5,   2. ],\n",
                            "       [ 85. ,   2. ],\n",
                            "       [ 40.5,   2. ],\n",
                            "       ...,\n",
                            "       [ 40.5,   2. ],\n",
                            "       [148. ,   2. ],\n",
                            "       [ 40.5,   2. ]])"
                        ]
                    },
                    "metadata": {},
                    "execution_count": 323
                }
            ],
            "metadata": {}
        },
        {
            "cell_type": "markdown",
            "source": [
                "cabin_pipeline完成"
            ],
            "metadata": {}
        },
        {
            "cell_type": "code",
            "execution_count": 301,
            "source": [
                "from sklearn.model_selection import train_test_split\n",
                "\n",
                "train, test = train_test_split(titanic, test_size=0.2, random_state=39)"
            ],
            "outputs": [],
            "metadata": {}
        },
        {
            "cell_type": "code",
            "execution_count": 339,
            "source": [
                "y_train = train.iloc[:, 1:2]\n",
                "X_train = train.drop(y_train.columns, axis=1)\n",
                "\n",
                "y_test = test.iloc[:, 1:2]\n",
                "X_test = test.drop(y_test.columns, axis=1)"
            ],
            "outputs": [],
            "metadata": {}
        },
        {
            "cell_type": "markdown",
            "source": [
                "とりあえず前回良かったRandomForestを利用してみる"
            ],
            "metadata": {}
        },
        {
            "cell_type": "code",
            "execution_count": 334,
            "source": [
                "from sklearn.compose import ColumnTransformer\n",
                "from sklearn.preprocessing import StandardScaler\n",
                "from sklearn.preprocessing import OneHotEncoder\n",
                "from sklearn.ensemble import RandomForestClassifier\n",
                "from sklearn.model_selection import cross_val_score\n",
                "\n",
                "scaler_pipeline = Pipeline([\n",
                "  ('imputer', SimpleImputer()),\n",
                "  ('std_scaler', StandardScaler()),\n",
                "])\n",
                "\n",
                "transformer = ColumnTransformer([ \n",
                "  (\"num\", SimpleImputer(strategy=\"median\"), [\"Pclass\", \"Fare\"]),\n",
                "  (\"scale\", scaler_pipeline, [\"Age\"]),\n",
                "  (\"cat\", OneHotEncoder(), [\"Sex\"]),\n",
                "  (\"cabin\", cabin_pipeline, [\"Cabin\"]),\n",
                "])\n",
                "\n",
                "_X_train = transformer.fit_transform(X_train)\n",
                "clf = RandomForestClassifier(random_state=38)\n",
                "clf.fit(_X_train, y_train)\n",
                "cross_val_score(clf, _X_train, y_train, cv=3, scoring=\"accuracy\")"
            ],
            "outputs": [
                {
                    "output_type": "stream",
                    "name": "stdout",
                    "text": [
                        "categories ['A' 'B' 'C' 'D' 'E' 'F' 'G' 'nan']\n",
                        "nan_label 7\n"
                    ]
                },
                {
                    "output_type": "stream",
                    "name": "stderr",
                    "text": [
                        "<ipython-input-334-d63bf7fa481f>:21: DataConversionWarning: A column-vector y was passed when a 1d array was expected. Please change the shape of y to (n_samples,), for example using ravel().\n",
                        "  clf.fit(_X_train, y_train)\n",
                        "/usr/local/lib/python3.9/site-packages/sklearn/model_selection/_validation.py:598: DataConversionWarning: A column-vector y was passed when a 1d array was expected. Please change the shape of y to (n_samples,), for example using ravel().\n",
                        "  estimator.fit(X_train, y_train, **fit_params)\n",
                        "/usr/local/lib/python3.9/site-packages/sklearn/model_selection/_validation.py:598: DataConversionWarning: A column-vector y was passed when a 1d array was expected. Please change the shape of y to (n_samples,), for example using ravel().\n",
                        "  estimator.fit(X_train, y_train, **fit_params)\n",
                        "/usr/local/lib/python3.9/site-packages/sklearn/model_selection/_validation.py:598: DataConversionWarning: A column-vector y was passed when a 1d array was expected. Please change the shape of y to (n_samples,), for example using ravel().\n",
                        "  estimator.fit(X_train, y_train, **fit_params)\n"
                    ]
                },
                {
                    "output_type": "execute_result",
                    "data": {
                        "text/plain": [
                            "array([0.83613445, 0.80168776, 0.8649789 ])"
                        ]
                    },
                    "metadata": {},
                    "execution_count": 334
                }
            ],
            "metadata": {}
        },
        {
            "cell_type": "markdown",
            "source": [
                "80.1~86.4%なので結構上がった"
            ],
            "metadata": {}
        },
        {
            "cell_type": "code",
            "execution_count": 340,
            "source": [
                "_X_test = transformer.fit_transform(X_test)\n",
                "cross_val_score(clf, _X_test, y_test, cv=3, scoring=\"accuracy\")"
            ],
            "outputs": [
                {
                    "output_type": "stream",
                    "name": "stdout",
                    "text": [
                        "categories ['A' 'B' 'C' 'D' 'E' 'F' 'G' 'T' 'nan']\n",
                        "nan_label 8\n"
                    ]
                },
                {
                    "output_type": "stream",
                    "name": "stderr",
                    "text": [
                        "/usr/local/lib/python3.9/site-packages/sklearn/model_selection/_validation.py:598: DataConversionWarning: A column-vector y was passed when a 1d array was expected. Please change the shape of y to (n_samples,), for example using ravel().\n",
                        "  estimator.fit(X_train, y_train, **fit_params)\n",
                        "/usr/local/lib/python3.9/site-packages/sklearn/model_selection/_validation.py:598: DataConversionWarning: A column-vector y was passed when a 1d array was expected. Please change the shape of y to (n_samples,), for example using ravel().\n",
                        "  estimator.fit(X_train, y_train, **fit_params)\n",
                        "/usr/local/lib/python3.9/site-packages/sklearn/model_selection/_validation.py:598: DataConversionWarning: A column-vector y was passed when a 1d array was expected. Please change the shape of y to (n_samples,), for example using ravel().\n",
                        "  estimator.fit(X_train, y_train, **fit_params)\n"
                    ]
                },
                {
                    "output_type": "execute_result",
                    "data": {
                        "text/plain": [
                            "array([0.8       , 0.78333333, 0.77966102])"
                        ]
                    },
                    "metadata": {},
                    "execution_count": 340
                }
            ],
            "metadata": {}
        },
        {
            "cell_type": "markdown",
            "source": [
                "テストセットに対してはそこまで向上していない"
            ],
            "metadata": {}
        },
        {
            "cell_type": "code",
            "execution_count": 335,
            "source": [
                "titanic_test = pd.read_csv('./titanic/test.csv')"
            ],
            "outputs": [],
            "metadata": {}
        },
        {
            "cell_type": "code",
            "execution_count": 336,
            "source": [
                "_titanic_test = transformer.fit_transform(titanic_test)\n",
                "predict = clf.predict(_titanic_test)\n",
                "predict"
            ],
            "outputs": [
                {
                    "output_type": "stream",
                    "name": "stdout",
                    "text": [
                        "categories ['A' 'B' 'C' 'D' 'E' 'F' 'G' 'nan']\n",
                        "nan_label 7\n"
                    ]
                },
                {
                    "output_type": "execute_result",
                    "data": {
                        "text/plain": [
                            "array([0, 0, 0, 0, 1, 1, 0, 0, 1, 0, 0, 0, 1, 0, 1, 1, 0, 1, 1, 0, 0, 0,\n",
                            "       1, 0, 1, 0, 1, 1, 1, 0, 0, 0, 1, 1, 0, 0, 0, 0, 0, 1, 0, 1, 0, 1,\n",
                            "       1, 0, 0, 0, 1, 1, 0, 0, 1, 1, 0, 0, 0, 0, 0, 1, 0, 0, 0, 0, 1, 1,\n",
                            "       1, 0, 1, 1, 1, 0, 1, 1, 1, 0, 0, 1, 1, 1, 1, 0, 0, 0, 0, 0, 1, 1,\n",
                            "       1, 1, 0, 0, 1, 0, 0, 0, 1, 0, 1, 0, 1, 0, 0, 0, 1, 0, 0, 0, 0, 0,\n",
                            "       0, 1, 1, 1, 1, 0, 0, 1, 0, 1, 1, 0, 1, 0, 0, 0, 1, 1, 0, 0, 0, 0,\n",
                            "       0, 0, 0, 0, 0, 0, 0, 0, 0, 1, 0, 0, 1, 0, 1, 0, 1, 0, 1, 0, 0, 1,\n",
                            "       0, 0, 1, 1, 1, 0, 1, 1, 1, 0, 0, 1, 0, 0, 1, 0, 0, 0, 0, 0, 0, 1,\n",
                            "       1, 1, 1, 1, 1, 1, 1, 0, 1, 0, 1, 1, 0, 0, 0, 1, 1, 0, 1, 0, 1, 1,\n",
                            "       0, 0, 1, 1, 0, 1, 0, 1, 1, 0, 1, 0, 0, 0, 0, 1, 0, 0, 1, 1, 1, 0,\n",
                            "       1, 0, 1, 0, 1, 0, 0, 1, 0, 0, 0, 1, 0, 0, 0, 0, 0, 0, 1, 1, 1, 1,\n",
                            "       0, 0, 0, 1, 1, 0, 1, 0, 1, 0, 0, 0, 0, 0, 0, 0, 1, 0, 0, 0, 1, 1,\n",
                            "       1, 0, 0, 0, 0, 1, 0, 0, 1, 1, 0, 1, 0, 0, 0, 0, 0, 1, 1, 0, 1, 0,\n",
                            "       0, 1, 0, 0, 0, 1, 0, 1, 0, 0, 1, 0, 0, 0, 0, 0, 0, 0, 1, 1, 0, 1,\n",
                            "       0, 0, 0, 1, 0, 1, 1, 1, 0, 0, 0, 0, 0, 0, 1, 1, 1, 0, 1, 0, 0, 0,\n",
                            "       1, 0, 0, 0, 0, 0, 1, 0, 0, 0, 0, 0, 0, 1, 0, 1, 0, 1, 0, 1, 1, 0,\n",
                            "       0, 0, 1, 0, 1, 0, 0, 1, 0, 1, 1, 0, 1, 0, 0, 0, 1, 0, 0, 1, 0, 0,\n",
                            "       1, 1, 0, 0, 0, 0, 0, 0, 0, 0, 1, 1, 0, 0, 0, 0, 0, 1, 0, 0, 0, 1,\n",
                            "       0, 1, 0, 0, 1, 0, 1, 0, 1, 0, 0, 0, 1, 1, 1, 1, 1, 0, 1, 0, 0, 0])"
                        ]
                    },
                    "metadata": {},
                    "execution_count": 336
                }
            ],
            "metadata": {}
        },
        {
            "cell_type": "code",
            "execution_count": 337,
            "source": [
                "id = np.array(titanic_test[\"PassengerId\"]).astype(int)\n",
                "df = pd.DataFrame(predict, id, columns = [\"Survived\"])\n",
                "df"
            ],
            "outputs": [
                {
                    "output_type": "execute_result",
                    "data": {
                        "text/plain": [
                            "      Survived\n",
                            "892          0\n",
                            "893          0\n",
                            "894          0\n",
                            "895          0\n",
                            "896          1\n",
                            "...        ...\n",
                            "1305         0\n",
                            "1306         1\n",
                            "1307         0\n",
                            "1308         0\n",
                            "1309         0\n",
                            "\n",
                            "[418 rows x 1 columns]"
                        ],
                        "text/html": [
                            "<div>\n",
                            "<style scoped>\n",
                            "    .dataframe tbody tr th:only-of-type {\n",
                            "        vertical-align: middle;\n",
                            "    }\n",
                            "\n",
                            "    .dataframe tbody tr th {\n",
                            "        vertical-align: top;\n",
                            "    }\n",
                            "\n",
                            "    .dataframe thead th {\n",
                            "        text-align: right;\n",
                            "    }\n",
                            "</style>\n",
                            "<table border=\"1\" class=\"dataframe\">\n",
                            "  <thead>\n",
                            "    <tr style=\"text-align: right;\">\n",
                            "      <th></th>\n",
                            "      <th>Survived</th>\n",
                            "    </tr>\n",
                            "  </thead>\n",
                            "  <tbody>\n",
                            "    <tr>\n",
                            "      <th>892</th>\n",
                            "      <td>0</td>\n",
                            "    </tr>\n",
                            "    <tr>\n",
                            "      <th>893</th>\n",
                            "      <td>0</td>\n",
                            "    </tr>\n",
                            "    <tr>\n",
                            "      <th>894</th>\n",
                            "      <td>0</td>\n",
                            "    </tr>\n",
                            "    <tr>\n",
                            "      <th>895</th>\n",
                            "      <td>0</td>\n",
                            "    </tr>\n",
                            "    <tr>\n",
                            "      <th>896</th>\n",
                            "      <td>1</td>\n",
                            "    </tr>\n",
                            "    <tr>\n",
                            "      <th>...</th>\n",
                            "      <td>...</td>\n",
                            "    </tr>\n",
                            "    <tr>\n",
                            "      <th>1305</th>\n",
                            "      <td>0</td>\n",
                            "    </tr>\n",
                            "    <tr>\n",
                            "      <th>1306</th>\n",
                            "      <td>1</td>\n",
                            "    </tr>\n",
                            "    <tr>\n",
                            "      <th>1307</th>\n",
                            "      <td>0</td>\n",
                            "    </tr>\n",
                            "    <tr>\n",
                            "      <th>1308</th>\n",
                            "      <td>0</td>\n",
                            "    </tr>\n",
                            "    <tr>\n",
                            "      <th>1309</th>\n",
                            "      <td>0</td>\n",
                            "    </tr>\n",
                            "  </tbody>\n",
                            "</table>\n",
                            "<p>418 rows × 1 columns</p>\n",
                            "</div>"
                        ]
                    },
                    "metadata": {},
                    "execution_count": 337
                }
            ],
            "metadata": {}
        },
        {
            "cell_type": "code",
            "execution_count": 338,
            "source": [
                "df.to_csv(\"./titanic/predict-2.csv\", index_label = [\"PassengerId\"])"
            ],
            "outputs": [],
            "metadata": {}
        },
        {
            "cell_type": "markdown",
            "source": [
                "結果は0.75119。前回よりわずかに悪い。"
            ],
            "metadata": {}
        },
        {
            "cell_type": "code",
            "execution_count": 341,
            "source": [
                "from sklearn.neighbors import KNeighborsClassifier\n",
                "\n",
                "_X_train = transformer.fit_transform(X_train)\n",
                "knn_clf = KNeighborsClassifier()\n",
                "knn_clf.fit(_X_train, y_train)\n",
                "cross_val_score(knn_clf, _X_train, y_train, cv=3, scoring=\"accuracy\")"
            ],
            "outputs": [
                {
                    "output_type": "stream",
                    "name": "stdout",
                    "text": [
                        "categories ['A' 'B' 'C' 'D' 'E' 'F' 'G' 'nan']\n",
                        "nan_label 7\n"
                    ]
                },
                {
                    "output_type": "stream",
                    "name": "stderr",
                    "text": [
                        "/usr/local/lib/python3.9/site-packages/sklearn/neighbors/_classification.py:179: DataConversionWarning: A column-vector y was passed when a 1d array was expected. Please change the shape of y to (n_samples,), for example using ravel().\n",
                        "  return self._fit(X, y)\n",
                        "/usr/local/lib/python3.9/site-packages/sklearn/neighbors/_classification.py:179: DataConversionWarning: A column-vector y was passed when a 1d array was expected. Please change the shape of y to (n_samples,), for example using ravel().\n",
                        "  return self._fit(X, y)\n",
                        "/usr/local/lib/python3.9/site-packages/sklearn/neighbors/_classification.py:179: DataConversionWarning: A column-vector y was passed when a 1d array was expected. Please change the shape of y to (n_samples,), for example using ravel().\n",
                        "  return self._fit(X, y)\n",
                        "/usr/local/lib/python3.9/site-packages/sklearn/neighbors/_classification.py:179: DataConversionWarning: A column-vector y was passed when a 1d array was expected. Please change the shape of y to (n_samples,), for example using ravel().\n",
                        "  return self._fit(X, y)\n"
                    ]
                },
                {
                    "output_type": "execute_result",
                    "data": {
                        "text/plain": [
                            "array([0.76470588, 0.75527426, 0.80590717])"
                        ]
                    },
                    "metadata": {},
                    "execution_count": 341
                }
            ],
            "metadata": {}
        },
        {
            "cell_type": "code",
            "execution_count": 342,
            "source": [
                "_X_test = transformer.fit_transform(X_test)\n",
                "cross_val_score(clf, _X_test, y_test, cv=3, scoring=\"accuracy\")"
            ],
            "outputs": [
                {
                    "output_type": "stream",
                    "name": "stdout",
                    "text": [
                        "categories ['A' 'B' 'C' 'D' 'E' 'F' 'G' 'T' 'nan']\n",
                        "nan_label 8\n"
                    ]
                },
                {
                    "output_type": "stream",
                    "name": "stderr",
                    "text": [
                        "/usr/local/lib/python3.9/site-packages/sklearn/model_selection/_validation.py:598: DataConversionWarning: A column-vector y was passed when a 1d array was expected. Please change the shape of y to (n_samples,), for example using ravel().\n",
                        "  estimator.fit(X_train, y_train, **fit_params)\n",
                        "/usr/local/lib/python3.9/site-packages/sklearn/model_selection/_validation.py:598: DataConversionWarning: A column-vector y was passed when a 1d array was expected. Please change the shape of y to (n_samples,), for example using ravel().\n",
                        "  estimator.fit(X_train, y_train, **fit_params)\n",
                        "/usr/local/lib/python3.9/site-packages/sklearn/model_selection/_validation.py:598: DataConversionWarning: A column-vector y was passed when a 1d array was expected. Please change the shape of y to (n_samples,), for example using ravel().\n",
                        "  estimator.fit(X_train, y_train, **fit_params)\n"
                    ]
                },
                {
                    "output_type": "execute_result",
                    "data": {
                        "text/plain": [
                            "array([0.8       , 0.78333333, 0.77966102])"
                        ]
                    },
                    "metadata": {},
                    "execution_count": 342
                }
            ],
            "metadata": {}
        },
        {
            "cell_type": "code",
            "execution_count": 345,
            "source": [
                "predict = knn_clf.predict(_titanic_test)\n",
                "predict"
            ],
            "outputs": [
                {
                    "output_type": "execute_result",
                    "data": {
                        "text/plain": [
                            "array([0, 0, 1, 0, 1, 0, 1, 0, 1, 0, 0, 0, 1, 0, 1, 1, 0, 0, 1, 1, 1, 0,\n",
                            "       1, 1, 1, 0, 1, 0, 1, 0, 0, 0, 1, 1, 0, 0, 1, 0, 0, 1, 0, 1, 0, 1,\n",
                            "       1, 0, 1, 0, 1, 1, 1, 0, 1, 1, 0, 0, 0, 0, 0, 1, 0, 0, 0, 1, 1, 1,\n",
                            "       1, 0, 1, 1, 0, 0, 1, 1, 1, 1, 0, 1, 0, 0, 1, 1, 0, 0, 0, 0, 1, 1,\n",
                            "       1, 0, 0, 0, 1, 0, 1, 0, 1, 0, 1, 0, 1, 0, 0, 0, 1, 0, 0, 0, 0, 0,\n",
                            "       0, 1, 1, 1, 1, 0, 0, 1, 1, 1, 1, 0, 0, 0, 0, 1, 0, 1, 0, 0, 0, 1,\n",
                            "       0, 0, 0, 0, 0, 0, 0, 0, 0, 1, 1, 0, 1, 0, 1, 0, 1, 0, 1, 0, 0, 1,\n",
                            "       0, 0, 1, 1, 1, 0, 1, 1, 1, 0, 0, 0, 1, 0, 0, 0, 0, 0, 0, 0, 0, 0,\n",
                            "       0, 1, 1, 1, 0, 1, 1, 0, 1, 0, 0, 0, 0, 0, 0, 1, 1, 0, 0, 0, 1, 1,\n",
                            "       0, 1, 1, 1, 1, 1, 0, 1, 1, 0, 1, 0, 0, 0, 0, 1, 1, 1, 1, 1, 1, 0,\n",
                            "       1, 0, 1, 0, 1, 1, 0, 1, 0, 0, 0, 1, 0, 0, 0, 0, 0, 0, 1, 1, 1, 1,\n",
                            "       1, 0, 0, 1, 1, 1, 1, 0, 1, 0, 1, 0, 0, 0, 0, 0, 1, 0, 0, 0, 1, 1,\n",
                            "       0, 0, 0, 0, 1, 0, 1, 0, 1, 1, 0, 1, 0, 0, 0, 0, 0, 0, 1, 0, 1, 0,\n",
                            "       0, 1, 0, 0, 0, 1, 0, 1, 0, 0, 0, 0, 0, 0, 0, 0, 0, 0, 1, 1, 1, 0,\n",
                            "       1, 0, 0, 0, 0, 1, 1, 1, 1, 0, 0, 0, 0, 0, 1, 1, 1, 0, 1, 1, 0, 0,\n",
                            "       0, 1, 0, 1, 0, 1, 0, 0, 0, 0, 0, 0, 0, 1, 0, 1, 0, 1, 0, 1, 1, 0,\n",
                            "       0, 0, 1, 0, 1, 0, 0, 1, 0, 1, 1, 0, 1, 0, 0, 0, 1, 0, 0, 1, 0, 0,\n",
                            "       1, 1, 0, 0, 0, 0, 0, 0, 0, 1, 0, 0, 0, 0, 0, 0, 1, 1, 0, 0, 0, 1,\n",
                            "       0, 1, 0, 0, 1, 0, 1, 0, 0, 0, 0, 1, 1, 0, 1, 1, 1, 0, 1, 0, 0, 0])"
                        ]
                    },
                    "metadata": {},
                    "execution_count": 345
                }
            ],
            "metadata": {}
        },
        {
            "cell_type": "code",
            "execution_count": 346,
            "source": [
                "id = np.array(titanic_test[\"PassengerId\"]).astype(int)\n",
                "df = pd.DataFrame(predict, id, columns = [\"Survived\"])\n",
                "df.to_csv(\"./titanic/predict-2-2.csv\", index_label = [\"PassengerId\"])"
            ],
            "outputs": [],
            "metadata": {}
        },
        {
            "cell_type": "markdown",
            "source": [
                "この結果は 0.70334 今までより精度悪い。"
            ],
            "metadata": {}
        },
        {
            "cell_type": "markdown",
            "source": [
                "## 前処理見直し\n",
                "- 階数をカテゴリ化したのは正しかったのか？\n",
                "  - A~Gの順になっているが、その順に助かりやすかったのか不明。例えば真ん中の階層が助かりやすい可能性もある。\n",
                "    - 階数と生存の分布をチェックする\n",
                "      - 線形に増減するようであればカテゴリ化したままで良い\n",
                "      - ばらつきが大きいならOneHotEncodingに変更する\n",
                "- 客室番号の数値をそのまま使って良かったのか？\n",
                "  - 階数の情報を抜いたことで、例えばA10とF10のような、本来は遠い客室を似た特徴を持っていると判定されていないか。\n",
                "    - 客室番号と生存の相関をチェックする\n",
                "      - 高ければ不正解の原因の可能性\n",
                "    - 階数を含んだデータ変換をする\n",
                "      - 例えば `階数 * 100 + 部屋番号` のようにして、階数の影響を除外しない数値にする\n",
                "        （階数にかける数値は部屋番号の最大桁数以上）\n",
                "- 外れ値の除外\n",
                "        "
            ],
            "metadata": {}
        },
        {
            "cell_type": "code",
            "execution_count": 354,
            "source": [
                "pd.DataFrame(_X_train)"
            ],
            "outputs": [
                {
                    "output_type": "execute_result",
                    "data": {
                        "text/plain": [
                            "       0         1         2    3    4     5    6\n",
                            "0    3.0    6.9750  1.209287  0.0  1.0  38.0  2.0\n",
                            "1    1.0   30.6958  0.000000  0.0  1.0  38.0  2.0\n",
                            "2    1.0   26.2875  0.425796  0.0  1.0  24.0  4.0\n",
                            "3    3.0    7.8958  0.000000  0.0  1.0  38.0  2.0\n",
                            "4    2.0   13.0000  0.504145  0.0  1.0  38.0  2.0\n",
                            "..   ...       ...       ...  ...  ...   ...  ...\n",
                            "707  2.0   26.0000  1.914429  0.0  1.0  38.0  2.0\n",
                            "708  1.0   27.7208  0.000000  0.0  1.0  38.0  2.0\n",
                            "709  2.0   21.0000 -0.200996  1.0  0.0  38.0  2.0\n",
                            "710  3.0    7.8958 -0.122647  0.0  1.0  38.0  2.0\n",
                            "711  1.0  113.2750 -0.514393  1.0  0.0  36.0  3.0\n",
                            "\n",
                            "[712 rows x 7 columns]"
                        ],
                        "text/html": [
                            "<div>\n",
                            "<style scoped>\n",
                            "    .dataframe tbody tr th:only-of-type {\n",
                            "        vertical-align: middle;\n",
                            "    }\n",
                            "\n",
                            "    .dataframe tbody tr th {\n",
                            "        vertical-align: top;\n",
                            "    }\n",
                            "\n",
                            "    .dataframe thead th {\n",
                            "        text-align: right;\n",
                            "    }\n",
                            "</style>\n",
                            "<table border=\"1\" class=\"dataframe\">\n",
                            "  <thead>\n",
                            "    <tr style=\"text-align: right;\">\n",
                            "      <th></th>\n",
                            "      <th>0</th>\n",
                            "      <th>1</th>\n",
                            "      <th>2</th>\n",
                            "      <th>3</th>\n",
                            "      <th>4</th>\n",
                            "      <th>5</th>\n",
                            "      <th>6</th>\n",
                            "    </tr>\n",
                            "  </thead>\n",
                            "  <tbody>\n",
                            "    <tr>\n",
                            "      <th>0</th>\n",
                            "      <td>3.0</td>\n",
                            "      <td>6.9750</td>\n",
                            "      <td>1.209287</td>\n",
                            "      <td>0.0</td>\n",
                            "      <td>1.0</td>\n",
                            "      <td>38.0</td>\n",
                            "      <td>2.0</td>\n",
                            "    </tr>\n",
                            "    <tr>\n",
                            "      <th>1</th>\n",
                            "      <td>1.0</td>\n",
                            "      <td>30.6958</td>\n",
                            "      <td>0.000000</td>\n",
                            "      <td>0.0</td>\n",
                            "      <td>1.0</td>\n",
                            "      <td>38.0</td>\n",
                            "      <td>2.0</td>\n",
                            "    </tr>\n",
                            "    <tr>\n",
                            "      <th>2</th>\n",
                            "      <td>1.0</td>\n",
                            "      <td>26.2875</td>\n",
                            "      <td>0.425796</td>\n",
                            "      <td>0.0</td>\n",
                            "      <td>1.0</td>\n",
                            "      <td>24.0</td>\n",
                            "      <td>4.0</td>\n",
                            "    </tr>\n",
                            "    <tr>\n",
                            "      <th>3</th>\n",
                            "      <td>3.0</td>\n",
                            "      <td>7.8958</td>\n",
                            "      <td>0.000000</td>\n",
                            "      <td>0.0</td>\n",
                            "      <td>1.0</td>\n",
                            "      <td>38.0</td>\n",
                            "      <td>2.0</td>\n",
                            "    </tr>\n",
                            "    <tr>\n",
                            "      <th>4</th>\n",
                            "      <td>2.0</td>\n",
                            "      <td>13.0000</td>\n",
                            "      <td>0.504145</td>\n",
                            "      <td>0.0</td>\n",
                            "      <td>1.0</td>\n",
                            "      <td>38.0</td>\n",
                            "      <td>2.0</td>\n",
                            "    </tr>\n",
                            "    <tr>\n",
                            "      <th>...</th>\n",
                            "      <td>...</td>\n",
                            "      <td>...</td>\n",
                            "      <td>...</td>\n",
                            "      <td>...</td>\n",
                            "      <td>...</td>\n",
                            "      <td>...</td>\n",
                            "      <td>...</td>\n",
                            "    </tr>\n",
                            "    <tr>\n",
                            "      <th>707</th>\n",
                            "      <td>2.0</td>\n",
                            "      <td>26.0000</td>\n",
                            "      <td>1.914429</td>\n",
                            "      <td>0.0</td>\n",
                            "      <td>1.0</td>\n",
                            "      <td>38.0</td>\n",
                            "      <td>2.0</td>\n",
                            "    </tr>\n",
                            "    <tr>\n",
                            "      <th>708</th>\n",
                            "      <td>1.0</td>\n",
                            "      <td>27.7208</td>\n",
                            "      <td>0.000000</td>\n",
                            "      <td>0.0</td>\n",
                            "      <td>1.0</td>\n",
                            "      <td>38.0</td>\n",
                            "      <td>2.0</td>\n",
                            "    </tr>\n",
                            "    <tr>\n",
                            "      <th>709</th>\n",
                            "      <td>2.0</td>\n",
                            "      <td>21.0000</td>\n",
                            "      <td>-0.200996</td>\n",
                            "      <td>1.0</td>\n",
                            "      <td>0.0</td>\n",
                            "      <td>38.0</td>\n",
                            "      <td>2.0</td>\n",
                            "    </tr>\n",
                            "    <tr>\n",
                            "      <th>710</th>\n",
                            "      <td>3.0</td>\n",
                            "      <td>7.8958</td>\n",
                            "      <td>-0.122647</td>\n",
                            "      <td>0.0</td>\n",
                            "      <td>1.0</td>\n",
                            "      <td>38.0</td>\n",
                            "      <td>2.0</td>\n",
                            "    </tr>\n",
                            "    <tr>\n",
                            "      <th>711</th>\n",
                            "      <td>1.0</td>\n",
                            "      <td>113.2750</td>\n",
                            "      <td>-0.514393</td>\n",
                            "      <td>1.0</td>\n",
                            "      <td>0.0</td>\n",
                            "      <td>36.0</td>\n",
                            "      <td>3.0</td>\n",
                            "    </tr>\n",
                            "  </tbody>\n",
                            "</table>\n",
                            "<p>712 rows × 7 columns</p>\n",
                            "</div>"
                        ]
                    },
                    "metadata": {},
                    "execution_count": 354
                }
            ],
            "metadata": {}
        },
        {
            "cell_type": "code",
            "execution_count": 363,
            "source": [
                "y_train"
            ],
            "outputs": [
                {
                    "output_type": "execute_result",
                    "data": {
                        "text/plain": [
                            "     Survived\n",
                            "129         0\n",
                            "793         0\n",
                            "701         1\n",
                            "601         0\n",
                            "344         0\n",
                            "..        ...\n",
                            "582         0\n",
                            "64          0\n",
                            "41          0\n",
                            "105         0\n",
                            "393         1\n",
                            "\n",
                            "[712 rows x 1 columns]"
                        ],
                        "text/html": [
                            "<div>\n",
                            "<style scoped>\n",
                            "    .dataframe tbody tr th:only-of-type {\n",
                            "        vertical-align: middle;\n",
                            "    }\n",
                            "\n",
                            "    .dataframe tbody tr th {\n",
                            "        vertical-align: top;\n",
                            "    }\n",
                            "\n",
                            "    .dataframe thead th {\n",
                            "        text-align: right;\n",
                            "    }\n",
                            "</style>\n",
                            "<table border=\"1\" class=\"dataframe\">\n",
                            "  <thead>\n",
                            "    <tr style=\"text-align: right;\">\n",
                            "      <th></th>\n",
                            "      <th>Survived</th>\n",
                            "    </tr>\n",
                            "  </thead>\n",
                            "  <tbody>\n",
                            "    <tr>\n",
                            "      <th>129</th>\n",
                            "      <td>0</td>\n",
                            "    </tr>\n",
                            "    <tr>\n",
                            "      <th>793</th>\n",
                            "      <td>0</td>\n",
                            "    </tr>\n",
                            "    <tr>\n",
                            "      <th>701</th>\n",
                            "      <td>1</td>\n",
                            "    </tr>\n",
                            "    <tr>\n",
                            "      <th>601</th>\n",
                            "      <td>0</td>\n",
                            "    </tr>\n",
                            "    <tr>\n",
                            "      <th>344</th>\n",
                            "      <td>0</td>\n",
                            "    </tr>\n",
                            "    <tr>\n",
                            "      <th>...</th>\n",
                            "      <td>...</td>\n",
                            "    </tr>\n",
                            "    <tr>\n",
                            "      <th>582</th>\n",
                            "      <td>0</td>\n",
                            "    </tr>\n",
                            "    <tr>\n",
                            "      <th>64</th>\n",
                            "      <td>0</td>\n",
                            "    </tr>\n",
                            "    <tr>\n",
                            "      <th>41</th>\n",
                            "      <td>0</td>\n",
                            "    </tr>\n",
                            "    <tr>\n",
                            "      <th>105</th>\n",
                            "      <td>0</td>\n",
                            "    </tr>\n",
                            "    <tr>\n",
                            "      <th>393</th>\n",
                            "      <td>1</td>\n",
                            "    </tr>\n",
                            "  </tbody>\n",
                            "</table>\n",
                            "<p>712 rows × 1 columns</p>\n",
                            "</div>"
                        ]
                    },
                    "metadata": {},
                    "execution_count": 363
                }
            ],
            "metadata": {}
        },
        {
            "cell_type": "code",
            "execution_count": 372,
            "source": [
                "_transormer = ColumnTransformer([ \n",
                "  (\"num\", SimpleImputer(strategy=\"median\"), [\"Pclass\", \"Fare\"]),\n",
                "  (\"scale\", scaler_pipeline, [\"Age\"]),\n",
                "  (\"cat\", OneHotEncoder(), [\"Sex\"]),\n",
                "  (\"cabin\", cabin_pipeline, [\"Cabin\"]),\n",
                "])\n",
                "\n",
                "_transformer.fit_transform(train)\n",
                "# pd.DataFrame(_X_train, columns=[\"Pclass\", \"Fare\", \"AgeScaled\", \"Sex1\", \"Sex2\", \"CabinNumber\", \"CabinFloor\"]).join(y_train)\n",
                "# pd.concat([pd.DataFrame(_X_train, columns=[\"Pclass\", \"Fare\", \"AgeScaled\", \"Sex1\", \"Sex2\", \"CabinNumber\", \"CabinFloor\"]), y_train])"
            ],
            "outputs": [
                {
                    "output_type": "execute_result",
                    "data": {
                        "text/plain": [
                            "array([[0., 1.],\n",
                            "       [0., 1.],\n",
                            "       [0., 1.],\n",
                            "       ...,\n",
                            "       [1., 0.],\n",
                            "       [0., 1.],\n",
                            "       [1., 0.]])"
                        ]
                    },
                    "metadata": {},
                    "execution_count": 372
                }
            ],
            "metadata": {}
        },
        {
            "cell_type": "code",
            "execution_count": 373,
            "source": [
                "titanic.plot(kind=\"scatter\", x=\"Survived\", y=\"Fare\", alpha=0.1)"
            ],
            "outputs": [
                {
                    "output_type": "execute_result",
                    "data": {
                        "text/plain": [
                            "<AxesSubplot:xlabel='Survived', ylabel='Fare'>"
                        ]
                    },
                    "metadata": {},
                    "execution_count": 373
                },
                {
                    "output_type": "display_data",
                    "data": {
                        "text/plain": [
                            "<Figure size 432x288 with 1 Axes>"
                        ],
                        "image/png": "[encoded data removed]",
                        "image/svg+xml": "<?xml version=\"1.0\" encoding=\"utf-8\" standalone=\"no\"?>\n<!DOCTYPE svg PUBLIC \"-//W3C//DTD SVG 1.1//EN\"\n  \"http://www.w3.org/Graphics/SVG/1.1/DTD/svg11.dtd\">\n<svg height=\"262.19625pt\" version=\"1.1\" viewBox=\"0 0 388.965625 262.19625\" width=\"388.965625pt\" xmlns=\"http://www.w3.org/2000/svg\" xmlns:xlink=\"http://www.w3.org/1999/xlink\">\n <metadata>\n  <rdf:RDF xmlns:cc=\"http://creativecommons.org/ns#\" xmlns:dc=\"http://purl.org/dc/elements/1.1/\" xmlns:rdf=\"http://www.w3.org/1999/02/22-rdf-syntax-ns#\">\n   <cc:Work>\n    <dc:type rdf:resource=\"http://purl.org/dc/dcmitype/StillImage\"/>\n    <dc:date>2021-07-25T16:45:07.068231</dc:date>\n    <dc:format>image/svg+xml</dc:format>\n    <dc:creator>\n     <cc:Agent>\n      <dc:title>Matplotlib v3.4.2, https://matplotlib.org/</dc:title>\n     </cc:Agent>\n    </dc:creator>\n   </cc:Work>\n  </rdf:RDF>\n </metadata>\n <defs>\n  <style type=\"text/css\">*{stroke-linecap:butt;stroke-linejoin:round;}</style>\n </defs>\n <g id=\"figure_1\">\n  <g id=\"patch_1\">\n   <path d=\"M -0 262.19625 \nL 388.965625 262.19625 \nL 388.965625 0 \nL -0 0 \nz\n\" style=\"fill:none;\"/>\n  </g>\n  <g id=\"axes_1\">\n   <g id=\"patch_2\">\n    <path d=\"M 46.965625 224.64 \nL 381.765625 224.64 \nL 381.765625 7.2 \nL 46.965625 7.2 \nz\n\" style=\"fill:#ffffff;\"/>\n   </g>\n   <g id=\"PathCollection_1\">\n    <defs>\n     <path d=\"M 0 2.236068 \nC 0.593012 2.236068 1.161816 2.000462 1.581139 1.581139 \nC 2.000462 1.161816 2.236068 0.593012 2.236068 0 \nC 2.236068 -0.593012 2.000462 -1.161816 1.581139 -1.581139 \nC 1.161816 -2.000462 0.593012 -2.236068 0 -2.236068 \nC -0.593012 -2.236068 -1.161816 -2.000462 -1.581139 -1.581139 \nC -2.000462 -1.161816 -2.236068 -0.593012 -2.236068 0 \nC -2.236068 0.593012 -2.000462 1.161816 -1.581139 1.581139 \nC -1.161816 2.000462 -0.593012 2.236068 0 2.236068 \nz\n\" id=\"m90fc26b69b\" style=\"stroke:#1f77b4;stroke-opacity:0.1;\"/>\n    </defs>\n    <g clip-path=\"url(#pfe40f8b557)\">\n     <use style=\"fill:#1f77b4;fill-opacity:0.1;stroke:#1f77b4;stroke-opacity:0.1;\" x=\"62.183807\" xlink:href=\"#m90fc26b69b\" y=\"211.959085\"/>\n     <use style=\"fill:#1f77b4;fill-opacity:0.1;stroke:#1f77b4;stroke-opacity:0.1;\" x=\"366.547443\" xlink:href=\"#m90fc26b69b\" y=\"187.253023\"/>\n     <use style=\"fill:#1f77b4;fill-opacity:0.1;stroke:#1f77b4;stroke-opacity:0.1;\" x=\"366.547443\" xlink:href=\"#m90fc26b69b\" y=\"211.698649\"/>\n     <use style=\"fill:#1f77b4;fill-opacity:0.1;stroke:#1f77b4;stroke-opacity:0.1;\" x=\"366.547443\" xlink:href=\"#m90fc26b69b\" y=\"194.268713\"/>\n     <use style=\"fill:#1f77b4;fill-opacity:0.1;stroke:#1f77b4;stroke-opacity:0.1;\" x=\"62.183807\" xlink:href=\"#m90fc26b69b\" y=\"211.65042\"/>\n     <use style=\"fill:#1f77b4;fill-opacity:0.1;stroke:#1f77b4;stroke-opacity:0.1;\" x=\"62.183807\" xlink:href=\"#m90fc26b69b\" y=\"211.492885\"/>\n     <use style=\"fill:#1f77b4;fill-opacity:0.1;stroke:#1f77b4;stroke-opacity:0.1;\" x=\"62.183807\" xlink:href=\"#m90fc26b69b\" y=\"194.746179\"/>\n     <use style=\"fill:#1f77b4;fill-opacity:0.1;stroke:#1f77b4;stroke-opacity:0.1;\" x=\"62.183807\" xlink:href=\"#m90fc26b69b\" y=\"206.624965\"/>\n     <use style=\"fill:#1f77b4;fill-opacity:0.1;stroke:#1f77b4;stroke-opacity:0.1;\" x=\"366.547443\" xlink:href=\"#m90fc26b69b\" y=\"210.460786\"/>\n     <use style=\"fill:#1f77b4;fill-opacity:0.1;stroke:#1f77b4;stroke-opacity:0.1;\" x=\"366.547443\" xlink:href=\"#m90fc26b69b\" y=\"203.154103\"/>\n     <use style=\"fill:#1f77b4;fill-opacity:0.1;stroke:#1f77b4;stroke-opacity:0.1;\" x=\"366.547443\" xlink:href=\"#m90fc26b69b\" y=\"208.312978\"/>\n     <use style=\"fill:#1f77b4;fill-opacity:0.1;stroke:#1f77b4;stroke-opacity:0.1;\" x=\"366.547443\" xlink:href=\"#m90fc26b69b\" y=\"204.512538\"/>\n     <use style=\"fill:#1f77b4;fill-opacity:0.1;stroke:#1f77b4;stroke-opacity:0.1;\" x=\"62.183807\" xlink:href=\"#m90fc26b69b\" y=\"211.65042\"/>\n     <use style=\"fill:#1f77b4;fill-opacity:0.1;stroke:#1f77b4;stroke-opacity:0.1;\" x=\"62.183807\" xlink:href=\"#m90fc26b69b\" y=\"202.689484\"/>\n     <use style=\"fill:#1f77b4;fill-opacity:0.1;stroke:#1f77b4;stroke-opacity:0.1;\" x=\"62.183807\" xlink:href=\"#m90fc26b69b\" y=\"211.725966\"/>\n     <use style=\"fill:#1f77b4;fill-opacity:0.1;stroke:#1f77b4;stroke-opacity:0.1;\" x=\"366.547443\" xlink:href=\"#m90fc26b69b\" y=\"208.58306\"/>\n     <use style=\"fill:#1f77b4;fill-opacity:0.1;stroke:#1f77b4;stroke-opacity:0.1;\" x=\"62.183807\" xlink:href=\"#m90fc26b69b\" y=\"203.519022\"/>\n     <use style=\"fill:#1f77b4;fill-opacity:0.1;stroke:#1f77b4;stroke-opacity:0.1;\" x=\"366.547443\" xlink:href=\"#m90fc26b69b\" y=\"209.740555\"/>\n     <use style=\"fill:#1f77b4;fill-opacity:0.1;stroke:#1f77b4;stroke-opacity:0.1;\" x=\"62.183807\" xlink:href=\"#m90fc26b69b\" y=\"207.811397\"/>\n     <use style=\"fill:#1f77b4;fill-opacity:0.1;stroke:#1f77b4;stroke-opacity:0.1;\" x=\"366.547443\" xlink:href=\"#m90fc26b69b\" y=\"211.968731\"/>\n     <use style=\"fill:#1f77b4;fill-opacity:0.1;stroke:#1f77b4;stroke-opacity:0.1;\" x=\"62.183807\" xlink:href=\"#m90fc26b69b\" y=\"204.724745\"/>\n     <use style=\"fill:#1f77b4;fill-opacity:0.1;stroke:#1f77b4;stroke-opacity:0.1;\" x=\"366.547443\" xlink:href=\"#m90fc26b69b\" y=\"209.740555\"/>\n     <use style=\"fill:#1f77b4;fill-opacity:0.1;stroke:#1f77b4;stroke-opacity:0.1;\" x=\"366.547443\" xlink:href=\"#m90fc26b69b\" y=\"211.658446\"/>\n     <use style=\"fill:#1f77b4;fill-opacity:0.1;stroke:#1f77b4;stroke-opacity:0.1;\" x=\"366.547443\" xlink:href=\"#m90fc26b69b\" y=\"201.059347\"/>\n     <use style=\"fill:#1f77b4;fill-opacity:0.1;stroke:#1f77b4;stroke-opacity:0.1;\" x=\"62.183807\" xlink:href=\"#m90fc26b69b\" y=\"206.624965\"/>\n     <use style=\"fill:#1f77b4;fill-opacity:0.1;stroke:#1f77b4;stroke-opacity:0.1;\" x=\"366.547443\" xlink:href=\"#m90fc26b69b\" y=\"202.646078\"/>\n     <use style=\"fill:#1f77b4;fill-opacity:0.1;stroke:#1f77b4;stroke-opacity:0.1;\" x=\"62.183807\" xlink:href=\"#m90fc26b69b\" y=\"211.968731\"/>\n     <use style=\"fill:#1f77b4;fill-opacity:0.1;stroke:#1f77b4;stroke-opacity:0.1;\" x=\"62.183807\" xlink:href=\"#m90fc26b69b\" y=\"113.282688\"/>\n     <use style=\"fill:#1f77b4;fill-opacity:0.1;stroke:#1f77b4;stroke-opacity:0.1;\" x=\"366.547443\" xlink:href=\"#m90fc26b69b\" y=\"211.71632\"/>\n     <use style=\"fill:#1f77b4;fill-opacity:0.1;stroke:#1f77b4;stroke-opacity:0.1;\" x=\"62.183807\" xlink:href=\"#m90fc26b69b\" y=\"211.709916\"/>\n     <use style=\"fill:#1f77b4;fill-opacity:0.1;stroke:#1f77b4;stroke-opacity:0.1;\" x=\"62.183807\" xlink:href=\"#m90fc26b69b\" y=\"204.060807\"/>\n     <use style=\"fill:#1f77b4;fill-opacity:0.1;stroke:#1f77b4;stroke-opacity:0.1;\" x=\"366.547443\" xlink:href=\"#m90fc26b69b\" y=\"158.224028\"/>\n     <use style=\"fill:#1f77b4;fill-opacity:0.1;stroke:#1f77b4;stroke-opacity:0.1;\" x=\"366.547443\" xlink:href=\"#m90fc26b69b\" y=\"211.76617\"/>\n     <use style=\"fill:#1f77b4;fill-opacity:0.1;stroke:#1f77b4;stroke-opacity:0.1;\" x=\"62.183807\" xlink:href=\"#m90fc26b69b\" y=\"210.705133\"/>\n     <use style=\"fill:#1f77b4;fill-opacity:0.1;stroke:#1f77b4;stroke-opacity:0.1;\" x=\"62.183807\" xlink:href=\"#m90fc26b69b\" y=\"183.052283\"/>\n     <use style=\"fill:#1f77b4;fill-opacity:0.1;stroke:#1f77b4;stroke-opacity:0.1;\" x=\"62.183807\" xlink:href=\"#m90fc26b69b\" y=\"194.693127\"/>\n     <use style=\"fill:#1f77b4;fill-opacity:0.1;stroke:#1f77b4;stroke-opacity:0.1;\" x=\"366.547443\" xlink:href=\"#m90fc26b69b\" y=\"211.967111\"/>\n     <use style=\"fill:#1f77b4;fill-opacity:0.1;stroke:#1f77b4;stroke-opacity:0.1;\" x=\"62.183807\" xlink:href=\"#m90fc26b69b\" y=\"211.65042\"/>\n     <use style=\"fill:#1f77b4;fill-opacity:0.1;stroke:#1f77b4;stroke-opacity:0.1;\" x=\"62.183807\" xlink:href=\"#m90fc26b69b\" y=\"207.811397\"/>\n     <use style=\"fill:#1f77b4;fill-opacity:0.1;stroke:#1f77b4;stroke-opacity:0.1;\" x=\"366.547443\" xlink:href=\"#m90fc26b69b\" y=\"210.418962\"/>\n     <use style=\"fill:#1f77b4;fill-opacity:0.1;stroke:#1f77b4;stroke-opacity:0.1;\" x=\"62.183807\" xlink:href=\"#m90fc26b69b\" y=\"211.10061\"/>\n     <use style=\"fill:#1f77b4;fill-opacity:0.1;stroke:#1f77b4;stroke-opacity:0.1;\" x=\"62.183807\" xlink:href=\"#m90fc26b69b\" y=\"206.653903\"/>\n     <use style=\"fill:#1f77b4;fill-opacity:0.1;stroke:#1f77b4;stroke-opacity:0.1;\" x=\"62.183807\" xlink:href=\"#m90fc26b69b\" y=\"211.709916\"/>\n     <use style=\"fill:#1f77b4;fill-opacity:0.1;stroke:#1f77b4;stroke-opacity:0.1;\" x=\"366.547443\" xlink:href=\"#m90fc26b69b\" y=\"198.7138\"/>\n     <use style=\"fill:#1f77b4;fill-opacity:0.1;stroke:#1f77b4;stroke-opacity:0.1;\" x=\"366.547443\" xlink:href=\"#m90fc26b69b\" y=\"211.71632\"/>\n     <use style=\"fill:#1f77b4;fill-opacity:0.1;stroke:#1f77b4;stroke-opacity:0.1;\" x=\"62.183807\" xlink:href=\"#m90fc26b69b\" y=\"211.65042\"/>\n     <use style=\"fill:#1f77b4;fill-opacity:0.1;stroke:#1f77b4;stroke-opacity:0.1;\" x=\"62.183807\" xlink:href=\"#m90fc26b69b\" y=\"208.775976\"/>\n     <use style=\"fill:#1f77b4;fill-opacity:0.1;stroke:#1f77b4;stroke-opacity:0.1;\" x=\"366.547443\" xlink:href=\"#m90fc26b69b\" y=\"211.76617\"/>\n     <use style=\"fill:#1f77b4;fill-opacity:0.1;stroke:#1f77b4;stroke-opacity:0.1;\" x=\"62.183807\" xlink:href=\"#m90fc26b69b\" y=\"206.391846\"/>\n     <use style=\"fill:#1f77b4;fill-opacity:0.1;stroke:#1f77b4;stroke-opacity:0.1;\" x=\"62.183807\" xlink:href=\"#m90fc26b69b\" y=\"207.888564\"/>\n     <use style=\"fill:#1f77b4;fill-opacity:0.1;stroke:#1f77b4;stroke-opacity:0.1;\" x=\"62.183807\" xlink:href=\"#m90fc26b69b\" y=\"199.443677\"/>\n     <use style=\"fill:#1f77b4;fill-opacity:0.1;stroke:#1f77b4;stroke-opacity:0.1;\" x=\"62.183807\" xlink:href=\"#m90fc26b69b\" y=\"211.746878\"/>\n     <use style=\"fill:#1f77b4;fill-opacity:0.1;stroke:#1f77b4;stroke-opacity:0.1;\" x=\"366.547443\" xlink:href=\"#m90fc26b69b\" y=\"185.151824\"/>\n     <use style=\"fill:#1f77b4;fill-opacity:0.1;stroke:#1f77b4;stroke-opacity:0.1;\" x=\"366.547443\" xlink:href=\"#m90fc26b69b\" y=\"204.724745\"/>\n     <use style=\"fill:#1f77b4;fill-opacity:0.1;stroke:#1f77b4;stroke-opacity:0.1;\" x=\"62.183807\" xlink:href=\"#m90fc26b69b\" y=\"190.842838\"/>\n     <use style=\"fill:#1f77b4;fill-opacity:0.1;stroke:#1f77b4;stroke-opacity:0.1;\" x=\"366.547443\" xlink:href=\"#m90fc26b69b\" y=\"201.059347\"/>\n     <use style=\"fill:#1f77b4;fill-opacity:0.1;stroke:#1f77b4;stroke-opacity:0.1;\" x=\"366.547443\" xlink:href=\"#m90fc26b69b\" y=\"210.705133\"/>\n     <use style=\"fill:#1f77b4;fill-opacity:0.1;stroke:#1f77b4;stroke-opacity:0.1;\" x=\"62.183807\" xlink:href=\"#m90fc26b69b\" y=\"211.967111\"/>\n     <use style=\"fill:#1f77b4;fill-opacity:0.1;stroke:#1f77b4;stroke-opacity:0.1;\" x=\"366.547443\" xlink:href=\"#m90fc26b69b\" y=\"204.04954\"/>\n     <use style=\"fill:#1f77b4;fill-opacity:0.1;stroke:#1f77b4;stroke-opacity:0.1;\" x=\"62.183807\" xlink:href=\"#m90fc26b69b\" y=\"196.660868\"/>\n     <use style=\"fill:#1f77b4;fill-opacity:0.1;stroke:#1f77b4;stroke-opacity:0.1;\" x=\"62.183807\" xlink:href=\"#m90fc26b69b\" y=\"211.967111\"/>\n     <use style=\"fill:#1f77b4;fill-opacity:0.1;stroke:#1f77b4;stroke-opacity:0.1;\" x=\"366.547443\" xlink:href=\"#m90fc26b69b\" y=\"183.889846\"/>\n     <use style=\"fill:#1f77b4;fill-opacity:0.1;stroke:#1f77b4;stroke-opacity:0.1;\" x=\"62.183807\" xlink:href=\"#m90fc26b69b\" y=\"182.549082\"/>\n     <use style=\"fill:#1f77b4;fill-opacity:0.1;stroke:#1f77b4;stroke-opacity:0.1;\" x=\"62.183807\" xlink:href=\"#m90fc26b69b\" y=\"203.991666\"/>\n     <use style=\"fill:#1f77b4;fill-opacity:0.1;stroke:#1f77b4;stroke-opacity:0.1;\" x=\"62.183807\" xlink:href=\"#m90fc26b69b\" y=\"204.060807\"/>\n     <use style=\"fill:#1f77b4;fill-opacity:0.1;stroke:#1f77b4;stroke-opacity:0.1;\" x=\"366.547443\" xlink:href=\"#m90fc26b69b\" y=\"208.874054\"/>\n     <use style=\"fill:#1f77b4;fill-opacity:0.1;stroke:#1f77b4;stroke-opacity:0.1;\" x=\"366.547443\" xlink:href=\"#m90fc26b69b\" y=\"210.705133\"/>\n     <use style=\"fill:#1f77b4;fill-opacity:0.1;stroke:#1f77b4;stroke-opacity:0.1;\" x=\"62.183807\" xlink:href=\"#m90fc26b69b\" y=\"211.608635\"/>\n     <use style=\"fill:#1f77b4;fill-opacity:0.1;stroke:#1f77b4;stroke-opacity:0.1;\" x=\"366.547443\" xlink:href=\"#m90fc26b69b\" y=\"211.698649\"/>\n     <use style=\"fill:#1f77b4;fill-opacity:0.1;stroke:#1f77b4;stroke-opacity:0.1;\" x=\"62.183807\" xlink:href=\"#m90fc26b69b\" y=\"211.414099\"/>\n     <use style=\"fill:#1f77b4;fill-opacity:0.1;stroke:#1f77b4;stroke-opacity:0.1;\" x=\"62.183807\" xlink:href=\"#m90fc26b69b\" y=\"210.705133\"/>\n     <use style=\"fill:#1f77b4;fill-opacity:0.1;stroke:#1f77b4;stroke-opacity:0.1;\" x=\"62.183807\" xlink:href=\"#m90fc26b69b\" y=\"196.660868\"/>\n     <use style=\"fill:#1f77b4;fill-opacity:0.1;stroke:#1f77b4;stroke-opacity:0.1;\" x=\"62.183807\" xlink:href=\"#m90fc26b69b\" y=\"186.397751\"/>\n     <use style=\"fill:#1f77b4;fill-opacity:0.1;stroke:#1f77b4;stroke-opacity:0.1;\" x=\"62.183807\" xlink:href=\"#m90fc26b69b\" y=\"209.179478\"/>\n     <use style=\"fill:#1f77b4;fill-opacity:0.1;stroke:#1f77b4;stroke-opacity:0.1;\" x=\"366.547443\" xlink:href=\"#m90fc26b69b\" y=\"192.958506\"/>\n     <use style=\"fill:#1f77b4;fill-opacity:0.1;stroke:#1f77b4;stroke-opacity:0.1;\" x=\"62.183807\" xlink:href=\"#m90fc26b69b\" y=\"211.804753\"/>\n     <use style=\"fill:#1f77b4;fill-opacity:0.1;stroke:#1f77b4;stroke-opacity:0.1;\" x=\"62.183807\" xlink:href=\"#m90fc26b69b\" y=\"211.709916\"/>\n     <use style=\"fill:#1f77b4;fill-opacity:0.1;stroke:#1f77b4;stroke-opacity:0.1;\" x=\"62.183807\" xlink:href=\"#m90fc26b69b\" y=\"211.65042\"/>\n     <use style=\"fill:#1f77b4;fill-opacity:0.1;stroke:#1f77b4;stroke-opacity:0.1;\" x=\"366.547443\" xlink:href=\"#m90fc26b69b\" y=\"203.567251\"/>\n     <use style=\"fill:#1f77b4;fill-opacity:0.1;stroke:#1f77b4;stroke-opacity:0.1;\" x=\"366.547443\" xlink:href=\"#m90fc26b69b\" y=\"209.943116\"/>\n     <use style=\"fill:#1f77b4;fill-opacity:0.1;stroke:#1f77b4;stroke-opacity:0.1;\" x=\"62.183807\" xlink:href=\"#m90fc26b69b\" y=\"211.28388\"/>\n     <use style=\"fill:#1f77b4;fill-opacity:0.1;stroke:#1f77b4;stroke-opacity:0.1;\" x=\"366.547443\" xlink:href=\"#m90fc26b69b\" y=\"211.090965\"/>\n     <use style=\"fill:#1f77b4;fill-opacity:0.1;stroke:#1f77b4;stroke-opacity:0.1;\" x=\"366.547443\" xlink:href=\"#m90fc26b69b\" y=\"211.751701\"/>\n     <use style=\"fill:#1f77b4;fill-opacity:0.1;stroke:#1f77b4;stroke-opacity:0.1;\" x=\"62.183807\" xlink:href=\"#m90fc26b69b\" y=\"196.583701\"/>\n     <use style=\"fill:#1f77b4;fill-opacity:0.1;stroke:#1f77b4;stroke-opacity:0.1;\" x=\"366.547443\" xlink:href=\"#m90fc26b69b\" y=\"210.705133\"/>\n     <use style=\"fill:#1f77b4;fill-opacity:0.1;stroke:#1f77b4;stroke-opacity:0.1;\" x=\"366.547443\" xlink:href=\"#m90fc26b69b\" y=\"208.640935\"/>\n     <use style=\"fill:#1f77b4;fill-opacity:0.1;stroke:#1f77b4;stroke-opacity:0.1;\" x=\"62.183807\" xlink:href=\"#m90fc26b69b\" y=\"201.493407\"/>\n     <use style=\"fill:#1f77b4;fill-opacity:0.1;stroke:#1f77b4;stroke-opacity:0.1;\" x=\"62.183807\" xlink:href=\"#m90fc26b69b\" y=\"211.65042\"/>\n     <use style=\"fill:#1f77b4;fill-opacity:0.1;stroke:#1f77b4;stroke-opacity:0.1;\" x=\"366.547443\" xlink:href=\"#m90fc26b69b\" y=\"113.282688\"/>\n     <use style=\"fill:#1f77b4;fill-opacity:0.1;stroke:#1f77b4;stroke-opacity:0.1;\" x=\"62.183807\" xlink:href=\"#m90fc26b69b\" y=\"211.65042\"/>\n     <use style=\"fill:#1f77b4;fill-opacity:0.1;stroke:#1f77b4;stroke-opacity:0.1;\" x=\"62.183807\" xlink:href=\"#m90fc26b69b\" y=\"211.65042\"/>\n     <use style=\"fill:#1f77b4;fill-opacity:0.1;stroke:#1f77b4;stroke-opacity:0.1;\" x=\"62.183807\" xlink:href=\"#m90fc26b69b\" y=\"211.725966\"/>\n     <use style=\"fill:#1f77b4;fill-opacity:0.1;stroke:#1f77b4;stroke-opacity:0.1;\" x=\"62.183807\" xlink:href=\"#m90fc26b69b\" y=\"191.153124\"/>\n     <use style=\"fill:#1f77b4;fill-opacity:0.1;stroke:#1f77b4;stroke-opacity:0.1;\" x=\"62.183807\" xlink:href=\"#m90fc26b69b\" y=\"206.817881\"/>\n     <use style=\"fill:#1f77b4;fill-opacity:0.1;stroke:#1f77b4;stroke-opacity:0.1;\" x=\"62.183807\" xlink:href=\"#m90fc26b69b\" y=\"211.959085\"/>\n     <use style=\"fill:#1f77b4;fill-opacity:0.1;stroke:#1f77b4;stroke-opacity:0.1;\" x=\"62.183807\" xlink:href=\"#m90fc26b69b\" y=\"211.65042\"/>\n     <use style=\"fill:#1f77b4;fill-opacity:0.1;stroke:#1f77b4;stroke-opacity:0.1;\" x=\"62.183807\" xlink:href=\"#m90fc26b69b\" y=\"201.385683\"/>\n     <use style=\"fill:#1f77b4;fill-opacity:0.1;stroke:#1f77b4;stroke-opacity:0.1;\" x=\"366.547443\" xlink:href=\"#m90fc26b69b\" y=\"190.310738\"/>\n     <use style=\"fill:#1f77b4;fill-opacity:0.1;stroke:#1f77b4;stroke-opacity:0.1;\" x=\"366.547443\" xlink:href=\"#m90fc26b69b\" y=\"205.88224\"/>\n     <use style=\"fill:#1f77b4;fill-opacity:0.1;stroke:#1f77b4;stroke-opacity:0.1;\" x=\"62.183807\" xlink:href=\"#m90fc26b69b\" y=\"204.724745\"/>\n     <use style=\"fill:#1f77b4;fill-opacity:0.1;stroke:#1f77b4;stroke-opacity:0.1;\" x=\"62.183807\" xlink:href=\"#m90fc26b69b\" y=\"211.709916\"/>\n     <use style=\"fill:#1f77b4;fill-opacity:0.1;stroke:#1f77b4;stroke-opacity:0.1;\" x=\"62.183807\" xlink:href=\"#m90fc26b69b\" y=\"211.709916\"/>\n     <use style=\"fill:#1f77b4;fill-opacity:0.1;stroke:#1f77b4;stroke-opacity:0.1;\" x=\"62.183807\" xlink:href=\"#m90fc26b69b\" y=\"184.936414\"/>\n     <use style=\"fill:#1f77b4;fill-opacity:0.1;stroke:#1f77b4;stroke-opacity:0.1;\" x=\"62.183807\" xlink:href=\"#m90fc26b69b\" y=\"211.417301\"/>\n     <use style=\"fill:#1f77b4;fill-opacity:0.1;stroke:#1f77b4;stroke-opacity:0.1;\" x=\"62.183807\" xlink:href=\"#m90fc26b69b\" y=\"211.698649\"/>\n     <use style=\"fill:#1f77b4;fill-opacity:0.1;stroke:#1f77b4;stroke-opacity:0.1;\" x=\"62.183807\" xlink:href=\"#m90fc26b69b\" y=\"211.709916\"/>\n     <use style=\"fill:#1f77b4;fill-opacity:0.1;stroke:#1f77b4;stroke-opacity:0.1;\" x=\"366.547443\" xlink:href=\"#m90fc26b69b\" y=\"211.804753\"/>\n     <use style=\"fill:#1f77b4;fill-opacity:0.1;stroke:#1f77b4;stroke-opacity:0.1;\" x=\"366.547443\" xlink:href=\"#m90fc26b69b\" y=\"211.756524\"/>\n     <use style=\"fill:#1f77b4;fill-opacity:0.1;stroke:#1f77b4;stroke-opacity:0.1;\" x=\"62.183807\" xlink:href=\"#m90fc26b69b\" y=\"211.709916\"/>\n     <use style=\"fill:#1f77b4;fill-opacity:0.1;stroke:#1f77b4;stroke-opacity:0.1;\" x=\"366.547443\" xlink:href=\"#m90fc26b69b\" y=\"205.438534\"/>\n     <use style=\"fill:#1f77b4;fill-opacity:0.1;stroke:#1f77b4;stroke-opacity:0.1;\" x=\"62.183807\" xlink:href=\"#m90fc26b69b\" y=\"194.693127\"/>\n     <use style=\"fill:#1f77b4;fill-opacity:0.1;stroke:#1f77b4;stroke-opacity:0.1;\" x=\"62.183807\" xlink:href=\"#m90fc26b69b\" y=\"209.179478\"/>\n     <use style=\"fill:#1f77b4;fill-opacity:0.1;stroke:#1f77b4;stroke-opacity:0.1;\" x=\"62.183807\" xlink:href=\"#m90fc26b69b\" y=\"211.65042\"/>\n     <use style=\"fill:#1f77b4;fill-opacity:0.1;stroke:#1f77b4;stroke-opacity:0.1;\" x=\"62.183807\" xlink:href=\"#m90fc26b69b\" y=\"210.965569\"/>\n     <use style=\"fill:#1f77b4;fill-opacity:0.1;stroke:#1f77b4;stroke-opacity:0.1;\" x=\"62.183807\" xlink:href=\"#m90fc26b69b\" y=\"209.177897\"/>\n     <use style=\"fill:#1f77b4;fill-opacity:0.1;stroke:#1f77b4;stroke-opacity:0.1;\" x=\"62.183807\" xlink:href=\"#m90fc26b69b\" y=\"211.698649\"/>\n     <use style=\"fill:#1f77b4;fill-opacity:0.1;stroke:#1f77b4;stroke-opacity:0.1;\" x=\"62.183807\" xlink:href=\"#m90fc26b69b\" y=\"211.76617\"/>\n     <use style=\"fill:#1f77b4;fill-opacity:0.1;stroke:#1f77b4;stroke-opacity:0.1;\" x=\"62.183807\" xlink:href=\"#m90fc26b69b\" y=\"206.653903\"/>\n     <use style=\"fill:#1f77b4;fill-opacity:0.1;stroke:#1f77b4;stroke-opacity:0.1;\" x=\"62.183807\" xlink:href=\"#m90fc26b69b\" y=\"119.25505\"/>\n     <use style=\"fill:#1f77b4;fill-opacity:0.1;stroke:#1f77b4;stroke-opacity:0.1;\" x=\"62.183807\" xlink:href=\"#m90fc26b69b\" y=\"202.689484\"/>\n     <use style=\"fill:#1f77b4;fill-opacity:0.1;stroke:#1f77b4;stroke-opacity:0.1;\" x=\"62.183807\" xlink:href=\"#m90fc26b69b\" y=\"186.397751\"/>\n     <use style=\"fill:#1f77b4;fill-opacity:0.1;stroke:#1f77b4;stroke-opacity:0.1;\" x=\"62.183807\" xlink:href=\"#m90fc26b69b\" y=\"211.65042\"/>\n     <use style=\"fill:#1f77b4;fill-opacity:0.1;stroke:#1f77b4;stroke-opacity:0.1;\" x=\"62.183807\" xlink:href=\"#m90fc26b69b\" y=\"203.154103\"/>\n     <use style=\"fill:#1f77b4;fill-opacity:0.1;stroke:#1f77b4;stroke-opacity:0.1;\" x=\"366.547443\" xlink:href=\"#m90fc26b69b\" y=\"209.740555\"/>\n     <use style=\"fill:#1f77b4;fill-opacity:0.1;stroke:#1f77b4;stroke-opacity:0.1;\" x=\"62.183807\" xlink:href=\"#m90fc26b69b\" y=\"184.936414\"/>\n     <use style=\"fill:#1f77b4;fill-opacity:0.1;stroke:#1f77b4;stroke-opacity:0.1;\" x=\"366.547443\" xlink:href=\"#m90fc26b69b\" y=\"210.418962\"/>\n     <use style=\"fill:#1f77b4;fill-opacity:0.1;stroke:#1f77b4;stroke-opacity:0.1;\" x=\"62.183807\" xlink:href=\"#m90fc26b69b\" y=\"211.76617\"/>\n     <use style=\"fill:#1f77b4;fill-opacity:0.1;stroke:#1f77b4;stroke-opacity:0.1;\" x=\"366.547443\" xlink:href=\"#m90fc26b69b\" y=\"212.000871\"/>\n     <use style=\"fill:#1f77b4;fill-opacity:0.1;stroke:#1f77b4;stroke-opacity:0.1;\" x=\"366.547443\" xlink:href=\"#m90fc26b69b\" y=\"206.129828\"/>\n     <use style=\"fill:#1f77b4;fill-opacity:0.1;stroke:#1f77b4;stroke-opacity:0.1;\" x=\"62.183807\" xlink:href=\"#m90fc26b69b\" y=\"212.065189\"/>\n     <use style=\"fill:#1f77b4;fill-opacity:0.1;stroke:#1f77b4;stroke-opacity:0.1;\" x=\"62.183807\" xlink:href=\"#m90fc26b69b\" y=\"211.709916\"/>\n     <use style=\"fill:#1f77b4;fill-opacity:0.1;stroke:#1f77b4;stroke-opacity:0.1;\" x=\"62.183807\" xlink:href=\"#m90fc26b69b\" y=\"212.036252\"/>\n     <use style=\"fill:#1f77b4;fill-opacity:0.1;stroke:#1f77b4;stroke-opacity:0.1;\" x=\"62.183807\" xlink:href=\"#m90fc26b69b\" y=\"209.161807\"/>\n     <use style=\"fill:#1f77b4;fill-opacity:0.1;stroke:#1f77b4;stroke-opacity:0.1;\" x=\"366.547443\" xlink:href=\"#m90fc26b69b\" y=\"204.724745\"/>\n     <use style=\"fill:#1f77b4;fill-opacity:0.1;stroke:#1f77b4;stroke-opacity:0.1;\" x=\"62.183807\" xlink:href=\"#m90fc26b69b\" y=\"209.740555\"/>\n     <use style=\"fill:#1f77b4;fill-opacity:0.1;stroke:#1f77b4;stroke-opacity:0.1;\" x=\"62.183807\" xlink:href=\"#m90fc26b69b\" y=\"208.951221\"/>\n     <use style=\"fill:#1f77b4;fill-opacity:0.1;stroke:#1f77b4;stroke-opacity:0.1;\" x=\"366.547443\" xlink:href=\"#m90fc26b69b\" y=\"204.615439\"/>\n     <use style=\"fill:#1f77b4;fill-opacity:0.1;stroke:#1f77b4;stroke-opacity:0.1;\" x=\"62.183807\" xlink:href=\"#m90fc26b69b\" y=\"194.268713\"/>\n     <use style=\"fill:#1f77b4;fill-opacity:0.1;stroke:#1f77b4;stroke-opacity:0.1;\" x=\"62.183807\" xlink:href=\"#m90fc26b69b\" y=\"211.200271\"/>\n     <use style=\"fill:#1f77b4;fill-opacity:0.1;stroke:#1f77b4;stroke-opacity:0.1;\" x=\"62.183807\" xlink:href=\"#m90fc26b69b\" y=\"184.198511\"/>\n     <use style=\"fill:#1f77b4;fill-opacity:0.1;stroke:#1f77b4;stroke-opacity:0.1;\" x=\"62.183807\" xlink:href=\"#m90fc26b69b\" y=\"208.874054\"/>\n     <use style=\"fill:#1f77b4;fill-opacity:0.1;stroke:#1f77b4;stroke-opacity:0.1;\" x=\"366.547443\" xlink:href=\"#m90fc26b69b\" y=\"211.76617\"/>\n     <use style=\"fill:#1f77b4;fill-opacity:0.1;stroke:#1f77b4;stroke-opacity:0.1;\" x=\"366.547443\" xlink:href=\"#m90fc26b69b\" y=\"208.640935\"/>\n     <use style=\"fill:#1f77b4;fill-opacity:0.1;stroke:#1f77b4;stroke-opacity:0.1;\" x=\"62.183807\" xlink:href=\"#m90fc26b69b\" y=\"212.152001\"/>\n     <use style=\"fill:#1f77b4;fill-opacity:0.1;stroke:#1f77b4;stroke-opacity:0.1;\" x=\"62.183807\" xlink:href=\"#m90fc26b69b\" y=\"210.319302\"/>\n     <use style=\"fill:#1f77b4;fill-opacity:0.1;stroke:#1f77b4;stroke-opacity:0.1;\" x=\"62.183807\" xlink:href=\"#m90fc26b69b\" y=\"200.577057\"/>\n     <use style=\"fill:#1f77b4;fill-opacity:0.1;stroke:#1f77b4;stroke-opacity:0.1;\" x=\"366.547443\" xlink:href=\"#m90fc26b69b\" y=\"211.748499\"/>\n     <use style=\"fill:#1f77b4;fill-opacity:0.1;stroke:#1f77b4;stroke-opacity:0.1;\" x=\"62.183807\" xlink:href=\"#m90fc26b69b\" y=\"201.493407\"/>\n     <use style=\"fill:#1f77b4;fill-opacity:0.1;stroke:#1f77b4;stroke-opacity:0.1;\" x=\"62.183807\" xlink:href=\"#m90fc26b69b\" y=\"204.724745\"/>\n     <use style=\"fill:#1f77b4;fill-opacity:0.1;stroke:#1f77b4;stroke-opacity:0.1;\" x=\"62.183807\" xlink:href=\"#m90fc26b69b\" y=\"209.740555\"/>\n     <use style=\"fill:#1f77b4;fill-opacity:0.1;stroke:#1f77b4;stroke-opacity:0.1;\" x=\"62.183807\" xlink:href=\"#m90fc26b69b\" y=\"209.923825\"/>\n     <use style=\"fill:#1f77b4;fill-opacity:0.1;stroke:#1f77b4;stroke-opacity:0.1;\" x=\"366.547443\" xlink:href=\"#m90fc26b69b\" y=\"189.059988\"/>\n     <use style=\"fill:#1f77b4;fill-opacity:0.1;stroke:#1f77b4;stroke-opacity:0.1;\" x=\"62.183807\" xlink:href=\"#m90fc26b69b\" y=\"211.65042\"/>\n     <use style=\"fill:#1f77b4;fill-opacity:0.1;stroke:#1f77b4;stroke-opacity:0.1;\" x=\"62.183807\" xlink:href=\"#m90fc26b69b\" y=\"209.161807\"/>\n     <use style=\"fill:#1f77b4;fill-opacity:0.1;stroke:#1f77b4;stroke-opacity:0.1;\" x=\"62.183807\" xlink:href=\"#m90fc26b69b\" y=\"211.934971\"/>\n     <use style=\"fill:#1f77b4;fill-opacity:0.1;stroke:#1f77b4;stroke-opacity:0.1;\" x=\"62.183807\" xlink:href=\"#m90fc26b69b\" y=\"191.074337\"/>\n     <use style=\"fill:#1f77b4;fill-opacity:0.1;stroke:#1f77b4;stroke-opacity:0.1;\" x=\"366.547443\" xlink:href=\"#m90fc26b69b\" y=\"211.772613\"/>\n     <use style=\"fill:#1f77b4;fill-opacity:0.1;stroke:#1f77b4;stroke-opacity:0.1;\" x=\"62.183807\" xlink:href=\"#m90fc26b69b\" y=\"211.65042\"/>\n     <use style=\"fill:#1f77b4;fill-opacity:0.1;stroke:#1f77b4;stroke-opacity:0.1;\" x=\"62.183807\" xlink:href=\"#m90fc26b69b\" y=\"211.414099\"/>\n     <use style=\"fill:#1f77b4;fill-opacity:0.1;stroke:#1f77b4;stroke-opacity:0.1;\" x=\"62.183807\" xlink:href=\"#m90fc26b69b\" y=\"187.921785\"/>\n     <use style=\"fill:#1f77b4;fill-opacity:0.1;stroke:#1f77b4;stroke-opacity:0.1;\" x=\"62.183807\" xlink:href=\"#m90fc26b69b\" y=\"208.544477\"/>\n     <use style=\"fill:#1f77b4;fill-opacity:0.1;stroke:#1f77b4;stroke-opacity:0.1;\" x=\"366.547443\" xlink:href=\"#m90fc26b69b\" y=\"208.679518\"/>\n     <use style=\"fill:#1f77b4;fill-opacity:0.1;stroke:#1f77b4;stroke-opacity:0.1;\" x=\"62.183807\" xlink:href=\"#m90fc26b69b\" y=\"211.756524\"/>\n     <use style=\"fill:#1f77b4;fill-opacity:0.1;stroke:#1f77b4;stroke-opacity:0.1;\" x=\"62.183807\" xlink:href=\"#m90fc26b69b\" y=\"211.414099\"/>\n     <use style=\"fill:#1f77b4;fill-opacity:0.1;stroke:#1f77b4;stroke-opacity:0.1;\" x=\"62.183807\" xlink:href=\"#m90fc26b69b\" y=\"199.443677\"/>\n     <use style=\"fill:#1f77b4;fill-opacity:0.1;stroke:#1f77b4;stroke-opacity:0.1;\" x=\"366.547443\" xlink:href=\"#m90fc26b69b\" y=\"206.837173\"/>\n     <use style=\"fill:#1f77b4;fill-opacity:0.1;stroke:#1f77b4;stroke-opacity:0.1;\" x=\"366.547443\" xlink:href=\"#m90fc26b69b\" y=\"193.535633\"/>\n     <use style=\"fill:#1f77b4;fill-opacity:0.1;stroke:#1f77b4;stroke-opacity:0.1;\" x=\"62.183807\" xlink:href=\"#m90fc26b69b\" y=\"203.991666\"/>\n     <use style=\"fill:#1f77b4;fill-opacity:0.1;stroke:#1f77b4;stroke-opacity:0.1;\" x=\"62.183807\" xlink:href=\"#m90fc26b69b\" y=\"204.753683\"/>\n     <use style=\"fill:#1f77b4;fill-opacity:0.1;stroke:#1f77b4;stroke-opacity:0.1;\" x=\"62.183807\" xlink:href=\"#m90fc26b69b\" y=\"192.958506\"/>\n     <use style=\"fill:#1f77b4;fill-opacity:0.1;stroke:#1f77b4;stroke-opacity:0.1;\" x=\"62.183807\" xlink:href=\"#m90fc26b69b\" y=\"201.831009\"/>\n     <use style=\"fill:#1f77b4;fill-opacity:0.1;stroke:#1f77b4;stroke-opacity:0.1;\" x=\"62.183807\" xlink:href=\"#m90fc26b69b\" y=\"203.519022\"/>\n     <use style=\"fill:#1f77b4;fill-opacity:0.1;stroke:#1f77b4;stroke-opacity:0.1;\" x=\"366.547443\" xlink:href=\"#m90fc26b69b\" y=\"210.460786\"/>\n     <use style=\"fill:#1f77b4;fill-opacity:0.1;stroke:#1f77b4;stroke-opacity:0.1;\" x=\"62.183807\" xlink:href=\"#m90fc26b69b\" y=\"211.698649\"/>\n     <use style=\"fill:#1f77b4;fill-opacity:0.1;stroke:#1f77b4;stroke-opacity:0.1;\" x=\"62.183807\" xlink:href=\"#m90fc26b69b\" y=\"202.912958\"/>\n     <use style=\"fill:#1f77b4;fill-opacity:0.1;stroke:#1f77b4;stroke-opacity:0.1;\" x=\"62.183807\" xlink:href=\"#m90fc26b69b\" y=\"211.725966\"/>\n     <use style=\"fill:#1f77b4;fill-opacity:0.1;stroke:#1f77b4;stroke-opacity:0.1;\" x=\"62.183807\" xlink:href=\"#m90fc26b69b\" y=\"204.930509\"/>\n     <use style=\"fill:#1f77b4;fill-opacity:0.1;stroke:#1f77b4;stroke-opacity:0.1;\" x=\"62.183807\" xlink:href=\"#m90fc26b69b\" y=\"203.678178\"/>\n     <use style=\"fill:#1f77b4;fill-opacity:0.1;stroke:#1f77b4;stroke-opacity:0.1;\" x=\"62.183807\" xlink:href=\"#m90fc26b69b\" y=\"209.740555\"/>\n     <use style=\"fill:#1f77b4;fill-opacity:0.1;stroke:#1f77b4;stroke-opacity:0.1;\" x=\"62.183807\" xlink:href=\"#m90fc26b69b\" y=\"214.756364\"/>\n     <use style=\"fill:#1f77b4;fill-opacity:0.1;stroke:#1f77b4;stroke-opacity:0.1;\" x=\"62.183807\" xlink:href=\"#m90fc26b69b\" y=\"187.921785\"/>\n     <use style=\"fill:#1f77b4;fill-opacity:0.1;stroke:#1f77b4;stroke-opacity:0.1;\" x=\"62.183807\" xlink:href=\"#m90fc26b69b\" y=\"208.9496\"/>\n     <use style=\"fill:#1f77b4;fill-opacity:0.1;stroke:#1f77b4;stroke-opacity:0.1;\" x=\"62.183807\" xlink:href=\"#m90fc26b69b\" y=\"202.646078\"/>\n     <use style=\"fill:#1f77b4;fill-opacity:0.1;stroke:#1f77b4;stroke-opacity:0.1;\" x=\"366.547443\" xlink:href=\"#m90fc26b69b\" y=\"199.708936\"/>\n     <use style=\"fill:#1f77b4;fill-opacity:0.1;stroke:#1f77b4;stroke-opacity:0.1;\" x=\"366.547443\" xlink:href=\"#m90fc26b69b\" y=\"206.258426\"/>\n     <use style=\"fill:#1f77b4;fill-opacity:0.1;stroke:#1f77b4;stroke-opacity:0.1;\" x=\"62.183807\" xlink:href=\"#m90fc26b69b\" y=\"195.46479\"/>\n     <use style=\"fill:#1f77b4;fill-opacity:0.1;stroke:#1f77b4;stroke-opacity:0.1;\" x=\"366.547443\" xlink:href=\"#m90fc26b69b\" y=\"208.775976\"/>\n     <use style=\"fill:#1f77b4;fill-opacity:0.1;stroke:#1f77b4;stroke-opacity:0.1;\" x=\"366.547443\" xlink:href=\"#m90fc26b69b\" y=\"204.512538\"/>\n     <use style=\"fill:#1f77b4;fill-opacity:0.1;stroke:#1f77b4;stroke-opacity:0.1;\" x=\"62.183807\" xlink:href=\"#m90fc26b69b\" y=\"208.775976\"/>\n     <use style=\"fill:#1f77b4;fill-opacity:0.1;stroke:#1f77b4;stroke-opacity:0.1;\" x=\"62.183807\" xlink:href=\"#m90fc26b69b\" y=\"211.709916\"/>\n     <use style=\"fill:#1f77b4;fill-opacity:0.1;stroke:#1f77b4;stroke-opacity:0.1;\" x=\"366.547443\" xlink:href=\"#m90fc26b69b\" y=\"209.740555\"/>\n     <use style=\"fill:#1f77b4;fill-opacity:0.1;stroke:#1f77b4;stroke-opacity:0.1;\" x=\"62.183807\" xlink:href=\"#m90fc26b69b\" y=\"209.740555\"/>\n     <use style=\"fill:#1f77b4;fill-opacity:0.1;stroke:#1f77b4;stroke-opacity:0.1;\" x=\"366.547443\" xlink:href=\"#m90fc26b69b\" y=\"211.725966\"/>\n     <use style=\"fill:#1f77b4;fill-opacity:0.1;stroke:#1f77b4;stroke-opacity:0.1;\" x=\"366.547443\" xlink:href=\"#m90fc26b69b\" y=\"204.724745\"/>\n     <use style=\"fill:#1f77b4;fill-opacity:0.1;stroke:#1f77b4;stroke-opacity:0.1;\" x=\"366.547443\" xlink:href=\"#m90fc26b69b\" y=\"204.060807\"/>\n     <use style=\"fill:#1f77b4;fill-opacity:0.1;stroke:#1f77b4;stroke-opacity:0.1;\" x=\"366.547443\" xlink:href=\"#m90fc26b69b\" y=\"158.224028\"/>\n     <use style=\"fill:#1f77b4;fill-opacity:0.1;stroke:#1f77b4;stroke-opacity:0.1;\" x=\"62.183807\" xlink:href=\"#m90fc26b69b\" y=\"211.76617\"/>\n     <use style=\"fill:#1f77b4;fill-opacity:0.1;stroke:#1f77b4;stroke-opacity:0.1;\" x=\"62.183807\" xlink:href=\"#m90fc26b69b\" y=\"211.513759\"/>\n     <use style=\"fill:#1f77b4;fill-opacity:0.1;stroke:#1f77b4;stroke-opacity:0.1;\" x=\"366.547443\" xlink:href=\"#m90fc26b69b\" y=\"211.76617\"/>\n     <use style=\"fill:#1f77b4;fill-opacity:0.1;stroke:#1f77b4;stroke-opacity:0.1;\" x=\"62.183807\" xlink:href=\"#m90fc26b69b\" y=\"209.740555\"/>\n     <use style=\"fill:#1f77b4;fill-opacity:0.1;stroke:#1f77b4;stroke-opacity:0.1;\" x=\"62.183807\" xlink:href=\"#m90fc26b69b\" y=\"211.090965\"/>\n     <use style=\"fill:#1f77b4;fill-opacity:0.1;stroke:#1f77b4;stroke-opacity:0.1;\" x=\"62.183807\" xlink:href=\"#m90fc26b69b\" y=\"187.921785\"/>\n     <use style=\"fill:#1f77b4;fill-opacity:0.1;stroke:#1f77b4;stroke-opacity:0.1;\" x=\"62.183807\" xlink:href=\"#m90fc26b69b\" y=\"212.25008\"/>\n     <use style=\"fill:#1f77b4;fill-opacity:0.1;stroke:#1f77b4;stroke-opacity:0.1;\" x=\"62.183807\" xlink:href=\"#m90fc26b69b\" y=\"211.968731\"/>\n     <use style=\"fill:#1f77b4;fill-opacity:0.1;stroke:#1f77b4;stroke-opacity:0.1;\" x=\"366.547443\" xlink:href=\"#m90fc26b69b\" y=\"211.65042\"/>\n     <use style=\"fill:#1f77b4;fill-opacity:0.1;stroke:#1f77b4;stroke-opacity:0.1;\" x=\"62.183807\" xlink:href=\"#m90fc26b69b\" y=\"210.719602\"/>\n     <use style=\"fill:#1f77b4;fill-opacity:0.1;stroke:#1f77b4;stroke-opacity:0.1;\" x=\"62.183807\" xlink:href=\"#m90fc26b69b\" y=\"208.640935\"/>\n     <use style=\"fill:#1f77b4;fill-opacity:0.1;stroke:#1f77b4;stroke-opacity:0.1;\" x=\"366.547443\" xlink:href=\"#m90fc26b69b\" y=\"207.507555\"/>\n     <use style=\"fill:#1f77b4;fill-opacity:0.1;stroke:#1f77b4;stroke-opacity:0.1;\" x=\"366.547443\" xlink:href=\"#m90fc26b69b\" y=\"211.76617\"/>\n     <use style=\"fill:#1f77b4;fill-opacity:0.1;stroke:#1f77b4;stroke-opacity:0.1;\" x=\"366.547443\" xlink:href=\"#m90fc26b69b\" y=\"202.795588\"/>\n     <use style=\"fill:#1f77b4;fill-opacity:0.1;stroke:#1f77b4;stroke-opacity:0.1;\" x=\"62.183807\" xlink:href=\"#m90fc26b69b\" y=\"212.036252\"/>\n     <use style=\"fill:#1f77b4;fill-opacity:0.1;stroke:#1f77b4;stroke-opacity:0.1;\" x=\"366.547443\" xlink:href=\"#m90fc26b69b\" y=\"206.653903\"/>\n     <use style=\"fill:#1f77b4;fill-opacity:0.1;stroke:#1f77b4;stroke-opacity:0.1;\" x=\"62.183807\" xlink:href=\"#m90fc26b69b\" y=\"211.959085\"/>\n     <use style=\"fill:#1f77b4;fill-opacity:0.1;stroke:#1f77b4;stroke-opacity:0.1;\" x=\"62.183807\" xlink:href=\"#m90fc26b69b\" y=\"209.740555\"/>\n     <use style=\"fill:#1f77b4;fill-opacity:0.1;stroke:#1f77b4;stroke-opacity:0.1;\" x=\"62.183807\" xlink:href=\"#m90fc26b69b\" y=\"211.76617\"/>\n     <use style=\"fill:#1f77b4;fill-opacity:0.1;stroke:#1f77b4;stroke-opacity:0.1;\" x=\"366.547443\" xlink:href=\"#m90fc26b69b\" y=\"171.051304\"/>\n     <use style=\"fill:#1f77b4;fill-opacity:0.1;stroke:#1f77b4;stroke-opacity:0.1;\" x=\"366.547443\" xlink:href=\"#m90fc26b69b\" y=\"211.698649\"/>\n     <use style=\"fill:#1f77b4;fill-opacity:0.1;stroke:#1f77b4;stroke-opacity:0.1;\" x=\"62.183807\" xlink:href=\"#m90fc26b69b\" y=\"204.338914\"/>\n     <use style=\"fill:#1f77b4;fill-opacity:0.1;stroke:#1f77b4;stroke-opacity:0.1;\" x=\"366.547443\" xlink:href=\"#m90fc26b69b\" y=\"185.320625\"/>\n     <use style=\"fill:#1f77b4;fill-opacity:0.1;stroke:#1f77b4;stroke-opacity:0.1;\" x=\"62.183807\" xlink:href=\"#m90fc26b69b\" y=\"210.705133\"/>\n     <use style=\"fill:#1f77b4;fill-opacity:0.1;stroke:#1f77b4;stroke-opacity:0.1;\" x=\"366.547443\" xlink:href=\"#m90fc26b69b\" y=\"211.65042\"/>\n     <use style=\"fill:#1f77b4;fill-opacity:0.1;stroke:#1f77b4;stroke-opacity:0.1;\" x=\"62.183807\" xlink:href=\"#m90fc26b69b\" y=\"209.740555\"/>\n     <use style=\"fill:#1f77b4;fill-opacity:0.1;stroke:#1f77b4;stroke-opacity:0.1;\" x=\"62.183807\" xlink:href=\"#m90fc26b69b\" y=\"211.65042\"/>\n     <use style=\"fill:#1f77b4;fill-opacity:0.1;stroke:#1f77b4;stroke-opacity:0.1;\" x=\"62.183807\" xlink:href=\"#m90fc26b69b\" y=\"211.709916\"/>\n     <use style=\"fill:#1f77b4;fill-opacity:0.1;stroke:#1f77b4;stroke-opacity:0.1;\" x=\"366.547443\" xlink:href=\"#m90fc26b69b\" y=\"180.031532\"/>\n     <use style=\"fill:#1f77b4;fill-opacity:0.1;stroke:#1f77b4;stroke-opacity:0.1;\" x=\"62.183807\" xlink:href=\"#m90fc26b69b\" y=\"211.148839\"/>\n     <use style=\"fill:#1f77b4;fill-opacity:0.1;stroke:#1f77b4;stroke-opacity:0.1;\" x=\"366.547443\" xlink:href=\"#m90fc26b69b\" y=\"210.705133\"/>\n     <use style=\"fill:#1f77b4;fill-opacity:0.1;stroke:#1f77b4;stroke-opacity:0.1;\" x=\"62.183807\" xlink:href=\"#m90fc26b69b\" y=\"211.959085\"/>\n     <use style=\"fill:#1f77b4;fill-opacity:0.1;stroke:#1f77b4;stroke-opacity:0.1;\" x=\"62.183807\" xlink:href=\"#m90fc26b69b\" y=\"209.740555\"/>\n     <use style=\"fill:#1f77b4;fill-opacity:0.1;stroke:#1f77b4;stroke-opacity:0.1;\" x=\"62.183807\" xlink:href=\"#m90fc26b69b\" y=\"204.930509\"/>\n     <use style=\"fill:#1f77b4;fill-opacity:0.1;stroke:#1f77b4;stroke-opacity:0.1;\" x=\"366.547443\" xlink:href=\"#m90fc26b69b\" y=\"182.549082\"/>\n     <use style=\"fill:#1f77b4;fill-opacity:0.1;stroke:#1f77b4;stroke-opacity:0.1;\" x=\"62.183807\" xlink:href=\"#m90fc26b69b\" y=\"211.756524\"/>\n     <use style=\"fill:#1f77b4;fill-opacity:0.1;stroke:#1f77b4;stroke-opacity:0.1;\" x=\"62.183807\" xlink:href=\"#m90fc26b69b\" y=\"209.547639\"/>\n     <use style=\"fill:#1f77b4;fill-opacity:0.1;stroke:#1f77b4;stroke-opacity:0.1;\" x=\"366.547443\" xlink:href=\"#m90fc26b69b\" y=\"202.646078\"/>\n     <use style=\"fill:#1f77b4;fill-opacity:0.1;stroke:#1f77b4;stroke-opacity:0.1;\" x=\"62.183807\" xlink:href=\"#m90fc26b69b\" y=\"210.705133\"/>\n     <use style=\"fill:#1f77b4;fill-opacity:0.1;stroke:#1f77b4;stroke-opacity:0.1;\" x=\"62.183807\" xlink:href=\"#m90fc26b69b\" y=\"211.843336\"/>\n     <use style=\"fill:#1f77b4;fill-opacity:0.1;stroke:#1f77b4;stroke-opacity:0.1;\" x=\"62.183807\" xlink:href=\"#m90fc26b69b\" y=\"204.724745\"/>\n     <use style=\"fill:#1f77b4;fill-opacity:0.1;stroke:#1f77b4;stroke-opacity:0.1;\" x=\"366.547443\" xlink:href=\"#m90fc26b69b\" y=\"204.628288\"/>\n     <use style=\"fill:#1f77b4;fill-opacity:0.1;stroke:#1f77b4;stroke-opacity:0.1;\" x=\"62.183807\" xlink:href=\"#m90fc26b69b\" y=\"210.705133\"/>\n     <use style=\"fill:#1f77b4;fill-opacity:0.1;stroke:#1f77b4;stroke-opacity:0.1;\" x=\"62.183807\" xlink:href=\"#m90fc26b69b\" y=\"210.020282\"/>\n     <use style=\"fill:#1f77b4;fill-opacity:0.1;stroke:#1f77b4;stroke-opacity:0.1;\" x=\"62.183807\" xlink:href=\"#m90fc26b69b\" y=\"209.179478\"/>\n     <use style=\"fill:#1f77b4;fill-opacity:0.1;stroke:#1f77b4;stroke-opacity:0.1;\" x=\"366.547443\" xlink:href=\"#m90fc26b69b\" y=\"208.775976\"/>\n     <use style=\"fill:#1f77b4;fill-opacity:0.1;stroke:#1f77b4;stroke-opacity:0.1;\" x=\"62.183807\" xlink:href=\"#m90fc26b69b\" y=\"210.705133\"/>\n     <use style=\"fill:#1f77b4;fill-opacity:0.1;stroke:#1f77b4;stroke-opacity:0.1;\" x=\"62.183807\" xlink:href=\"#m90fc26b69b\" y=\"212.007314\"/>\n     <use style=\"fill:#1f77b4;fill-opacity:0.1;stroke:#1f77b4;stroke-opacity:0.1;\" x=\"62.183807\" xlink:href=\"#m90fc26b69b\" y=\"211.968731\"/>\n     <use style=\"fill:#1f77b4;fill-opacity:0.1;stroke:#1f77b4;stroke-opacity:0.1;\" x=\"62.183807\" xlink:href=\"#m90fc26b69b\" y=\"180.031532\"/>\n     <use style=\"fill:#1f77b4;fill-opacity:0.1;stroke:#1f77b4;stroke-opacity:0.1;\" x=\"62.183807\" xlink:href=\"#m90fc26b69b\" y=\"211.756524\"/>\n     <use style=\"fill:#1f77b4;fill-opacity:0.1;stroke:#1f77b4;stroke-opacity:0.1;\" x=\"366.547443\" xlink:href=\"#m90fc26b69b\" y=\"209.161807\"/>\n     <use style=\"fill:#1f77b4;fill-opacity:0.1;stroke:#1f77b4;stroke-opacity:0.1;\" x=\"366.547443\" xlink:href=\"#m90fc26b69b\" y=\"194.4793\"/>\n     <use style=\"fill:#1f77b4;fill-opacity:0.1;stroke:#1f77b4;stroke-opacity:0.1;\" x=\"62.183807\" xlink:href=\"#m90fc26b69b\" y=\"204.724745\"/>\n     <use style=\"fill:#1f77b4;fill-opacity:0.1;stroke:#1f77b4;stroke-opacity:0.1;\" x=\"62.183807\" xlink:href=\"#m90fc26b69b\" y=\"211.959085\"/>\n     <use style=\"fill:#1f77b4;fill-opacity:0.1;stroke:#1f77b4;stroke-opacity:0.1;\" x=\"62.183807\" xlink:href=\"#m90fc26b69b\" y=\"210.719602\"/>\n     <use style=\"fill:#1f77b4;fill-opacity:0.1;stroke:#1f77b4;stroke-opacity:0.1;\" x=\"62.183807\" xlink:href=\"#m90fc26b69b\" y=\"204.512538\"/>\n     <use style=\"fill:#1f77b4;fill-opacity:0.1;stroke:#1f77b4;stroke-opacity:0.1;\" x=\"62.183807\" xlink:href=\"#m90fc26b69b\" y=\"208.544477\"/>\n     <use style=\"fill:#1f77b4;fill-opacity:0.1;stroke:#1f77b4;stroke-opacity:0.1;\" x=\"62.183807\" xlink:href=\"#m90fc26b69b\" y=\"206.957745\"/>\n     <use style=\"fill:#1f77b4;fill-opacity:0.1;stroke:#1f77b4;stroke-opacity:0.1;\" x=\"366.547443\" xlink:href=\"#m90fc26b69b\" y=\"208.874054\"/>\n     <use style=\"fill:#1f77b4;fill-opacity:0.1;stroke:#1f77b4;stroke-opacity:0.1;\" x=\"366.547443\" xlink:href=\"#m90fc26b69b\" y=\"184.198511\"/>\n     <use style=\"fill:#1f77b4;fill-opacity:0.1;stroke:#1f77b4;stroke-opacity:0.1;\" x=\"366.547443\" xlink:href=\"#m90fc26b69b\" y=\"181.381942\"/>\n     <use style=\"fill:#1f77b4;fill-opacity:0.1;stroke:#1f77b4;stroke-opacity:0.1;\" x=\"366.547443\" xlink:href=\"#m90fc26b69b\" y=\"17.083636\"/>\n     <use style=\"fill:#1f77b4;fill-opacity:0.1;stroke:#1f77b4;stroke-opacity:0.1;\" x=\"366.547443\" xlink:href=\"#m90fc26b69b\" y=\"204.724745\"/>\n     <use style=\"fill:#1f77b4;fill-opacity:0.1;stroke:#1f77b4;stroke-opacity:0.1;\" x=\"62.183807\" xlink:href=\"#m90fc26b69b\" y=\"211.76617\"/>\n     <use style=\"fill:#1f77b4;fill-opacity:0.1;stroke:#1f77b4;stroke-opacity:0.1;\" x=\"366.547443\" xlink:href=\"#m90fc26b69b\" y=\"202.646078\"/>\n     <use style=\"fill:#1f77b4;fill-opacity:0.1;stroke:#1f77b4;stroke-opacity:0.1;\" x=\"62.183807\" xlink:href=\"#m90fc26b69b\" y=\"184.024887\"/>\n     <use style=\"fill:#1f77b4;fill-opacity:0.1;stroke:#1f77b4;stroke-opacity:0.1;\" x=\"62.183807\" xlink:href=\"#m90fc26b69b\" y=\"214.756364\"/>\n     <use style=\"fill:#1f77b4;fill-opacity:0.1;stroke:#1f77b4;stroke-opacity:0.1;\" x=\"62.183807\" xlink:href=\"#m90fc26b69b\" y=\"211.76617\"/>\n     <use style=\"fill:#1f77b4;fill-opacity:0.1;stroke:#1f77b4;stroke-opacity:0.1;\" x=\"62.183807\" xlink:href=\"#m90fc26b69b\" y=\"210.705133\"/>\n     <use style=\"fill:#1f77b4;fill-opacity:0.1;stroke:#1f77b4;stroke-opacity:0.1;\" x=\"62.183807\" xlink:href=\"#m90fc26b69b\" y=\"199.443677\"/>\n     <use style=\"fill:#1f77b4;fill-opacity:0.1;stroke:#1f77b4;stroke-opacity:0.1;\" x=\"366.547443\" xlink:href=\"#m90fc26b69b\" y=\"211.756524\"/>\n     <use style=\"fill:#1f77b4;fill-opacity:0.1;stroke:#1f77b4;stroke-opacity:0.1;\" x=\"366.547443\" xlink:href=\"#m90fc26b69b\" y=\"155.545702\"/>\n     <use style=\"fill:#1f77b4;fill-opacity:0.1;stroke:#1f77b4;stroke-opacity:0.1;\" x=\"366.547443\" xlink:href=\"#m90fc26b69b\" y=\"162.424768\"/>\n     <use style=\"fill:#1f77b4;fill-opacity:0.1;stroke:#1f77b4;stroke-opacity:0.1;\" x=\"62.183807\" xlink:href=\"#m90fc26b69b\" y=\"202.795588\"/>\n     <use style=\"fill:#1f77b4;fill-opacity:0.1;stroke:#1f77b4;stroke-opacity:0.1;\" x=\"366.547443\" xlink:href=\"#m90fc26b69b\" y=\"214.756364\"/>\n     <use style=\"fill:#1f77b4;fill-opacity:0.1;stroke:#1f77b4;stroke-opacity:0.1;\" x=\"366.547443\" xlink:href=\"#m90fc26b69b\" y=\"207.23265\"/>\n     <use style=\"fill:#1f77b4;fill-opacity:0.1;stroke:#1f77b4;stroke-opacity:0.1;\" x=\"62.183807\" xlink:href=\"#m90fc26b69b\" y=\"203.297169\"/>\n     <use style=\"fill:#1f77b4;fill-opacity:0.1;stroke:#1f77b4;stroke-opacity:0.1;\" x=\"366.547443\" xlink:href=\"#m90fc26b69b\" y=\"211.76617\"/>\n     <use style=\"fill:#1f77b4;fill-opacity:0.1;stroke:#1f77b4;stroke-opacity:0.1;\" x=\"366.547443\" xlink:href=\"#m90fc26b69b\" y=\"184.677598\"/>\n     <use style=\"fill:#1f77b4;fill-opacity:0.1;stroke:#1f77b4;stroke-opacity:0.1;\" x=\"62.183807\" xlink:href=\"#m90fc26b69b\" y=\"211.76617\"/>\n     <use style=\"fill:#1f77b4;fill-opacity:0.1;stroke:#1f77b4;stroke-opacity:0.1;\" x=\"62.183807\" xlink:href=\"#m90fc26b69b\" y=\"214.756364\"/>\n     <use style=\"fill:#1f77b4;fill-opacity:0.1;stroke:#1f77b4;stroke-opacity:0.1;\" x=\"62.183807\" xlink:href=\"#m90fc26b69b\" y=\"203.519022\"/>\n     <use style=\"fill:#1f77b4;fill-opacity:0.1;stroke:#1f77b4;stroke-opacity:0.1;\" x=\"366.547443\" xlink:href=\"#m90fc26b69b\" y=\"206.943276\"/>\n     <use style=\"fill:#1f77b4;fill-opacity:0.1;stroke:#1f77b4;stroke-opacity:0.1;\" x=\"62.183807\" xlink:href=\"#m90fc26b69b\" y=\"211.76617\"/>\n     <use style=\"fill:#1f77b4;fill-opacity:0.1;stroke:#1f77b4;stroke-opacity:0.1;\" x=\"62.183807\" xlink:href=\"#m90fc26b69b\" y=\"211.725966\"/>\n     <use style=\"fill:#1f77b4;fill-opacity:0.1;stroke:#1f77b4;stroke-opacity:0.1;\" x=\"62.183807\" xlink:href=\"#m90fc26b69b\" y=\"211.090965\"/>\n     <use style=\"fill:#1f77b4;fill-opacity:0.1;stroke:#1f77b4;stroke-opacity:0.1;\" x=\"366.547443\" xlink:href=\"#m90fc26b69b\" y=\"211.65042\"/>\n     <use style=\"fill:#1f77b4;fill-opacity:0.1;stroke:#1f77b4;stroke-opacity:0.1;\" x=\"62.183807\" xlink:href=\"#m90fc26b69b\" y=\"204.724745\"/>\n     <use style=\"fill:#1f77b4;fill-opacity:0.1;stroke:#1f77b4;stroke-opacity:0.1;\" x=\"62.183807\" xlink:href=\"#m90fc26b69b\" y=\"211.414099\"/>\n     <use style=\"fill:#1f77b4;fill-opacity:0.1;stroke:#1f77b4;stroke-opacity:0.1;\" x=\"366.547443\" xlink:href=\"#m90fc26b69b\" y=\"211.090965\"/>\n     <use style=\"fill:#1f77b4;fill-opacity:0.1;stroke:#1f77b4;stroke-opacity:0.1;\" x=\"62.183807\" xlink:href=\"#m90fc26b69b\" y=\"211.709916\"/>\n     <use style=\"fill:#1f77b4;fill-opacity:0.1;stroke:#1f77b4;stroke-opacity:0.1;\" x=\"366.547443\" xlink:href=\"#m90fc26b69b\" y=\"209.740555\"/>\n     <use style=\"fill:#1f77b4;fill-opacity:0.1;stroke:#1f77b4;stroke-opacity:0.1;\" x=\"366.547443\" xlink:href=\"#m90fc26b69b\" y=\"211.76617\"/>\n     <use style=\"fill:#1f77b4;fill-opacity:0.1;stroke:#1f77b4;stroke-opacity:0.1;\" x=\"366.547443\" xlink:href=\"#m90fc26b69b\" y=\"184.333552\"/>\n     <use style=\"fill:#1f77b4;fill-opacity:0.1;stroke:#1f77b4;stroke-opacity:0.1;\" x=\"366.547443\" xlink:href=\"#m90fc26b69b\" y=\"179.615142\"/>\n     <use style=\"fill:#1f77b4;fill-opacity:0.1;stroke:#1f77b4;stroke-opacity:0.1;\" x=\"62.183807\" xlink:href=\"#m90fc26b69b\" y=\"209.788783\"/>\n     <use style=\"fill:#1f77b4;fill-opacity:0.1;stroke:#1f77b4;stroke-opacity:0.1;\" x=\"62.183807\" xlink:href=\"#m90fc26b69b\" y=\"211.341755\"/>\n     <use style=\"fill:#1f77b4;fill-opacity:0.1;stroke:#1f77b4;stroke-opacity:0.1;\" x=\"62.183807\" xlink:href=\"#m90fc26b69b\" y=\"211.709916\"/>\n     <use style=\"fill:#1f77b4;fill-opacity:0.1;stroke:#1f77b4;stroke-opacity:0.1;\" x=\"62.183807\" xlink:href=\"#m90fc26b69b\" y=\"204.060807\"/>\n     <use style=\"fill:#1f77b4;fill-opacity:0.1;stroke:#1f77b4;stroke-opacity:0.1;\" x=\"62.183807\" xlink:href=\"#m90fc26b69b\" y=\"211.967111\"/>\n     <use style=\"fill:#1f77b4;fill-opacity:0.1;stroke:#1f77b4;stroke-opacity:0.1;\" x=\"62.183807\" xlink:href=\"#m90fc26b69b\" y=\"156.283605\"/>\n     <use style=\"fill:#1f77b4;fill-opacity:0.1;stroke:#1f77b4;stroke-opacity:0.1;\" x=\"366.547443\" xlink:href=\"#m90fc26b69b\" y=\"202.988504\"/>\n     <use style=\"fill:#1f77b4;fill-opacity:0.1;stroke:#1f77b4;stroke-opacity:0.1;\" x=\"366.547443\" xlink:href=\"#m90fc26b69b\" y=\"119.25505\"/>\n     <use style=\"fill:#1f77b4;fill-opacity:0.1;stroke:#1f77b4;stroke-opacity:0.1;\" x=\"366.547443\" xlink:href=\"#m90fc26b69b\" y=\"211.76617\"/>\n     <use style=\"fill:#1f77b4;fill-opacity:0.1;stroke:#1f77b4;stroke-opacity:0.1;\" x=\"366.547443\" xlink:href=\"#m90fc26b69b\" y=\"205.785782\"/>\n     <use style=\"fill:#1f77b4;fill-opacity:0.1;stroke:#1f77b4;stroke-opacity:0.1;\" x=\"62.183807\" xlink:href=\"#m90fc26b69b\" y=\"214.756364\"/>\n     <use style=\"fill:#1f77b4;fill-opacity:0.1;stroke:#1f77b4;stroke-opacity:0.1;\" x=\"366.547443\" xlink:href=\"#m90fc26b69b\" y=\"209.991345\"/>\n     <use style=\"fill:#1f77b4;fill-opacity:0.1;stroke:#1f77b4;stroke-opacity:0.1;\" x=\"62.183807\" xlink:href=\"#m90fc26b69b\" y=\"211.65042\"/>\n     <use style=\"fill:#1f77b4;fill-opacity:0.1;stroke:#1f77b4;stroke-opacity:0.1;\" x=\"366.547443\" xlink:href=\"#m90fc26b69b\" y=\"156.283605\"/>\n     <use style=\"fill:#1f77b4;fill-opacity:0.1;stroke:#1f77b4;stroke-opacity:0.1;\" x=\"366.547443\" xlink:href=\"#m90fc26b69b\" y=\"171.974097\"/>\n     <use style=\"fill:#1f77b4;fill-opacity:0.1;stroke:#1f77b4;stroke-opacity:0.1;\" x=\"366.547443\" xlink:href=\"#m90fc26b69b\" y=\"172.739317\"/>\n     <use style=\"fill:#1f77b4;fill-opacity:0.1;stroke:#1f77b4;stroke-opacity:0.1;\" x=\"62.183807\" xlink:href=\"#m90fc26b69b\" y=\"205.496408\"/>\n     <use style=\"fill:#1f77b4;fill-opacity:0.1;stroke:#1f77b4;stroke-opacity:0.1;\" x=\"366.547443\" xlink:href=\"#m90fc26b69b\" y=\"192.791287\"/>\n     <use style=\"fill:#1f77b4;fill-opacity:0.1;stroke:#1f77b4;stroke-opacity:0.1;\" x=\"366.547443\" xlink:href=\"#m90fc26b69b\" y=\"182.671275\"/>\n     <use style=\"fill:#1f77b4;fill-opacity:0.1;stroke:#1f77b4;stroke-opacity:0.1;\" x=\"366.547443\" xlink:href=\"#m90fc26b69b\" y=\"113.523832\"/>\n     <use style=\"fill:#1f77b4;fill-opacity:0.1;stroke:#1f77b4;stroke-opacity:0.1;\" x=\"62.183807\" xlink:href=\"#m90fc26b69b\" y=\"204.724745\"/>\n     <use style=\"fill:#1f77b4;fill-opacity:0.1;stroke:#1f77b4;stroke-opacity:0.1;\" x=\"62.183807\" xlink:href=\"#m90fc26b69b\" y=\"211.709916\"/>\n     <use style=\"fill:#1f77b4;fill-opacity:0.1;stroke:#1f77b4;stroke-opacity:0.1;\" x=\"62.183807\" xlink:href=\"#m90fc26b69b\" y=\"204.628288\"/>\n     <use style=\"fill:#1f77b4;fill-opacity:0.1;stroke:#1f77b4;stroke-opacity:0.1;\" x=\"366.547443\" xlink:href=\"#m90fc26b69b\" y=\"211.725966\"/>\n     <use style=\"fill:#1f77b4;fill-opacity:0.1;stroke:#1f77b4;stroke-opacity:0.1;\" x=\"366.547443\" xlink:href=\"#m90fc26b69b\" y=\"204.724745\"/>\n     <use style=\"fill:#1f77b4;fill-opacity:0.1;stroke:#1f77b4;stroke-opacity:0.1;\" x=\"62.183807\" xlink:href=\"#m90fc26b69b\" y=\"209.354723\"/>\n     <use style=\"fill:#1f77b4;fill-opacity:0.1;stroke:#1f77b4;stroke-opacity:0.1;\" x=\"366.547443\" xlink:href=\"#m90fc26b69b\" y=\"151.145603\"/>\n     <use style=\"fill:#1f77b4;fill-opacity:0.1;stroke:#1f77b4;stroke-opacity:0.1;\" x=\"366.547443\" xlink:href=\"#m90fc26b69b\" y=\"162.862031\"/>\n     <use style=\"fill:#1f77b4;fill-opacity:0.1;stroke:#1f77b4;stroke-opacity:0.1;\" x=\"62.183807\" xlink:href=\"#m90fc26b69b\" y=\"211.959085\"/>\n     <use style=\"fill:#1f77b4;fill-opacity:0.1;stroke:#1f77b4;stroke-opacity:0.1;\" x=\"62.183807\" xlink:href=\"#m90fc26b69b\" y=\"211.709916\"/>\n     <use style=\"fill:#1f77b4;fill-opacity:0.1;stroke:#1f77b4;stroke-opacity:0.1;\" x=\"366.547443\" xlink:href=\"#m90fc26b69b\" y=\"209.991345\"/>\n     <use style=\"fill:#1f77b4;fill-opacity:0.1;stroke:#1f77b4;stroke-opacity:0.1;\" x=\"366.547443\" xlink:href=\"#m90fc26b69b\" y=\"203.567251\"/>\n     <use style=\"fill:#1f77b4;fill-opacity:0.1;stroke:#1f77b4;stroke-opacity:0.1;\" x=\"62.183807\" xlink:href=\"#m90fc26b69b\" y=\"187.921785\"/>\n     <use style=\"fill:#1f77b4;fill-opacity:0.1;stroke:#1f77b4;stroke-opacity:0.1;\" x=\"366.547443\" xlink:href=\"#m90fc26b69b\" y=\"162.424768\"/>\n     <use style=\"fill:#1f77b4;fill-opacity:0.1;stroke:#1f77b4;stroke-opacity:0.1;\" x=\"62.183807\" xlink:href=\"#m90fc26b69b\" y=\"212.34974\"/>\n     <use style=\"fill:#1f77b4;fill-opacity:0.1;stroke:#1f77b4;stroke-opacity:0.1;\" x=\"366.547443\" xlink:href=\"#m90fc26b69b\" y=\"209.740555\"/>\n     <use style=\"fill:#1f77b4;fill-opacity:0.1;stroke:#1f77b4;stroke-opacity:0.1;\" x=\"366.547443\" xlink:href=\"#m90fc26b69b\" y=\"206.837173\"/>\n     <use style=\"fill:#1f77b4;fill-opacity:0.1;stroke:#1f77b4;stroke-opacity:0.1;\" x=\"366.547443\" xlink:href=\"#m90fc26b69b\" y=\"192.386164\"/>\n     <use style=\"fill:#1f77b4;fill-opacity:0.1;stroke:#1f77b4;stroke-opacity:0.1;\" x=\"366.547443\" xlink:href=\"#m90fc26b69b\" y=\"205.785782\"/>\n     <use style=\"fill:#1f77b4;fill-opacity:0.1;stroke:#1f77b4;stroke-opacity:0.1;\" x=\"62.183807\" xlink:href=\"#m90fc26b69b\" y=\"203.760167\"/>\n     <use style=\"fill:#1f77b4;fill-opacity:0.1;stroke:#1f77b4;stroke-opacity:0.1;\" x=\"62.183807\" xlink:href=\"#m90fc26b69b\" y=\"155.545702\"/>\n     <use style=\"fill:#1f77b4;fill-opacity:0.1;stroke:#1f77b4;stroke-opacity:0.1;\" x=\"62.183807\" xlink:href=\"#m90fc26b69b\" y=\"207.811397\"/>\n     <use style=\"fill:#1f77b4;fill-opacity:0.1;stroke:#1f77b4;stroke-opacity:0.1;\" x=\"366.547443\" xlink:href=\"#m90fc26b69b\" y=\"163.189988\"/>\n     <use style=\"fill:#1f77b4;fill-opacity:0.1;stroke:#1f77b4;stroke-opacity:0.1;\" x=\"62.183807\" xlink:href=\"#m90fc26b69b\" y=\"211.709916\"/>\n     <use style=\"fill:#1f77b4;fill-opacity:0.1;stroke:#1f77b4;stroke-opacity:0.1;\" x=\"62.183807\" xlink:href=\"#m90fc26b69b\" y=\"189.059988\"/>\n     <use style=\"fill:#1f77b4;fill-opacity:0.1;stroke:#1f77b4;stroke-opacity:0.1;\" x=\"366.547443\" xlink:href=\"#m90fc26b69b\" y=\"162.862031\"/>\n     <use style=\"fill:#1f77b4;fill-opacity:0.1;stroke:#1f77b4;stroke-opacity:0.1;\" x=\"366.547443\" xlink:href=\"#m90fc26b69b\" y=\"211.65042\"/>\n     <use style=\"fill:#1f77b4;fill-opacity:0.1;stroke:#1f77b4;stroke-opacity:0.1;\" x=\"62.183807\" xlink:href=\"#m90fc26b69b\" y=\"201.059347\"/>\n     <use style=\"fill:#1f77b4;fill-opacity:0.1;stroke:#1f77b4;stroke-opacity:0.1;\" x=\"366.547443\" xlink:href=\"#m90fc26b69b\" y=\"204.724745\"/>\n     <use style=\"fill:#1f77b4;fill-opacity:0.1;stroke:#1f77b4;stroke-opacity:0.1;\" x=\"366.547443\" xlink:href=\"#m90fc26b69b\" y=\"113.282688\"/>\n     <use style=\"fill:#1f77b4;fill-opacity:0.1;stroke:#1f77b4;stroke-opacity:0.1;\" x=\"62.183807\" xlink:href=\"#m90fc26b69b\" y=\"209.740555\"/>\n     <use style=\"fill:#1f77b4;fill-opacity:0.1;stroke:#1f77b4;stroke-opacity:0.1;\" x=\"62.183807\" xlink:href=\"#m90fc26b69b\" y=\"209.740555\"/>\n     <use style=\"fill:#1f77b4;fill-opacity:0.1;stroke:#1f77b4;stroke-opacity:0.1;\" x=\"62.183807\" xlink:href=\"#m90fc26b69b\" y=\"209.740555\"/>\n     <use style=\"fill:#1f77b4;fill-opacity:0.1;stroke:#1f77b4;stroke-opacity:0.1;\" x=\"366.547443\" xlink:href=\"#m90fc26b69b\" y=\"209.740555\"/>\n     <use style=\"fill:#1f77b4;fill-opacity:0.1;stroke:#1f77b4;stroke-opacity:0.1;\" x=\"366.547443\" xlink:href=\"#m90fc26b69b\" y=\"209.740555\"/>\n     <use style=\"fill:#1f77b4;fill-opacity:0.1;stroke:#1f77b4;stroke-opacity:0.1;\" x=\"366.547443\" xlink:href=\"#m90fc26b69b\" y=\"208.544477\"/>\n     <use style=\"fill:#1f77b4;fill-opacity:0.1;stroke:#1f77b4;stroke-opacity:0.1;\" x=\"366.547443\" xlink:href=\"#m90fc26b69b\" y=\"208.621643\"/>\n     <use style=\"fill:#1f77b4;fill-opacity:0.1;stroke:#1f77b4;stroke-opacity:0.1;\" x=\"62.183807\" xlink:href=\"#m90fc26b69b\" y=\"211.414099\"/>\n     <use style=\"fill:#1f77b4;fill-opacity:0.1;stroke:#1f77b4;stroke-opacity:0.1;\" x=\"62.183807\" xlink:href=\"#m90fc26b69b\" y=\"211.197068\"/>\n     <use style=\"fill:#1f77b4;fill-opacity:0.1;stroke:#1f77b4;stroke-opacity:0.1;\" x=\"62.183807\" xlink:href=\"#m90fc26b69b\" y=\"201.252262\"/>\n     <use style=\"fill:#1f77b4;fill-opacity:0.1;stroke:#1f77b4;stroke-opacity:0.1;\" x=\"62.183807\" xlink:href=\"#m90fc26b69b\" y=\"211.967111\"/>\n     <use style=\"fill:#1f77b4;fill-opacity:0.1;stroke:#1f77b4;stroke-opacity:0.1;\" x=\"62.183807\" xlink:href=\"#m90fc26b69b\" y=\"207.888564\"/>\n     <use style=\"fill:#1f77b4;fill-opacity:0.1;stroke:#1f77b4;stroke-opacity:0.1;\" x=\"62.183807\" xlink:href=\"#m90fc26b69b\" y=\"211.968731\"/>\n     <use style=\"fill:#1f77b4;fill-opacity:0.1;stroke:#1f77b4;stroke-opacity:0.1;\" x=\"62.183807\" xlink:href=\"#m90fc26b69b\" y=\"211.090965\"/>\n     <use style=\"fill:#1f77b4;fill-opacity:0.1;stroke:#1f77b4;stroke-opacity:0.1;\" x=\"366.547443\" xlink:href=\"#m90fc26b69b\" y=\"193.535633\"/>\n     <use style=\"fill:#1f77b4;fill-opacity:0.1;stroke:#1f77b4;stroke-opacity:0.1;\" x=\"62.183807\" xlink:href=\"#m90fc26b69b\" y=\"209.740555\"/>\n     <use style=\"fill:#1f77b4;fill-opacity:0.1;stroke:#1f77b4;stroke-opacity:0.1;\" x=\"366.547443\" xlink:href=\"#m90fc26b69b\" y=\"211.71632\"/>\n     <use style=\"fill:#1f77b4;fill-opacity:0.1;stroke:#1f77b4;stroke-opacity:0.1;\" x=\"366.547443\" xlink:href=\"#m90fc26b69b\" y=\"211.71632\"/>\n     <use style=\"fill:#1f77b4;fill-opacity:0.1;stroke:#1f77b4;stroke-opacity:0.1;\" x=\"62.183807\" xlink:href=\"#m90fc26b69b\" y=\"203.991666\"/>\n     <use style=\"fill:#1f77b4;fill-opacity:0.1;stroke:#1f77b4;stroke-opacity:0.1;\" x=\"62.183807\" xlink:href=\"#m90fc26b69b\" y=\"204.060807\"/>\n     <use style=\"fill:#1f77b4;fill-opacity:0.1;stroke:#1f77b4;stroke-opacity:0.1;\" x=\"62.183807\" xlink:href=\"#m90fc26b69b\" y=\"209.179478\"/>\n     <use style=\"fill:#1f77b4;fill-opacity:0.1;stroke:#1f77b4;stroke-opacity:0.1;\" x=\"62.183807\" xlink:href=\"#m90fc26b69b\" y=\"212.036252\"/>\n     <use style=\"fill:#1f77b4;fill-opacity:0.1;stroke:#1f77b4;stroke-opacity:0.1;\" x=\"62.183807\" xlink:href=\"#m90fc26b69b\" y=\"208.775976\"/>\n     <use style=\"fill:#1f77b4;fill-opacity:0.1;stroke:#1f77b4;stroke-opacity:0.1;\" x=\"62.183807\" xlink:href=\"#m90fc26b69b\" y=\"211.959085\"/>\n     <use style=\"fill:#1f77b4;fill-opacity:0.1;stroke:#1f77b4;stroke-opacity:0.1;\" x=\"366.547443\" xlink:href=\"#m90fc26b69b\" y=\"185.722546\"/>\n     <use style=\"fill:#1f77b4;fill-opacity:0.1;stroke:#1f77b4;stroke-opacity:0.1;\" x=\"366.547443\" xlink:href=\"#m90fc26b69b\" y=\"211.967111\"/>\n     <use style=\"fill:#1f77b4;fill-opacity:0.1;stroke:#1f77b4;stroke-opacity:0.1;\" x=\"366.547443\" xlink:href=\"#m90fc26b69b\" y=\"211.76617\"/>\n     <use style=\"fill:#1f77b4;fill-opacity:0.1;stroke:#1f77b4;stroke-opacity:0.1;\" x=\"366.547443\" xlink:href=\"#m90fc26b69b\" y=\"188.018243\"/>\n     <use style=\"fill:#1f77b4;fill-opacity:0.1;stroke:#1f77b4;stroke-opacity:0.1;\" x=\"366.547443\" xlink:href=\"#m90fc26b69b\" y=\"193.365211\"/>\n     <use style=\"fill:#1f77b4;fill-opacity:0.1;stroke:#1f77b4;stroke-opacity:0.1;\" x=\"62.183807\" xlink:href=\"#m90fc26b69b\" y=\"212.25008\"/>\n     <use style=\"fill:#1f77b4;fill-opacity:0.1;stroke:#1f77b4;stroke-opacity:0.1;\" x=\"62.183807\" xlink:href=\"#m90fc26b69b\" y=\"211.65042\"/>\n     <use style=\"fill:#1f77b4;fill-opacity:0.1;stroke:#1f77b4;stroke-opacity:0.1;\" x=\"62.183807\" xlink:href=\"#m90fc26b69b\" y=\"162.424768\"/>\n     <use style=\"fill:#1f77b4;fill-opacity:0.1;stroke:#1f77b4;stroke-opacity:0.1;\" x=\"62.183807\" xlink:href=\"#m90fc26b69b\" y=\"206.624965\"/>\n     <use style=\"fill:#1f77b4;fill-opacity:0.1;stroke:#1f77b4;stroke-opacity:0.1;\" x=\"366.547443\" xlink:href=\"#m90fc26b69b\" y=\"183.052283\"/>\n     <use style=\"fill:#1f77b4;fill-opacity:0.1;stroke:#1f77b4;stroke-opacity:0.1;\" x=\"366.547443\" xlink:href=\"#m90fc26b69b\" y=\"211.959085\"/>\n     <use style=\"fill:#1f77b4;fill-opacity:0.1;stroke:#1f77b4;stroke-opacity:0.1;\" x=\"62.183807\" xlink:href=\"#m90fc26b69b\" y=\"133.153008\"/>\n     <use style=\"fill:#1f77b4;fill-opacity:0.1;stroke:#1f77b4;stroke-opacity:0.1;\" x=\"62.183807\" xlink:href=\"#m90fc26b69b\" y=\"213.208215\"/>\n     <use style=\"fill:#1f77b4;fill-opacity:0.1;stroke:#1f77b4;stroke-opacity:0.1;\" x=\"62.183807\" xlink:href=\"#m90fc26b69b\" y=\"211.756524\"/>\n     <use style=\"fill:#1f77b4;fill-opacity:0.1;stroke:#1f77b4;stroke-opacity:0.1;\" x=\"366.547443\" xlink:href=\"#m90fc26b69b\" y=\"126.970059\"/>\n     <use style=\"fill:#1f77b4;fill-opacity:0.1;stroke:#1f77b4;stroke-opacity:0.1;\" x=\"366.547443\" xlink:href=\"#m90fc26b69b\" y=\"208.68272\"/>\n     <use style=\"fill:#1f77b4;fill-opacity:0.1;stroke:#1f77b4;stroke-opacity:0.1;\" x=\"62.183807\" xlink:href=\"#m90fc26b69b\" y=\"211.698649\"/>\n     <use style=\"fill:#1f77b4;fill-opacity:0.1;stroke:#1f77b4;stroke-opacity:0.1;\" x=\"366.547443\" xlink:href=\"#m90fc26b69b\" y=\"194.693127\"/>\n     <use style=\"fill:#1f77b4;fill-opacity:0.1;stroke:#1f77b4;stroke-opacity:0.1;\" x=\"62.183807\" xlink:href=\"#m90fc26b69b\" y=\"211.709916\"/>\n     <use style=\"fill:#1f77b4;fill-opacity:0.1;stroke:#1f77b4;stroke-opacity:0.1;\" x=\"62.183807\" xlink:href=\"#m90fc26b69b\" y=\"186.397751\"/>\n     <use style=\"fill:#1f77b4;fill-opacity:0.1;stroke:#1f77b4;stroke-opacity:0.1;\" x=\"62.183807\" xlink:href=\"#m90fc26b69b\" y=\"196.660868\"/>\n     <use style=\"fill:#1f77b4;fill-opacity:0.1;stroke:#1f77b4;stroke-opacity:0.1;\" x=\"366.547443\" xlink:href=\"#m90fc26b69b\" y=\"209.740555\"/>\n     <use style=\"fill:#1f77b4;fill-opacity:0.1;stroke:#1f77b4;stroke-opacity:0.1;\" x=\"62.183807\" xlink:href=\"#m90fc26b69b\" y=\"211.774195\"/>\n     <use style=\"fill:#1f77b4;fill-opacity:0.1;stroke:#1f77b4;stroke-opacity:0.1;\" x=\"366.547443\" xlink:href=\"#m90fc26b69b\" y=\"210.126386\"/>\n     <use style=\"fill:#1f77b4;fill-opacity:0.1;stroke:#1f77b4;stroke-opacity:0.1;\" x=\"366.547443\" xlink:href=\"#m90fc26b69b\" y=\"168.456587\"/>\n     <use style=\"fill:#1f77b4;fill-opacity:0.1;stroke:#1f77b4;stroke-opacity:0.1;\" x=\"366.547443\" xlink:href=\"#m90fc26b69b\" y=\"211.748499\"/>\n     <use style=\"fill:#1f77b4;fill-opacity:0.1;stroke:#1f77b4;stroke-opacity:0.1;\" x=\"62.183807\" xlink:href=\"#m90fc26b69b\" y=\"211.698649\"/>\n     <use style=\"fill:#1f77b4;fill-opacity:0.1;stroke:#1f77b4;stroke-opacity:0.1;\" x=\"366.547443\" xlink:href=\"#m90fc26b69b\" y=\"171.051304\"/>\n     <use style=\"fill:#1f77b4;fill-opacity:0.1;stroke:#1f77b4;stroke-opacity:0.1;\" x=\"366.547443\" xlink:href=\"#m90fc26b69b\" y=\"208.312978\"/>\n     <use style=\"fill:#1f77b4;fill-opacity:0.1;stroke:#1f77b4;stroke-opacity:0.1;\" x=\"62.183807\" xlink:href=\"#m90fc26b69b\" y=\"211.748499\"/>\n     <use style=\"fill:#1f77b4;fill-opacity:0.1;stroke:#1f77b4;stroke-opacity:0.1;\" x=\"62.183807\" xlink:href=\"#m90fc26b69b\" y=\"211.725966\"/>\n     <use style=\"fill:#1f77b4;fill-opacity:0.1;stroke:#1f77b4;stroke-opacity:0.1;\" x=\"62.183807\" xlink:href=\"#m90fc26b69b\" y=\"204.724745\"/>\n     <use style=\"fill:#1f77b4;fill-opacity:0.1;stroke:#1f77b4;stroke-opacity:0.1;\" x=\"62.183807\" xlink:href=\"#m90fc26b69b\" y=\"210.705133\"/>\n     <use style=\"fill:#1f77b4;fill-opacity:0.1;stroke:#1f77b4;stroke-opacity:0.1;\" x=\"366.547443\" xlink:href=\"#m90fc26b69b\" y=\"209.875596\"/>\n     <use style=\"fill:#1f77b4;fill-opacity:0.1;stroke:#1f77b4;stroke-opacity:0.1;\" x=\"366.547443\" xlink:href=\"#m90fc26b69b\" y=\"211.698649\"/>\n     <use style=\"fill:#1f77b4;fill-opacity:0.1;stroke:#1f77b4;stroke-opacity:0.1;\" x=\"62.183807\" xlink:href=\"#m90fc26b69b\" y=\"211.65042\"/>\n     <use style=\"fill:#1f77b4;fill-opacity:0.1;stroke:#1f77b4;stroke-opacity:0.1;\" x=\"62.183807\" xlink:href=\"#m90fc26b69b\" y=\"210.965569\"/>\n     <use style=\"fill:#1f77b4;fill-opacity:0.1;stroke:#1f77b4;stroke-opacity:0.1;\" x=\"62.183807\" xlink:href=\"#m90fc26b69b\" y=\"208.640935\"/>\n     <use style=\"fill:#1f77b4;fill-opacity:0.1;stroke:#1f77b4;stroke-opacity:0.1;\" x=\"62.183807\" xlink:href=\"#m90fc26b69b\" y=\"211.414099\"/>\n     <use style=\"fill:#1f77b4;fill-opacity:0.1;stroke:#1f77b4;stroke-opacity:0.1;\" x=\"62.183807\" xlink:href=\"#m90fc26b69b\" y=\"206.653903\"/>\n     <use style=\"fill:#1f77b4;fill-opacity:0.1;stroke:#1f77b4;stroke-opacity:0.1;\" x=\"62.183807\" xlink:href=\"#m90fc26b69b\" y=\"211.76617\"/>\n     <use style=\"fill:#1f77b4;fill-opacity:0.1;stroke:#1f77b4;stroke-opacity:0.1;\" x=\"366.547443\" xlink:href=\"#m90fc26b69b\" y=\"207.522024\"/>\n     <use style=\"fill:#1f77b4;fill-opacity:0.1;stroke:#1f77b4;stroke-opacity:0.1;\" x=\"62.183807\" xlink:href=\"#m90fc26b69b\" y=\"211.756524\"/>\n     <use style=\"fill:#1f77b4;fill-opacity:0.1;stroke:#1f77b4;stroke-opacity:0.1;\" x=\"62.183807\" xlink:href=\"#m90fc26b69b\" y=\"204.930509\"/>\n     <use style=\"fill:#1f77b4;fill-opacity:0.1;stroke:#1f77b4;stroke-opacity:0.1;\" x=\"62.183807\" xlink:href=\"#m90fc26b69b\" y=\"211.709916\"/>\n     <use style=\"fill:#1f77b4;fill-opacity:0.1;stroke:#1f77b4;stroke-opacity:0.1;\" x=\"62.183807\" xlink:href=\"#m90fc26b69b\" y=\"212.110216\"/>\n     <use style=\"fill:#1f77b4;fill-opacity:0.1;stroke:#1f77b4;stroke-opacity:0.1;\" x=\"366.547443\" xlink:href=\"#m90fc26b69b\" y=\"180.031532\"/>\n     <use style=\"fill:#1f77b4;fill-opacity:0.1;stroke:#1f77b4;stroke-opacity:0.1;\" x=\"62.183807\" xlink:href=\"#m90fc26b69b\" y=\"214.756364\"/>\n     <use style=\"fill:#1f77b4;fill-opacity:0.1;stroke:#1f77b4;stroke-opacity:0.1;\" x=\"366.547443\" xlink:href=\"#m90fc26b69b\" y=\"211.698649\"/>\n     <use style=\"fill:#1f77b4;fill-opacity:0.1;stroke:#1f77b4;stroke-opacity:0.1;\" x=\"62.183807\" xlink:href=\"#m90fc26b69b\" y=\"211.65042\"/>\n     <use style=\"fill:#1f77b4;fill-opacity:0.1;stroke:#1f77b4;stroke-opacity:0.1;\" x=\"366.547443\" xlink:href=\"#m90fc26b69b\" y=\"202.216841\"/>\n     <use style=\"fill:#1f77b4;fill-opacity:0.1;stroke:#1f77b4;stroke-opacity:0.1;\" x=\"366.547443\" xlink:href=\"#m90fc26b69b\" y=\"209.740555\"/>\n     <use style=\"fill:#1f77b4;fill-opacity:0.1;stroke:#1f77b4;stroke-opacity:0.1;\" x=\"62.183807\" xlink:href=\"#m90fc26b69b\" y=\"209.740555\"/>\n     <use style=\"fill:#1f77b4;fill-opacity:0.1;stroke:#1f77b4;stroke-opacity:0.1;\" x=\"62.183807\" xlink:href=\"#m90fc26b69b\" y=\"205.438534\"/>\n     <use style=\"fill:#1f77b4;fill-opacity:0.1;stroke:#1f77b4;stroke-opacity:0.1;\" x=\"62.183807\" xlink:href=\"#m90fc26b69b\" y=\"211.709916\"/>\n     <use style=\"fill:#1f77b4;fill-opacity:0.1;stroke:#1f77b4;stroke-opacity:0.1;\" x=\"62.183807\" xlink:href=\"#m90fc26b69b\" y=\"211.772613\"/>\n     <use style=\"fill:#1f77b4;fill-opacity:0.1;stroke:#1f77b4;stroke-opacity:0.1;\" x=\"62.183807\" xlink:href=\"#m90fc26b69b\" y=\"211.717941\"/>\n     <use style=\"fill:#1f77b4;fill-opacity:0.1;stroke:#1f77b4;stroke-opacity:0.1;\" x=\"62.183807\" xlink:href=\"#m90fc26b69b\" y=\"209.20039\"/>\n     <use style=\"fill:#1f77b4;fill-opacity:0.1;stroke:#1f77b4;stroke-opacity:0.1;\" x=\"62.183807\" xlink:href=\"#m90fc26b69b\" y=\"206.957745\"/>\n     <use style=\"fill:#1f77b4;fill-opacity:0.1;stroke:#1f77b4;stroke-opacity:0.1;\" x=\"62.183807\" xlink:href=\"#m90fc26b69b\" y=\"211.959085\"/>\n     <use style=\"fill:#1f77b4;fill-opacity:0.1;stroke:#1f77b4;stroke-opacity:0.1;\" x=\"366.547443\" xlink:href=\"#m90fc26b69b\" y=\"204.724745\"/>\n     <use style=\"fill:#1f77b4;fill-opacity:0.1;stroke:#1f77b4;stroke-opacity:0.1;\" x=\"366.547443\" xlink:href=\"#m90fc26b69b\" y=\"204.724745\"/>\n     <use style=\"fill:#1f77b4;fill-opacity:0.1;stroke:#1f77b4;stroke-opacity:0.1;\" x=\"62.183807\" xlink:href=\"#m90fc26b69b\" y=\"211.76617\"/>\n     <use style=\"fill:#1f77b4;fill-opacity:0.1;stroke:#1f77b4;stroke-opacity:0.1;\" x=\"366.547443\" xlink:href=\"#m90fc26b69b\" y=\"211.65042\"/>\n     <use style=\"fill:#1f77b4;fill-opacity:0.1;stroke:#1f77b4;stroke-opacity:0.1;\" x=\"366.547443\" xlink:href=\"#m90fc26b69b\" y=\"204.512538\"/>\n     <use style=\"fill:#1f77b4;fill-opacity:0.1;stroke:#1f77b4;stroke-opacity:0.1;\" x=\"366.547443\" xlink:href=\"#m90fc26b69b\" y=\"208.544477\"/>\n     <use style=\"fill:#1f77b4;fill-opacity:0.1;stroke:#1f77b4;stroke-opacity:0.1;\" x=\"366.547443\" xlink:href=\"#m90fc26b69b\" y=\"204.724745\"/>\n     <use style=\"fill:#1f77b4;fill-opacity:0.1;stroke:#1f77b4;stroke-opacity:0.1;\" x=\"62.183807\" xlink:href=\"#m90fc26b69b\" y=\"212.007314\"/>\n     <use style=\"fill:#1f77b4;fill-opacity:0.1;stroke:#1f77b4;stroke-opacity:0.1;\" x=\"62.183807\" xlink:href=\"#m90fc26b69b\" y=\"193.188385\"/>\n     <use style=\"fill:#1f77b4;fill-opacity:0.1;stroke:#1f77b4;stroke-opacity:0.1;\" x=\"366.547443\" xlink:href=\"#m90fc26b69b\" y=\"168.456587\"/>\n     <use style=\"fill:#1f77b4;fill-opacity:0.1;stroke:#1f77b4;stroke-opacity:0.1;\" x=\"62.183807\" xlink:href=\"#m90fc26b69b\" y=\"201.493407\"/>\n     <use style=\"fill:#1f77b4;fill-opacity:0.1;stroke:#1f77b4;stroke-opacity:0.1;\" x=\"366.547443\" xlink:href=\"#m90fc26b69b\" y=\"207.522024\"/>\n     <use style=\"fill:#1f77b4;fill-opacity:0.1;stroke:#1f77b4;stroke-opacity:0.1;\" x=\"62.183807\" xlink:href=\"#m90fc26b69b\" y=\"113.282688\"/>\n     <use style=\"fill:#1f77b4;fill-opacity:0.1;stroke:#1f77b4;stroke-opacity:0.1;\" x=\"62.183807\" xlink:href=\"#m90fc26b69b\" y=\"210.705133\"/>\n     <use style=\"fill:#1f77b4;fill-opacity:0.1;stroke:#1f77b4;stroke-opacity:0.1;\" x=\"366.547443\" xlink:href=\"#m90fc26b69b\" y=\"204.628288\"/>\n     <use style=\"fill:#1f77b4;fill-opacity:0.1;stroke:#1f77b4;stroke-opacity:0.1;\" x=\"62.183807\" xlink:href=\"#m90fc26b69b\" y=\"211.090965\"/>\n     <use style=\"fill:#1f77b4;fill-opacity:0.1;stroke:#1f77b4;stroke-opacity:0.1;\" x=\"62.183807\" xlink:href=\"#m90fc26b69b\" y=\"211.756524\"/>\n     <use style=\"fill:#1f77b4;fill-opacity:0.1;stroke:#1f77b4;stroke-opacity:0.1;\" x=\"366.547443\" xlink:href=\"#m90fc26b69b\" y=\"209.740555\"/>\n     <use style=\"fill:#1f77b4;fill-opacity:0.1;stroke:#1f77b4;stroke-opacity:0.1;\" x=\"366.547443\" xlink:href=\"#m90fc26b69b\" y=\"211.626306\"/>\n     <use style=\"fill:#1f77b4;fill-opacity:0.1;stroke:#1f77b4;stroke-opacity:0.1;\" x=\"366.547443\" xlink:href=\"#m90fc26b69b\" y=\"183.172856\"/>\n     <use style=\"fill:#1f77b4;fill-opacity:0.1;stroke:#1f77b4;stroke-opacity:0.1;\" x=\"366.547443\" xlink:href=\"#m90fc26b69b\" y=\"207.23265\"/>\n     <use style=\"fill:#1f77b4;fill-opacity:0.1;stroke:#1f77b4;stroke-opacity:0.1;\" x=\"366.547443\" xlink:href=\"#m90fc26b69b\" y=\"204.512538\"/>\n     <use style=\"fill:#1f77b4;fill-opacity:0.1;stroke:#1f77b4;stroke-opacity:0.1;\" x=\"366.547443\" xlink:href=\"#m90fc26b69b\" y=\"207.325905\"/>\n     <use style=\"fill:#1f77b4;fill-opacity:0.1;stroke:#1f77b4;stroke-opacity:0.1;\" x=\"366.547443\" xlink:href=\"#m90fc26b69b\" y=\"202.988504\"/>\n     <use style=\"fill:#1f77b4;fill-opacity:0.1;stroke:#1f77b4;stroke-opacity:0.1;\" x=\"62.183807\" xlink:href=\"#m90fc26b69b\" y=\"204.04954\"/>\n     <use style=\"fill:#1f77b4;fill-opacity:0.1;stroke:#1f77b4;stroke-opacity:0.1;\" x=\"62.183807\" xlink:href=\"#m90fc26b69b\" y=\"207.052582\"/>\n     <use style=\"fill:#1f77b4;fill-opacity:0.1;stroke:#1f77b4;stroke-opacity:0.1;\" x=\"62.183807\" xlink:href=\"#m90fc26b69b\" y=\"204.04954\"/>\n     <use style=\"fill:#1f77b4;fill-opacity:0.1;stroke:#1f77b4;stroke-opacity:0.1;\" x=\"366.547443\" xlink:href=\"#m90fc26b69b\" y=\"180.377159\"/>\n     <use style=\"fill:#1f77b4;fill-opacity:0.1;stroke:#1f77b4;stroke-opacity:0.1;\" x=\"62.183807\" xlink:href=\"#m90fc26b69b\" y=\"211.65042\"/>\n     <use style=\"fill:#1f77b4;fill-opacity:0.1;stroke:#1f77b4;stroke-opacity:0.1;\" x=\"366.547443\" xlink:href=\"#m90fc26b69b\" y=\"211.709916\"/>\n     <use style=\"fill:#1f77b4;fill-opacity:0.1;stroke:#1f77b4;stroke-opacity:0.1;\" x=\"62.183807\" xlink:href=\"#m90fc26b69b\" y=\"204.512538\"/>\n     <use style=\"fill:#1f77b4;fill-opacity:0.1;stroke:#1f77b4;stroke-opacity:0.1;\" x=\"366.547443\" xlink:href=\"#m90fc26b69b\" y=\"194.746179\"/>\n     <use style=\"fill:#1f77b4;fill-opacity:0.1;stroke:#1f77b4;stroke-opacity:0.1;\" x=\"366.547443\" xlink:href=\"#m90fc26b69b\" y=\"210.705133\"/>\n     <use style=\"fill:#1f77b4;fill-opacity:0.1;stroke:#1f77b4;stroke-opacity:0.1;\" x=\"62.183807\" xlink:href=\"#m90fc26b69b\" y=\"211.76617\"/>\n     <use style=\"fill:#1f77b4;fill-opacity:0.1;stroke:#1f77b4;stroke-opacity:0.1;\" x=\"366.547443\" xlink:href=\"#m90fc26b69b\" y=\"204.512538\"/>\n     <use style=\"fill:#1f77b4;fill-opacity:0.1;stroke:#1f77b4;stroke-opacity:0.1;\" x=\"62.183807\" xlink:href=\"#m90fc26b69b\" y=\"211.65042\"/>\n     <use style=\"fill:#1f77b4;fill-opacity:0.1;stroke:#1f77b4;stroke-opacity:0.1;\" x=\"62.183807\" xlink:href=\"#m90fc26b69b\" y=\"199.901852\"/>\n     <use style=\"fill:#1f77b4;fill-opacity:0.1;stroke:#1f77b4;stroke-opacity:0.1;\" x=\"62.183807\" xlink:href=\"#m90fc26b69b\" y=\"209.740555\"/>\n     <use style=\"fill:#1f77b4;fill-opacity:0.1;stroke:#1f77b4;stroke-opacity:0.1;\" x=\"62.183807\" xlink:href=\"#m90fc26b69b\" y=\"211.65042\"/>\n     <use style=\"fill:#1f77b4;fill-opacity:0.1;stroke:#1f77b4;stroke-opacity:0.1;\" x=\"62.183807\" xlink:href=\"#m90fc26b69b\" y=\"212.036252\"/>\n     <use style=\"fill:#1f77b4;fill-opacity:0.1;stroke:#1f77b4;stroke-opacity:0.1;\" x=\"62.183807\" xlink:href=\"#m90fc26b69b\" y=\"214.756364\"/>\n     <use style=\"fill:#1f77b4;fill-opacity:0.1;stroke:#1f77b4;stroke-opacity:0.1;\" x=\"62.183807\" xlink:href=\"#m90fc26b69b\" y=\"204.512538\"/>\n     <use style=\"fill:#1f77b4;fill-opacity:0.1;stroke:#1f77b4;stroke-opacity:0.1;\" x=\"62.183807\" xlink:href=\"#m90fc26b69b\" y=\"211.775816\"/>\n     <use style=\"fill:#1f77b4;fill-opacity:0.1;stroke:#1f77b4;stroke-opacity:0.1;\" x=\"366.547443\" xlink:href=\"#m90fc26b69b\" y=\"207.325905\"/>\n     <use style=\"fill:#1f77b4;fill-opacity:0.1;stroke:#1f77b4;stroke-opacity:0.1;\" x=\"62.183807\" xlink:href=\"#m90fc26b69b\" y=\"211.959085\"/>\n     <use style=\"fill:#1f77b4;fill-opacity:0.1;stroke:#1f77b4;stroke-opacity:0.1;\" x=\"62.183807\" xlink:href=\"#m90fc26b69b\" y=\"211.414099\"/>\n     <use style=\"fill:#1f77b4;fill-opacity:0.1;stroke:#1f77b4;stroke-opacity:0.1;\" x=\"366.547443\" xlink:href=\"#m90fc26b69b\" y=\"204.04954\"/>\n     <use style=\"fill:#1f77b4;fill-opacity:0.1;stroke:#1f77b4;stroke-opacity:0.1;\" x=\"366.547443\" xlink:href=\"#m90fc26b69b\" y=\"209.435092\"/>\n     <use style=\"fill:#1f77b4;fill-opacity:0.1;stroke:#1f77b4;stroke-opacity:0.1;\" x=\"62.183807\" xlink:href=\"#m90fc26b69b\" y=\"210.960747\"/>\n     <use style=\"fill:#1f77b4;fill-opacity:0.1;stroke:#1f77b4;stroke-opacity:0.1;\" x=\"62.183807\" xlink:href=\"#m90fc26b69b\" y=\"194.693127\"/>\n     <use style=\"fill:#1f77b4;fill-opacity:0.1;stroke:#1f77b4;stroke-opacity:0.1;\" x=\"62.183807\" xlink:href=\"#m90fc26b69b\" y=\"206.653903\"/>\n     <use style=\"fill:#1f77b4;fill-opacity:0.1;stroke:#1f77b4;stroke-opacity:0.1;\" x=\"62.183807\" xlink:href=\"#m90fc26b69b\" y=\"212.037872\"/>\n     <use style=\"fill:#1f77b4;fill-opacity:0.1;stroke:#1f77b4;stroke-opacity:0.1;\" x=\"62.183807\" xlink:href=\"#m90fc26b69b\" y=\"211.854602\"/>\n     <use style=\"fill:#1f77b4;fill-opacity:0.1;stroke:#1f77b4;stroke-opacity:0.1;\" x=\"366.547443\" xlink:href=\"#m90fc26b69b\" y=\"210.015459\"/>\n     <use style=\"fill:#1f77b4;fill-opacity:0.1;stroke:#1f77b4;stroke-opacity:0.1;\" x=\"62.183807\" xlink:href=\"#m90fc26b69b\" y=\"196.660868\"/>\n     <use style=\"fill:#1f77b4;fill-opacity:0.1;stroke:#1f77b4;stroke-opacity:0.1;\" x=\"62.183807\" xlink:href=\"#m90fc26b69b\" y=\"214.756364\"/>\n     <use style=\"fill:#1f77b4;fill-opacity:0.1;stroke:#1f77b4;stroke-opacity:0.1;\" x=\"62.183807\" xlink:href=\"#m90fc26b69b\" y=\"211.65042\"/>\n     <use style=\"fill:#1f77b4;fill-opacity:0.1;stroke:#1f77b4;stroke-opacity:0.1;\" x=\"366.547443\" xlink:href=\"#m90fc26b69b\" y=\"211.057204\"/>\n     <use style=\"fill:#1f77b4;fill-opacity:0.1;stroke:#1f77b4;stroke-opacity:0.1;\" x=\"366.547443\" xlink:href=\"#m90fc26b69b\" y=\"179.615142\"/>\n     <use style=\"fill:#1f77b4;fill-opacity:0.1;stroke:#1f77b4;stroke-opacity:0.1;\" x=\"62.183807\" xlink:href=\"#m90fc26b69b\" y=\"204.930509\"/>\n     <use style=\"fill:#1f77b4;fill-opacity:0.1;stroke:#1f77b4;stroke-opacity:0.1;\" x=\"366.547443\" xlink:href=\"#m90fc26b69b\" y=\"180.031532\"/>\n     <use style=\"fill:#1f77b4;fill-opacity:0.1;stroke:#1f77b4;stroke-opacity:0.1;\" x=\"62.183807\" xlink:href=\"#m90fc26b69b\" y=\"203.297169\"/>\n     <use style=\"fill:#1f77b4;fill-opacity:0.1;stroke:#1f77b4;stroke-opacity:0.1;\" x=\"62.183807\" xlink:href=\"#m90fc26b69b\" y=\"211.65042\"/>\n     <use style=\"fill:#1f77b4;fill-opacity:0.1;stroke:#1f77b4;stroke-opacity:0.1;\" x=\"366.547443\" xlink:href=\"#m90fc26b69b\" y=\"208.621643\"/>\n     <use style=\"fill:#1f77b4;fill-opacity:0.1;stroke:#1f77b4;stroke-opacity:0.1;\" x=\"62.183807\" xlink:href=\"#m90fc26b69b\" y=\"207.052582\"/>\n     <use style=\"fill:#1f77b4;fill-opacity:0.1;stroke:#1f77b4;stroke-opacity:0.1;\" x=\"62.183807\" xlink:href=\"#m90fc26b69b\" y=\"211.959085\"/>\n     <use style=\"fill:#1f77b4;fill-opacity:0.1;stroke:#1f77b4;stroke-opacity:0.1;\" x=\"62.183807\" xlink:href=\"#m90fc26b69b\" y=\"202.988504\"/>\n     <use style=\"fill:#1f77b4;fill-opacity:0.1;stroke:#1f77b4;stroke-opacity:0.1;\" x=\"62.183807\" xlink:href=\"#m90fc26b69b\" y=\"195.656085\"/>\n     <use style=\"fill:#1f77b4;fill-opacity:0.1;stroke:#1f77b4;stroke-opacity:0.1;\" x=\"62.183807\" xlink:href=\"#m90fc26b69b\" y=\"211.65042\"/>\n     <use style=\"fill:#1f77b4;fill-opacity:0.1;stroke:#1f77b4;stroke-opacity:0.1;\" x=\"62.183807\" xlink:href=\"#m90fc26b69b\" y=\"209.177897\"/>\n     <use style=\"fill:#1f77b4;fill-opacity:0.1;stroke:#1f77b4;stroke-opacity:0.1;\" x=\"366.547443\" xlink:href=\"#m90fc26b69b\" y=\"184.558608\"/>\n     <use style=\"fill:#1f77b4;fill-opacity:0.1;stroke:#1f77b4;stroke-opacity:0.1;\" x=\"62.183807\" xlink:href=\"#m90fc26b69b\" y=\"208.930308\"/>\n     <use style=\"fill:#1f77b4;fill-opacity:0.1;stroke:#1f77b4;stroke-opacity:0.1;\" x=\"62.183807\" xlink:href=\"#m90fc26b69b\" y=\"156.283605\"/>\n     <use style=\"fill:#1f77b4;fill-opacity:0.1;stroke:#1f77b4;stroke-opacity:0.1;\" x=\"62.183807\" xlink:href=\"#m90fc26b69b\" y=\"211.748499\"/>\n     <use style=\"fill:#1f77b4;fill-opacity:0.1;stroke:#1f77b4;stroke-opacity:0.1;\" x=\"62.183807\" xlink:href=\"#m90fc26b69b\" y=\"211.414099\"/>\n     <use style=\"fill:#1f77b4;fill-opacity:0.1;stroke:#1f77b4;stroke-opacity:0.1;\" x=\"62.183807\" xlink:href=\"#m90fc26b69b\" y=\"211.76617\"/>\n     <use style=\"fill:#1f77b4;fill-opacity:0.1;stroke:#1f77b4;stroke-opacity:0.1;\" x=\"62.183807\" xlink:href=\"#m90fc26b69b\" y=\"211.812778\"/>\n     <use style=\"fill:#1f77b4;fill-opacity:0.1;stroke:#1f77b4;stroke-opacity:0.1;\" x=\"62.183807\" xlink:href=\"#m90fc26b69b\" y=\"211.057204\"/>\n     <use style=\"fill:#1f77b4;fill-opacity:0.1;stroke:#1f77b4;stroke-opacity:0.1;\" x=\"366.547443\" xlink:href=\"#m90fc26b69b\" y=\"181.381942\"/>\n     <use style=\"fill:#1f77b4;fill-opacity:0.1;stroke:#1f77b4;stroke-opacity:0.1;\" x=\"62.183807\" xlink:href=\"#m90fc26b69b\" y=\"172.739317\"/>\n     <use style=\"fill:#1f77b4;fill-opacity:0.1;stroke:#1f77b4;stroke-opacity:0.1;\" x=\"366.547443\" xlink:href=\"#m90fc26b69b\" y=\"204.724745\"/>\n     <use style=\"fill:#1f77b4;fill-opacity:0.1;stroke:#1f77b4;stroke-opacity:0.1;\" x=\"366.547443\" xlink:href=\"#m90fc26b69b\" y=\"204.512538\"/>\n     <use style=\"fill:#1f77b4;fill-opacity:0.1;stroke:#1f77b4;stroke-opacity:0.1;\" x=\"62.183807\" xlink:href=\"#m90fc26b69b\" y=\"206.06551\"/>\n     <use style=\"fill:#1f77b4;fill-opacity:0.1;stroke:#1f77b4;stroke-opacity:0.1;\" x=\"366.547443\" xlink:href=\"#m90fc26b69b\" y=\"192.958506\"/>\n     <use style=\"fill:#1f77b4;fill-opacity:0.1;stroke:#1f77b4;stroke-opacity:0.1;\" x=\"366.547443\" xlink:href=\"#m90fc26b69b\" y=\"211.76617\"/>\n     <use style=\"fill:#1f77b4;fill-opacity:0.1;stroke:#1f77b4;stroke-opacity:0.1;\" x=\"62.183807\" xlink:href=\"#m90fc26b69b\" y=\"211.65042\"/>\n     <use style=\"fill:#1f77b4;fill-opacity:0.1;stroke:#1f77b4;stroke-opacity:0.1;\" x=\"366.547443\" xlink:href=\"#m90fc26b69b\" y=\"204.613819\"/>\n     <use style=\"fill:#1f77b4;fill-opacity:0.1;stroke:#1f77b4;stroke-opacity:0.1;\" x=\"366.547443\" xlink:href=\"#m90fc26b69b\" y=\"191.837974\"/>\n     <use style=\"fill:#1f77b4;fill-opacity:0.1;stroke:#1f77b4;stroke-opacity:0.1;\" x=\"62.183807\" xlink:href=\"#m90fc26b69b\" y=\"211.864248\"/>\n     <use style=\"fill:#1f77b4;fill-opacity:0.1;stroke:#1f77b4;stroke-opacity:0.1;\" x=\"62.183807\" xlink:href=\"#m90fc26b69b\" y=\"201.630068\"/>\n     <use style=\"fill:#1f77b4;fill-opacity:0.1;stroke:#1f77b4;stroke-opacity:0.1;\" x=\"366.547443\" xlink:href=\"#m90fc26b69b\" y=\"210.705133\"/>\n     <use style=\"fill:#1f77b4;fill-opacity:0.1;stroke:#1f77b4;stroke-opacity:0.1;\" x=\"62.183807\" xlink:href=\"#m90fc26b69b\" y=\"205.438534\"/>\n     <use style=\"fill:#1f77b4;fill-opacity:0.1;stroke:#1f77b4;stroke-opacity:0.1;\" x=\"366.547443\" xlink:href=\"#m90fc26b69b\" y=\"204.724745\"/>\n     <use style=\"fill:#1f77b4;fill-opacity:0.1;stroke:#1f77b4;stroke-opacity:0.1;\" x=\"62.183807\" xlink:href=\"#m90fc26b69b\" y=\"211.709916\"/>\n     <use style=\"fill:#1f77b4;fill-opacity:0.1;stroke:#1f77b4;stroke-opacity:0.1;\" x=\"366.547443\" xlink:href=\"#m90fc26b69b\" y=\"178.681121\"/>\n     <use style=\"fill:#1f77b4;fill-opacity:0.1;stroke:#1f77b4;stroke-opacity:0.1;\" x=\"62.183807\" xlink:href=\"#m90fc26b69b\" y=\"211.709916\"/>\n     <use style=\"fill:#1f77b4;fill-opacity:0.1;stroke:#1f77b4;stroke-opacity:0.1;\" x=\"62.183807\" xlink:href=\"#m90fc26b69b\" y=\"211.968731\"/>\n     <use style=\"fill:#1f77b4;fill-opacity:0.1;stroke:#1f77b4;stroke-opacity:0.1;\" x=\"366.547443\" xlink:href=\"#m90fc26b69b\" y=\"192.386164\"/>\n     <use style=\"fill:#1f77b4;fill-opacity:0.1;stroke:#1f77b4;stroke-opacity:0.1;\" x=\"62.183807\" xlink:href=\"#m90fc26b69b\" y=\"211.967111\"/>\n     <use style=\"fill:#1f77b4;fill-opacity:0.1;stroke:#1f77b4;stroke-opacity:0.1;\" x=\"62.183807\" xlink:href=\"#m90fc26b69b\" y=\"211.76617\"/>\n     <use style=\"fill:#1f77b4;fill-opacity:0.1;stroke:#1f77b4;stroke-opacity:0.1;\" x=\"366.547443\" xlink:href=\"#m90fc26b69b\" y=\"210.705133\"/>\n     <use style=\"fill:#1f77b4;fill-opacity:0.1;stroke:#1f77b4;stroke-opacity:0.1;\" x=\"62.183807\" xlink:href=\"#m90fc26b69b\" y=\"129.186969\"/>\n     <use style=\"fill:#1f77b4;fill-opacity:0.1;stroke:#1f77b4;stroke-opacity:0.1;\" x=\"62.183807\" xlink:href=\"#m90fc26b69b\" y=\"211.698649\"/>\n     <use style=\"fill:#1f77b4;fill-opacity:0.1;stroke:#1f77b4;stroke-opacity:0.1;\" x=\"62.183807\" xlink:href=\"#m90fc26b69b\" y=\"210.319302\"/>\n     <use style=\"fill:#1f77b4;fill-opacity:0.1;stroke:#1f77b4;stroke-opacity:0.1;\" x=\"366.547443\" xlink:href=\"#m90fc26b69b\" y=\"204.724745\"/>\n     <use style=\"fill:#1f77b4;fill-opacity:0.1;stroke:#1f77b4;stroke-opacity:0.1;\" x=\"62.183807\" xlink:href=\"#m90fc26b69b\" y=\"211.967111\"/>\n     <use style=\"fill:#1f77b4;fill-opacity:0.1;stroke:#1f77b4;stroke-opacity:0.1;\" x=\"62.183807\" xlink:href=\"#m90fc26b69b\" y=\"211.967111\"/>\n     <use style=\"fill:#1f77b4;fill-opacity:0.1;stroke:#1f77b4;stroke-opacity:0.1;\" x=\"366.547443\" xlink:href=\"#m90fc26b69b\" y=\"206.129828\"/>\n     <use style=\"fill:#1f77b4;fill-opacity:0.1;stroke:#1f77b4;stroke-opacity:0.1;\" x=\"62.183807\" xlink:href=\"#m90fc26b69b\" y=\"211.414099\"/>\n     <use style=\"fill:#1f77b4;fill-opacity:0.1;stroke:#1f77b4;stroke-opacity:0.1;\" x=\"366.547443\" xlink:href=\"#m90fc26b69b\" y=\"204.628288\"/>\n     <use style=\"fill:#1f77b4;fill-opacity:0.1;stroke:#1f77b4;stroke-opacity:0.1;\" x=\"62.183807\" xlink:href=\"#m90fc26b69b\" y=\"204.512538\"/>\n     <use style=\"fill:#1f77b4;fill-opacity:0.1;stroke:#1f77b4;stroke-opacity:0.1;\" x=\"366.547443\" xlink:href=\"#m90fc26b69b\" y=\"173.69425\"/>\n     <use style=\"fill:#1f77b4;fill-opacity:0.1;stroke:#1f77b4;stroke-opacity:0.1;\" x=\"62.183807\" xlink:href=\"#m90fc26b69b\" y=\"209.161807\"/>\n     <use style=\"fill:#1f77b4;fill-opacity:0.1;stroke:#1f77b4;stroke-opacity:0.1;\" x=\"366.547443\" xlink:href=\"#m90fc26b69b\" y=\"195.657706\"/>\n     <use style=\"fill:#1f77b4;fill-opacity:0.1;stroke:#1f77b4;stroke-opacity:0.1;\" x=\"366.547443\" xlink:href=\"#m90fc26b69b\" y=\"187.362329\"/>\n     <use style=\"fill:#1f77b4;fill-opacity:0.1;stroke:#1f77b4;stroke-opacity:0.1;\" x=\"62.183807\" xlink:href=\"#m90fc26b69b\" y=\"202.689484\"/>\n     <use style=\"fill:#1f77b4;fill-opacity:0.1;stroke:#1f77b4;stroke-opacity:0.1;\" x=\"62.183807\" xlink:href=\"#m90fc26b69b\" y=\"202.689484\"/>\n     <use style=\"fill:#1f77b4;fill-opacity:0.1;stroke:#1f77b4;stroke-opacity:0.1;\" x=\"366.547443\" xlink:href=\"#m90fc26b69b\" y=\"204.724745\"/>\n     <use style=\"fill:#1f77b4;fill-opacity:0.1;stroke:#1f77b4;stroke-opacity:0.1;\" x=\"62.183807\" xlink:href=\"#m90fc26b69b\" y=\"173.69425\"/>\n     <use style=\"fill:#1f77b4;fill-opacity:0.1;stroke:#1f77b4;stroke-opacity:0.1;\" x=\"62.183807\" xlink:href=\"#m90fc26b69b\" y=\"204.724745\"/>\n     <use style=\"fill:#1f77b4;fill-opacity:0.1;stroke:#1f77b4;stroke-opacity:0.1;\" x=\"366.547443\" xlink:href=\"#m90fc26b69b\" y=\"204.724745\"/>\n     <use style=\"fill:#1f77b4;fill-opacity:0.1;stroke:#1f77b4;stroke-opacity:0.1;\" x=\"366.547443\" xlink:href=\"#m90fc26b69b\" y=\"209.407775\"/>\n     <use style=\"fill:#1f77b4;fill-opacity:0.1;stroke:#1f77b4;stroke-opacity:0.1;\" x=\"62.183807\" xlink:href=\"#m90fc26b69b\" y=\"206.837173\"/>\n     <use style=\"fill:#1f77b4;fill-opacity:0.1;stroke:#1f77b4;stroke-opacity:0.1;\" x=\"366.547443\" xlink:href=\"#m90fc26b69b\" y=\"200.577057\"/>\n     <use style=\"fill:#1f77b4;fill-opacity:0.1;stroke:#1f77b4;stroke-opacity:0.1;\" x=\"366.547443\" xlink:href=\"#m90fc26b69b\" y=\"171.974097\"/>\n     <use style=\"fill:#1f77b4;fill-opacity:0.1;stroke:#1f77b4;stroke-opacity:0.1;\" x=\"62.183807\" xlink:href=\"#m90fc26b69b\" y=\"204.724745\"/>\n     <use style=\"fill:#1f77b4;fill-opacity:0.1;stroke:#1f77b4;stroke-opacity:0.1;\" x=\"62.183807\" xlink:href=\"#m90fc26b69b\" y=\"211.735612\"/>\n     <use style=\"fill:#1f77b4;fill-opacity:0.1;stroke:#1f77b4;stroke-opacity:0.1;\" x=\"366.547443\" xlink:href=\"#m90fc26b69b\" y=\"211.968731\"/>\n     <use style=\"fill:#1f77b4;fill-opacity:0.1;stroke:#1f77b4;stroke-opacity:0.1;\" x=\"366.547443\" xlink:href=\"#m90fc26b69b\" y=\"211.756524\"/>\n     <use style=\"fill:#1f77b4;fill-opacity:0.1;stroke:#1f77b4;stroke-opacity:0.1;\" x=\"62.183807\" xlink:href=\"#m90fc26b69b\" y=\"204.512538\"/>\n     <use style=\"fill:#1f77b4;fill-opacity:0.1;stroke:#1f77b4;stroke-opacity:0.1;\" x=\"366.547443\" xlink:href=\"#m90fc26b69b\" y=\"199.477438\"/>\n     <use style=\"fill:#1f77b4;fill-opacity:0.1;stroke:#1f77b4;stroke-opacity:0.1;\" x=\"62.183807\" xlink:href=\"#m90fc26b69b\" y=\"126.970059\"/>\n     <use style=\"fill:#1f77b4;fill-opacity:0.1;stroke:#1f77b4;stroke-opacity:0.1;\" x=\"366.547443\" xlink:href=\"#m90fc26b69b\" y=\"184.024887\"/>\n     <use style=\"fill:#1f77b4;fill-opacity:0.1;stroke:#1f77b4;stroke-opacity:0.1;\" x=\"366.547443\" xlink:href=\"#m90fc26b69b\" y=\"208.042896\"/>\n     <use style=\"fill:#1f77b4;fill-opacity:0.1;stroke:#1f77b4;stroke-opacity:0.1;\" x=\"62.183807\" xlink:href=\"#m90fc26b69b\" y=\"211.76617\"/>\n     <use style=\"fill:#1f77b4;fill-opacity:0.1;stroke:#1f77b4;stroke-opacity:0.1;\" x=\"62.183807\" xlink:href=\"#m90fc26b69b\" y=\"211.709916\"/>\n     <use style=\"fill:#1f77b4;fill-opacity:0.1;stroke:#1f77b4;stroke-opacity:0.1;\" x=\"62.183807\" xlink:href=\"#m90fc26b69b\" y=\"209.547639\"/>\n     <use style=\"fill:#1f77b4;fill-opacity:0.1;stroke:#1f77b4;stroke-opacity:0.1;\" x=\"62.183807\" xlink:href=\"#m90fc26b69b\" y=\"211.65042\"/>\n     <use style=\"fill:#1f77b4;fill-opacity:0.1;stroke:#1f77b4;stroke-opacity:0.1;\" x=\"62.183807\" xlink:href=\"#m90fc26b69b\" y=\"211.65042\"/>\n     <use style=\"fill:#1f77b4;fill-opacity:0.1;stroke:#1f77b4;stroke-opacity:0.1;\" x=\"62.183807\" xlink:href=\"#m90fc26b69b\" y=\"205.438534\"/>\n     <use style=\"fill:#1f77b4;fill-opacity:0.1;stroke:#1f77b4;stroke-opacity:0.1;\" x=\"62.183807\" xlink:href=\"#m90fc26b69b\" y=\"211.709916\"/>\n     <use style=\"fill:#1f77b4;fill-opacity:0.1;stroke:#1f77b4;stroke-opacity:0.1;\" x=\"62.183807\" xlink:href=\"#m90fc26b69b\" y=\"206.624965\"/>\n     <use style=\"fill:#1f77b4;fill-opacity:0.1;stroke:#1f77b4;stroke-opacity:0.1;\" x=\"62.183807\" xlink:href=\"#m90fc26b69b\" y=\"211.967111\"/>\n     <use style=\"fill:#1f77b4;fill-opacity:0.1;stroke:#1f77b4;stroke-opacity:0.1;\" x=\"366.547443\" xlink:href=\"#m90fc26b69b\" y=\"211.725966\"/>\n     <use style=\"fill:#1f77b4;fill-opacity:0.1;stroke:#1f77b4;stroke-opacity:0.1;\" x=\"366.547443\" xlink:href=\"#m90fc26b69b\" y=\"210.705133\"/>\n     <use style=\"fill:#1f77b4;fill-opacity:0.1;stroke:#1f77b4;stroke-opacity:0.1;\" x=\"366.547443\" xlink:href=\"#m90fc26b69b\" y=\"194.894068\"/>\n     <use style=\"fill:#1f77b4;fill-opacity:0.1;stroke:#1f77b4;stroke-opacity:0.1;\" x=\"366.547443\" xlink:href=\"#m90fc26b69b\" y=\"204.575236\"/>\n     <use style=\"fill:#1f77b4;fill-opacity:0.1;stroke:#1f77b4;stroke-opacity:0.1;\" x=\"366.547443\" xlink:href=\"#m90fc26b69b\" y=\"211.76617\"/>\n     <use style=\"fill:#1f77b4;fill-opacity:0.1;stroke:#1f77b4;stroke-opacity:0.1;\" x=\"62.183807\" xlink:href=\"#m90fc26b69b\" y=\"211.65042\"/>\n     <use style=\"fill:#1f77b4;fill-opacity:0.1;stroke:#1f77b4;stroke-opacity:0.1;\" x=\"62.183807\" xlink:href=\"#m90fc26b69b\" y=\"209.161807\"/>\n     <use style=\"fill:#1f77b4;fill-opacity:0.1;stroke:#1f77b4;stroke-opacity:0.1;\" x=\"366.547443\" xlink:href=\"#m90fc26b69b\" y=\"209.740555\"/>\n     <use style=\"fill:#1f77b4;fill-opacity:0.1;stroke:#1f77b4;stroke-opacity:0.1;\" x=\"366.547443\" xlink:href=\"#m90fc26b69b\" y=\"193.188385\"/>\n     <use style=\"fill:#1f77b4;fill-opacity:0.1;stroke:#1f77b4;stroke-opacity:0.1;\" x=\"62.183807\" xlink:href=\"#m90fc26b69b\" y=\"209.177897\"/>\n     <use style=\"fill:#1f77b4;fill-opacity:0.1;stroke:#1f77b4;stroke-opacity:0.1;\" x=\"366.547443\" xlink:href=\"#m90fc26b69b\" y=\"211.698649\"/>\n     <use style=\"fill:#1f77b4;fill-opacity:0.1;stroke:#1f77b4;stroke-opacity:0.1;\" x=\"366.547443\" xlink:href=\"#m90fc26b69b\" y=\"203.18142\"/>\n     <use style=\"fill:#1f77b4;fill-opacity:0.1;stroke:#1f77b4;stroke-opacity:0.1;\" x=\"366.547443\" xlink:href=\"#m90fc26b69b\" y=\"171.974097\"/>\n     <use style=\"fill:#1f77b4;fill-opacity:0.1;stroke:#1f77b4;stroke-opacity:0.1;\" x=\"62.183807\" xlink:href=\"#m90fc26b69b\" y=\"204.724745\"/>\n     <use style=\"fill:#1f77b4;fill-opacity:0.1;stroke:#1f77b4;stroke-opacity:0.1;\" x=\"62.183807\" xlink:href=\"#m90fc26b69b\" y=\"199.274876\"/>\n     <use style=\"fill:#1f77b4;fill-opacity:0.1;stroke:#1f77b4;stroke-opacity:0.1;\" x=\"62.183807\" xlink:href=\"#m90fc26b69b\" y=\"211.394807\"/>\n     <use style=\"fill:#1f77b4;fill-opacity:0.1;stroke:#1f77b4;stroke-opacity:0.1;\" x=\"366.547443\" xlink:href=\"#m90fc26b69b\" y=\"184.024887\"/>\n     <use style=\"fill:#1f77b4;fill-opacity:0.1;stroke:#1f77b4;stroke-opacity:0.1;\" x=\"62.183807\" xlink:href=\"#m90fc26b69b\" y=\"208.968892\"/>\n     <use style=\"fill:#1f77b4;fill-opacity:0.1;stroke:#1f77b4;stroke-opacity:0.1;\" x=\"366.547443\" xlink:href=\"#m90fc26b69b\" y=\"184.198511\"/>\n     <use style=\"fill:#1f77b4;fill-opacity:0.1;stroke:#1f77b4;stroke-opacity:0.1;\" x=\"62.183807\" xlink:href=\"#m90fc26b69b\" y=\"211.65042\"/>\n     <use style=\"fill:#1f77b4;fill-opacity:0.1;stroke:#1f77b4;stroke-opacity:0.1;\" x=\"62.183807\" xlink:href=\"#m90fc26b69b\" y=\"211.65042\"/>\n     <use style=\"fill:#1f77b4;fill-opacity:0.1;stroke:#1f77b4;stroke-opacity:0.1;\" x=\"62.183807\" xlink:href=\"#m90fc26b69b\" y=\"212.007314\"/>\n     <use style=\"fill:#1f77b4;fill-opacity:0.1;stroke:#1f77b4;stroke-opacity:0.1;\" x=\"366.547443\" xlink:href=\"#m90fc26b69b\" y=\"184.558608\"/>\n     <use style=\"fill:#1f77b4;fill-opacity:0.1;stroke:#1f77b4;stroke-opacity:0.1;\" x=\"62.183807\" xlink:href=\"#m90fc26b69b\" y=\"211.959085\"/>\n     <use style=\"fill:#1f77b4;fill-opacity:0.1;stroke:#1f77b4;stroke-opacity:0.1;\" x=\"62.183807\" xlink:href=\"#m90fc26b69b\" y=\"211.76617\"/>\n     <use style=\"fill:#1f77b4;fill-opacity:0.1;stroke:#1f77b4;stroke-opacity:0.1;\" x=\"62.183807\" xlink:href=\"#m90fc26b69b\" y=\"204.724745\"/>\n     <use style=\"fill:#1f77b4;fill-opacity:0.1;stroke:#1f77b4;stroke-opacity:0.1;\" x=\"62.183807\" xlink:href=\"#m90fc26b69b\" y=\"205.438534\"/>\n     <use style=\"fill:#1f77b4;fill-opacity:0.1;stroke:#1f77b4;stroke-opacity:0.1;\" x=\"366.547443\" xlink:href=\"#m90fc26b69b\" y=\"202.023925\"/>\n     <use style=\"fill:#1f77b4;fill-opacity:0.1;stroke:#1f77b4;stroke-opacity:0.1;\" x=\"62.183807\" xlink:href=\"#m90fc26b69b\" y=\"214.756364\"/>\n     <use style=\"fill:#1f77b4;fill-opacity:0.1;stroke:#1f77b4;stroke-opacity:0.1;\" x=\"62.183807\" xlink:href=\"#m90fc26b69b\" y=\"211.968731\"/>\n     <use style=\"fill:#1f77b4;fill-opacity:0.1;stroke:#1f77b4;stroke-opacity:0.1;\" x=\"366.547443\" xlink:href=\"#m90fc26b69b\" y=\"192.791287\"/>\n     <use style=\"fill:#1f77b4;fill-opacity:0.1;stroke:#1f77b4;stroke-opacity:0.1;\" x=\"366.547443\" xlink:href=\"#m90fc26b69b\" y=\"204.338914\"/>\n     <use style=\"fill:#1f77b4;fill-opacity:0.1;stroke:#1f77b4;stroke-opacity:0.1;\" x=\"62.183807\" xlink:href=\"#m90fc26b69b\" y=\"211.709916\"/>\n     <use style=\"fill:#1f77b4;fill-opacity:0.1;stroke:#1f77b4;stroke-opacity:0.1;\" x=\"62.183807\" xlink:href=\"#m90fc26b69b\" y=\"198.397109\"/>\n     <use style=\"fill:#1f77b4;fill-opacity:0.1;stroke:#1f77b4;stroke-opacity:0.1;\" x=\"62.183807\" xlink:href=\"#m90fc26b69b\" y=\"211.65042\"/>\n     <use style=\"fill:#1f77b4;fill-opacity:0.1;stroke:#1f77b4;stroke-opacity:0.1;\" x=\"366.547443\" xlink:href=\"#m90fc26b69b\" y=\"204.512538\"/>\n     <use style=\"fill:#1f77b4;fill-opacity:0.1;stroke:#1f77b4;stroke-opacity:0.1;\" x=\"62.183807\" xlink:href=\"#m90fc26b69b\" y=\"208.756684\"/>\n     <use style=\"fill:#1f77b4;fill-opacity:0.1;stroke:#1f77b4;stroke-opacity:0.1;\" x=\"62.183807\" xlink:href=\"#m90fc26b69b\" y=\"211.709916\"/>\n     <use style=\"fill:#1f77b4;fill-opacity:0.1;stroke:#1f77b4;stroke-opacity:0.1;\" x=\"366.547443\" xlink:href=\"#m90fc26b69b\" y=\"202.988504\"/>\n     <use style=\"fill:#1f77b4;fill-opacity:0.1;stroke:#1f77b4;stroke-opacity:0.1;\" x=\"366.547443\" xlink:href=\"#m90fc26b69b\" y=\"198.7138\"/>\n     <use style=\"fill:#1f77b4;fill-opacity:0.1;stroke:#1f77b4;stroke-opacity:0.1;\" x=\"366.547443\" xlink:href=\"#m90fc26b69b\" y=\"155.545702\"/>\n     <use style=\"fill:#1f77b4;fill-opacity:0.1;stroke:#1f77b4;stroke-opacity:0.1;\" x=\"62.183807\" xlink:href=\"#m90fc26b69b\" y=\"202.689484\"/>\n     <use style=\"fill:#1f77b4;fill-opacity:0.1;stroke:#1f77b4;stroke-opacity:0.1;\" x=\"62.183807\" xlink:href=\"#m90fc26b69b\" y=\"212.036252\"/>\n     <use style=\"fill:#1f77b4;fill-opacity:0.1;stroke:#1f77b4;stroke-opacity:0.1;\" x=\"366.547443\" xlink:href=\"#m90fc26b69b\" y=\"208.775976\"/>\n     <use style=\"fill:#1f77b4;fill-opacity:0.1;stroke:#1f77b4;stroke-opacity:0.1;\" x=\"62.183807\" xlink:href=\"#m90fc26b69b\" y=\"211.76617\"/>\n     <use style=\"fill:#1f77b4;fill-opacity:0.1;stroke:#1f77b4;stroke-opacity:0.1;\" x=\"62.183807\" xlink:href=\"#m90fc26b69b\" y=\"211.65042\"/>\n     <use style=\"fill:#1f77b4;fill-opacity:0.1;stroke:#1f77b4;stroke-opacity:0.1;\" x=\"366.547443\" xlink:href=\"#m90fc26b69b\" y=\"189.677318\"/>\n     <use style=\"fill:#1f77b4;fill-opacity:0.1;stroke:#1f77b4;stroke-opacity:0.1;\" x=\"62.183807\" xlink:href=\"#m90fc26b69b\" y=\"209.20039\"/>\n     <use style=\"fill:#1f77b4;fill-opacity:0.1;stroke:#1f77b4;stroke-opacity:0.1;\" x=\"62.183807\" xlink:href=\"#m90fc26b69b\" y=\"208.544477\"/>\n     <use style=\"fill:#1f77b4;fill-opacity:0.1;stroke:#1f77b4;stroke-opacity:0.1;\" x=\"366.547443\" xlink:href=\"#m90fc26b69b\" y=\"199.708936\"/>\n     <use style=\"fill:#1f77b4;fill-opacity:0.1;stroke:#1f77b4;stroke-opacity:0.1;\" x=\"62.183807\" xlink:href=\"#m90fc26b69b\" y=\"210.705133\"/>\n     <use style=\"fill:#1f77b4;fill-opacity:0.1;stroke:#1f77b4;stroke-opacity:0.1;\" x=\"62.183807\" xlink:href=\"#m90fc26b69b\" y=\"209.179478\"/>\n     <use style=\"fill:#1f77b4;fill-opacity:0.1;stroke:#1f77b4;stroke-opacity:0.1;\" x=\"366.547443\" xlink:href=\"#m90fc26b69b\" y=\"194.4793\"/>\n     <use style=\"fill:#1f77b4;fill-opacity:0.1;stroke:#1f77b4;stroke-opacity:0.1;\" x=\"366.547443\" xlink:href=\"#m90fc26b69b\" y=\"208.68272\"/>\n     <use style=\"fill:#1f77b4;fill-opacity:0.1;stroke:#1f77b4;stroke-opacity:0.1;\" x=\"62.183807\" xlink:href=\"#m90fc26b69b\" y=\"211.725966\"/>\n     <use style=\"fill:#1f77b4;fill-opacity:0.1;stroke:#1f77b4;stroke-opacity:0.1;\" x=\"62.183807\" xlink:href=\"#m90fc26b69b\" y=\"208.544477\"/>\n     <use style=\"fill:#1f77b4;fill-opacity:0.1;stroke:#1f77b4;stroke-opacity:0.1;\" x=\"62.183807\" xlink:href=\"#m90fc26b69b\" y=\"202.285982\"/>\n     <use style=\"fill:#1f77b4;fill-opacity:0.1;stroke:#1f77b4;stroke-opacity:0.1;\" x=\"62.183807\" xlink:href=\"#m90fc26b69b\" y=\"209.991345\"/>\n     <use style=\"fill:#1f77b4;fill-opacity:0.1;stroke:#1f77b4;stroke-opacity:0.1;\" x=\"366.547443\" xlink:href=\"#m90fc26b69b\" y=\"184.677598\"/>\n     <use style=\"fill:#1f77b4;fill-opacity:0.1;stroke:#1f77b4;stroke-opacity:0.1;\" x=\"62.183807\" xlink:href=\"#m90fc26b69b\" y=\"211.709916\"/>\n     <use style=\"fill:#1f77b4;fill-opacity:0.1;stroke:#1f77b4;stroke-opacity:0.1;\" x=\"62.183807\" xlink:href=\"#m90fc26b69b\" y=\"211.772613\"/>\n     <use style=\"fill:#1f77b4;fill-opacity:0.1;stroke:#1f77b4;stroke-opacity:0.1;\" x=\"366.547443\" xlink:href=\"#m90fc26b69b\" y=\"203.18142\"/>\n     <use style=\"fill:#1f77b4;fill-opacity:0.1;stroke:#1f77b4;stroke-opacity:0.1;\" x=\"62.183807\" xlink:href=\"#m90fc26b69b\" y=\"212.034631\"/>\n     <use style=\"fill:#1f77b4;fill-opacity:0.1;stroke:#1f77b4;stroke-opacity:0.1;\" x=\"366.547443\" xlink:href=\"#m90fc26b69b\" y=\"202.988504\"/>\n     <use style=\"fill:#1f77b4;fill-opacity:0.1;stroke:#1f77b4;stroke-opacity:0.1;\" x=\"62.183807\" xlink:href=\"#m90fc26b69b\" y=\"214.756364\"/>\n     <use style=\"fill:#1f77b4;fill-opacity:0.1;stroke:#1f77b4;stroke-opacity:0.1;\" x=\"62.183807\" xlink:href=\"#m90fc26b69b\" y=\"203.991666\"/>\n     <use style=\"fill:#1f77b4;fill-opacity:0.1;stroke:#1f77b4;stroke-opacity:0.1;\" x=\"366.547443\" xlink:href=\"#m90fc26b69b\" y=\"209.740555\"/>\n     <use style=\"fill:#1f77b4;fill-opacity:0.1;stroke:#1f77b4;stroke-opacity:0.1;\" x=\"62.183807\" xlink:href=\"#m90fc26b69b\" y=\"211.698649\"/>\n     <use style=\"fill:#1f77b4;fill-opacity:0.1;stroke:#1f77b4;stroke-opacity:0.1;\" x=\"62.183807\" xlink:href=\"#m90fc26b69b\" y=\"204.628288\"/>\n     <use style=\"fill:#1f77b4;fill-opacity:0.1;stroke:#1f77b4;stroke-opacity:0.1;\" x=\"62.183807\" xlink:href=\"#m90fc26b69b\" y=\"199.443677\"/>\n     <use style=\"fill:#1f77b4;fill-opacity:0.1;stroke:#1f77b4;stroke-opacity:0.1;\" x=\"62.183807\" xlink:href=\"#m90fc26b69b\" y=\"208.544477\"/>\n     <use style=\"fill:#1f77b4;fill-opacity:0.1;stroke:#1f77b4;stroke-opacity:0.1;\" x=\"62.183807\" xlink:href=\"#m90fc26b69b\" y=\"211.725966\"/>\n     <use style=\"fill:#1f77b4;fill-opacity:0.1;stroke:#1f77b4;stroke-opacity:0.1;\" x=\"366.547443\" xlink:href=\"#m90fc26b69b\" y=\"188.018243\"/>\n     <use style=\"fill:#1f77b4;fill-opacity:0.1;stroke:#1f77b4;stroke-opacity:0.1;\" x=\"62.183807\" xlink:href=\"#m90fc26b69b\" y=\"203.991666\"/>\n     <use style=\"fill:#1f77b4;fill-opacity:0.1;stroke:#1f77b4;stroke-opacity:0.1;\" x=\"366.547443\" xlink:href=\"#m90fc26b69b\" y=\"192.958506\"/>\n     <use style=\"fill:#1f77b4;fill-opacity:0.1;stroke:#1f77b4;stroke-opacity:0.1;\" x=\"366.547443\" xlink:href=\"#m90fc26b69b\" y=\"207.325905\"/>\n     <use style=\"fill:#1f77b4;fill-opacity:0.1;stroke:#1f77b4;stroke-opacity:0.1;\" x=\"366.547443\" xlink:href=\"#m90fc26b69b\" y=\"185.151824\"/>\n     <use style=\"fill:#1f77b4;fill-opacity:0.1;stroke:#1f77b4;stroke-opacity:0.1;\" x=\"62.183807\" xlink:href=\"#m90fc26b69b\" y=\"211.709916\"/>\n     <use style=\"fill:#1f77b4;fill-opacity:0.1;stroke:#1f77b4;stroke-opacity:0.1;\" x=\"366.547443\" xlink:href=\"#m90fc26b69b\" y=\"201.059347\"/>\n     <use style=\"fill:#1f77b4;fill-opacity:0.1;stroke:#1f77b4;stroke-opacity:0.1;\" x=\"62.183807\" xlink:href=\"#m90fc26b69b\" y=\"211.843336\"/>\n     <use style=\"fill:#1f77b4;fill-opacity:0.1;stroke:#1f77b4;stroke-opacity:0.1;\" x=\"366.547443\" xlink:href=\"#m90fc26b69b\" y=\"211.843336\"/>\n     <use style=\"fill:#1f77b4;fill-opacity:0.1;stroke:#1f77b4;stroke-opacity:0.1;\" x=\"62.183807\" xlink:href=\"#m90fc26b69b\" y=\"211.709916\"/>\n     <use style=\"fill:#1f77b4;fill-opacity:0.1;stroke:#1f77b4;stroke-opacity:0.1;\" x=\"366.547443\" xlink:href=\"#m90fc26b69b\" y=\"205.88224\"/>\n     <use style=\"fill:#1f77b4;fill-opacity:0.1;stroke:#1f77b4;stroke-opacity:0.1;\" x=\"62.183807\" xlink:href=\"#m90fc26b69b\" y=\"211.502531\"/>\n     <use style=\"fill:#1f77b4;fill-opacity:0.1;stroke:#1f77b4;stroke-opacity:0.1;\" x=\"366.547443\" xlink:href=\"#m90fc26b69b\" y=\"211.735612\"/>\n     <use style=\"fill:#1f77b4;fill-opacity:0.1;stroke:#1f77b4;stroke-opacity:0.1;\" x=\"62.183807\" xlink:href=\"#m90fc26b69b\" y=\"212.152001\"/>\n     <use style=\"fill:#1f77b4;fill-opacity:0.1;stroke:#1f77b4;stroke-opacity:0.1;\" x=\"62.183807\" xlink:href=\"#m90fc26b69b\" y=\"186.397751\"/>\n     <use style=\"fill:#1f77b4;fill-opacity:0.1;stroke:#1f77b4;stroke-opacity:0.1;\" x=\"62.183807\" xlink:href=\"#m90fc26b69b\" y=\"211.709916\"/>\n     <use style=\"fill:#1f77b4;fill-opacity:0.1;stroke:#1f77b4;stroke-opacity:0.1;\" x=\"62.183807\" xlink:href=\"#m90fc26b69b\" y=\"208.775976\"/>\n     <use style=\"fill:#1f77b4;fill-opacity:0.1;stroke:#1f77b4;stroke-opacity:0.1;\" x=\"62.183807\" xlink:href=\"#m90fc26b69b\" y=\"209.740555\"/>\n     <use style=\"fill:#1f77b4;fill-opacity:0.1;stroke:#1f77b4;stroke-opacity:0.1;\" x=\"62.183807\" xlink:href=\"#m90fc26b69b\" y=\"171.051304\"/>\n     <use style=\"fill:#1f77b4;fill-opacity:0.1;stroke:#1f77b4;stroke-opacity:0.1;\" x=\"366.547443\" xlink:href=\"#m90fc26b69b\" y=\"163.189988\"/>\n     <use style=\"fill:#1f77b4;fill-opacity:0.1;stroke:#1f77b4;stroke-opacity:0.1;\" x=\"62.183807\" xlink:href=\"#m90fc26b69b\" y=\"211.968731\"/>\n     <use style=\"fill:#1f77b4;fill-opacity:0.1;stroke:#1f77b4;stroke-opacity:0.1;\" x=\"62.183807\" xlink:href=\"#m90fc26b69b\" y=\"204.883901\"/>\n     <use style=\"fill:#1f77b4;fill-opacity:0.1;stroke:#1f77b4;stroke-opacity:0.1;\" x=\"62.183807\" xlink:href=\"#m90fc26b69b\" y=\"211.864248\"/>\n     <use style=\"fill:#1f77b4;fill-opacity:0.1;stroke:#1f77b4;stroke-opacity:0.1;\" x=\"366.547443\" xlink:href=\"#m90fc26b69b\" y=\"211.698649\"/>\n     <use style=\"fill:#1f77b4;fill-opacity:0.1;stroke:#1f77b4;stroke-opacity:0.1;\" x=\"62.183807\" xlink:href=\"#m90fc26b69b\" y=\"186.397751\"/>\n     <use style=\"fill:#1f77b4;fill-opacity:0.1;stroke:#1f77b4;stroke-opacity:0.1;\" x=\"62.183807\" xlink:href=\"#m90fc26b69b\" y=\"209.740555\"/>\n     <use style=\"fill:#1f77b4;fill-opacity:0.1;stroke:#1f77b4;stroke-opacity:0.1;\" x=\"62.183807\" xlink:href=\"#m90fc26b69b\" y=\"211.756524\"/>\n     <use style=\"fill:#1f77b4;fill-opacity:0.1;stroke:#1f77b4;stroke-opacity:0.1;\" x=\"62.183807\" xlink:href=\"#m90fc26b69b\" y=\"211.65042\"/>\n     <use style=\"fill:#1f77b4;fill-opacity:0.1;stroke:#1f77b4;stroke-opacity:0.1;\" x=\"366.547443\" xlink:href=\"#m90fc26b69b\" y=\"194.693127\"/>\n     <use style=\"fill:#1f77b4;fill-opacity:0.1;stroke:#1f77b4;stroke-opacity:0.1;\" x=\"366.547443\" xlink:href=\"#m90fc26b69b\" y=\"199.708936\"/>\n     <use style=\"fill:#1f77b4;fill-opacity:0.1;stroke:#1f77b4;stroke-opacity:0.1;\" x=\"62.183807\" xlink:href=\"#m90fc26b69b\" y=\"194.693127\"/>\n     <use style=\"fill:#1f77b4;fill-opacity:0.1;stroke:#1f77b4;stroke-opacity:0.1;\" x=\"62.183807\" xlink:href=\"#m90fc26b69b\" y=\"210.705133\"/>\n     <use style=\"fill:#1f77b4;fill-opacity:0.1;stroke:#1f77b4;stroke-opacity:0.1;\" x=\"366.547443\" xlink:href=\"#m90fc26b69b\" y=\"209.740555\"/>\n     <use style=\"fill:#1f77b4;fill-opacity:0.1;stroke:#1f77b4;stroke-opacity:0.1;\" x=\"62.183807\" xlink:href=\"#m90fc26b69b\" y=\"214.756364\"/>\n     <use style=\"fill:#1f77b4;fill-opacity:0.1;stroke:#1f77b4;stroke-opacity:0.1;\" x=\"62.183807\" xlink:href=\"#m90fc26b69b\" y=\"211.756524\"/>\n     <use style=\"fill:#1f77b4;fill-opacity:0.1;stroke:#1f77b4;stroke-opacity:0.1;\" x=\"62.183807\" xlink:href=\"#m90fc26b69b\" y=\"211.65042\"/>\n     <use style=\"fill:#1f77b4;fill-opacity:0.1;stroke:#1f77b4;stroke-opacity:0.1;\" x=\"366.547443\" xlink:href=\"#m90fc26b69b\" y=\"210.959126\"/>\n     <use style=\"fill:#1f77b4;fill-opacity:0.1;stroke:#1f77b4;stroke-opacity:0.1;\" x=\"62.183807\" xlink:href=\"#m90fc26b69b\" y=\"196.660868\"/>\n     <use style=\"fill:#1f77b4;fill-opacity:0.1;stroke:#1f77b4;stroke-opacity:0.1;\" x=\"366.547443\" xlink:href=\"#m90fc26b69b\" y=\"17.083636\"/>\n     <use style=\"fill:#1f77b4;fill-opacity:0.1;stroke:#1f77b4;stroke-opacity:0.1;\" x=\"62.183807\" xlink:href=\"#m90fc26b69b\" y=\"211.61666\"/>\n     <use style=\"fill:#1f77b4;fill-opacity:0.1;stroke:#1f77b4;stroke-opacity:0.1;\" x=\"366.547443\" xlink:href=\"#m90fc26b69b\" y=\"185.151824\"/>\n     <use style=\"fill:#1f77b4;fill-opacity:0.1;stroke:#1f77b4;stroke-opacity:0.1;\" x=\"62.183807\" xlink:href=\"#m90fc26b69b\" y=\"211.197068\"/>\n     <use style=\"fill:#1f77b4;fill-opacity:0.1;stroke:#1f77b4;stroke-opacity:0.1;\" x=\"62.183807\" xlink:href=\"#m90fc26b69b\" y=\"196.660868\"/>\n     <use style=\"fill:#1f77b4;fill-opacity:0.1;stroke:#1f77b4;stroke-opacity:0.1;\" x=\"62.183807\" xlink:href=\"#m90fc26b69b\" y=\"199.708936\"/>\n     <use style=\"fill:#1f77b4;fill-opacity:0.1;stroke:#1f77b4;stroke-opacity:0.1;\" x=\"62.183807\" xlink:href=\"#m90fc26b69b\" y=\"198.7138\"/>\n     <use style=\"fill:#1f77b4;fill-opacity:0.1;stroke:#1f77b4;stroke-opacity:0.1;\" x=\"62.183807\" xlink:href=\"#m90fc26b69b\" y=\"199.443677\"/>\n     <use style=\"fill:#1f77b4;fill-opacity:0.1;stroke:#1f77b4;stroke-opacity:0.1;\" x=\"62.183807\" xlink:href=\"#m90fc26b69b\" y=\"210.832149\"/>\n     <use style=\"fill:#1f77b4;fill-opacity:0.1;stroke:#1f77b4;stroke-opacity:0.1;\" x=\"62.183807\" xlink:href=\"#m90fc26b69b\" y=\"211.748499\"/>\n     <use style=\"fill:#1f77b4;fill-opacity:0.1;stroke:#1f77b4;stroke-opacity:0.1;\" x=\"366.547443\" xlink:href=\"#m90fc26b69b\" y=\"133.215706\"/>\n     <use style=\"fill:#1f77b4;fill-opacity:0.1;stroke:#1f77b4;stroke-opacity:0.1;\" x=\"366.547443\" xlink:href=\"#m90fc26b69b\" y=\"192.76397\"/>\n     <use style=\"fill:#1f77b4;fill-opacity:0.1;stroke:#1f77b4;stroke-opacity:0.1;\" x=\"366.547443\" xlink:href=\"#m90fc26b69b\" y=\"209.579779\"/>\n     <use style=\"fill:#1f77b4;fill-opacity:0.1;stroke:#1f77b4;stroke-opacity:0.1;\" x=\"366.547443\" xlink:href=\"#m90fc26b69b\" y=\"192.958506\"/>\n     <use style=\"fill:#1f77b4;fill-opacity:0.1;stroke:#1f77b4;stroke-opacity:0.1;\" x=\"62.183807\" xlink:href=\"#m90fc26b69b\" y=\"211.968731\"/>\n     <use style=\"fill:#1f77b4;fill-opacity:0.1;stroke:#1f77b4;stroke-opacity:0.1;\" x=\"62.183807\" xlink:href=\"#m90fc26b69b\" y=\"204.512538\"/>\n     <use style=\"fill:#1f77b4;fill-opacity:0.1;stroke:#1f77b4;stroke-opacity:0.1;\" x=\"62.183807\" xlink:href=\"#m90fc26b69b\" y=\"209.547639\"/>\n     <use style=\"fill:#1f77b4;fill-opacity:0.1;stroke:#1f77b4;stroke-opacity:0.1;\" x=\"62.183807\" xlink:href=\"#m90fc26b69b\" y=\"211.65042\"/>\n     <use style=\"fill:#1f77b4;fill-opacity:0.1;stroke:#1f77b4;stroke-opacity:0.1;\" x=\"366.547443\" xlink:href=\"#m90fc26b69b\" y=\"211.772613\"/>\n     <use style=\"fill:#1f77b4;fill-opacity:0.1;stroke:#1f77b4;stroke-opacity:0.1;\" x=\"62.183807\" xlink:href=\"#m90fc26b69b\" y=\"171.974097\"/>\n     <use style=\"fill:#1f77b4;fill-opacity:0.1;stroke:#1f77b4;stroke-opacity:0.1;\" x=\"62.183807\" xlink:href=\"#m90fc26b69b\" y=\"211.804753\"/>\n     <use style=\"fill:#1f77b4;fill-opacity:0.1;stroke:#1f77b4;stroke-opacity:0.1;\" x=\"366.547443\" xlink:href=\"#m90fc26b69b\" y=\"126.970059\"/>\n     <use style=\"fill:#1f77b4;fill-opacity:0.1;stroke:#1f77b4;stroke-opacity:0.1;\" x=\"366.547443\" xlink:href=\"#m90fc26b69b\" y=\"204.613819\"/>\n     <use style=\"fill:#1f77b4;fill-opacity:0.1;stroke:#1f77b4;stroke-opacity:0.1;\" x=\"62.183807\" xlink:href=\"#m90fc26b69b\" y=\"209.179478\"/>\n     <use style=\"fill:#1f77b4;fill-opacity:0.1;stroke:#1f77b4;stroke-opacity:0.1;\" x=\"62.183807\" xlink:href=\"#m90fc26b69b\" y=\"211.769372\"/>\n     <use style=\"fill:#1f77b4;fill-opacity:0.1;stroke:#1f77b4;stroke-opacity:0.1;\" x=\"62.183807\" xlink:href=\"#m90fc26b69b\" y=\"211.725966\"/>\n     <use style=\"fill:#1f77b4;fill-opacity:0.1;stroke:#1f77b4;stroke-opacity:0.1;\" x=\"62.183807\" xlink:href=\"#m90fc26b69b\" y=\"204.724745\"/>\n     <use style=\"fill:#1f77b4;fill-opacity:0.1;stroke:#1f77b4;stroke-opacity:0.1;\" x=\"366.547443\" xlink:href=\"#m90fc26b69b\" y=\"209.547639\"/>\n     <use style=\"fill:#1f77b4;fill-opacity:0.1;stroke:#1f77b4;stroke-opacity:0.1;\" x=\"366.547443\" xlink:href=\"#m90fc26b69b\" y=\"204.613819\"/>\n     <use style=\"fill:#1f77b4;fill-opacity:0.1;stroke:#1f77b4;stroke-opacity:0.1;\" x=\"366.547443\" xlink:href=\"#m90fc26b69b\" y=\"156.283605\"/>\n     <use style=\"fill:#1f77b4;fill-opacity:0.1;stroke:#1f77b4;stroke-opacity:0.1;\" x=\"366.547443\" xlink:href=\"#m90fc26b69b\" y=\"208.874054\"/>\n     <use style=\"fill:#1f77b4;fill-opacity:0.1;stroke:#1f77b4;stroke-opacity:0.1;\" x=\"366.547443\" xlink:href=\"#m90fc26b69b\" y=\"195.656085\"/>\n     <use style=\"fill:#1f77b4;fill-opacity:0.1;stroke:#1f77b4;stroke-opacity:0.1;\" x=\"62.183807\" xlink:href=\"#m90fc26b69b\" y=\"204.512538\"/>\n     <use style=\"fill:#1f77b4;fill-opacity:0.1;stroke:#1f77b4;stroke-opacity:0.1;\" x=\"366.547443\" xlink:href=\"#m90fc26b69b\" y=\"194.693127\"/>\n     <use style=\"fill:#1f77b4;fill-opacity:0.1;stroke:#1f77b4;stroke-opacity:0.1;\" x=\"62.183807\" xlink:href=\"#m90fc26b69b\" y=\"211.097408\"/>\n     <use style=\"fill:#1f77b4;fill-opacity:0.1;stroke:#1f77b4;stroke-opacity:0.1;\" x=\"62.183807\" xlink:href=\"#m90fc26b69b\" y=\"209.740555\"/>\n     <use style=\"fill:#1f77b4;fill-opacity:0.1;stroke:#1f77b4;stroke-opacity:0.1;\" x=\"62.183807\" xlink:href=\"#m90fc26b69b\" y=\"211.804753\"/>\n     <use style=\"fill:#1f77b4;fill-opacity:0.1;stroke:#1f77b4;stroke-opacity:0.1;\" x=\"366.547443\" xlink:href=\"#m90fc26b69b\" y=\"126.970059\"/>\n     <use style=\"fill:#1f77b4;fill-opacity:0.1;stroke:#1f77b4;stroke-opacity:0.1;\" x=\"366.547443\" xlink:href=\"#m90fc26b69b\" y=\"210.705133\"/>\n     <use style=\"fill:#1f77b4;fill-opacity:0.1;stroke:#1f77b4;stroke-opacity:0.1;\" x=\"62.183807\" xlink:href=\"#m90fc26b69b\" y=\"208.775976\"/>\n     <use style=\"fill:#1f77b4;fill-opacity:0.1;stroke:#1f77b4;stroke-opacity:0.1;\" x=\"62.183807\" xlink:href=\"#m90fc26b69b\" y=\"211.756524\"/>\n     <use style=\"fill:#1f77b4;fill-opacity:0.1;stroke:#1f77b4;stroke-opacity:0.1;\" x=\"366.547443\" xlink:href=\"#m90fc26b69b\" y=\"202.023925\"/>\n     <use style=\"fill:#1f77b4;fill-opacity:0.1;stroke:#1f77b4;stroke-opacity:0.1;\" x=\"62.183807\" xlink:href=\"#m90fc26b69b\" y=\"212.034631\"/>\n     <use style=\"fill:#1f77b4;fill-opacity:0.1;stroke:#1f77b4;stroke-opacity:0.1;\" x=\"62.183807\" xlink:href=\"#m90fc26b69b\" y=\"209.740555\"/>\n     <use style=\"fill:#1f77b4;fill-opacity:0.1;stroke:#1f77b4;stroke-opacity:0.1;\" x=\"62.183807\" xlink:href=\"#m90fc26b69b\" y=\"209.740555\"/>\n     <use style=\"fill:#1f77b4;fill-opacity:0.1;stroke:#1f77b4;stroke-opacity:0.1;\" x=\"366.547443\" xlink:href=\"#m90fc26b69b\" y=\"194.268713\"/>\n     <use style=\"fill:#1f77b4;fill-opacity:0.1;stroke:#1f77b4;stroke-opacity:0.1;\" x=\"62.183807\" xlink:href=\"#m90fc26b69b\" y=\"211.414099\"/>\n     <use style=\"fill:#1f77b4;fill-opacity:0.1;stroke:#1f77b4;stroke-opacity:0.1;\" x=\"366.547443\" xlink:href=\"#m90fc26b69b\" y=\"206.653903\"/>\n     <use style=\"fill:#1f77b4;fill-opacity:0.1;stroke:#1f77b4;stroke-opacity:0.1;\" x=\"366.547443\" xlink:href=\"#m90fc26b69b\" y=\"211.770993\"/>\n     <use style=\"fill:#1f77b4;fill-opacity:0.1;stroke:#1f77b4;stroke-opacity:0.1;\" x=\"62.183807\" xlink:href=\"#m90fc26b69b\" y=\"204.724745\"/>\n     <use style=\"fill:#1f77b4;fill-opacity:0.1;stroke:#1f77b4;stroke-opacity:0.1;\" x=\"62.183807\" xlink:href=\"#m90fc26b69b\" y=\"211.698649\"/>\n     <use style=\"fill:#1f77b4;fill-opacity:0.1;stroke:#1f77b4;stroke-opacity:0.1;\" x=\"366.547443\" xlink:href=\"#m90fc26b69b\" y=\"133.215706\"/>\n     <use style=\"fill:#1f77b4;fill-opacity:0.1;stroke:#1f77b4;stroke-opacity:0.1;\" x=\"62.183807\" xlink:href=\"#m90fc26b69b\" y=\"207.507555\"/>\n     <use style=\"fill:#1f77b4;fill-opacity:0.1;stroke:#1f77b4;stroke-opacity:0.1;\" x=\"62.183807\" xlink:href=\"#m90fc26b69b\" y=\"214.756364\"/>\n     <use style=\"fill:#1f77b4;fill-opacity:0.1;stroke:#1f77b4;stroke-opacity:0.1;\" x=\"62.183807\" xlink:href=\"#m90fc26b69b\" y=\"209.740555\"/>\n     <use style=\"fill:#1f77b4;fill-opacity:0.1;stroke:#1f77b4;stroke-opacity:0.1;\" x=\"62.183807\" xlink:href=\"#m90fc26b69b\" y=\"209.740555\"/>\n     <use style=\"fill:#1f77b4;fill-opacity:0.1;stroke:#1f77b4;stroke-opacity:0.1;\" x=\"62.183807\" xlink:href=\"#m90fc26b69b\" y=\"208.544477\"/>\n     <use style=\"fill:#1f77b4;fill-opacity:0.1;stroke:#1f77b4;stroke-opacity:0.1;\" x=\"62.183807\" xlink:href=\"#m90fc26b69b\" y=\"201.493407\"/>\n     <use style=\"fill:#1f77b4;fill-opacity:0.1;stroke:#1f77b4;stroke-opacity:0.1;\" x=\"366.547443\" xlink:href=\"#m90fc26b69b\" y=\"17.083636\"/>\n     <use style=\"fill:#1f77b4;fill-opacity:0.1;stroke:#1f77b4;stroke-opacity:0.1;\" x=\"62.183807\" xlink:href=\"#m90fc26b69b\" y=\"211.709916\"/>\n     <use style=\"fill:#1f77b4;fill-opacity:0.1;stroke:#1f77b4;stroke-opacity:0.1;\" x=\"62.183807\" xlink:href=\"#m90fc26b69b\" y=\"211.709916\"/>\n     <use style=\"fill:#1f77b4;fill-opacity:0.1;stroke:#1f77b4;stroke-opacity:0.1;\" x=\"366.547443\" xlink:href=\"#m90fc26b69b\" y=\"203.18142\"/>\n     <use style=\"fill:#1f77b4;fill-opacity:0.1;stroke:#1f77b4;stroke-opacity:0.1;\" x=\"62.183807\" xlink:href=\"#m90fc26b69b\" y=\"184.333552\"/>\n     <use style=\"fill:#1f77b4;fill-opacity:0.1;stroke:#1f77b4;stroke-opacity:0.1;\" x=\"366.547443\" xlink:href=\"#m90fc26b69b\" y=\"113.523832\"/>\n     <use style=\"fill:#1f77b4;fill-opacity:0.1;stroke:#1f77b4;stroke-opacity:0.1;\" x=\"62.183807\" xlink:href=\"#m90fc26b69b\" y=\"208.544477\"/>\n     <use style=\"fill:#1f77b4;fill-opacity:0.1;stroke:#1f77b4;stroke-opacity:0.1;\" x=\"366.547443\" xlink:href=\"#m90fc26b69b\" y=\"211.698649\"/>\n     <use style=\"fill:#1f77b4;fill-opacity:0.1;stroke:#1f77b4;stroke-opacity:0.1;\" x=\"62.183807\" xlink:href=\"#m90fc26b69b\" y=\"187.362329\"/>\n     <use style=\"fill:#1f77b4;fill-opacity:0.1;stroke:#1f77b4;stroke-opacity:0.1;\" x=\"62.183807\" xlink:href=\"#m90fc26b69b\" y=\"206.943276\"/>\n     <use style=\"fill:#1f77b4;fill-opacity:0.1;stroke:#1f77b4;stroke-opacity:0.1;\" x=\"366.547443\" xlink:href=\"#m90fc26b69b\" y=\"209.740555\"/>\n     <use style=\"fill:#1f77b4;fill-opacity:0.1;stroke:#1f77b4;stroke-opacity:0.1;\" x=\"62.183807\" xlink:href=\"#m90fc26b69b\" y=\"194.268713\"/>\n     <use style=\"fill:#1f77b4;fill-opacity:0.1;stroke:#1f77b4;stroke-opacity:0.1;\" x=\"62.183807\" xlink:href=\"#m90fc26b69b\" y=\"211.76617\"/>\n     <use style=\"fill:#1f77b4;fill-opacity:0.1;stroke:#1f77b4;stroke-opacity:0.1;\" x=\"366.547443\" xlink:href=\"#m90fc26b69b\" y=\"205.88224\"/>\n     <use style=\"fill:#1f77b4;fill-opacity:0.1;stroke:#1f77b4;stroke-opacity:0.1;\" x=\"366.547443\" xlink:href=\"#m90fc26b69b\" y=\"209.943116\"/>\n     <use style=\"fill:#1f77b4;fill-opacity:0.1;stroke:#1f77b4;stroke-opacity:0.1;\" x=\"62.183807\" xlink:href=\"#m90fc26b69b\" y=\"211.090965\"/>\n     <use style=\"fill:#1f77b4;fill-opacity:0.1;stroke:#1f77b4;stroke-opacity:0.1;\" x=\"62.183807\" xlink:href=\"#m90fc26b69b\" y=\"211.709916\"/>\n     <use style=\"fill:#1f77b4;fill-opacity:0.1;stroke:#1f77b4;stroke-opacity:0.1;\" x=\"366.547443\" xlink:href=\"#m90fc26b69b\" y=\"189.677318\"/>\n     <use style=\"fill:#1f77b4;fill-opacity:0.1;stroke:#1f77b4;stroke-opacity:0.1;\" x=\"366.547443\" xlink:href=\"#m90fc26b69b\" y=\"209.161807\"/>\n     <use style=\"fill:#1f77b4;fill-opacity:0.1;stroke:#1f77b4;stroke-opacity:0.1;\" x=\"62.183807\" xlink:href=\"#m90fc26b69b\" y=\"211.748499\"/>\n     <use style=\"fill:#1f77b4;fill-opacity:0.1;stroke:#1f77b4;stroke-opacity:0.1;\" x=\"62.183807\" xlink:href=\"#m90fc26b69b\" y=\"210.319302\"/>\n     <use style=\"fill:#1f77b4;fill-opacity:0.1;stroke:#1f77b4;stroke-opacity:0.1;\" x=\"62.183807\" xlink:href=\"#m90fc26b69b\" y=\"211.65042\"/>\n     <use style=\"fill:#1f77b4;fill-opacity:0.1;stroke:#1f77b4;stroke-opacity:0.1;\" x=\"366.547443\" xlink:href=\"#m90fc26b69b\" y=\"181.381942\"/>\n     <use style=\"fill:#1f77b4;fill-opacity:0.1;stroke:#1f77b4;stroke-opacity:0.1;\" x=\"62.183807\" xlink:href=\"#m90fc26b69b\" y=\"209.161807\"/>\n     <use style=\"fill:#1f77b4;fill-opacity:0.1;stroke:#1f77b4;stroke-opacity:0.1;\" x=\"62.183807\" xlink:href=\"#m90fc26b69b\" y=\"212.007314\"/>\n     <use style=\"fill:#1f77b4;fill-opacity:0.1;stroke:#1f77b4;stroke-opacity:0.1;\" x=\"366.547443\" xlink:href=\"#m90fc26b69b\" y=\"211.967111\"/>\n     <use style=\"fill:#1f77b4;fill-opacity:0.1;stroke:#1f77b4;stroke-opacity:0.1;\" x=\"366.547443\" xlink:href=\"#m90fc26b69b\" y=\"168.456587\"/>\n     <use style=\"fill:#1f77b4;fill-opacity:0.1;stroke:#1f77b4;stroke-opacity:0.1;\" x=\"62.183807\" xlink:href=\"#m90fc26b69b\" y=\"211.756524\"/>\n     <use style=\"fill:#1f77b4;fill-opacity:0.1;stroke:#1f77b4;stroke-opacity:0.1;\" x=\"366.547443\" xlink:href=\"#m90fc26b69b\" y=\"184.677598\"/>\n     <use style=\"fill:#1f77b4;fill-opacity:0.1;stroke:#1f77b4;stroke-opacity:0.1;\" x=\"62.183807\" xlink:href=\"#m90fc26b69b\" y=\"199.477438\"/>\n     <use style=\"fill:#1f77b4;fill-opacity:0.1;stroke:#1f77b4;stroke-opacity:0.1;\" x=\"62.183807\" xlink:href=\"#m90fc26b69b\" y=\"211.76617\"/>\n     <use style=\"fill:#1f77b4;fill-opacity:0.1;stroke:#1f77b4;stroke-opacity:0.1;\" x=\"62.183807\" xlink:href=\"#m90fc26b69b\" y=\"205.438534\"/>\n     <use style=\"fill:#1f77b4;fill-opacity:0.1;stroke:#1f77b4;stroke-opacity:0.1;\" x=\"62.183807\" xlink:href=\"#m90fc26b69b\" y=\"211.529848\"/>\n     <use style=\"fill:#1f77b4;fill-opacity:0.1;stroke:#1f77b4;stroke-opacity:0.1;\" x=\"62.183807\" xlink:href=\"#m90fc26b69b\" y=\"211.090965\"/>\n     <use style=\"fill:#1f77b4;fill-opacity:0.1;stroke:#1f77b4;stroke-opacity:0.1;\" x=\"62.183807\" xlink:href=\"#m90fc26b69b\" y=\"211.725966\"/>\n     <use style=\"fill:#1f77b4;fill-opacity:0.1;stroke:#1f77b4;stroke-opacity:0.1;\" x=\"62.183807\" xlink:href=\"#m90fc26b69b\" y=\"210.705133\"/>\n     <use style=\"fill:#1f77b4;fill-opacity:0.1;stroke:#1f77b4;stroke-opacity:0.1;\" x=\"62.183807\" xlink:href=\"#m90fc26b69b\" y=\"211.968731\"/>\n     <use style=\"fill:#1f77b4;fill-opacity:0.1;stroke:#1f77b4;stroke-opacity:0.1;\" x=\"366.547443\" xlink:href=\"#m90fc26b69b\" y=\"205.88224\"/>\n     <use style=\"fill:#1f77b4;fill-opacity:0.1;stroke:#1f77b4;stroke-opacity:0.1;\" x=\"62.183807\" xlink:href=\"#m90fc26b69b\" y=\"211.76617\"/>\n     <use style=\"fill:#1f77b4;fill-opacity:0.1;stroke:#1f77b4;stroke-opacity:0.1;\" x=\"62.183807\" xlink:href=\"#m90fc26b69b\" y=\"211.76617\"/>\n     <use style=\"fill:#1f77b4;fill-opacity:0.1;stroke:#1f77b4;stroke-opacity:0.1;\" x=\"366.547443\" xlink:href=\"#m90fc26b69b\" y=\"209.943116\"/>\n     <use style=\"fill:#1f77b4;fill-opacity:0.1;stroke:#1f77b4;stroke-opacity:0.1;\" x=\"62.183807\" xlink:href=\"#m90fc26b69b\" y=\"211.770993\"/>\n     <use style=\"fill:#1f77b4;fill-opacity:0.1;stroke:#1f77b4;stroke-opacity:0.1;\" x=\"366.547443\" xlink:href=\"#m90fc26b69b\" y=\"133.215706\"/>\n     <use style=\"fill:#1f77b4;fill-opacity:0.1;stroke:#1f77b4;stroke-opacity:0.1;\" x=\"366.547443\" xlink:href=\"#m90fc26b69b\" y=\"211.967111\"/>\n     <use style=\"fill:#1f77b4;fill-opacity:0.1;stroke:#1f77b4;stroke-opacity:0.1;\" x=\"366.547443\" xlink:href=\"#m90fc26b69b\" y=\"192.76397\"/>\n     <use style=\"fill:#1f77b4;fill-opacity:0.1;stroke:#1f77b4;stroke-opacity:0.1;\" x=\"62.183807\" xlink:href=\"#m90fc26b69b\" y=\"203.18142\"/>\n     <use style=\"fill:#1f77b4;fill-opacity:0.1;stroke:#1f77b4;stroke-opacity:0.1;\" x=\"62.183807\" xlink:href=\"#m90fc26b69b\" y=\"205.708616\"/>\n     <use style=\"fill:#1f77b4;fill-opacity:0.1;stroke:#1f77b4;stroke-opacity:0.1;\" x=\"62.183807\" xlink:href=\"#m90fc26b69b\" y=\"212.036252\"/>\n     <use style=\"fill:#1f77b4;fill-opacity:0.1;stroke:#1f77b4;stroke-opacity:0.1;\" x=\"62.183807\" xlink:href=\"#m90fc26b69b\" y=\"211.959085\"/>\n     <use style=\"fill:#1f77b4;fill-opacity:0.1;stroke:#1f77b4;stroke-opacity:0.1;\" x=\"366.547443\" xlink:href=\"#m90fc26b69b\" y=\"211.864248\"/>\n     <use style=\"fill:#1f77b4;fill-opacity:0.1;stroke:#1f77b4;stroke-opacity:0.1;\" x=\"62.183807\" xlink:href=\"#m90fc26b69b\" y=\"203.519022\"/>\n     <use style=\"fill:#1f77b4;fill-opacity:0.1;stroke:#1f77b4;stroke-opacity:0.1;\" x=\"366.547443\" xlink:href=\"#m90fc26b69b\" y=\"206.817881\"/>\n     <use style=\"fill:#1f77b4;fill-opacity:0.1;stroke:#1f77b4;stroke-opacity:0.1;\" x=\"62.183807\" xlink:href=\"#m90fc26b69b\" y=\"184.198511\"/>\n     <use style=\"fill:#1f77b4;fill-opacity:0.1;stroke:#1f77b4;stroke-opacity:0.1;\" x=\"62.183807\" xlink:href=\"#m90fc26b69b\" y=\"211.76617\"/>\n     <use style=\"fill:#1f77b4;fill-opacity:0.1;stroke:#1f77b4;stroke-opacity:0.1;\" x=\"62.183807\" xlink:href=\"#m90fc26b69b\" y=\"204.724745\"/>\n     <use style=\"fill:#1f77b4;fill-opacity:0.1;stroke:#1f77b4;stroke-opacity:0.1;\" x=\"62.183807\" xlink:href=\"#m90fc26b69b\" y=\"187.921785\"/>\n     <use style=\"fill:#1f77b4;fill-opacity:0.1;stroke:#1f77b4;stroke-opacity:0.1;\" x=\"62.183807\" xlink:href=\"#m90fc26b69b\" y=\"202.912958\"/>\n     <use style=\"fill:#1f77b4;fill-opacity:0.1;stroke:#1f77b4;stroke-opacity:0.1;\" x=\"62.183807\" xlink:href=\"#m90fc26b69b\" y=\"211.709916\"/>\n     <use style=\"fill:#1f77b4;fill-opacity:0.1;stroke:#1f77b4;stroke-opacity:0.1;\" x=\"62.183807\" xlink:href=\"#m90fc26b69b\" y=\"209.740555\"/>\n     <use style=\"fill:#1f77b4;fill-opacity:0.1;stroke:#1f77b4;stroke-opacity:0.1;\" x=\"366.547443\" xlink:href=\"#m90fc26b69b\" y=\"204.752062\"/>\n     <use style=\"fill:#1f77b4;fill-opacity:0.1;stroke:#1f77b4;stroke-opacity:0.1;\" x=\"366.547443\" xlink:href=\"#m90fc26b69b\" y=\"211.406073\"/>\n     <use style=\"fill:#1f77b4;fill-opacity:0.1;stroke:#1f77b4;stroke-opacity:0.1;\" x=\"62.183807\" xlink:href=\"#m90fc26b69b\" y=\"211.967111\"/>\n     <use style=\"fill:#1f77b4;fill-opacity:0.1;stroke:#1f77b4;stroke-opacity:0.1;\" x=\"62.183807\" xlink:href=\"#m90fc26b69b\" y=\"205.438534\"/>\n     <use style=\"fill:#1f77b4;fill-opacity:0.1;stroke:#1f77b4;stroke-opacity:0.1;\" x=\"62.183807\" xlink:href=\"#m90fc26b69b\" y=\"209.740555\"/>\n     <use style=\"fill:#1f77b4;fill-opacity:0.1;stroke:#1f77b4;stroke-opacity:0.1;\" x=\"366.547443\" xlink:href=\"#m90fc26b69b\" y=\"204.628288\"/>\n     <use style=\"fill:#1f77b4;fill-opacity:0.1;stroke:#1f77b4;stroke-opacity:0.1;\" x=\"366.547443\" xlink:href=\"#m90fc26b69b\" y=\"168.456587\"/>\n     <use style=\"fill:#1f77b4;fill-opacity:0.1;stroke:#1f77b4;stroke-opacity:0.1;\" x=\"366.547443\" xlink:href=\"#m90fc26b69b\" y=\"211.470353\"/>\n     <use style=\"fill:#1f77b4;fill-opacity:0.1;stroke:#1f77b4;stroke-opacity:0.1;\" x=\"366.547443\" xlink:href=\"#m90fc26b69b\" y=\"212.065189\"/>\n     <use style=\"fill:#1f77b4;fill-opacity:0.1;stroke:#1f77b4;stroke-opacity:0.1;\" x=\"62.183807\" xlink:href=\"#m90fc26b69b\" y=\"211.756524\"/>\n     <use style=\"fill:#1f77b4;fill-opacity:0.1;stroke:#1f77b4;stroke-opacity:0.1;\" x=\"62.183807\" xlink:href=\"#m90fc26b69b\" y=\"214.756364\"/>\n     <use style=\"fill:#1f77b4;fill-opacity:0.1;stroke:#1f77b4;stroke-opacity:0.1;\" x=\"62.183807\" xlink:href=\"#m90fc26b69b\" y=\"211.756524\"/>\n     <use style=\"fill:#1f77b4;fill-opacity:0.1;stroke:#1f77b4;stroke-opacity:0.1;\" x=\"62.183807\" xlink:href=\"#m90fc26b69b\" y=\"209.740555\"/>\n     <use style=\"fill:#1f77b4;fill-opacity:0.1;stroke:#1f77b4;stroke-opacity:0.1;\" x=\"366.547443\" xlink:href=\"#m90fc26b69b\" y=\"194.268713\"/>\n     <use style=\"fill:#1f77b4;fill-opacity:0.1;stroke:#1f77b4;stroke-opacity:0.1;\" x=\"62.183807\" xlink:href=\"#m90fc26b69b\" y=\"211.713118\"/>\n     <use style=\"fill:#1f77b4;fill-opacity:0.1;stroke:#1f77b4;stroke-opacity:0.1;\" x=\"62.183807\" xlink:href=\"#m90fc26b69b\" y=\"205.438534\"/>\n     <use style=\"fill:#1f77b4;fill-opacity:0.1;stroke:#1f77b4;stroke-opacity:0.1;\" x=\"62.183807\" xlink:href=\"#m90fc26b69b\" y=\"210.705133\"/>\n     <use style=\"fill:#1f77b4;fill-opacity:0.1;stroke:#1f77b4;stroke-opacity:0.1;\" x=\"62.183807\" xlink:href=\"#m90fc26b69b\" y=\"202.689484\"/>\n     <use style=\"fill:#1f77b4;fill-opacity:0.1;stroke:#1f77b4;stroke-opacity:0.1;\" x=\"62.183807\" xlink:href=\"#m90fc26b69b\" y=\"211.65042\"/>\n     <use style=\"fill:#1f77b4;fill-opacity:0.1;stroke:#1f77b4;stroke-opacity:0.1;\" x=\"62.183807\" xlink:href=\"#m90fc26b69b\" y=\"214.756364\"/>\n     <use style=\"fill:#1f77b4;fill-opacity:0.1;stroke:#1f77b4;stroke-opacity:0.1;\" x=\"62.183807\" xlink:href=\"#m90fc26b69b\" y=\"211.698649\"/>\n     <use style=\"fill:#1f77b4;fill-opacity:0.1;stroke:#1f77b4;stroke-opacity:0.1;\" x=\"62.183807\" xlink:href=\"#m90fc26b69b\" y=\"200.478979\"/>\n     <use style=\"fill:#1f77b4;fill-opacity:0.1;stroke:#1f77b4;stroke-opacity:0.1;\" x=\"62.183807\" xlink:href=\"#m90fc26b69b\" y=\"212.267751\"/>\n     <use style=\"fill:#1f77b4;fill-opacity:0.1;stroke:#1f77b4;stroke-opacity:0.1;\" x=\"62.183807\" xlink:href=\"#m90fc26b69b\" y=\"203.991666\"/>\n     <use style=\"fill:#1f77b4;fill-opacity:0.1;stroke:#1f77b4;stroke-opacity:0.1;\" x=\"366.547443\" xlink:href=\"#m90fc26b69b\" y=\"178.681121\"/>\n     <use style=\"fill:#1f77b4;fill-opacity:0.1;stroke:#1f77b4;stroke-opacity:0.1;\" x=\"366.547443\" xlink:href=\"#m90fc26b69b\" y=\"211.414099\"/>\n     <use style=\"fill:#1f77b4;fill-opacity:0.1;stroke:#1f77b4;stroke-opacity:0.1;\" x=\"62.183807\" xlink:href=\"#m90fc26b69b\" y=\"214.756364\"/>\n     <use style=\"fill:#1f77b4;fill-opacity:0.1;stroke:#1f77b4;stroke-opacity:0.1;\" x=\"366.547443\" xlink:href=\"#m90fc26b69b\" y=\"209.943116\"/>\n     <use style=\"fill:#1f77b4;fill-opacity:0.1;stroke:#1f77b4;stroke-opacity:0.1;\" x=\"62.183807\" xlink:href=\"#m90fc26b69b\" y=\"199.443677\"/>\n     <use style=\"fill:#1f77b4;fill-opacity:0.1;stroke:#1f77b4;stroke-opacity:0.1;\" x=\"62.183807\" xlink:href=\"#m90fc26b69b\" y=\"212.074835\"/>\n     <use style=\"fill:#1f77b4;fill-opacity:0.1;stroke:#1f77b4;stroke-opacity:0.1;\" x=\"62.183807\" xlink:href=\"#m90fc26b69b\" y=\"192.958506\"/>\n     <use style=\"fill:#1f77b4;fill-opacity:0.1;stroke:#1f77b4;stroke-opacity:0.1;\" x=\"366.547443\" xlink:href=\"#m90fc26b69b\" y=\"200.478979\"/>\n     <use style=\"fill:#1f77b4;fill-opacity:0.1;stroke:#1f77b4;stroke-opacity:0.1;\" x=\"366.547443\" xlink:href=\"#m90fc26b69b\" y=\"211.76617\"/>\n     <use style=\"fill:#1f77b4;fill-opacity:0.1;stroke:#1f77b4;stroke-opacity:0.1;\" x=\"366.547443\" xlink:href=\"#m90fc26b69b\" y=\"183.889846\"/>\n     <use style=\"fill:#1f77b4;fill-opacity:0.1;stroke:#1f77b4;stroke-opacity:0.1;\" x=\"366.547443\" xlink:href=\"#m90fc26b69b\" y=\"209.179478\"/>\n     <use style=\"fill:#1f77b4;fill-opacity:0.1;stroke:#1f77b4;stroke-opacity:0.1;\" x=\"366.547443\" xlink:href=\"#m90fc26b69b\" y=\"207.522024\"/>\n     <use style=\"fill:#1f77b4;fill-opacity:0.1;stroke:#1f77b4;stroke-opacity:0.1;\" x=\"62.183807\" xlink:href=\"#m90fc26b69b\" y=\"211.967111\"/>\n     <use style=\"fill:#1f77b4;fill-opacity:0.1;stroke:#1f77b4;stroke-opacity:0.1;\" x=\"62.183807\" xlink:href=\"#m90fc26b69b\" y=\"211.725966\"/>\n     <use style=\"fill:#1f77b4;fill-opacity:0.1;stroke:#1f77b4;stroke-opacity:0.1;\" x=\"62.183807\" xlink:href=\"#m90fc26b69b\" y=\"211.553962\"/>\n     <use style=\"fill:#1f77b4;fill-opacity:0.1;stroke:#1f77b4;stroke-opacity:0.1;\" x=\"366.547443\" xlink:href=\"#m90fc26b69b\" y=\"182.671275\"/>\n     <use style=\"fill:#1f77b4;fill-opacity:0.1;stroke:#1f77b4;stroke-opacity:0.1;\" x=\"62.183807\" xlink:href=\"#m90fc26b69b\" y=\"211.414099\"/>\n     <use style=\"fill:#1f77b4;fill-opacity:0.1;stroke:#1f77b4;stroke-opacity:0.1;\" x=\"62.183807\" xlink:href=\"#m90fc26b69b\" y=\"211.65042\"/>\n     <use style=\"fill:#1f77b4;fill-opacity:0.1;stroke:#1f77b4;stroke-opacity:0.1;\" x=\"366.547443\" xlink:href=\"#m90fc26b69b\" y=\"192.958506\"/>\n     <use style=\"fill:#1f77b4;fill-opacity:0.1;stroke:#1f77b4;stroke-opacity:0.1;\" x=\"366.547443\" xlink:href=\"#m90fc26b69b\" y=\"203.297169\"/>\n     <use style=\"fill:#1f77b4;fill-opacity:0.1;stroke:#1f77b4;stroke-opacity:0.1;\" x=\"62.183807\" xlink:href=\"#m90fc26b69b\" y=\"211.698649\"/>\n     <use style=\"fill:#1f77b4;fill-opacity:0.1;stroke:#1f77b4;stroke-opacity:0.1;\" x=\"62.183807\" xlink:href=\"#m90fc26b69b\" y=\"210.705133\"/>\n     <use style=\"fill:#1f77b4;fill-opacity:0.1;stroke:#1f77b4;stroke-opacity:0.1;\" x=\"366.547443\" xlink:href=\"#m90fc26b69b\" y=\"202.795588\"/>\n     <use style=\"fill:#1f77b4;fill-opacity:0.1;stroke:#1f77b4;stroke-opacity:0.1;\" x=\"62.183807\" xlink:href=\"#m90fc26b69b\" y=\"212.272574\"/>\n     <use style=\"fill:#1f77b4;fill-opacity:0.1;stroke:#1f77b4;stroke-opacity:0.1;\" x=\"62.183807\" xlink:href=\"#m90fc26b69b\" y=\"211.414099\"/>\n     <use style=\"fill:#1f77b4;fill-opacity:0.1;stroke:#1f77b4;stroke-opacity:0.1;\" x=\"62.183807\" xlink:href=\"#m90fc26b69b\" y=\"211.843336\"/>\n     <use style=\"fill:#1f77b4;fill-opacity:0.1;stroke:#1f77b4;stroke-opacity:0.1;\" x=\"62.183807\" xlink:href=\"#m90fc26b69b\" y=\"187.921785\"/>\n     <use style=\"fill:#1f77b4;fill-opacity:0.1;stroke:#1f77b4;stroke-opacity:0.1;\" x=\"62.183807\" xlink:href=\"#m90fc26b69b\" y=\"211.709916\"/>\n     <use style=\"fill:#1f77b4;fill-opacity:0.1;stroke:#1f77b4;stroke-opacity:0.1;\" x=\"62.183807\" xlink:href=\"#m90fc26b69b\" y=\"202.023925\"/>\n     <use style=\"fill:#1f77b4;fill-opacity:0.1;stroke:#1f77b4;stroke-opacity:0.1;\" x=\"366.547443\" xlink:href=\"#m90fc26b69b\" y=\"180.377159\"/>\n     <use style=\"fill:#1f77b4;fill-opacity:0.1;stroke:#1f77b4;stroke-opacity:0.1;\" x=\"62.183807\" xlink:href=\"#m90fc26b69b\" y=\"202.689484\"/>\n     <use style=\"fill:#1f77b4;fill-opacity:0.1;stroke:#1f77b4;stroke-opacity:0.1;\" x=\"62.183807\" xlink:href=\"#m90fc26b69b\" y=\"211.756524\"/>\n     <use style=\"fill:#1f77b4;fill-opacity:0.1;stroke:#1f77b4;stroke-opacity:0.1;\" x=\"62.183807\" xlink:href=\"#m90fc26b69b\" y=\"208.874054\"/>\n     <use style=\"fill:#1f77b4;fill-opacity:0.1;stroke:#1f77b4;stroke-opacity:0.1;\" x=\"366.547443\" xlink:href=\"#m90fc26b69b\" y=\"199.554604\"/>\n     <use style=\"fill:#1f77b4;fill-opacity:0.1;stroke:#1f77b4;stroke-opacity:0.1;\" x=\"62.183807\" xlink:href=\"#m90fc26b69b\" y=\"204.724745\"/>\n     <use style=\"fill:#1f77b4;fill-opacity:0.1;stroke:#1f77b4;stroke-opacity:0.1;\" x=\"366.547443\" xlink:href=\"#m90fc26b69b\" y=\"211.148839\"/>\n     <use style=\"fill:#1f77b4;fill-opacity:0.1;stroke:#1f77b4;stroke-opacity:0.1;\" x=\"366.547443\" xlink:href=\"#m90fc26b69b\" y=\"151.145603\"/>\n     <use style=\"fill:#1f77b4;fill-opacity:0.1;stroke:#1f77b4;stroke-opacity:0.1;\" x=\"366.547443\" xlink:href=\"#m90fc26b69b\" y=\"204.512538\"/>\n     <use style=\"fill:#1f77b4;fill-opacity:0.1;stroke:#1f77b4;stroke-opacity:0.1;\" x=\"366.547443\" xlink:href=\"#m90fc26b69b\" y=\"207.325905\"/>\n     <use style=\"fill:#1f77b4;fill-opacity:0.1;stroke:#1f77b4;stroke-opacity:0.1;\" x=\"62.183807\" xlink:href=\"#m90fc26b69b\" y=\"211.967111\"/>\n     <use style=\"fill:#1f77b4;fill-opacity:0.1;stroke:#1f77b4;stroke-opacity:0.1;\" x=\"62.183807\" xlink:href=\"#m90fc26b69b\" y=\"209.312938\"/>\n     <use style=\"fill:#1f77b4;fill-opacity:0.1;stroke:#1f77b4;stroke-opacity:0.1;\" x=\"62.183807\" xlink:href=\"#m90fc26b69b\" y=\"210.319302\"/>\n     <use style=\"fill:#1f77b4;fill-opacity:0.1;stroke:#1f77b4;stroke-opacity:0.1;\" x=\"366.547443\" xlink:href=\"#m90fc26b69b\" y=\"204.752062\"/>\n     <use style=\"fill:#1f77b4;fill-opacity:0.1;stroke:#1f77b4;stroke-opacity:0.1;\" x=\"62.183807\" xlink:href=\"#m90fc26b69b\" y=\"187.921785\"/>\n     <use style=\"fill:#1f77b4;fill-opacity:0.1;stroke:#1f77b4;stroke-opacity:0.1;\" x=\"62.183807\" xlink:href=\"#m90fc26b69b\" y=\"209.740555\"/>\n     <use style=\"fill:#1f77b4;fill-opacity:0.1;stroke:#1f77b4;stroke-opacity:0.1;\" x=\"366.547443\" xlink:href=\"#m90fc26b69b\" y=\"209.740555\"/>\n     <use style=\"fill:#1f77b4;fill-opacity:0.1;stroke:#1f77b4;stroke-opacity:0.1;\" x=\"366.547443\" xlink:href=\"#m90fc26b69b\" y=\"209.409395\"/>\n     <use style=\"fill:#1f77b4;fill-opacity:0.1;stroke:#1f77b4;stroke-opacity:0.1;\" x=\"62.183807\" xlink:href=\"#m90fc26b69b\" y=\"195.273495\"/>\n     <use style=\"fill:#1f77b4;fill-opacity:0.1;stroke:#1f77b4;stroke-opacity:0.1;\" x=\"62.183807\" xlink:href=\"#m90fc26b69b\" y=\"211.090965\"/>\n     <use style=\"fill:#1f77b4;fill-opacity:0.1;stroke:#1f77b4;stroke-opacity:0.1;\" x=\"366.547443\" xlink:href=\"#m90fc26b69b\" y=\"210.460786\"/>\n     <use style=\"fill:#1f77b4;fill-opacity:0.1;stroke:#1f77b4;stroke-opacity:0.1;\" x=\"62.183807\" xlink:href=\"#m90fc26b69b\" y=\"211.709916\"/>\n     <use style=\"fill:#1f77b4;fill-opacity:0.1;stroke:#1f77b4;stroke-opacity:0.1;\" x=\"366.547443\" xlink:href=\"#m90fc26b69b\" y=\"194.4793\"/>\n     <use style=\"fill:#1f77b4;fill-opacity:0.1;stroke:#1f77b4;stroke-opacity:0.1;\" x=\"62.183807\" xlink:href=\"#m90fc26b69b\" y=\"212.827206\"/>\n     <use style=\"fill:#1f77b4;fill-opacity:0.1;stroke:#1f77b4;stroke-opacity:0.1;\" x=\"62.183807\" xlink:href=\"#m90fc26b69b\" y=\"211.28388\"/>\n     <use style=\"fill:#1f77b4;fill-opacity:0.1;stroke:#1f77b4;stroke-opacity:0.1;\" x=\"366.547443\" xlink:href=\"#m90fc26b69b\" y=\"205.496408\"/>\n     <use style=\"fill:#1f77b4;fill-opacity:0.1;stroke:#1f77b4;stroke-opacity:0.1;\" x=\"366.547443\" xlink:href=\"#m90fc26b69b\" y=\"211.968731\"/>\n     <use style=\"fill:#1f77b4;fill-opacity:0.1;stroke:#1f77b4;stroke-opacity:0.1;\" x=\"62.183807\" xlink:href=\"#m90fc26b69b\" y=\"210.957544\"/>\n     <use style=\"fill:#1f77b4;fill-opacity:0.1;stroke:#1f77b4;stroke-opacity:0.1;\" x=\"62.183807\" xlink:href=\"#m90fc26b69b\" y=\"211.709916\"/>\n     <use style=\"fill:#1f77b4;fill-opacity:0.1;stroke:#1f77b4;stroke-opacity:0.1;\" x=\"62.183807\" xlink:href=\"#m90fc26b69b\" y=\"211.709916\"/>\n     <use style=\"fill:#1f77b4;fill-opacity:0.1;stroke:#1f77b4;stroke-opacity:0.1;\" x=\"366.547443\" xlink:href=\"#m90fc26b69b\" y=\"182.671275\"/>\n     <use style=\"fill:#1f77b4;fill-opacity:0.1;stroke:#1f77b4;stroke-opacity:0.1;\" x=\"366.547443\" xlink:href=\"#m90fc26b69b\" y=\"204.724745\"/>\n     <use style=\"fill:#1f77b4;fill-opacity:0.1;stroke:#1f77b4;stroke-opacity:0.1;\" x=\"62.183807\" xlink:href=\"#m90fc26b69b\" y=\"211.709916\"/>\n     <use style=\"fill:#1f77b4;fill-opacity:0.1;stroke:#1f77b4;stroke-opacity:0.1;\" x=\"62.183807\" xlink:href=\"#m90fc26b69b\" y=\"210.69869\"/>\n     <use style=\"fill:#1f77b4;fill-opacity:0.1;stroke:#1f77b4;stroke-opacity:0.1;\" x=\"62.183807\" xlink:href=\"#m90fc26b69b\" y=\"210.705133\"/>\n     <use style=\"fill:#1f77b4;fill-opacity:0.1;stroke:#1f77b4;stroke-opacity:0.1;\" x=\"62.183807\" xlink:href=\"#m90fc26b69b\" y=\"212.036252\"/>\n     <use style=\"fill:#1f77b4;fill-opacity:0.1;stroke:#1f77b4;stroke-opacity:0.1;\" x=\"62.183807\" xlink:href=\"#m90fc26b69b\" y=\"203.519022\"/>\n     <use style=\"fill:#1f77b4;fill-opacity:0.1;stroke:#1f77b4;stroke-opacity:0.1;\" x=\"62.183807\" xlink:href=\"#m90fc26b69b\" y=\"209.740555\"/>\n     <use style=\"fill:#1f77b4;fill-opacity:0.1;stroke:#1f77b4;stroke-opacity:0.1;\" x=\"366.547443\" xlink:href=\"#m90fc26b69b\" y=\"203.18142\"/>\n     <use style=\"fill:#1f77b4;fill-opacity:0.1;stroke:#1f77b4;stroke-opacity:0.1;\" x=\"62.183807\" xlink:href=\"#m90fc26b69b\" y=\"205.708616\"/>\n     <use style=\"fill:#1f77b4;fill-opacity:0.1;stroke:#1f77b4;stroke-opacity:0.1;\" x=\"366.547443\" xlink:href=\"#m90fc26b69b\" y=\"203.18142\"/>\n     <use style=\"fill:#1f77b4;fill-opacity:0.1;stroke:#1f77b4;stroke-opacity:0.1;\" x=\"62.183807\" xlink:href=\"#m90fc26b69b\" y=\"211.76617\"/>\n    </g>\n   </g>\n   <g id=\"matplotlib.axis_1\">\n    <g id=\"xtick_1\">\n     <g id=\"line2d_1\">\n      <defs>\n       <path d=\"M 0 0 \nL 0 3.5 \n\" id=\"m35450f23f8\" style=\"stroke:#000000;stroke-width:0.8;\"/>\n      </defs>\n      <g>\n       <use style=\"stroke:#000000;stroke-width:0.8;\" x=\"62.183807\" xlink:href=\"#m35450f23f8\" y=\"224.64\"/>\n      </g>\n     </g>\n     <g id=\"text_1\">\n      <!-- 0.0 -->\n      <g transform=\"translate(54.232244 239.238437)scale(0.1 -0.1)\">\n       <defs>\n        <path d=\"M 2034 4250 \nQ 1547 4250 1301 3770 \nQ 1056 3291 1056 2328 \nQ 1056 1369 1301 889 \nQ 1547 409 2034 409 \nQ 2525 409 2770 889 \nQ 3016 1369 3016 2328 \nQ 3016 3291 2770 3770 \nQ 2525 4250 2034 4250 \nz\nM 2034 4750 \nQ 2819 4750 3233 4129 \nQ 3647 3509 3647 2328 \nQ 3647 1150 3233 529 \nQ 2819 -91 2034 -91 \nQ 1250 -91 836 529 \nQ 422 1150 422 2328 \nQ 422 3509 836 4129 \nQ 1250 4750 2034 4750 \nz\n\" id=\"DejaVuSans-30\" transform=\"scale(0.015625)\"/>\n        <path d=\"M 684 794 \nL 1344 794 \nL 1344 0 \nL 684 0 \nL 684 794 \nz\n\" id=\"DejaVuSans-2e\" transform=\"scale(0.015625)\"/>\n       </defs>\n       <use xlink:href=\"#DejaVuSans-30\"/>\n       <use x=\"63.623047\" xlink:href=\"#DejaVuSans-2e\"/>\n       <use x=\"95.410156\" xlink:href=\"#DejaVuSans-30\"/>\n      </g>\n     </g>\n    </g>\n    <g id=\"xtick_2\">\n     <g id=\"line2d_2\">\n      <g>\n       <use style=\"stroke:#000000;stroke-width:0.8;\" x=\"123.056534\" xlink:href=\"#m35450f23f8\" y=\"224.64\"/>\n      </g>\n     </g>\n     <g id=\"text_2\">\n      <!-- 0.2 -->\n      <g transform=\"translate(115.104972 239.238437)scale(0.1 -0.1)\">\n       <defs>\n        <path d=\"M 1228 531 \nL 3431 531 \nL 3431 0 \nL 469 0 \nL 469 531 \nQ 828 903 1448 1529 \nQ 2069 2156 2228 2338 \nQ 2531 2678 2651 2914 \nQ 2772 3150 2772 3378 \nQ 2772 3750 2511 3984 \nQ 2250 4219 1831 4219 \nQ 1534 4219 1204 4116 \nQ 875 4013 500 3803 \nL 500 4441 \nQ 881 4594 1212 4672 \nQ 1544 4750 1819 4750 \nQ 2544 4750 2975 4387 \nQ 3406 4025 3406 3419 \nQ 3406 3131 3298 2873 \nQ 3191 2616 2906 2266 \nQ 2828 2175 2409 1742 \nQ 1991 1309 1228 531 \nz\n\" id=\"DejaVuSans-32\" transform=\"scale(0.015625)\"/>\n       </defs>\n       <use xlink:href=\"#DejaVuSans-30\"/>\n       <use x=\"63.623047\" xlink:href=\"#DejaVuSans-2e\"/>\n       <use x=\"95.410156\" xlink:href=\"#DejaVuSans-32\"/>\n      </g>\n     </g>\n    </g>\n    <g id=\"xtick_3\">\n     <g id=\"line2d_3\">\n      <g>\n       <use style=\"stroke:#000000;stroke-width:0.8;\" x=\"183.929261\" xlink:href=\"#m35450f23f8\" y=\"224.64\"/>\n      </g>\n     </g>\n     <g id=\"text_3\">\n      <!-- 0.4 -->\n      <g transform=\"translate(175.977699 239.238437)scale(0.1 -0.1)\">\n       <defs>\n        <path d=\"M 2419 4116 \nL 825 1625 \nL 2419 1625 \nL 2419 4116 \nz\nM 2253 4666 \nL 3047 4666 \nL 3047 1625 \nL 3713 1625 \nL 3713 1100 \nL 3047 1100 \nL 3047 0 \nL 2419 0 \nL 2419 1100 \nL 313 1100 \nL 313 1709 \nL 2253 4666 \nz\n\" id=\"DejaVuSans-34\" transform=\"scale(0.015625)\"/>\n       </defs>\n       <use xlink:href=\"#DejaVuSans-30\"/>\n       <use x=\"63.623047\" xlink:href=\"#DejaVuSans-2e\"/>\n       <use x=\"95.410156\" xlink:href=\"#DejaVuSans-34\"/>\n      </g>\n     </g>\n    </g>\n    <g id=\"xtick_4\">\n     <g id=\"line2d_4\">\n      <g>\n       <use style=\"stroke:#000000;stroke-width:0.8;\" x=\"244.801989\" xlink:href=\"#m35450f23f8\" y=\"224.64\"/>\n      </g>\n     </g>\n     <g id=\"text_4\">\n      <!-- 0.6 -->\n      <g transform=\"translate(236.850426 239.238437)scale(0.1 -0.1)\">\n       <defs>\n        <path d=\"M 2113 2584 \nQ 1688 2584 1439 2293 \nQ 1191 2003 1191 1497 \nQ 1191 994 1439 701 \nQ 1688 409 2113 409 \nQ 2538 409 2786 701 \nQ 3034 994 3034 1497 \nQ 3034 2003 2786 2293 \nQ 2538 2584 2113 2584 \nz\nM 3366 4563 \nL 3366 3988 \nQ 3128 4100 2886 4159 \nQ 2644 4219 2406 4219 \nQ 1781 4219 1451 3797 \nQ 1122 3375 1075 2522 \nQ 1259 2794 1537 2939 \nQ 1816 3084 2150 3084 \nQ 2853 3084 3261 2657 \nQ 3669 2231 3669 1497 \nQ 3669 778 3244 343 \nQ 2819 -91 2113 -91 \nQ 1303 -91 875 529 \nQ 447 1150 447 2328 \nQ 447 3434 972 4092 \nQ 1497 4750 2381 4750 \nQ 2619 4750 2861 4703 \nQ 3103 4656 3366 4563 \nz\n\" id=\"DejaVuSans-36\" transform=\"scale(0.015625)\"/>\n       </defs>\n       <use xlink:href=\"#DejaVuSans-30\"/>\n       <use x=\"63.623047\" xlink:href=\"#DejaVuSans-2e\"/>\n       <use x=\"95.410156\" xlink:href=\"#DejaVuSans-36\"/>\n      </g>\n     </g>\n    </g>\n    <g id=\"xtick_5\">\n     <g id=\"line2d_5\">\n      <g>\n       <use style=\"stroke:#000000;stroke-width:0.8;\" x=\"305.674716\" xlink:href=\"#m35450f23f8\" y=\"224.64\"/>\n      </g>\n     </g>\n     <g id=\"text_5\">\n      <!-- 0.8 -->\n      <g transform=\"translate(297.723153 239.238437)scale(0.1 -0.1)\">\n       <defs>\n        <path d=\"M 2034 2216 \nQ 1584 2216 1326 1975 \nQ 1069 1734 1069 1313 \nQ 1069 891 1326 650 \nQ 1584 409 2034 409 \nQ 2484 409 2743 651 \nQ 3003 894 3003 1313 \nQ 3003 1734 2745 1975 \nQ 2488 2216 2034 2216 \nz\nM 1403 2484 \nQ 997 2584 770 2862 \nQ 544 3141 544 3541 \nQ 544 4100 942 4425 \nQ 1341 4750 2034 4750 \nQ 2731 4750 3128 4425 \nQ 3525 4100 3525 3541 \nQ 3525 3141 3298 2862 \nQ 3072 2584 2669 2484 \nQ 3125 2378 3379 2068 \nQ 3634 1759 3634 1313 \nQ 3634 634 3220 271 \nQ 2806 -91 2034 -91 \nQ 1263 -91 848 271 \nQ 434 634 434 1313 \nQ 434 1759 690 2068 \nQ 947 2378 1403 2484 \nz\nM 1172 3481 \nQ 1172 3119 1398 2916 \nQ 1625 2713 2034 2713 \nQ 2441 2713 2670 2916 \nQ 2900 3119 2900 3481 \nQ 2900 3844 2670 4047 \nQ 2441 4250 2034 4250 \nQ 1625 4250 1398 4047 \nQ 1172 3844 1172 3481 \nz\n\" id=\"DejaVuSans-38\" transform=\"scale(0.015625)\"/>\n       </defs>\n       <use xlink:href=\"#DejaVuSans-30\"/>\n       <use x=\"63.623047\" xlink:href=\"#DejaVuSans-2e\"/>\n       <use x=\"95.410156\" xlink:href=\"#DejaVuSans-38\"/>\n      </g>\n     </g>\n    </g>\n    <g id=\"xtick_6\">\n     <g id=\"line2d_6\">\n      <g>\n       <use style=\"stroke:#000000;stroke-width:0.8;\" x=\"366.547443\" xlink:href=\"#m35450f23f8\" y=\"224.64\"/>\n      </g>\n     </g>\n     <g id=\"text_6\">\n      <!-- 1.0 -->\n      <g transform=\"translate(358.595881 239.238437)scale(0.1 -0.1)\">\n       <defs>\n        <path d=\"M 794 531 \nL 1825 531 \nL 1825 4091 \nL 703 3866 \nL 703 4441 \nL 1819 4666 \nL 2450 4666 \nL 2450 531 \nL 3481 531 \nL 3481 0 \nL 794 0 \nL 794 531 \nz\n\" id=\"DejaVuSans-31\" transform=\"scale(0.015625)\"/>\n       </defs>\n       <use xlink:href=\"#DejaVuSans-31\"/>\n       <use x=\"63.623047\" xlink:href=\"#DejaVuSans-2e\"/>\n       <use x=\"95.410156\" xlink:href=\"#DejaVuSans-30\"/>\n      </g>\n     </g>\n    </g>\n    <g id=\"text_7\">\n     <!-- Survived -->\n     <g transform=\"translate(192.408594 252.916562)scale(0.1 -0.1)\">\n      <defs>\n       <path d=\"M 3425 4513 \nL 3425 3897 \nQ 3066 4069 2747 4153 \nQ 2428 4238 2131 4238 \nQ 1616 4238 1336 4038 \nQ 1056 3838 1056 3469 \nQ 1056 3159 1242 3001 \nQ 1428 2844 1947 2747 \nL 2328 2669 \nQ 3034 2534 3370 2195 \nQ 3706 1856 3706 1288 \nQ 3706 609 3251 259 \nQ 2797 -91 1919 -91 \nQ 1588 -91 1214 -16 \nQ 841 59 441 206 \nL 441 856 \nQ 825 641 1194 531 \nQ 1563 422 1919 422 \nQ 2459 422 2753 634 \nQ 3047 847 3047 1241 \nQ 3047 1584 2836 1778 \nQ 2625 1972 2144 2069 \nL 1759 2144 \nQ 1053 2284 737 2584 \nQ 422 2884 422 3419 \nQ 422 4038 858 4394 \nQ 1294 4750 2059 4750 \nQ 2388 4750 2728 4690 \nQ 3069 4631 3425 4513 \nz\n\" id=\"DejaVuSans-53\" transform=\"scale(0.015625)\"/>\n       <path d=\"M 544 1381 \nL 544 3500 \nL 1119 3500 \nL 1119 1403 \nQ 1119 906 1312 657 \nQ 1506 409 1894 409 \nQ 2359 409 2629 706 \nQ 2900 1003 2900 1516 \nL 2900 3500 \nL 3475 3500 \nL 3475 0 \nL 2900 0 \nL 2900 538 \nQ 2691 219 2414 64 \nQ 2138 -91 1772 -91 \nQ 1169 -91 856 284 \nQ 544 659 544 1381 \nz\nM 1991 3584 \nL 1991 3584 \nz\n\" id=\"DejaVuSans-75\" transform=\"scale(0.015625)\"/>\n       <path d=\"M 2631 2963 \nQ 2534 3019 2420 3045 \nQ 2306 3072 2169 3072 \nQ 1681 3072 1420 2755 \nQ 1159 2438 1159 1844 \nL 1159 0 \nL 581 0 \nL 581 3500 \nL 1159 3500 \nL 1159 2956 \nQ 1341 3275 1631 3429 \nQ 1922 3584 2338 3584 \nQ 2397 3584 2469 3576 \nQ 2541 3569 2628 3553 \nL 2631 2963 \nz\n\" id=\"DejaVuSans-72\" transform=\"scale(0.015625)\"/>\n       <path d=\"M 191 3500 \nL 800 3500 \nL 1894 563 \nL 2988 3500 \nL 3597 3500 \nL 2284 0 \nL 1503 0 \nL 191 3500 \nz\n\" id=\"DejaVuSans-76\" transform=\"scale(0.015625)\"/>\n       <path d=\"M 603 3500 \nL 1178 3500 \nL 1178 0 \nL 603 0 \nL 603 3500 \nz\nM 603 4863 \nL 1178 4863 \nL 1178 4134 \nL 603 4134 \nL 603 4863 \nz\n\" id=\"DejaVuSans-69\" transform=\"scale(0.015625)\"/>\n       <path d=\"M 3597 1894 \nL 3597 1613 \nL 953 1613 \nQ 991 1019 1311 708 \nQ 1631 397 2203 397 \nQ 2534 397 2845 478 \nQ 3156 559 3463 722 \nL 3463 178 \nQ 3153 47 2828 -22 \nQ 2503 -91 2169 -91 \nQ 1331 -91 842 396 \nQ 353 884 353 1716 \nQ 353 2575 817 3079 \nQ 1281 3584 2069 3584 \nQ 2775 3584 3186 3129 \nQ 3597 2675 3597 1894 \nz\nM 3022 2063 \nQ 3016 2534 2758 2815 \nQ 2500 3097 2075 3097 \nQ 1594 3097 1305 2825 \nQ 1016 2553 972 2059 \nL 3022 2063 \nz\n\" id=\"DejaVuSans-65\" transform=\"scale(0.015625)\"/>\n       <path d=\"M 2906 2969 \nL 2906 4863 \nL 3481 4863 \nL 3481 0 \nL 2906 0 \nL 2906 525 \nQ 2725 213 2448 61 \nQ 2172 -91 1784 -91 \nQ 1150 -91 751 415 \nQ 353 922 353 1747 \nQ 353 2572 751 3078 \nQ 1150 3584 1784 3584 \nQ 2172 3584 2448 3432 \nQ 2725 3281 2906 2969 \nz\nM 947 1747 \nQ 947 1113 1208 752 \nQ 1469 391 1925 391 \nQ 2381 391 2643 752 \nQ 2906 1113 2906 1747 \nQ 2906 2381 2643 2742 \nQ 2381 3103 1925 3103 \nQ 1469 3103 1208 2742 \nQ 947 2381 947 1747 \nz\n\" id=\"DejaVuSans-64\" transform=\"scale(0.015625)\"/>\n      </defs>\n      <use xlink:href=\"#DejaVuSans-53\"/>\n      <use x=\"63.476562\" xlink:href=\"#DejaVuSans-75\"/>\n      <use x=\"126.855469\" xlink:href=\"#DejaVuSans-72\"/>\n      <use x=\"167.96875\" xlink:href=\"#DejaVuSans-76\"/>\n      <use x=\"227.148438\" xlink:href=\"#DejaVuSans-69\"/>\n      <use x=\"254.931641\" xlink:href=\"#DejaVuSans-76\"/>\n      <use x=\"314.111328\" xlink:href=\"#DejaVuSans-65\"/>\n      <use x=\"375.634766\" xlink:href=\"#DejaVuSans-64\"/>\n     </g>\n    </g>\n   </g>\n   <g id=\"matplotlib.axis_2\">\n    <g id=\"ytick_1\">\n     <g id=\"line2d_7\">\n      <defs>\n       <path d=\"M 0 0 \nL -3.5 0 \n\" id=\"mc9bc285ea3\" style=\"stroke:#000000;stroke-width:0.8;\"/>\n      </defs>\n      <g>\n       <use style=\"stroke:#000000;stroke-width:0.8;\" x=\"46.965625\" xlink:href=\"#mc9bc285ea3\" y=\"214.756364\"/>\n      </g>\n     </g>\n     <g id=\"text_8\">\n      <!-- 0 -->\n      <g transform=\"translate(33.603125 218.555582)scale(0.1 -0.1)\">\n       <use xlink:href=\"#DejaVuSans-30\"/>\n      </g>\n     </g>\n    </g>\n    <g id=\"ytick_2\">\n     <g id=\"line2d_8\">\n      <g>\n       <use style=\"stroke:#000000;stroke-width:0.8;\" x=\"46.965625\" xlink:href=\"#mc9bc285ea3\" y=\"176.173217\"/>\n      </g>\n     </g>\n     <g id=\"text_9\">\n      <!-- 100 -->\n      <g transform=\"translate(20.878125 179.972436)scale(0.1 -0.1)\">\n       <use xlink:href=\"#DejaVuSans-31\"/>\n       <use x=\"63.623047\" xlink:href=\"#DejaVuSans-30\"/>\n       <use x=\"127.246094\" xlink:href=\"#DejaVuSans-30\"/>\n      </g>\n     </g>\n    </g>\n    <g id=\"ytick_3\">\n     <g id=\"line2d_9\">\n      <g>\n       <use style=\"stroke:#000000;stroke-width:0.8;\" x=\"46.965625\" xlink:href=\"#mc9bc285ea3\" y=\"137.59007\"/>\n      </g>\n     </g>\n     <g id=\"text_10\">\n      <!-- 200 -->\n      <g transform=\"translate(20.878125 141.389289)scale(0.1 -0.1)\">\n       <use xlink:href=\"#DejaVuSans-32\"/>\n       <use x=\"63.623047\" xlink:href=\"#DejaVuSans-30\"/>\n       <use x=\"127.246094\" xlink:href=\"#DejaVuSans-30\"/>\n      </g>\n     </g>\n    </g>\n    <g id=\"ytick_4\">\n     <g id=\"line2d_10\">\n      <g>\n       <use style=\"stroke:#000000;stroke-width:0.8;\" x=\"46.965625\" xlink:href=\"#mc9bc285ea3\" y=\"99.006923\"/>\n      </g>\n     </g>\n     <g id=\"text_11\">\n      <!-- 300 -->\n      <g transform=\"translate(20.878125 102.806142)scale(0.1 -0.1)\">\n       <defs>\n        <path d=\"M 2597 2516 \nQ 3050 2419 3304 2112 \nQ 3559 1806 3559 1356 \nQ 3559 666 3084 287 \nQ 2609 -91 1734 -91 \nQ 1441 -91 1130 -33 \nQ 819 25 488 141 \nL 488 750 \nQ 750 597 1062 519 \nQ 1375 441 1716 441 \nQ 2309 441 2620 675 \nQ 2931 909 2931 1356 \nQ 2931 1769 2642 2001 \nQ 2353 2234 1838 2234 \nL 1294 2234 \nL 1294 2753 \nL 1863 2753 \nQ 2328 2753 2575 2939 \nQ 2822 3125 2822 3475 \nQ 2822 3834 2567 4026 \nQ 2313 4219 1838 4219 \nQ 1578 4219 1281 4162 \nQ 984 4106 628 3988 \nL 628 4550 \nQ 988 4650 1302 4700 \nQ 1616 4750 1894 4750 \nQ 2613 4750 3031 4423 \nQ 3450 4097 3450 3541 \nQ 3450 3153 3228 2886 \nQ 3006 2619 2597 2516 \nz\n\" id=\"DejaVuSans-33\" transform=\"scale(0.015625)\"/>\n       </defs>\n       <use xlink:href=\"#DejaVuSans-33\"/>\n       <use x=\"63.623047\" xlink:href=\"#DejaVuSans-30\"/>\n       <use x=\"127.246094\" xlink:href=\"#DejaVuSans-30\"/>\n      </g>\n     </g>\n    </g>\n    <g id=\"ytick_5\">\n     <g id=\"line2d_11\">\n      <g>\n       <use style=\"stroke:#000000;stroke-width:0.8;\" x=\"46.965625\" xlink:href=\"#mc9bc285ea3\" y=\"60.423776\"/>\n      </g>\n     </g>\n     <g id=\"text_12\">\n      <!-- 400 -->\n      <g transform=\"translate(20.878125 64.222995)scale(0.1 -0.1)\">\n       <use xlink:href=\"#DejaVuSans-34\"/>\n       <use x=\"63.623047\" xlink:href=\"#DejaVuSans-30\"/>\n       <use x=\"127.246094\" xlink:href=\"#DejaVuSans-30\"/>\n      </g>\n     </g>\n    </g>\n    <g id=\"ytick_6\">\n     <g id=\"line2d_12\">\n      <g>\n       <use style=\"stroke:#000000;stroke-width:0.8;\" x=\"46.965625\" xlink:href=\"#mc9bc285ea3\" y=\"21.84063\"/>\n      </g>\n     </g>\n     <g id=\"text_13\">\n      <!-- 500 -->\n      <g transform=\"translate(20.878125 25.639848)scale(0.1 -0.1)\">\n       <defs>\n        <path d=\"M 691 4666 \nL 3169 4666 \nL 3169 4134 \nL 1269 4134 \nL 1269 2991 \nQ 1406 3038 1543 3061 \nQ 1681 3084 1819 3084 \nQ 2600 3084 3056 2656 \nQ 3513 2228 3513 1497 \nQ 3513 744 3044 326 \nQ 2575 -91 1722 -91 \nQ 1428 -91 1123 -41 \nQ 819 9 494 109 \nL 494 744 \nQ 775 591 1075 516 \nQ 1375 441 1709 441 \nQ 2250 441 2565 725 \nQ 2881 1009 2881 1497 \nQ 2881 1984 2565 2268 \nQ 2250 2553 1709 2553 \nQ 1456 2553 1204 2497 \nQ 953 2441 691 2322 \nL 691 4666 \nz\n\" id=\"DejaVuSans-35\" transform=\"scale(0.015625)\"/>\n       </defs>\n       <use xlink:href=\"#DejaVuSans-35\"/>\n       <use x=\"63.623047\" xlink:href=\"#DejaVuSans-30\"/>\n       <use x=\"127.246094\" xlink:href=\"#DejaVuSans-30\"/>\n      </g>\n     </g>\n    </g>\n    <g id=\"text_14\">\n     <!-- Fare -->\n     <g transform=\"translate(14.798438 126.423125)rotate(-90)scale(0.1 -0.1)\">\n      <defs>\n       <path d=\"M 628 4666 \nL 3309 4666 \nL 3309 4134 \nL 1259 4134 \nL 1259 2759 \nL 3109 2759 \nL 3109 2228 \nL 1259 2228 \nL 1259 0 \nL 628 0 \nL 628 4666 \nz\n\" id=\"DejaVuSans-46\" transform=\"scale(0.015625)\"/>\n       <path d=\"M 2194 1759 \nQ 1497 1759 1228 1600 \nQ 959 1441 959 1056 \nQ 959 750 1161 570 \nQ 1363 391 1709 391 \nQ 2188 391 2477 730 \nQ 2766 1069 2766 1631 \nL 2766 1759 \nL 2194 1759 \nz\nM 3341 1997 \nL 3341 0 \nL 2766 0 \nL 2766 531 \nQ 2569 213 2275 61 \nQ 1981 -91 1556 -91 \nQ 1019 -91 701 211 \nQ 384 513 384 1019 \nQ 384 1609 779 1909 \nQ 1175 2209 1959 2209 \nL 2766 2209 \nL 2766 2266 \nQ 2766 2663 2505 2880 \nQ 2244 3097 1772 3097 \nQ 1472 3097 1187 3025 \nQ 903 2953 641 2809 \nL 641 3341 \nQ 956 3463 1253 3523 \nQ 1550 3584 1831 3584 \nQ 2591 3584 2966 3190 \nQ 3341 2797 3341 1997 \nz\n\" id=\"DejaVuSans-61\" transform=\"scale(0.015625)\"/>\n      </defs>\n      <use xlink:href=\"#DejaVuSans-46\"/>\n      <use x=\"48.394531\" xlink:href=\"#DejaVuSans-61\"/>\n      <use x=\"109.673828\" xlink:href=\"#DejaVuSans-72\"/>\n      <use x=\"148.537109\" xlink:href=\"#DejaVuSans-65\"/>\n     </g>\n    </g>\n   </g>\n   <g id=\"patch_3\">\n    <path d=\"M 46.965625 224.64 \nL 46.965625 7.2 \n\" style=\"fill:none;stroke:#000000;stroke-linecap:square;stroke-linejoin:miter;stroke-width:0.8;\"/>\n   </g>\n   <g id=\"patch_4\">\n    <path d=\"M 381.765625 224.64 \nL 381.765625 7.2 \n\" style=\"fill:none;stroke:#000000;stroke-linecap:square;stroke-linejoin:miter;stroke-width:0.8;\"/>\n   </g>\n   <g id=\"patch_5\">\n    <path d=\"M 46.965625 224.64 \nL 381.765625 224.64 \n\" style=\"fill:none;stroke:#000000;stroke-linecap:square;stroke-linejoin:miter;stroke-width:0.8;\"/>\n   </g>\n   <g id=\"patch_6\">\n    <path d=\"M 46.965625 7.2 \nL 381.765625 7.2 \n\" style=\"fill:none;stroke:#000000;stroke-linecap:square;stroke-linejoin:miter;stroke-width:0.8;\"/>\n   </g>\n  </g>\n </g>\n <defs>\n  <clipPath id=\"pfe40f8b557\">\n   <rect height=\"217.44\" width=\"334.8\" x=\"46.965625\" y=\"7.2\"/>\n  </clipPath>\n </defs>\n</svg>\n"
                    },
                    "metadata": {
                        "needs_background": "light"
                    }
                }
            ],
            "metadata": {}
        },
        {
            "cell_type": "code",
            "execution_count": null,
            "source": [],
            "outputs": [],
            "metadata": {}
        }
    ],
    "metadata": {
        "orig_nbformat": 4,
        "language_info": {
            "name": "python",
            "version": "3.9.5",
            "mimetype": "text/x-python",
            "codemirror_mode": {
                "name": "ipython",
                "version": 3
            },
            "pygments_lexer": "ipython3",
            "nbconvert_exporter": "python",
            "file_extension": ".py"
        },
        "kernelspec": {
            "name": "python3",
            "display_name": "Python 3.9.5 64-bit"
        },
        "interpreter": {
            "hash": "aee8b7b246df8f9039afb4144a1f6fd8d2ca17a180786b69acc140d282b71a49"
        }
    },
    "nbformat": 4,
    "nbformat_minor": 2
}